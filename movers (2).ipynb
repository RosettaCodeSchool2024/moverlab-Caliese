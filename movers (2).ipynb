{
  "cells": [
    {
      "cell_type": "markdown",
      "metadata": {
        "id": "-btteU1rDnxE"
      },
      "source": [
        "Before you turn this problem in, make sure everything runs as expected. First, **restart the kernel** (in the menubar, select Kernel$\\rightarrow$Restart) and then **run all cells** (in the menubar, select Cell$\\rightarrow$Run All).\n",
        "\n",
        "Make sure you fill in any place that says `YOUR CODE HERE` or \"YOUR ANSWER HERE\", as well as your name and collaborators below:"
      ]
    },
    {
      "cell_type": "code",
      "execution_count": null,
      "metadata": {
        "id": "9HzKWejYDnxG"
      },
      "outputs": [],
      "source": [
        "NAME = \"Caliese Beckford\"\n",
        "COLLABORATORS = \"\""
      ]
    },
    {
      "cell_type": "markdown",
      "metadata": {
        "id": "rekYpE8LDnxH"
      },
      "source": [
        "---"
      ]
    },
    {
      "cell_type": "markdown",
      "metadata": {
        "id": "XatBKBkKDnxH"
      },
      "source": [
        "# Mover Lab\n",
        "In this lab, you will learn to use Movers to manipulate poses."
      ]
    },
    {
      "cell_type": "code",
      "execution_count": 1,
      "metadata": {
        "id": "Q_1a0Q2uDnxI",
        "colab": {
          "base_uri": "https://localhost:8080/"
        },
        "outputId": "cbe2b3cc-716d-484c-e19b-8d1151d4bd55"
      },
      "outputs": [
        {
          "output_type": "stream",
          "name": "stdout",
          "text": [
            "Collecting pyrosettacolabsetup\n",
            "  Downloading pyrosettacolabsetup-1.0.9-py3-none-any.whl (4.9 kB)\n",
            "Installing collected packages: pyrosettacolabsetup\n",
            "Successfully installed pyrosettacolabsetup-1.0.9\n",
            "Mounted at /content/google_drive\n",
            "\n",
            "Note that USE OF PyRosetta FOR COMMERCIAL PURPOSES REQUIRE PURCHASE OF A LICENSE.\n",
            "See https://github.com/RosettaCommons/rosetta/blob/main/LICENSE.md or email license@uw.edu for details.\n",
            "\n",
            "Looking for compatible PyRosetta wheel file at google-drive/PyRosetta/colab.bin//wheels...\n",
            "Found compatible wheel: /content/google_drive/MyDrive/PyRosetta/colab.bin/wheels//content/google_drive/MyDrive/PyRosetta/colab.bin/wheels/pyrosetta-2024.19+release.a34b73c40f-cp310-cp310-linux_x86_64.whl\n",
            "\n",
            "\n",
            "┌──────────────────────────────────────────────────────────────────────────────┐\n",
            "│                                 PyRosetta-4                                  │\n",
            "│              Created in JHU by Sergey Lyskov and PyRosetta Team              │\n",
            "│              (C) Copyright Rosetta Commons Member Institutions               │\n",
            "│                                                                              │\n",
            "│ NOTE: USE OF PyRosetta FOR COMMERCIAL PURPOSES REQUIRE PURCHASE OF A LICENSE │\n",
            "│         See LICENSE.PyRosetta.md or email license@uw.edu for details         │\n",
            "└──────────────────────────────────────────────────────────────────────────────┘\n",
            "PyRosetta-4 2024 [Rosetta PyRosetta4.MinSizeRel.python310.ubuntu 2024.19+release.a34b73c40fe9c61558d566d6a63f803cfb15a4fc 2024-05-02T16:22:03] retrieved from: http://www.pyrosetta.org\n",
            "core.init: Checking for fconfig files in pwd and ./rosetta/flags\n",
            "core.init: Rosetta version: PyRosetta4.MinSizeRel.python310.ubuntu r381 2024.19+release.a34b73c40f a34b73c40fe9c61558d566d6a63f803cfb15a4fc http://www.pyrosetta.org 2024-05-02T16:22:03\n",
            "core.init: Rosetta extras: []\n",
            "core.init: command: PyRosetta -ex1 -ex2aro -database /usr/local/lib/python3.10/dist-packages/pyrosetta/database\n",
            "basic.random.init_random_generator: 'RNG device' seed mode, using '/dev/urandom', seed=-255097805 seed_offset=0 real_seed=-255097805\n",
            "basic.random.init_random_generator: RandomGenerator:init: Normal mode, seed=-255097805 RG_type=mt19937\n"
          ]
        }
      ],
      "source": [
        "import sys\n",
        "if 'google.colab' in sys.modules:\n",
        "  !pip install pyrosettacolabsetup\n",
        "  import pyrosettacolabsetup\n",
        "  pyrosettacolabsetup.mount_pyrosetta_install()\n",
        "import pyrosetta\n",
        "pyrosetta.init()\n"
      ]
    },
    {
      "cell_type": "code",
      "execution_count": 2,
      "metadata": {
        "id": "o4e6wR3wDnxJ"
      },
      "outputs": [],
      "source": [
        "# cd into the right directory here:\n",
        "!cd google_drive/MyDrive/CodeSchool2024/\n",
        "# YOUR CODE HERE"
      ]
    },
    {
      "cell_type": "markdown",
      "metadata": {
        "id": "m66xVr34DnxJ"
      },
      "source": [
        "Let's load the structure 2WPT, which is a complex of protein Im2 and colicin E9 DNase. Researchers have introduced various mutations to the interface to study the changes of binding free energy."
      ]
    },
    {
      "cell_type": "code",
      "execution_count": 4,
      "metadata": {
        "id": "oy0kessLDnxK",
        "colab": {
          "base_uri": "https://localhost:8080/"
        },
        "outputId": "51e82bdb-610c-4a6a-e487-ce3fbcebd31d"
      },
      "outputs": [
        {
          "output_type": "stream",
          "name": "stdout",
          "text": [
            "core.chemical.GlobalResidueTypeSet: Finished initializing fa_standard residue type set.  Created 985 residue types\n",
            "core.chemical.GlobalResidueTypeSet: Total time to initialize 1.01276 seconds.\n",
            "core.import_pose.import_pose: File 'google_drive/MyDrive/CodeSchool2024/inputs/2wpt.pdb' automatically determined to be of type PDB\n",
            "core.chemical.GlobalResidueTypeSet: Loading (but possibly not actually using) 'GOL' from the PDB components dictionary for residue type 'pdb_GOL'\n",
            "core.chemical.GlobalResidueTypeSet: Loading (but possibly not actually using) 'NO3' from the PDB components dictionary for residue type 'pdb_NO3'\n",
            "core.conformation.Conformation: [ WARNING ] missing heavyatom:  OXT on residue GLN:CtermProteinFull 82\n",
            "core.conformation.Conformation: [ WARNING ] missing heavyatom:  OXT on residue LYS:CtermProteinFull 198\n"
          ]
        }
      ],
      "source": [
        "# YOUR CODE HERE\n",
        "pose = pyrosetta.pose_from_file(\"google_drive/MyDrive/CodeSchool2024/inputs/2wpt.pdb\")"
      ]
    },
    {
      "cell_type": "markdown",
      "metadata": {
        "id": "mm6-F9csDnxK"
      },
      "source": [
        "Visualize this wild type version of the complex in PyMOL. Color the structure by chains. How many chains are there?\n",
        "\n",
        "Insert a picture of the structure colored by chain here."
      ]
    },
    {
      "cell_type": "markdown",
      "source": [],
      "metadata": {
        "id": "tBLryX-h49Aa"
      }
    },
    {
      "cell_type": "markdown",
      "source": [
        "![Screenshot 2024-06-04 214036.png](data:image/png;base64,iVBORw0KGgoAAAANSUhEUgAABgsAAAKjCAYAAAAjyT/PAAAAAXNSR0IArs4c6QAAAARnQU1BAACxjwv8YQUAAAAJcEhZcwAADsMAAA7DAcdvqGQAAP+lSURBVHhe7N0HgGRZXe/xf4fqrs5penLc2ZyBZWHJ8ZEEBBQQ8SHgE30qoqBPRQR9ivJMgAiKCKKgZJEkaUkLLOwum3OYnRx6ejqH6u7q7nd+/3tOTXVP6p6d2Z3u+n7unL236t66deveW7d6//97zrFgdvbtb5/V+FjlWPP1/NHK0ZY9HeVE73W0+fOfeyjbu9j3P9b2zC9HW2b+c0d7/livnV/mzy9/fLRyrGWO9nz5cyeaf6JyqtZ/rPdczLLHK4t5TfmyD/X9F/J6PZ5fjrXs0Z6b/5rFluO9Nq17fknzypc72nR6PL+Uz0/LzH/uWM+fytfPn3+s9agcbx6FQqFQKBQKhUKhUCgUCoVyKssVV1xxRHne8543Wx1mPiRVf/zHRxRktC9m3/52n9Z4/r5Jz5WXU+l0r3+5ScdqsbRfT/a1p9Nij//RPkN6neadjs9Yvm2pLNRiP9/DTduT9lva1qM53jwAAAAAAADg4fKQkwXzKfCFk3O6991C1l9Jx2+hwdyTdaJ9md4/eajbcKL3mz//RJ+/fHnNm7+9p8NDWf/p3rbFSvs0FQAAAAAAAOBMVjWbNX9RUh7UOlrwbX7Qa/4yD2dQLAXjjudE27eQdRzL0faPLOY9ytehZcqXPdr6j7buZP7r5UTzZf4ySfnzyfFeK/Nff7Tl5z93PA9l/fNfKyd678VuX7ljbU+5o607LXMy71u+fr1+/jacaP58x3u9HO+1R7OQ9yuXlj3W6463fXq+fP78dcv8185/j1P5epm/jhMtDwAAAAAAAJxuV1xxRZw6rLu726rCeE6yAKgUCwn2LmeV/vlPN/YvAAAAAAAAzkQkC4CjUPC2XKUFciv9859u7F8AAAAAAACcaUgWAAAAAAAAAABQ4Y6VLDjlHRwDAAAAAAAAAIClhWQBAAAAAAAAAAAVjmQBAAAAAAAAAAAVjmQBAAAAAAAAAAAVjmQBAAAAAAAAAAAVjmQBAAAAAAAAAAAVjmQBAAAAAAAAAAAVjmQBAAAAAAAAAAAVjmQBAAAAAAAAAAAVjmQBAAAAAAAAAAAVjmQBAAAAAAAAAAAVjmQBAAAAAAAAAAAVjmQBAAAAAAAAAAAVjmQBAAAAAAAAAAAVjmQBAAAAAAAAAAAVjmQBAAAAAAAAAAAVjmQBAAAAAAAAAAAVjmQBAAAAAAAAAAAVjmQBAAAAAAAAAAAVjmQBAAAAAAAAAAAVjmQBAAAAAAAAAAAVjmQBAAAAAAAAAAAVjmQBAAAAAAAAAAAVjmQBAAAAAAAAAAAVjmQBAAAAAAAAAAAVjmQBAAAAAAAAAAAVjmQBAAAAAAAAAAAVjmQBAAAAAAAAAAAVjmQBAAAAAAAAAAAVjmQBAAAAAAAAAAAVjmQBAAAAAAAAAAAVjmQBAAAAAAAAAAAVjmQBAAAAAAAAAAAVjmQBAAAAAAAAAAAVjmQBAAAAAAAAAAAVjmQBAAAAAAAAAAAVjmQBAAAAAAAAAAAVjmQBAAAAAAAAAAAVjmQBAAAAAAAAAAAVjmQBAAAAAAAAAAAVjmQBAAAAAAAAAAAVjmQBAAAAAAAAAAAVjmQBAAAAAAAAAAAVjmQBAAAAAAAAAAAVjmQBAAAAAAAAAAAVjmQBAAAAAAAAAAAVjmQBAAAAAAAAAAAVjmQBAAAAAAAAAAAVjmQBAAAAAAAAAAAVjmQBAAAAAAAAAAAVjmQBAAAAAAAAAAAVjmQBAAAAAAAAAAAVjmQBAAAAAAAAAAAVjmQBAAAAAAAAAAAVjmQBAAAAAAAAAAAVjmQBAAAAAAAAAAAVjmQBAAAAAAAAAAAVjmQBAAAAAAAAAAAVjmQBAAAAAAAAAAAVjmQBAAAAAAAAAAAVjmQBAAAAAAAAAAAVjmQBAAAAAAAAAAAVjmQBAAAAAAAAAAAVjmQBAAAAAAAAAAAVjmQBAAAAAAAAAAAVjmQBAAAAAAAAAAAVjmQBAAAAAAAAAAAVjmQBAAAAAAAAAAAVjmQBAAAAAAAAAAAVjmQBAAAAAAAAAAAVjmQBAAAAAAAAAAAVjmQBAAAAAAAAAAAVjmQBAAAAAAAAAAAVjmQBAAAAAAAAAAAVjmQBAAAAAAAAAAAVjmQBAAAAAAAAAAAVjmQBAAAAAAAAAAAVjmQBAAAAAAAAAAAVjmQBAAAAAAAAAAAVjmQBAAAAAAAAAAAVjmQBAAAAAAAAAAAVjmQBAAAAAAAAAAAVjmQBAAAAAAAAAAAVjmQBAAAAAAAAAAAVjmQBAAAAAAAAAAAVjmQBAAAAAAAAAAAVjmQBAAAAAAAAAAAVjmQBAAAAAAAAAAAVjmQBAAAAAAAAAAAVjmQBAAAAAAAAAAAVjmQBAAAAAAAAAAAVjmQBAAAAAAAAAAAVjmQBAAAAAAAAAAAVjmQBAAAAAAAAAAAVjmQBAAAAAAAAAAAVjmQBAAAAAAAAAAAVjmQBAAAAAAAAAAAVjmQBAAAAAAAAAAAVjmQBAAAAAAAAAAAVjmQBAAAAAAAAAAAVjmQBAAAAAAAAAAAVjmQBAAAAAAAAAAAVjmQBAAAAAAAAAAAVjmQBAAAAAAAAAAAVjmQBAAAAAAAAAAAVjmQBAAAAAAAAAAAVjmQBAAAAAAAAAAAVjmQBAAAAAAAAAAAVjmQBAAAAAAAAAAAVjmQBAAAAAAAAAAAVjmQBAAAAAAAAAAAVjmQBAAAAAAAAAAAVjmQBAAAAAAAAAAAVjmQBAAAAAAAAAAAVjmQBAAAAAAAAAAAVjmQBAAAAAAAAAAAVjmQBAAAAAAAAAAAVjmQBAAAAAAAAAAAVjmQBAAAAAAAAAAAVjmQBAAAAAAAAAAAVjmQBAAAAAAAAAAAVjmQBAAAAAAAAAAAVjmQBAAAAAAAAAAAVjmQBAAAAAAAAAAAVjmQBAAAAAAAAAAAVjmQBAAAAAAAAAAAVjmQBAAAAAAAAAAAVjmQBAAAAAAAAAAAVjmQBAAAAAAAAAAAVjmQBAAAAAAAAAAAVjmQBAAAAAAAAAAAVjmQBAAAAAAAAAAAVjmQBAAAAAAAAAAAVjmQBAAAAAAAAAAAVjmQBAAAAAAAAAAAVjmQBAAAAAAAAAAAVjmQBAAAAAAAAAAAVjmQBAAAAAAAAAAAVjmQBAAAAAAAAAAAVjmQBAAAAAAAAAAAVjmQBAAAAAAAAAAAVjmQBAAAAAAAAAAAVjmQBAAAAAAAAAAAVjmQBAAAAAAAAAAAVjmQBAAAAAAAAAAAVjmQBAAAAAAAAAAAVjmQBAAAAAAAAAAAVjmQBAAAAAAAAAAAVjmQBAAAAAAAAAAAVjmQBAAAAAAAAAAAVjmQBAAAAAAAAAAAVjmQBAAAAAAAAAAAVjmQBAAAAAAAAAAAVjmQBAAAAAAAAAAAVjmQBAAAAAAAAAAAVjmQBAAAAAAAAAAAVjmQBAAAAAAAAAAAVjmQBAAAAAAAAAAAVjmQBAAAAAAAAAAAVriqU2WwSAAAAR7PidSusdkWt1bTVWHVjdalU1VdlpbbKZidmbaYwYzNjsYyGMjJjxb6iHfzAwbgmAAAAAAAeWVdccUWcOqy7u5tkAQAAQNL12i7Ldeestrs2K521Vt1abbVNtdbU1mR1dXXhj6cqm5mdsZmZUKZnbHJy0opTxbiGIPxlNTs7a7MzWZken7bpQ9M2uWfSJndO2oG/OhAXBAAAAADg4UeyAAAA4Ci639Bt9efVW/7svNWvrbfOlZ22bt06W1O9xlrDMBaGBycftF27dtno8KjNTGZJAo1np2a9RsHs9KzXLqjKhVIT/ryqNquqzsY1DTVWk6vxBEJxrGjF/qJN7Z2ywj0FEgcAAAAAgIcdyQIAAIBoxetXWP68vNWfU291a+vsvEvOs8c0PMaGw3DLoVvs4MGDVhgpeK0ANS00W5jNmhbS9OSsF01PD017mR2fzZooaqm26vpqs1rz5IGaKqppr/F5Nc01lmvMWW1drdc4GDswZoW7Crbz13bGrQIAAAAA4PQjWQAAABBseO8Ga3x0o22+YLM9uvPRNh6GHz/4YxvoGbDiYNGmh6c9MaAEQbG3aJO7Jm1y+6RN7Z+y6cFpr00gev5o6jbU+Vh9GShR0Hhpo9WfXW81HTVW21HrCQU1ddS6otUK4wUb3T5q47eO257f3+OvAwAAAADgdCJZAAAAKtqq315lTY9vsrZL2uyq86+yW3fdaof2HcoSBAPTNt0/baM/HrXRG0b9sf5COlZCYLGUQFCyIH9+3houabD6LfWWW5+zljUt/gfZzm07rXB/wba9clt8BQAAAAAApwfJAgAAULHW/816a3xUo13yxEtsujht99x+j03unvSaA2M3j9nwt4ZtZnTmlCUHTqT9Je3W8pQWq9tS580gbTlvi9XU1Ng9193jCQtqGQAAAAAATpdjJQtqwvgd2UMAAIDl56xPnmWtj2u1Jz/uyXbXtrtszx17bOKBCev9h14b+K8BG7562JMG6nvg4VK4u+D9FdR21nr/B4Mjg1aoKtgzr3im7araZQ0XNdjQ14fi0gAAAAAAnDpr166NU4c1NTWRLAAAAMvXxr/faE2XNdmll11qP77hxzZ6/6gV7inY/nfu934CHs4EwXzq/2Dk+yM23TftHSHP1MzY/pn99qpHv8rurr7bGi5rsKH/JmEAAAAAADi1SBYAAICKsu7P1lnTFU12wWMusNtuus3G7xy3/v/ot5739jyiSYL51PTRxH0TVremzmaqZ+ye4j32+ke/3u6ovcMaH9Nog18ajEsCAAAAAPDQkSwAAAAVY9XvrLKmxzXZxss32q4du6ywrWB7fnePjV4/Gpc4syh5oaaRcqtyNlsza7dP3m4//+ift3tz91rjlY3eXBIAAAAAAKfCsZIF1XEaAABg2VBnxo1bGm1sfMzGd417rYKHq/Pik6Xt2/en+2zsxjEbu3vMPnbDx+xZlz7LWh7bYpv+aVNcCgAAAACA06MqlNlsEgAAYOnb8O4N1vykZlu3eZ3tumOXjd06Zrt+Y1ecuzSsessqa7i0wRrObbAnPO4Jdu1PrrWRH4/Yzl/bGZcAsBgtz2ix/Dl5y1+Qt/pz6q1ufZ3VdtdaTYsqWpsVB4o2tWfKmwRTclEdkA98nho9AAAAWJ6uuOKKOHVYd3c3yQIAALC8bPnYFmt/bLsVJ4s2/JNh2/6L2+OcpWXlr6/0JogazmuwCy6/wO688U4buXbEdv/27rgEgOPp/PlOa39JuzU/odlqO2otl89Zaxg2hGFzGDrDUAzDUBwOhKE3DMNhmJiesOmJaZuZmrHZqVmbGZmxqZ4pm9o9ZRMPTngNoL5/74vvBAAAACwtJAsAAMCyt/p3V1vz05pt1aWrrHdHr418b8T2/P6eOHfpUQ2Dxssb/Y7oNZvX2J6793jCYM/vLd3PBJxOHT/bYW0vaLPmJzZbbVet5TvynhxYFQYlBnrCcCgM4zPjNjU+ZTMTM2bTZlW5KqvOVVt1XbXlcjmrD0M+DBrXhmEmDFNhKIRhMg56/XRh2op9RRu7acyGrx62g/9wMG4JAAAAcOYiWQAAAJa99X+53pquarKODR3We3uv3f+C++OcpWv1/1ltDZc1WP6svDWvaLaBbQM2eu2o7X373rgEUNman9Jsbc9vs9ZntVrtilqraa2x2uZaq8vVWXG2aFOjUzY9Om2zE7M2MzbjHYpP92dB/uKBoqkXt5qO8Jr2Wqturbaa5hqrbqy2qvoqq6oLpTaUlEwIpba+1vLVeVsRB1GNBCUhRqdG/f3UjNHBDx60Q/9yyOcDAAAAZxKSBQAAYNnb/JHNfid+Ta4ma4LoNUuzCaL5Vv/Bamu8tNHqNtVZXVOdje0Ys/tfuPQTIcBD0f2r3dby9Bar31rvfQ9UN2UBfv0fjpoOmh2f9cTA5O5JG7953CZ2THhyQEkCJQ3GfjIW15R1il6Vr7Lqhmpfj2oleOKhvcZq2mJpzd6jpikbV7eEkg+PG2ss15SzztpOuyAMl4ThvjBcH4b+8X4rDhdt4AsD1vcffTb8reH4jgAAAMAjh2QBAABY9s7+4tnWfG6zFfoKNvKDEdv9luXRvn/dhjrr+sUua7ikwTtm1d3N4/eM24OvfjAuASx/nhg4qz6raXNefk6CoKqmymZnZm12ctZmhmdscu+kTdw/YWM3jNnEtqyPgYei8YpGb6LI3yuUXHfOcutCWRvK6px3lqx+EVLNhFxrztbXr7enh0H9JHwnDPeGYaxvzHr/qZemxAAAAPCIIlkAAACWtXV/ts6an9RsTeuabPiBYbvvOffFOcuDJwxe12UNFzdYbk3O75weu37Mdv8uHR5j+VIfBEqQ1Z1VZ7lVOb+T35sIymcJApmdnvUmhooHizZ+57gV7ih4LQIlCh4O6h+hurnakwWq/VN/dr3VbQ7bqyRCeE7Jg+a2Zrs8DE8Mw6fCsH14uw1+e9AeePEDcS0AAADAw4dkAQAAWNY2vn+j3/2r5kBGbxu1ba/cFucsHw0XNVjnqzotf1Hem0eZPjRtw98btp739MQlgKVPNQgaLm3wWgTe3E++Ous7IBdKbfjfl/BPCQIrmjczNLV3ypMEEw9M2OiPRuNaHjlNj2/yJIGSevXn1PvnyK3PeW0ENW20vmO9/UIYvh2GGyZusLH7xuzOS+6MrwYAAABOP5IFAABgWdvyH1us8cJGm5masdEfj9rOX9sZ5ywvna/s9KSI7l5WEFUB0uX6WVFZ2l/S7v0P1HbWen8AnhxQ7QH9H4vo/1pmwr/CjE0dmLLJ7ZPeH8HI90ay+WcoJT+U3Gu4sMEaHx2+u+fWW25lztpXttvLw6COkb8w8QXb+1d7be8f0nE5AAAATr9jJQtqwvgd2UMAAIClaeUbV2bN83TkbHpw2gp3Fmz4O8uzI9Hx28ctf37e+y3wJllC0d3LI98/swOmwPF0/0q3N9ujJnuUJPAOisdmbXpk2mYGZmxq31SpD4LR60e9w+Lhbw/b5I7JuIYzl5IahbsLNnLNiF+f9FgdLE9OTdpNszfZtsZt9tt1v227n7LbGl7eYAfffzC+EgAAADg91q5dG6cOa2pqomYBAABY+ta9a501P77Zm/6Y2D5h97/o/jhneVJyoONlHd68SU1bjQdSd71pV5wLLC0dr+jw5nnUgbDfyjQd/gelOOuBdfVDMD087dPjt41nL1gGWp7R4n0xNF3Z5M0W5bfm7bntz7XRMFwzcI3d1HFTXBIAAAA49ahZAAAAlq3Ol3dabkPOqmarvGPTgc8PxDnL03TftNV01HiiQB29qmmWwa8MxrnA0tH67FZvkkf9D8wMz1ixr2hTPVNeY2By26SN/HDEJndOWrEnLLCMTD44aeO3jHsNAyVEqhqr7MGGB226Zdpel3+d7XnrHm+KaegbQ/EVAAAAwKlzrJoFJAsAAMCS1/lznZZbkbPZyVkr3Fuwoa8v/wCbmmtRwqC6sdpMN2S31FjhjkKcC5z5vCPgrlo/f9VhsZIFqiUzfHXWvNBySxAcjZok8k6Zp8w7cR5rGLObW2+238r9lj34xAdtesW0Df03CQMAAACcWiQLAADAsqQmTNRpaE1rjc2MzFjhrsIZ3+HpqVDdVG116+q8A1gFGaf7p70dd2CpyJ+d9++tasao6aFib9FGfzCazaww6otkdmLWizWYXdd4nf1q/lftgSsfsGJN0ftnAAAAAE6VYyULquM0AADAktRwYYN38qtemNQZ6r4/3RfnLG/q7HWmMOPNmEwPTXunsMBS4k1o6bSdzpogmi1Udldqg18e9NL3iT4bv3vc3jP0HvvfYdj0tk226rdWxaUAAACA04dkAQAAWNKqm6utqr4qa8ZkSLcoV4b8uXlv331mcsZmx5UpiTOAJSB/Xt6qaquymjG5UPJVNnpdZdYqKDf8nWHfDwP/NWDj947bX4/+tf12GDb/1Wbr+sWuuBQAAABwepAsAAAAS5ra7lfQcXZq1ooDy7+N86SqoSqrURE+sj77xPaJOAc481U3VFtVdZYssNpwPofvMDIj14x4x84DXxywsXvG7F3j77Lfqf4d2/rBrdbx8o64FAAAAHDqkSwAAABLmoLmos6Npwcq5/Z6dWysfguUKFDtArX3DiwVszOzWRNEoVRVZbULcJj6XVFRs0Rj947ZuybfZW/Kvcm2fHhLXAIAAAA49UgWAACAJavrNV1WXZf9OePt9w9XTjNEShaoY+PZ2Vlv6338Vjo3xtJR/l2tbqm2mo6a+AiJmiQa/u6wDf73oI3eO2ofCMNLm15qlx28LC4BAAAAnFokCwAAwJKVW5vzgLnNhH/jM7b//+2Pc5a3psc1WU1b1vyS7sqeGa2cJAmWD9WKsRrz5ohqO2rjsyg3fPWwDX972Ea+P2ID2wfs9jCcu+JcO/db58YlAAAAgFOHZAEAAFiyvN3zXOzceKRyAua6C9uTBWrvPRi9gY5hsbRMPDhhMxPhO6vWs9QUEc0QHdPQ14e8jN00ZnceuNMuC0P307tt5a+vjEsAAAAApwbJAgAAsGSpKR79NTNbnLXpocror6D5Sc1Wu6I269x4NqtRMXE/nRtj6fF+RvS9Daeyasms+/N1cQ7mG/jPAe/weOKeCfvs0Gft1WFY/xfr41wAAADg1NAtPOF/MwEAAJaeje/faHWb6jxZMH7zuO19+944Z/lqf0m75VbnPMA6MzZjhz5yKM4Blp7W57Za/aZ6y63PWeGegtW01njH3d6Bd321VeWrvF8SNTem2gfbX7s9vrIyrXnrGut4eYe1XdpmzwjDl/q+ZLd03RLnAgAAAAtzxRVXxKnDuru7SRYAAIClaeVvrrTGyxutprPGmyAavW7Uet7TE+cuT63ParW6zXUeTNVd2cW+ovV/sj/OBZaOrl/oyprSaqjy5sRqmmusurk6SxSkZIGKmhqL/ZJovsbq62By96RN7Z2yHb+0I66xMuga0P7T7db6/FZbs2WNbQjDTw7+xG5ZScIAAAAAC0eyAAAALCtr/nCN5S/Ie3M8U/umbOev74xzlq/OV3Za7epa79R4enDaej/cG+cAZ7au13RZVX1ZLYFYalpqrLolJgtikqC2s9ZrDI3fPm7jt41b8WDRpgembXp42v/Ppaa9xpNmDRc0+Hjivgm7/0X3x3da/tpf3O61C9Qk2ZqNa6wpDA/secBuXX9rXAIAAAA4PpIFAABgWVnztjVWf1a9N00y8cDEsm+CqOlxTdb46EZvpkV3Vk8dmLK+j/fFucCZR00M5VbmSrUDPFmgpoXCd9ZrDbRWl5odqmmq8Y67lShQgkDt80/umjRTfmA6/O/KjGVNEuXD60LxdWkcnmu4uMEaH9PoHQDveH1l1DTo+JkOTxg0XdVk69evt2IY9t691+644I64BAAAAHBsx0oW1ITxO7KHAAAAS4PuJm56TJMHINUcj5okGf3RaJy7PKnJpdy6nAdIZydmbeR7I1bsLca5wJlD/Wo0XhHO1+5wvsbaAl5zII7VdFhtd63VdoXSWevL5c/L28S2Cev9SK/1fazPv9NqXmx2fNYsnOazs2GsxEExjmeyBIKKvgfq7yB/Tt66f6XbkwdD3xjKNmaZKtxZ8N7n1Nl5obVgK1pWWPWKamt4boP1/jM1jgAAAHB8a9eujVOHNTU1kSwAAABLT9vz2jzgqCZN1Mnv1J4p7+B4OWt+YrMHV6tqqzyIOviVwTgHODO0v6jd7/BXM0HevJCSA03Z2PslCNNKDmh+bXsYt9ZkNQ+aqq3nb3us7xN9/j1WAlBNbSkYXlUdxxrCcyqeKFACIdY48H4MirN+HZjun7aWp7VY05VNNvjF5f0dKdxRsKqaKk+8jLWM2frm9Ta7ftbafrFt2fffAgAAgIfmWMmC6jgNAACwZMwUZvzu+pnxMJ6atUMfORTnLE9qakSJAtUqELXfDpwpdH52/GyH1XTFZICaFkqdFcdEgScOlERoCyWOc6tzNjM5Y7vfvNsGvjBgxZ6iN1PkzRblquaW2irT/7koUaDEgL73s4VwDRiZ8b4M0lg1EpR0yK3N2cb3bYxbuHypKbKBzw54003377/fasPQubnTLuu5LC4BAAAALBzJAgAAsOTMjM5kzZHojmI1U7LMKQCr4KuCpvrcoz9Z3k0uYelo/+l2q99afzhJkJIDKrFPgaqGqixB0BETBWG52lW1Vhwo2t4/2muF+wqlfgi8b4OUIKjJahUcVaxNoKSBkoeeMAjXBdU0UiJx+FvD3hn4hr/dEF+wfKmj84H/HLCx68fs0PZDNlIYsZbuFrvs0GW26rdXxaUAAACAEyNZAAAAlhwFCf0u+9rsTuP2F7fHOcuTJwsas8Cr/nrz9sqBY7jw9gvt0t2XxkenT8crOrLgf3ONJwRKyQEF/WMHxCre5FBMElS3hMcrwxc3nMr7/nifTW6f9MSAGkdNTQ7NSRCUT5fnBePzqUki9WOgmkblZfTaUas/p97WvWtdtvAydvADB+3Qxw7Z8LeHrbCtYCMDI9bU2WRr377Wzv3OuXGpR97ZXzzbzr36XDvv++fZed89zzb/6+Y4BwAAAGcC/Zm9/G/HAwAAy0rzU5qt5SktHnhUvwVD3xyywS8v3/bJV/7mSr97W020TO2bsr3v2BvnAHOdf+353vxP3YY6u7nj5vjsqVV/dr01PbbJEwOlGgSxVoC+j147INYQ8OaH1H9B+K56J8dh2/T6ba/cVupTQI+VSHDh/07mJA2qwyj2X3DcxxrXhvdUUeKirPkj9XEy/J1h2/d/94UXLG9tP9VmzU8O18entnhH8A0rG6w4UbSpwSmb3Dlpd195d1zy9FECQMdcx3TOOaJzQrVFlCvScUo1R1TC/5F6TZFQ1KTUHRfc4esCAADA6XHFFVfEqcO6u7vTn2YAAABLhzr7bXxUo+XPz1t1W7XZlNn2122Pc5efNX+0xoO/CrCN3zpuB/72QJyD5azhsgZPiqkzb3X6u//P98c5RzrrM2dlQfnmrCPh/Hl5u7Hhxjj31Gl8dPzeKfgbaxOUAsGp+aCy4kmC1qz2gW9b2MbJvZN279PujWs8rOHSBl9XKYCsUXniIJaUHDjicVnCICUKPFgdxq3/o9Xue/Z9YaHlr+WZLX59bH12q9WfVZ8lVeurvUNoBeKL/UW761F3xaUfus0f2ex9UPixDuee1y5JyQDlgHSckvR/njpu888XHTclm8LrpgtZPxT737nfet5HZ80AAACnGskCAACwrOhu4eYnNVvdpjq/W1nB1G2v2BbnLh+6g1udx+bW5LzJlcEvDFr/Z/vjXCxnOr/zF+T9zns15VO4v2AH/vLIRNGmD23KAvIxWaDvQ8ujWuy6quviEqeGmvRpuqLJA/GeKEh3jJcFe9O07h7X/HSHuW9XKPktedvxqzvs0L8evVPyhosbsloGCv6L/m8lBpvn1CiIpfRcTB4ouZC2w2sXxE6W9f1R3wZ731Y5tXK6XtNljVc0WsMFDZZbn8uai6qvypIGsX8HL2F6z1v3eLNNx7Pl41sOH+tYe6R0DoR97sch1RCIfUl43xJqKmo6jPW+8T01389XHR8VnVNhverXoraj1urb6605DGNhGB8et6GvDdm2n11+13cAAIBHCskCAACwrKh2gYKojY9p9ISBAmEKTt3/gvvjEstD8xOarfNVnd7Ou4Jsvf/UayM/GIlzsZw1Pa7Jz/GGCxustrvWA6qTuyZtzx/siUuYbXzfRg/Me7IgJQyaqm3FY1bYNVXXxKUeOm2HahTkVuWyu/VTbYKj1SiIwXqvTdCaJQxSjQctf9vm2+Jaj6QaEZ5YUK0ABaAljjwZoORAnC4v5YmE1NSN1qH3TAkD1dSotICzahfo2tF4WaPlL8p7DSVPxuiO/xjA97EC/JOhpMC+xvq/xPJ9qn+q6SFhlJZJyQF1LK3Ew/TQtE33T3sNBvUdkZ73RIEeh2UHPj/gnWPrPNG55Me7ocqPv0rd+rCdnTVW31Vva8PQH4bBgcHT1rQWAABApSFZAAAAlp2WZ7RY/ty8NV3ZlCUMWms8IHXPU++JSyx9nix4dWd2Z3T4bOrIdOT7JAsqgQL06qtC47qNdZZbmfOg6tTeKdv1W7tsw99uyJreqanKmoEpC8xveuwm+1rV1+KaHjq1g6/vmicK5vVLcKySEhjeDE5TtQeA9//Ffi/H03BJQ5Yw0N3m8xMGEqZLSYN5NRBS0sATFqnvgpg0qF1V64Hq3W/enb2mgrQ+KyYNLm+0/IUxIaNaAfVhB9Zk+8v/r7D8/wy1T4PymgGeFFBSQSVMK0E7Mzxj04NZcmC6L4z7ip7QnLh/IlvBIqi5qNoVtX4ONFzU4P0u6LxZ3bHaHhWGq8PQ/9V+u+95ldGkFAAAwOlCsgAAACxb3b/abU2Pb7L8OXkPDOrO1nuesjwSBkoWqDmR3Lqc352r9rtHriFZUAl0Tk8PTHvAVIF6Txisztnk7snsDu/YHrymlSzwwLwSBs011vK4FnvgVQ9Y3yf6spU9BGoaSLUcSgmCUDxhoKRAShjE2gQq5U0QpXbslSxou6DNbnvmbTb8reG45mNT8zmp2ZxSvwWicSoapRoF/uBwUQJFr03JgpQwUOfo9zx5+SQTF0v9GSjp5OdLeyix2R9N65i58v871DkWeK0A1Q4YCUUJgvFQYk0B1SI42eTA8ajmgc791me2en8WDRsa7DVVr7FrwnDPyD12U8tNcUkAAAAs1rGSBfrz7x3ZQwAAgKVp7IYxr1mgO1I98NVS4033HPrw0dtFX0rU1riaWlKb9bq7d+y6MZvcMRnnYjlT8kvns5IDOvZqrkWB2qoYHU9jSYF6BfH9bvE6s4n7Jh5yYslrN5xTnyUicjFBkIoSBOVFAXo1VxPeXttQaq5IAf9QZupnbOcv74xrPr7azto57+M1CELxPgmqQtFYSYT4fGmetiEmF/xxTGyoKIkxOzZr9VvqbfS647fPv1xNPjhp47eP+zVTNZSGvzns+7Nwb8HnFe4q+HThvoIH/1UmHwivuWPcJu6esP7P9Vv/J/pt+NvD/vrRH43a+C3jXqPgVCvcXfD1ezNHE6HkZu2WxlusK99l/7Puf9q+d+yz4mSRmlYAAAAnYe3atXHqsKamJpIFAABgeRj98ai3da2Egd8x21ZjnT/Xab3/3BuXWJrUxrg6lVWyQM2AKHg2uZ1kwXKnO6l1LivoruZjJu6ZsMZHNx5OFKRmeAI950F1BeXT3f8xkN7/6YfWGXZ+a/hOhff3/gbCe3iNAiUGygL5niBQUzYKzsf39Xbo1YxQTBRoevy2cev7t4XVdCj2FP190+dJwf/y5EB6rvx9Vcofe9IirsOTKEHdujob/NKgT8OscE/BCncUbOymsazcGMpPQrkhlOvHPLEyfvO4JxlOR1LgRAp3FrzJo6l9U36+DTQM2E1tN9kbwrDjmTus5twaG/jcQFwaAAAAC3GsZEH2FzMAAMAy4EGuUIqHih7AVNM95//4/Dh3CVPQs6a6FJTF8qcaBWo6R0FuNcfT/tL27A7recWKsU35MFbtA5vJ2pZXEzFKMj0U+QuyZr18O3THvs4//d+DzkGV8LAkNV0Txp7I0HKhpNfVdtXa8HdO3PxQuVL7+OFzevBf7xeLJwTKt0fvVZYkSO/ty8fHXsKy6rsAS8vQN4as5909dugjh7xz5JFbR+x94++zq8Kw7lXr7LxrzotLAgAA4KHQn8wAAADLgu4W9mYxbhq3Ym/RA4W5tTk7/7olnDBQEDZ8jppcjf/l5s2pYFnzWgW6m7+1JmtaKxQlAFInsz5WokDj2TDWP3U+G4sSBiorN6/MVniS/G58JQvy4ZyLCYJSAD68TUoQ+DaUC4vPCe6Hx+3t7TZ+67jPXigtnz5vWk8pIVC27tQskabTNqrWgz8ue02phM+lWkdYevo/22+DXxz05pDGbh+zbwx9w1aFoetJXXbRPRfFpQAAAHCy9Cc0AADAsjHwnwM2/L1hr2GgJjPU9Iia8rnghgviEkuL311dnLXq6mpvM17NK2F5y63JebJAd+Or2RUPmKsGQUoQpMSAahQoTq9RCqqrqHZBmFcXhocSFPdmhxrD/y6kgHtq+ii+5xHScylIH+/83/d/99nI9MhJNf0zW8jOf0+AiDYhFt8mvYe+EvH9/HFtmE5NJZXVckjJhenBrNNoLE2qZaC+ONTElvpLuL/vfsuHofncZrt0z6VxKQAAAJwM/dkMAACwrPR/KuuAU+1uq4ZBbUOt5c/K2wU3Lr2EgQKlaopFgU7VLlB/DFi+Gi5p8I6Nc905D2ofkSDQ+aDnFJgvLzGZkJbTa/YN7POOv0+W90/QUOVB+WROLYLy949Pa/7glwet7z/67OA/HrQDf33An3/g5x/w8WKpDf3UFNEchzfJ+TamWgVKFMRSniTwREL4pwRc6zNb/XVYmoa/NWwH/vKAJwzUt0Lvgd5wiKutbmWdtb2gLS4FAACAxSJZAAAAliUFK4e+NWSjN4zaxIEJyzfnreWCFrvojiXWVIWCwEoWBHX5OpIFy5yC+7n1uVLTQ3MSBDoXlAjQ6TCvKEhfWja+bmrvlLU+6+SC4kpaeMfACrhHqcmj7EFWSsmDMFKNHiXpjqb/kyff0fJMYWZuskAxf9UY0KbNL0oKKHGgf3Hs03F5r40Qpms6a+y879PO/VLX83c9pYTB6L5Rq66tts0f3RznAgAAYLFIFgAAgGWr72N9Nnz1sAeShncOW119na27cJ1dsvMSO/db58alzmzjd4zb7MSszUzPWHNzM8mCZa7hwgar7a61oa8P+R3wpRoDKWGg5ngUN49FzQ2lIH5pudh01cz4jK165iqtdtG8zX+dagq2a93zEwVJmB69btRGrh2JTxzpoSQKRDWElDDQvphD26aRkgIpSaD/uykr/txRaP9c+cQr7dKdl9rad6yNz2Ip6v1Qr1/nJ3dM2kTfhNU01djF2y6OcwEAALAY+jMaAABg2Tr00UMeSFJAs//ufhucGLQrN1xpTY9qWjLNEinoq2RBV1cXfRYsY81Pbra6LXV+zs5MzniSKAX+PVCuIH0oniCIJXVm7M/H5IKX2HRROHNsxetWhCcWSYH22EeBv0/4N7+M3TrmzQQdi5IEDzVRUBI+k/bJEbSJqaRt1r/5tQqS+NzMyIzdvu92e9aGZ9nZv3u2nf3ls7P5WJIK9xRs9MejVjxY9PNEnYO3PY/miAAAABaLZAEAAFj2ej/ca4NfGbShq4ds8OZBu7HvRntG+zPs3Eed63egnvPf58Qlz0weMJ6dtZaWFu+wGctT42WNlluZy9roD8d8ZmzmcNNC5QkCBevn1TDwx8UwqWXLytDOIWt6QlOYeRLKYuz+HnFcuK9g43eN26o3rbIt/7LFtn5sq635gzVxgcwpSxJEpZoNaTuiI5ID+npoXP7cfOE57dftv7ndvnbv16yrocvOef45NF+zhOn6PvqjURu/fdz7+lDNmI3v3xjnAgAAYKH4v00AAFAR1CTRrt/Y5UGl4R8P29d3ft2qwvDGLW+05sc32wU3nbm1DDxAHKTAKJaf/IV5a7g0a4KoVKMgFtUS8GTA0Ypi6GWJBH9NTBQoeVA8VLS2nzr5O6z9nNPpF8rk7kmb2D7hzyuhMXVgymYmwkaERapbsv+tOKW1CcppH4jO//QdSNOxHK1WQen/dtLjSPuppqPGxm8bt3vvvtceE4YNP7PB1vzh3KQHlo6+T/R57QI1RzRbmLXqVv5XFwAAYLH4CwoAAFSUfX+yzwa/NGjD3xm2e2+71z5U+JC9uv3V9sTLn2iX7r3UzvvBGdjp6UwWEJ6ampoT8MTyoQ6Nc+ty3ifFpg9t8mCnAvGeOChPBoTiCYLZMK0SH6dSnmRISYNfWvVL1vHyDn+fBUvrlDCe6gnnXhl1fqwOlGdGZyxXk7PqxurTkySI1IxY2h5PBtTEcfi/mVISraykhIHPkzhyYVr7J7cqZ30f7/Pg8hd2fMFe1/g6W/mGldb5ys64IJaaiXsmPAE0dTA7Xy++j74LAAAAFoNkAQAAqDgH33/Qtr9mu3ciO/DDAfuXnf9iD4Tht9f8tm14woasaaJvnEFNE8XA7cjoyNygJ5aN/Nl5TxRUN4U/z8O/UqJANQTKaxIocTQdntM5ocfx3EiPU4IgFdUu+PDAh63hooawwOIoGTE9Om3FfnWCcCQlC6YHpsPbzlhNc42d9cmz4pzTwz93UFVb5cVqw3RN2Xh+4kD/p5P+b0cvTc9L2Fd1m+ps4D8HbOALAzaxY8Lef+j99tr1r7VVv3tynULjkadjWbi7YNN90177pbohnQAAAABYCP56AgAAFWv3W3bbwH8N2NA3hmzfj/fZ3+z/G2sOwy9t+SVrf0K7XXj7hXHJR1a6o3xoaCg+g+Umf0HeO2VNwc3c6lyWMJiaLSUJSiUmBkrjOO01DZQkiH0e+PT0rE3umrTW57aGhRZHtR2ORbUIlCwo9hatOFm0hqYGa3xsY5x7mqlWQUwYeKk5PD5m4uAo6rfU+3jkmhEb+f6IDW8btq+H4QmPeoJt/a+tPg9Lj5rHUk0Y1c5R3wUAAABYOJIFAACgovW8t8d2/NIOTxqMfHfE7r31Xvto/0ftosaL7GkXPc0uP3i5XfCTR7g/g5nwrzhjY2NjWSAUy079WfWeLFBwc7p/2oa+NnS4OSF1chwTRkeU2BSRSilpkF6XysSsvfTKl2ZvtED1Z2eB9HKpP4LU3JA6Dp/aP2WTPZM2HYb8hrxddOdFPu9Ua7yi8XDzQ6pVoLG+C+VjJQxS00TzEgdewmQpcRDGubU5n1SzNYNfHrTxW8dt++3brTUMK56ywjpetsimm3BGmBmZsak9U95BuI7zmZL0BQAAWApIFgAAAAT7/3y/7fmDPVl/Bj8Ytuvvud6uH73enrDiCXbxoy/2/gzO/9H5cemH18z4jHfwOjEx4UFRLC/NT2i23JpcqQkiBTpl/JbxrJaAmhNSImB+STUL5o1TE0ReYsLgv0f/29a8beGd96aEwPwEwXwj145Y4faCFXoL1lTbZHUb6+yCG099ck21BJQMqK6v9gRAeYKglBRICYOUTEjJhbj8nBLmqcPmZOSHI9b/qX4r9hTtJ4Wf2Kr2VZa/KB/nYilR4kffoenBaU+iqT8NAAAALAx/OQEAAEQT2yZsz1v3ZE0TfW3IBq4dsO9t+57tmtxlz1jzDNvwuA12yY5L7LzvPbydIKs5DQV+1dyLB0CxrCjArv4Kcs05D/ZPPDAR54SHaopICYNUe2B+giAVzYrLeIJAr0nNEYVSuK9gnT+3uI57j5UgKNfz7p4sYXB3wYZGh2xt01qr31pv5//wFCfWwv+1qNZFVX1MDsSkQAr+lxIH5cmBNH/e85pWKdxVyNYdFQ8WvX+GwYODdlYYGi5efD8PODNM7p30To5Vq4Z+CwAAABaOv5wAAADm6f1Qr+36zV02+F+D3gly/4/67eqdV9tEGJ618Vm24qoVdvF9D18nyB4wnp71pog8SIxlpf7ceq9VkK/P+3Eu3HM4iO0B/4nDSYJSQiCV+c0QxVJKFqSEQRi/9YK3WucrF5cwWIi+f++z0etGbeL+CTtQPGAXtl5o+fPzdt73T2FSrSr8U7Kg7nACwJMAsVZBKTEQkwE+VoJB45hcSEkCXzasq3w/y9hNYza1a8qKo0XLh0FJDyxNaopItURUK0vH+8JbaIoIAABgIUgWAAAAHEPP+3ps56/u9JoGw1cPW8+PeuzqPVdbvjZvTz37qdZ6ZatdcP3p789AwV4rhrHarp8lW7DcqH8AJQvqwzAzNGN9/9EX52Tt6afaAUetVaDpsselJMJEliBIr1V5V8+7rOkJTWHBU0tJAk8YXD9qhe0F2xGGKzuutKbHNNmFNz+0IG3rs1tt879uzhIBShbMSwj4dFkzRKVEQfk4Jgd8+ZhUqM5X29TurLmncqrVobbud4ehblVdfBZLzcDnB7J+C4b1pQinQZtODgAAAJwIyQIAAIATOPA3B2z767bbwBcHbPh7w7b3xr32/Z7v26bWTdZ9RbdddNfp6dQ1UdB3ZjKrXUAzRMtLw6UN3gyRmiCaCYOaT5kvNUWkoKcnAsJ5kJID6suiPEmQnvP+CpQsSOfO1KxN7py0zled+poFMvaTMRu9dtTGbhyzwW2DdnMYrsxfaa2XtdrFD1wcl1qYxssb7dzvnOtl1ZtXWe2K2qxGQT4L9JcSAalWQVkSQOM5iYLwffF5sfj//YTn1Y79zKh21lwT27Nkwb7iPmtqa7KVv7kyzsFSo/O92Ff07wBNEQEAACwMfzUBAAAs0P537rcHX/Wgd4I8+uNRu3fbvZYLw7nnn+t9GZzz9dPTLNH0wHQW2CyGBzVmTY879XeH45FR21lruZU566zvtEIYyvsrSFItgexBKGXJgSOSB2XzlGTwREFZ0uAxXY+xFa9foTWdcr0f7rXhbw3byHdHbOT2EbuucJ1dFoaNZ220S/ddGpc6vtX/Z7Vt+LsNHrDXXeGeKIntzqs2gP7vpZQI0Hh+E0PlCYN5HRzPSS7UV1nn/+y0S3df6k2KqZma835wnq389ZXeMe72L223H7b80Hre05NtGJYc9T8xtW/KZgozXrPkojtOb1IXAABgOdCf1e/IJgEAALAQw98ZtpqO8GfUjNlE1YQVmgv2+O7HW09Hj7W/pN16/7k3Lnlq1HbVelM1tR21HgBVe9y6kxtLn5rZUXl82+NtW2Gb9X26z0Z/OBrnZtT2et3aOg9w+x3yVfOKguLhn98GpMn4vPjyaoJHJUzvn93vQff+z5y48+KTofNycvek1bTUeFD+QMsBW5VfZVc2X2mjbx61jpd2WO8/Hfn9aLiowTb/y2ar21xns+OzWc0INb1UNNv3J/sstyrn3zn/PCn4HxMB5QkBL6pNkJ7XtPZbKNX11VZdlxXVVFjzzDU2MTxRei9PqoTp1LRTx890+Pe5/cXt1vb8Nmt7Tpu1PKPFa4KoBgXObOp0u/FRjVa3pc5q28O1M5wTqiUGAAAAs7Vr18apw5qamqhZAAAAcDIOvv+g7fvjfTb87WEbumnIfnjgh/aozkfZmsevOeX9GCgAO31oOgtkhr/e8hfl4xwsdflz894kzvlhmJ6Ytol7j6xZIEdrishLec0CNUmkJojS8wqCp74LNJ6a9cTDylec3qZ1dL7uetMuG/rGkHd8fO/+e+2GMLy55c3WckWLXXTP3Du81dTQhvduyGpFxFoQvr2h+F3hShA0VJWSIT4OpZQcCPPLEwel5IFepySBkgMxWeLLhtfqjvPhvuFsP6mTaPUFEv55ciEmG0pFj9N7hLFqg2BpmNwxacXeop/76hcEAAAAx8dfTAAAACdpYttEFhT95pCN3jBq12+/3jaEofn8Zjv3W+fGpU6N4qEs4KU7xnXXNpaH/Pl5q2ups94w6BirM+2j8eB5IRQlBsK/1ORQqc+ClCAIpXyemh46ojmiMChAf7rtffteG/rakI1cM2IHth2w94Xhl8Jw3rnn2WU9l9l515xnnT/faa3PabXp4enD26ftVSmEbQ6fWYF+b4IomFObQk+FkoL65UmC0rT6OghFtQp8OtayUFNivq/SvkzjuM45RV83rS++lqDz0lHsK9rU3ilv1kpJo4vvXVz/GQAAAJWGv3QBAAAeItUwGPr6kI3dPGa37L/FXtn8Smu4oMG2fn5rXOKhUyBZwVNRR69Y+pquavJmd1bVrbLrwjBx39FrFcj47eOl4PkRtQuUQIjJAR+HUkoepJoFZWX4xmFb+caHp+NeNfuihIH6Mhi+Zdg+MPIBawrD/+7+39Z8ZbOt+YM1Nj00ndUiUEIj1ijwxEgoM+MzVt0cA/1qWkmnvv4PRpN6nKaPkjAoJQnUDJEC/TFZoOaMNr5z45HJlbguX9/82gWpaL1hfV2/0BUWxJlu4PMDXrtAySh9b6pb+d9fAACA4+GvJQAAgFOg5709Nnr9qI3fPW6fHPukvXH1G63hkoY496ErHix6R8cKAusu6xW/dHo6qcXDRwkl9UPxpDCoLwElm45HgXNvjqjsjvjyhEF5AiE1SeTLpAC8AvK6Y39kxjo2dtjq31+t1Z526sNj/7v22+BXB23kRyN2y75b7GNheEvdW2z9heut+QnNWSJDyYFCVqPAS9jW3g/2lvrqSIH88nLcGgZKDihRoHFMFCjR1vsPvTY9pWoX4XXaP7EJorS+0nuVrdenVcOgNkzWV2d9lmBJUB8a0/3TNjM1YzVNHDcAAIDj0Z+9AAAAOAX2v3O/jV0/ZsN3D9snw/Ccs55jF956YZz70Iz8YMSKB4oeCNbdzc1PbI5zsFQ1XN7gTdqcFYbJkckTdlo9fut4dse9Ov7VPyUNypICc2oWxLvmdb6UB+BTwqDnuh5b+RsPT+0Cmbh/wvb83h4b+sqQ9/PRd2ef/WXhL+2cMLx6zaut42Ud1vjoxmwb02cMn0NBeQ/MK3hfXmIgX9NzEgkK7ivgH2sWqKQOjb1z43y1rX/H+qw/h5hg0X7T+IgkQWruSP9iIiIlIVKzSDjzqb+XqQNTft7TFBEAAMDx8VcuAADAKbT7d3fb2A1jtufuPVYMQ/26ejvr02fFuQ/N5J5JD6QqEFrdwJ9xS1n+vLzlLwilPW+3hWFy76T1f7o/zj021S7wYLqC3OGfJw1ibYKUHFBJSQR/PJk155OK38E/OmPNa5ptzdvX+HofLgf+9oDt//OsloE6P76m5xr7Whj+qOGPrPvSbmt/cXu2/Up4hLESBQrQpwC+B+7V/JBoFIsH9cP80lgdG6d+CmLtAnUk3fvhXr/DvLSfitn7+H5UDYNyWnd631i0LWmdWBr6P9vvtQt0zlfnqq2mjdoFAAAAx6I/ewEAAHAKHXjPAW8n+0fjP7Kndj7V6jbVxTkPjTrqVFNEojvSV7yepoiWqtoVtVa3sc42h+GGMBTuLsQ5x5cC/qkWgScNwlhB7zkJApXi4WC4OngtJQxiDYO+a/us+1e7w4seXrWrwmdfX2eDXx604e8O2/5799ufFv/Um2N6zobnWNdru3ybe/8pa4Ko1KyQagzExIFPl935XyphXqmfAiUMYq0C75i4tdrW/t5amymGfRBKqXaB9lPKE8zLFzitV6PUZ0J8n67X0G/BUjG5c9Km+2JTRCQLAAAAjolkAQAAwClWuLNgE9smbHT/qE2FoW7dqUkWqPmWqYNT3hGs2l5veUZLnIOlRk0Q1bTU2FPDcGj6kI3dePwmiBIlFUoB/9TWvkaqVaDgd0oQpEB4KP54KkyPl9UwCK+fHp22+hX1tvaP12Yrf5jkz8l78kLJkkP/esg7Bx++bti+1Pcl2xaGX+v8NVv1G6vsrE+clQX6Y20B7zNAY5UUtA+lVJtACYTYAXGpVkFMFKit+oPvP1hKEqTkSilRoKKki2g6jVNJNB0TNYc+esifwplPiVY1RTQ9Pm3N9c128X00RQQAAHA0JAsAAABOA7XRPrVrym4q3mQr16608757Xpzz0ExuyzrrVNCypr3GOn62I87BUtL02CZPFrSFYXJocsHJAkkB/xTI9toFMfCdypzHMWGgAH15wkDNEQ39YMg2/NGGbMUPE3X87cmOqVnve6PYW/S+DEavHbX7995vnwjD2xrfZs2PbraVb1p5OBGgmgSxHC1p4MvFGgVKEpTXKpgenrZVb1w1Z5+kaa+hERMv5QkYl8ZlfH+mxAKWhP5P9dvkrqwpotowULsAAADg6PRn9VH+BAYAAMBDtfnDm/3u/3M2nWP3PnCv3X727XHOyWt+crO1PrPVGq9o9H4LioeKtu3l2+JcLAVNVzbZ5o9uts3nb7aOMPzkxp/YXY+5K85dGE82dNV4O/x+Z72a6kl32Oeqsjvs1WRPbXis6fhYyytQqiZ5lKxQc1b1m+s98XTrulvj2k8v9eExtW8q6ztBiYuJGd+26cFpa35Cs5/bzVub7U1h+EAYDj14yHo/2Jt9LgX/0+cJxT+3no+fzUv4XlQ1hMf5LFmgz7vtZ7bZ1s9uPVwDQzUtJrOxJwtSwiWNU62M+UmYYvg3UPTtV4fmWLj1f7U+OycVpw8jP1/DPynfv35sQlENqlO5j9f84RrrfFWntV7QahOFCbux4cY4BwAAoPJcccUVceqw7u5u/1PtHdlDAAAAnEr5C/NWt6HOatfV2kRxwgO8/Z85cSe2x6O2t3Orc15qOmv8LuqWp7TY4BcH4xI40634pRXW8rQWe0PjG+zLxS/boU9mTfEshgLgCpYrIO6B1+w/2Tg5ymMFxj1gm+aFf6pxoPOp4+Ud1vuh3mzZ06TxUY1Wf3a96XYlr90wkQXkRUH+kR+M+PbN1s3ade3X2YtrXmzFjqKNXzRu4zeNz00ShOVS8FnNDun1XsI+Sc0Q1a6stR2/uMO2fGzL3MD//ERBql1QNp5TwlNp2vt/GJ7xYzjyvZHwJI5lw3s2WMdLOqzjZzqsujkmqDRuzhJVKcGjZqL0fJpOyZ7WZ7Ra0+OarPGyRu8Q+6GoP6ve6s+pt9y6nDXUN1jzzzZ701QAAACVaO3aI5sibWpq8sq7AAAAOA32//l+D4YWpgpWU58F9k+Fvk/02cQDE1mTGs21HujF0qBgZeuzWq1pRZPtCENhX2HRiQIp3FXw4z89Mj0nmF0KfKegeGyCqPR4atab5JkZyV6rscrYzWPWeGmjnfWZs3z9p4u2b2r3VNaEkDZ9MvYhoEB+2Nb8uXnb/xf7bfibwzZ606h9YugT3lTTi9a8KOuMWbc6KT8Sa1HMSRRorCRBbIYotypn+96xzzb906bSZ/eiRIHes2x/lZIBGpeV+c0S6XFqhqh+a332JI6w4d0bbNM/brKajhqvtaLkVm1XrXfs7UXTqXTWeuJTz+uY1XaHcXcYrwzzQlHfFnWb62zNW9dYx8tOvtm1Q/9yyGuEFEeLtiIMte21cQ4AAAASkgUAAACnkdpmn5qcsnxT3gOap4o6ulXga7owbbmunG393NY4B2cy3SVdv6Xenh6Gr4Vh9MejNvS1xScLZOymMQ/0e/A7Bb0VAI/B7FKAXIHx8uZdxma8yZ/poVCGQ4lJg6Grh+yCl11gG957GvswmA7/wvt6sD9QMs23Mzb5o6SFasooGaYkytj1Y3bdwetsdxguWnmR135ISQLVKvBaBKnpoXyWJFBfBQo8H/r4IVv1u2X9FKT9EfeJ7zP9C+PSPov78ah9F6iEbfTERliu/THttuaP1mguovV/s942/sPGUpJAAXklCry0xqRBR3wuPPbaBKmGgZqNqg/HT9OqfaDlw3qUUMitzXnSoOFRDdbxipNPGEztCdfMcP6JtgEAAABzkSwAAAA4jfzu78lpq6k5dTULpP+z/TZ+x7hN7Z/yIGZuZc7O+tTpvSscD137T7X7ndQXhmFoaOikahWUS8H+FMD2hIGC2hor6D2dBcf9Dn4FyeNd9d6UzlA4N4emvUmdtJ57vniPPf83nu8B39NB26j3yh5kJQXydU5r33jNgFyVJzAGvzboCYSbh262R4ehfUu718xQsqGUKAjFm62JCQP1xzD2kzFrf2F7qVZFebLEH2v/aJ/FJIFvR2qGKCUMysfhny+j/akS1jHeP+4B7K7XdIWZ2Pi+jZ4I8ASBahOE4n1jKOifEgNKCKgpqXB8vT8N9TdxtKK+KWLix8f1YT0dNZZbk/Pm3E7W5O5JK/YVrTcMTc0nvx4AAIDlimQBAADAaaRkwczUjLcNr0DZqdTz7h4bv3XcJg9MejNHdWvrbMu/b4lzcaZpuqrJO+89q+Es+1wYCncWrPefHlofAVqHgv1q/78U2I5BcA+Ep4C4guWxnf40VnLAaxfEhEFKGnzzv75pv/KGX7Et/3YazqWwPUoC6K5uD87rKxG2beSaEe/cOAWJU9BYbduP/mjUa9J8ovgJ++0wqKkiTw7EO9I9QRD7KtBd6GM3jln9ufVZEiImCMqTJaX9E5MBvt/Svip7rrQ/NU6JBO27uA7VxKjbVOc1RSrZur9YZxvfv9ETA9Ut1VmtgVhzIHWi7cc09i+RSup/wo91GpeVlCjwEhNIOh+UhFj/1+v9vRdrau+U18ganxi388Nw8f0XxzkAAAAQkgUAAACnkScLJkKZmfGg16nW/+l+G7993CZ6JqyxrdHqN9fb5o9ujnNxJln1plXeJvsrwrBjcocHm08FD/oPT5fumFeA24Pfmk5BcAXOU/A8Brw9iB5rF3izRGXlQ5/5kD351U+2rZ89tc1b6T39PVQbImyfTB2csoZLG7KAv2oHlCULvNRXeXNN4/eP29+G4U31b7L2n24vLZ+asNFd5wOfH7CGCxrmJArSZ/WxkgRx36T9U0oIlCcPypMGYdL3ofbXeJaYUUKicEfBfuVZv+Lt6nf9YmXWLlCiINUc8EB+TA54h8VK5OiaF5uM8oRA7JS6VMJzPl/H+SgJgzklJg3S+6z/f4tPGPR/qt+KB4s2PTZtLWHQtgIAAOAw/joCAAA4ncJfWwqKqWbB6TBx/4Q3uaIOb4f3D9uKNSssf3betnycGgZnktV/sNpantZiT29+un0sDOPbxh9yE0TJxH0TWQB+YLqUHEgJAh+ngHh8bk7SIIz1uuJAcU6yQAmEaz5xja1/6Xo795vnZm90CqT3VrBdAWA1o6VmazxJEJsS0h3lpSZqFEAO5eD7D9ro9aM2sGvAPhuGp3U+zduv99fUV3tzQD1/1+P7eE6iIH3OmCgoJQO0T8ofz08UaF9prH9x7Em/mCzQtPbTB774AW8eRzUMKs26d62b2/dASyixDwJPEujaVx2OX+qMWqWsVkFpOh3nlBQoL0oQzC+qSaL3aa3279ViFQ8VvRmu/jAooQEAAIDD+OsIAADgNKrtrvXgZ3Gy6M2vnA4D/zVgYzeM2cQ9E3Zwx0HrXtdtLRe22NbP0+nxmaD1Oa3W/cvd1r2y2+rCsL13u/X9R5+NfG8kLvHQKVlU7C3adF9WwyAlDUpBcTVDpOnypMFUbJ5nIiYM+opepvuzxIOC4Tv+bYcH5S/dc2l8p4dmcuekv7eaglETSrpLPNUM8Pbs1dxMKN4ETa6qlDRY9ZZVNvqDUe/Uefuh7XZOGHLdOX9t3eY62/P7e6z9Ze1HJAoU1Ne4PBGQ9sGc/VM+nRIGGqfHWtd4WNd4GI/FcVj38DXDVr+p3tvq73pt5dQu8ERBrFHgTQ/pbn/VJlBTa+n/MJUgVQmPvRZBWfEkQflzMSl01KSBEgRhrHMiNU3ktRfCe+ZW5/ytFmP6UDi3R6atLwy1jeEEAwAAQAnJAgAAgNOk89WdHkRUMGxybDJreuU06ftEn43+ZNSbJNp/735rbWu1zY/dbOd87RxvTxyPjPqz623tH6+1hg0N9sIwfKPwDRv8yqDt+5N9cYlTp3BPwZv0KfYXSwkDjY8VFPdlUpmMzQP1xaTBoSzxoDLwmQGvAfD82eefkj4x1BSTJwl0d7iaqkl9DqjUZ8Hg1Ea9gs9qo17fo7YXt3ktGjUj850wrK7P7irf+Ss7bcUvrZjbibGKahPosylBUPb5fR+kpIGSCPGxT5cnCMoSBjOFGZstZAmDoa8OeZJF0+O3jdurrnqV32GvZpAqwZymh1pCicdSx0vJgaqquePypEEpcaAaB2XJAq9loMTQ0RIG8x6npIHeU9uw2P4L/NwO57pqFjTWNsZnAQAAIPqz7B3ZJAAAAE4lNYnSdEWTd7paHCna/j/Z7wHd02X85nG/y1cBzokwzDTM2LOverbtLO60lme22MBnB+KSeLhsePcGa3lKi72q/lX26TAM/GDADvzNAZvcMRmXOLUU3Pc79KuqsqC7orSzYUYoVbOHp4/22MtUOH0mwgmkALoC7jGZoI5h+/f02y++/Bdt3zP32aGPHAoLL476GWh8dGOpA1xvekh3iacaBekOciUIFIRWMFp3rGs6toWv2hj1W+ttcvOkvSwMN03dZPXn1Ps5Xwr0a9vDNmtc+lyaH8beUXHZc54QONZ0SiqEdXnfI+oAenDahq8e9u0RbfMD3Q9kyxVmvZaBaj8sV2v/dK3VttYerlGg4xKOoycB1NyQ/mmsmgOx+aH0uDQvPDe/+Pka5vl8/TtKwsGny5TmhUM1+MXB7MkF0Pmjfi1qNtXYluotNvOqGTv4voNxLgAAQGVYu3ZtnDqsqanJ/zwDAADAadDyjBbLbch5QEuBxoEvnP5gff8n+71995FrR2zgtgH7+o+/bi+86oV26U9daud99zzb8h/0ZfBw2fyvm63teW12VfNVdnUYhu4fskMfPnRKmx86GvVjobunVVKwPwXQ5zyOd9unx35nvuZPzGa1C3rLSliX+kb40Hs/ZPXn1tsbZt9gF956oW35txOfT+0vac9q2ays9Wa51Ma/Av9+Z7juSo+1CpRA0DK5tTlvXkbL+vJKLLSG+e3ZXeRKXEwMTlhNGFTjQDUIvD8BNTmU+ifQ51AAX0WfMY79c8akgp7zJEJMCpSm43LpOTU5lJofOvgPWVDZ11/Inp/YHrYlfY5l3GHumj9akyUHVCNEx0+1QnIxgK9ReZF5z6VEgCcHYmLAy7waBj59lBoGpX4syoo3YRW2Z+PfL7z2lK6ROr+nx6ft7DCo+SQAAABk9JcRNQsAAABOsU3/vMman9xsDSsabLJv0gOKff/WF+eeXuqcduT7I1a3ps5mq2btvr77bGJ2wl54xQut4ZwGK/6PorU9p836P9MfX4FTScdd/UW0PLHFntr+VCuG4c6+O+3QPx+ynvf0xKVOL9UwUFDd795X0FV3Yc+GGQqIq2g6Fq9hUP5cXMaD7gqSqwmeMK1aBxoXbi/YA7c/4J0KP/HZT7SZX5nxxJj6Dmh+QrM1PaHJmq8K48c1WdNjm7KkgGoHqJZAaxbgV20bJQJyK3JW0xWe66zNmhsKY3V47MvH1+i5/Na8JwP2//l+3zbdHT7QMWATdRO24807rPGyRk92eDIgfY7yEj+f1yxInzU9p6SA/ilJEJ/355QwKMZaBSMzNj08bWPXZ7UGlPzTtqlGRG5lzvIXhe0bzJbTflDzRMvJ6t9bnR2XsqaHvDZIDPaXJwDSdGlcVstgftKgNC6bl+brnC3VHpD4XJpO9JyOV8tTW2zoawvrNLz16a1eI+X85vPt3pl7bf+7wnkFAABQQY5Vs0B/ZulPYgAAAJwi6965zjpe3mH1q+ttujBthfsKtuf39tjwd4fjEg+frl/osrotdVZ/Vr3fsd2ytsWefdGzbV8YrvvBdaX26be/dnt8xZlB+7B057k6M1XTNbojvb7a73SfOjDl7eirFA8U7dC/Lr5ZnNNh9f9ZbSt/Y6Xl1+btaVVPs+vDcOjAIRv+5rA9+OoH41IPL/WboH2oIP2cgO384K1KubLHnnCoq/K7sMv7GNC0mhbqel6XTU9P29jdYx4wV3v+KnP6ESjOZq9Vs0PprvEw9jvG093lYb4SCbmunFXXVtvE/gkb+eGIJ78aH9Poy49cM+LndevjW21N1Rp74IEHbOzmLIjvweQUhJ5P/9cTyxHNEaUkQkoUxLFqE3hfDv3TduCvD4QF5spfkPemxta9ZZ0N3TjkzUup8+aD/7h8mrVZ9eZVfkxqOms8YaDmh/Q9LB03HUMlBHRMlThIyYHycTwuPj/8K517KfgflY6LpGMRa3t4bY5wHpWfU95B9+SsJ0h1jHb8rx3xxce37s/XWefPd9rTNzzdrhm9xm5qvinOAQAAqAxXXHFFnDqsu7vb/1RLf44BAADgIVr9u6ut8xc6rX59vQfKCjsK3ixQar7kkaJmYOq31HvJrctZ0+ome+ylj7UtYfjewe/Zjgd22FT/lN+R/kgFtVf9zirLn5u3hksbsuRGR85qa2otF4Z8GJrDcFEYhsLQG4aBMIyGYWx6zKaGpmxy16QV7irY2K1jtv+dD++dwgoar/vTddb8tGbr6uyy1WG4d+peG79v3Po/2297/2hvXPKRo6SB7t73ZlfKA7ZHSxaUTZcCulosBvfVwWxVQ0waKPifr7L6zfXWcElD1nyQagN05G1tGBrDsDMMI4URrx1Q21RrzbXNvo9mwzASBnU2Oz407skrtfmvMn7HuDd91PXaLn+/9L4aK2jd+sxWu7DxQrtl9y2eQCh9Dn0u0cOyYLQHon0iFCUGwrgUnE6PY+0CBanVzJAHoVUGp/17PJ9qEeTPz9tPffmn7Nr/uNZrc0zunrSe9z48NUhONyW+SokC1f5ojTUK5iUISo9TskDPaVrHIhQ/NmVjn06Jnfl0PHQMyhM4ShQoYRCTTilhkJIFSkxND0x759e7fnOXr+Z41v7JWk84XbX5Krth/Aa7sfHGOAcAAKAykCwAAAA4zVKNgrqVdf548sCk91Ow+827/fGZoO2FbdZ4aaPXNlDzKbpjv7Gz0c466yy7qPEiu330drvnzntssn/S76r25ldGpm3nr+6Mazj11v7ftZY/L291m+q8aZvatloPCpff4V0SHtfka6yhpsG6wrA1DGp3XNN7wqA7+RWYHh4a9sCtOpQev3X8tAbr1/7xWk/G1K2ts7PyZ9nBMAwODtrodaPW9/E+O/TRM6PWQ6KkgQL6KZhbngwoFUnjaM5d4HqdXq+7y9V2fKppoKCx5pUFhZVM8Noh6hS3udqb9fG79QdCGZ7OaiKoqaPCrNcaUU2FUg0EBaa1fiUnYjv1ek8lPFqf32qP7XysXd9zvQ1+dfDwe4aRim9vnHY6jUKZkzRIz8VzLZ1v6rfBtzMmCnr+7tjB/+YnNdvrrnmdfelTXyolCxS0PlNqu5ysFb+0Ikv8rMiSP7pWpERB6dhrOj0+RrIgjX26PGkQ/pWOV6RjVkrgqOh46HFsEqpUYg2DUj8V4bHOJZ0/O15/4toFa962xrpe02WP2/o4u3nyZvtJ/U/iHAAAgMpAsgAAADwsun+124OGajLGO8NUR5ixKBDsgUEFoEenPRitIM9Cgjtnuo0f2GhtL2iz+u56mynO2OT+SRu7ccy2vWJbXOLM0nRVkzefUruq1pMGCggqGFjXVmer166289acZ+Go2a6hXbZ7124bHRq14mjR27D3Yzc0YzvecPLHbc0frvHzQQkCNY/kndiqw9SaKg8G6hxR4M/vIta/FMAdn8maI1LHpvVZMNnHar6mudba69vt3DBsCoOC9veGQbUQxgfGvYmYsVvGvN35nvc99Du/PUnw852+75rbmm1jGO6bvs8Kews29NUhO/Sx09+Z8UOhpIE3LRS+pymoPifArpJoWv/XUP5cpMBvShKU5odxKfBbLjUhEwO+CsSrM2MdP22LjqWfBzquMVngxzcmClKyQOOOl3TY2nVrbf/Afq+9UZ4sKAWjVSRNa3PKSikwnZJSGoft8uaHhmOi4N3HP1earmyy53/v+faTL/7Em8TyZEFf0Xo/2BuXWJpWvimrVZCSBX6MUnJAx1unTXqshICOi/Z7ebIgJRDKEgWl6fDPp8vPOR2LJB0fKWuKyJMEqlGg80iJgliUcPK+OnqmbNcbj1+7YPXvr7auX+yyx5z7GLuzeKfdkLshzgEAAKgMJAsAAMAp1/GyDk8C+F3AsTkSBXIVWFK71rr7V81XKFikAJqaClEQzTvIVBv06tB0Ra3lz8nbxLaJM67d/IXa8u9brOXpLZbvyltxomgTeye8jXU1hTPxwERc6sxVt6HO2p7fdjhx0B3bJQ/HtLah1hpbGv0Pxw3dG6w1DD1huOuuu2xw/6D3d6C7qHf+7+PXPOj+390eFE5Fx97fIwb99VepAn6p7fHCvQXr+/e+LEGgu4fDWMFCBRl1d3rqz0DbqmSDmi2q31Lv51Npfjj/co05a6tuMw3jYVDTRYWJgk32TNrEvROe0NExUoBx4D8H4tYeW+tzWr0D485XdPp717XUWWN1o42FYaJvwiYfnLT+T/cv2Q5TGy9vLAXcVY64O/94FNxVwF3/d6GS7gpP00oQhDJxf/adUPM9fqyUFKirKiUDUvLHx7qTXQmDspoFKnqfzld2WsvZLTYxNmG9/9abbWsKRs9PeuihngtK21RW/Lm4jd6hceqrIJTeDx0/6K/z4be+91v28U9/POtLY++Ud4B8KhJSj5QVr1thtatrs2RBKH6d175XYiCOj0gWpMfzkwTlyYLwvB8LPad/KWmgomOnyfnJAx0fnVepdkFKNqUkQbw+aKz9ruvR9tcd/7dETZ6teO0Ku/iCi+3BMFxXdV2cAwAAUBlIFgAAgFOm/afbD9caULA3FE8SdNRmbaKHUre+zu/0HPzvQRu/adwm9056QCcFl0pNWOhu4oZqa7ys0Roub8gCPb+4NJIGLc9ssVVvWmVNj2vyRMHk6KQnRYa+NuSBwqWQKJhPx63l2S1ZR6at4bgqqaPkTjreSgqF0tbZZpedf5m/5rpbrrPRg6M2fWjapg5O2a7fyO7qXfXbqzwxkIKO/nq1Oa+goOKBMVDoQT4FZ/unbfTaURv44kApoLwY6gBXAfz6TfWWvzDvCQQlQNT8jX+G5hrLNeesqbopbEK1TWgoTtj01LTfqZyanfEESE8ovUXLrQnbvzLbfq3Dt7u+yupb6/09i4Ww3HB2N/noj0Zt6BtDC0o6LBUNFzXEqSB8di/l9DgFdNOd3+HfQo5f6njZzyklBpQwSNeGmjCdahUocaBkgebHoponavqp4cKwfdNm235+m7U+uzXbnhSY1nQsKVHgj0WbOS9poO33prdUhrNkwUI6KlaNoovfd7Ht+/E+P//VwbEHrfuK3gzVUtPxsx3Z9zZ8d/y8V/NDKVETr99zruE6VnocEwTl034s5o91bHQNKDtO6XV6XDp2Eo+Tn1vx/ColDFLNgrKEomoe6TfkRDW6Vv3WKut6XZedd/F5diAMP6z6YZwDAABQGUgWAACAo9LdueWBHQVi+j52ZICr5WktWW0BBY11N7CSBGqLPIy9PWslCdrind7rcnbw7w96J6UKvKpt8hQMKr2XxgoOKVmg9eju4nyVB3zVrMf4beMnbErikbTi9StsxRtWeK2IfHveJgYmbGLPhN9Vvu+P98WllgdPIDyjJWtzXgmEMM6tymogKKmwcu1Ke+KWJ/qd+9+55TvWe3Wvv8abC2oIxzUcbw/w6e7g1IRIIQvsecek/dM29M0hT7KcSrpL3u/+31zn0/XnZG31p+SH10zI11p1ddjGGJ0MW2kzs7rFPJtOQWY1LaUgZnVNOFfDUBgpeGLBkwQ/HPXtH/zyoC+LhVNSJ11LSgFpXR/mJwxUw0DzdL2oq/ZEjmqrNFzc4OeW9v/k9sk5AejyUrpbfb4YjNbYz0fVKlDSaHjar2ELoeZsVv7qSitsK2RJplDUz4eue2dafxULoc/jSTJ9vztqswRNebIgjP36nR6XX9vjY5/WcSi/3qfHOhZh7MclrKO6Nhzf8DqNa6rCNSMMYS2+LeFoZEP4Tuo7qGM9MxXGKVkwP2Ggfi/6stpOx6uppo6bdQ0/+7KzvXPta6quiXMAAAAqA8kCAAAqlGoBpLvBvWkWBXwbqw8381FX5UFdD5pNHA6+KKDrzT6Ex7pb2pMB4bUevFNgT+Ownlx31qSMEgW59Tlv0/7Auw/Y+M3jHnwrURBvftBIwSYFmlQ0HbdJAemWp7T49j74qgfjCs4c6/96vXX8TNaRcV2+zsYOjdnUninr/XCv9bxn6TY9shjekfO6uiyoGGsO5NpzNnb3mN/Zr3NK545ql6RmXbyoz4ow9iD7daMe1DuZWgQnQzVAdMd0/oK8B5nVybMHquP3wM/p2NyNj8N5OV2YzhId0+ELUtbJqu4e9yTB14c8UI2To9oFStyUJwNKAWddMzSt46JjpPlpmTC/6/Vd1nxhs02OTNqhfz7k1yxfvjxZENYh/pxPZKP5/DzV+alzNZyjx+vQeL7Vf7DaWv9Hqzc/5MmCcE6rXw/VTDj0kaWVLGh/abt/p71mgZr0St+NtO9Vwj4u1SooK35N17W8bHrO9T4d07iMl7C+mtrw+1FTE1YZriFhCFfVsFi1JwnC3rSpMGisQQkDJQtKCYPYFJH/ZsVkgRI1Xrvg5ceuXdD9a93egfPWy7faaBi+XfXtOAcAAKAykCwAAKCCtL+4PUsMNNdkzXxoWjUCYrNBCgQp+KkgrYIq3sb22EwWyEkBUwWI8lVWuLPgiQAPquou8Ri407q8eRbVKgjzdde2gr+HPnzICvcUDv+FoXUqWKSgXRjND+TpsQeXFHyKgaj0Xvnz8t4R78R9E7brTY98LQM1c7LyjSt9mxq7Gm16etoKBwo28eCEd2Z66F+X3l3Ep4Kag9E51XxVs+U25PxcU8BVTU954HRg2h+P3Tzm54aCfA9XguBYlDBQ7YjUx4afy7qTWp25tmc1ZXT+e3M0YfuLuls59s+gMrlr0oa/PRzXhpOlTq49WdAQrzsxIF0KMqcaBroelQWtFdDuenWXNZ0drg8D4frwW7u82akUhJ5zjUlNEOkaJPGhX6PCtAeaYy0XT2aFosTfQqlz8/ot9V7bwc+PME6dgC9mPY+05qc0e/8lSgKqCaLUbFja56mUX6tL+1vHS9MpWaD9npIFZWNfJhxHX2+YrsnVlBIE+TA0hkFjPZ4Mg2orpWFofMgTAn78VPkndUgdk9ueNFCNpULWObr6jzhW5/ndv9JtK/7XCtvy6C3+Pt+s+macAwAAUBlIFgAAsMy1Pqs1a/ZFAZ50538YK+hZShyoQ9nwXN9/9HlHrH5nZgy4pMC9B9RCKe4vWsOlDVngPiUKFNBToiCsrzywmr84781tDHx+wEa+N+LbI7prWH9tlBIEeo/UHIjep2yeB5TS3aq5+D7hfZWIUJvgCsjvfsturfYRoTtRu9/QbfmteWttbLWhsSGbPDBpY9eP2cEPHLTh71R24Hjr57dmHdaGY6YA+9itWcfBYzeM2fjt47buT9fZtlcevx3xM0XDZQ3eObInC+Ld5moWC6eH1y4I16c5CYEUYNb1IQWiY7BaRTVD1LZ+06YmG+8btwde/IC1PLXlcHIhBqz92pKuOSqSxoFfA2Nb96kGTO8/Ly7Af/ZXzvZaJ8X+LFkw3Tft6/HOkZdQskC1I5QsUIfhuraXjkVZksZLOhZpnK7dab+nxEA6hvH5dHyVKKjOhd+Q2lpPCjSEoTkMLWHQWI9rwnBXGB7Y9oA3BzXwhSP7AdF7122qs9W/s9rHokSBkgZq2kydlj/4c0evmbbil1dY9//qto1XbAynQ5V9teqrcQ4AAEBlIFkAAMAZQm3ylwL6MXjigZQUaIkBc/+FnrETBpuUJPDAjprxSM11KCATA+3e7FBLtTcTo+Bt/6f6PfB+RNBej+O07s4sJQpSkkDNGIWiu4A9UaCOLztrvGPifX+6z5tjUR8Fx6J24xUQ9PcUjfW+8xMJKWGgkgvvGxMduuu1eKBoe966x1/+cFrztjW24nUrrGFDgzXWNNrA4IA3O6SOeHv/qXdJdmR8Knlnoa/p8r4qFKxTh9aqZaJjrr4LVp+z2sbHx63v9r4lkzDAw0e1C/Q9L10TUyBawWZdF+YHncN8XQ/aX9RuDesarNBTsH3v3Hf4uhFKWt7H5ckClSg1Y1OqVTA2s+hmg9S01Rt/9Eb71H99ygPUXqtANWmULBiaXnTi4ZGkGmlqSq5ubdY8V+n3KR2TVOIxKO3rdM1Ov2Ha5/GxT+v3KP0u5cJxrssSBapBoORAexg64rAqDP+w8x/s/hfd78mbE9VAUp8XOob6jej4uQ5reXKL/756U0Q9RXvgJQ/EJedSE0SqWbD+yvVWH4ZtN26zux5zV5wLAACw/B0rWRD+fLN3ZA8BAECiAISaVVHQRHdZevvNq2o9WL1YukvZO8EN61TTJ+ow0oP4zVkgP9eV3cWZWxHHK8P7rg/vqw5kw2N1LKvmb1qe1OJ34I7dmAXkdRetEg/eRJAC+UoONGTTHtBX0ypqTiW8R/3Ger/jX83kqK31lIhI46rZKg+iVWX/8e2saYxNg8QkgQJ53vRQ2Cb/DO011nBeg+3/f/s9aH6iO68VQPNt0x3EKbAUazJonKbTdpSe07+wrAI/SkzojuLy2gun24a/3WBdr+uylvUtlqvO2WDPoBXuKljP3/fYgb864AHCSrfuL9ZZ/dZ6P76TOye9j4v9f7bfz0Mp1BSsriWc0505a3p6k/V/pt+fB0R34HtTRAo0h3+lUkbXBF2vVBNK51jzk5q9JotqgBQHizZ89XA2P3ZW7M3TpGZqNI7PpaKEqPpXUUm1R06mM+K257fZrpW7rDhQzNYzEpvDiYmIdL0+06lT+dShsRI3KUmTrsNzpsuLEgL6l67n+qfnq7J5c5q1C6WmLvw2xUSBahKsCMOaMGwPw1c+8BX73Ks+Z3v/aK//1qqGxomoJod+K7W/VYtp6KtDfh7Vb673pvb6Pn5kZ/2iDs8bH91ozeubPVnQt7/Pev9x6SR2AAAAHqq1a9fGqcOamppIFgAAoLta1da1mjGo31LvRYErFb+rXdOtWfGg/9l5D4yqqMmGye2TcU1z6Y7T/Ln5LJgf75otBfPDcx7M7woljL1DyVU5v0Oz2Fe08VvH/S59tdU/uWPSy/TwtL+fmorwxIBqDKQ7/9UxcBrXx3na9qaw3Z01NnHPhB1830EPZrmqUHTHp4I56U5QBX3CWJ/f1xvXXVpv2H7f5o6saJ8NXT3kTfBM3LuwO+sVFFSyQskQDygpaaAAU9qWFHBSoErBJi2TSlhWgaHWZ2Y1KUZ/PBrXevps/uhm6/y5Tuvu6vZ2rYf3Dfsd8/v+eJ8NfmEwLlXZNrx7gzU/vtnq19Tb9Ni0H5fdb8qai/IEUjjllCCaqZvJvgPh3Gx5ZosNfPbIZkVQuTyJWP7dj7UBwlRcIqPH6lRdTRDpOiJTB6ds+FtZsqCUDFDSQLHm9JzGKuqkWomCWFIH3H3/dvSg8omoc2Pv9FpJBzVjpGSBHi+xZIF+z7yz+o6YzNXvgpK3+r9FHRNdg3V9jtdlPyyar8l43Z5z/MLrS7UJYrJA41wu58H5lCgYCsOnX/Rpu+uP7vJjsJAEwXzqb8S3Jxxf7ffxW8a95pcS9KotcbRrTcMlDV5qN9faeWHYObDTmzsCAACoFCQLAACYR3cVKlGgALg3C6TAeGP13LvpVVLCQAF+3amvDlFjkF/P6U53dcSr4Lnu4FcNBLVr78F23Y2vtvc1Vgnr8uZ7wjp0Z75qLGi50R+M2vA3h32sQIfunJ0ZyNq8VieZas5Cj9Wpqu5knxPMj++RmoUoJTrCZ/J218NzugN+/I5xX4+XsF51YqnkhJqFSMEhBXm0/apV4Psi9nvgd4SGdfrn7qj1xIYCYz1/0+M1HNp/qj0L1i2QOlT2QF9ZEMoDT3ockwb+WFLwSc+Fv1zUl4KO3cDnTm+weet/bbWOF3bYWc1n2aEwjO4Oxyh8xr1v3evHCFlb86vevMoTaPmavI1uH/XmqEa+f7jmh/rG0LHTeWT5GBRurLLmJzbb4BdJuCCj65L3qVKrL3x4IpT5CYM0Vk0r3Qnf2N5oE8MTfs4pIVrqfyUlDMoea1pBfG/TfuJwomB2bNb6/n3hiQIlutqe22YdL+3wa/Nj3vYY69vRV6qd4LUVlCiIRW3jK8Hb/LjmM7ZfEzU5p982TxboNyNeg1MCIF170zXaj0mal0o6VmHaf1NSk3ix6SKvUVBX64kCNT30C2H44Ps/aDe96iYb/dHoSSUJEk+0B3pvTwgFSkqrSaj6TfU28F9H/lboGt72U22W25yz5+aeaz8p/MR6/rYnzgUAAFj+jpUs0J97AABUFG964AnNpdoC6S58LzHA7s931ngQIhXdvVi7OhQF+8MyCjx5AH1VrScdVItAASMPkJQnHGJgX69TckDrUnBV76HmWnr+rseGvz1sE9snvFaB1uHtaE/GO1RD8WDX1KzfUV9ar4ru2EyB/lA8cZASCaFou3Tn/+j1R96Fr+SB+GtzVX5HbN2Wuiw5oP4PFORR0xFhrPfx/aRgXigN5zdYz3t6POmhgIza+1ab9YtRPBSbdIoBqBR0OuKx7hZNTYtoFPaDalmonfzTZcN7N3gS5NKGS21PGBQEH/jPAa9RcKI2tJeqjR/YaFv+Y0t8tDArf2OlN9O1LrfOxifH/Zza/+f749zDhr425DUyNH/q0JTV5rPvDFBOtbT8uqdAe7w732sCTB8e69qoa7iuR+GRXwvUD4u/LiYBvMNiJQLStPojGC5LvoaxJ2DDNU+dvS9E56s7be2frPWaRiufu9Ie9YJHeRNz2+/bXtpWb36o7FqlokSGrqn6nmz8+4227l3rfH1nEr/Gh98TXfdTk02eXInTKeFSmpY0Hcfpc3tiobzfGf0uqZ8CdWgchieHYdu12+w157zGdv7azlNyPVUH6v57oaSkfn/De/rzt40f/p05Cu+MemTaBsOg33IAAABk/zsOAEBFUHCy6aqm7K57JQYUUFeAJDax40EGBccV6FdNg1RioH9q15QNfWXI+j7ZZ4c+fsgGvzzoba/3f7rfA066O9KD7LEpII19WrUJ1M6/kgztNd6U0MAXBuzg+w/a6LWjHszwYJiCLqJAeQyyxBtpPdilzmJ9O2NQx+/0rI1F06Gk7dUyunO/71N9HuQ+lsKdBRu7OWsmo/7c+rmJgrKiBIEnC8K6VZti4EsDniRIAbyp/VPW+KhGX89CKUhUahZJ9Fn1l4k+dkoahM/k00G6S1hj1UzIX5T350+1lb+50jtO3dS2yfaGYXTHqLdlvuuNu5Z1R8YpMXTON86x8390fnz22FSroPnJzdawuiEcqmqb2D1x3CZXdHevmtdS59pTg1NW21LrtTeAch7gV1IgJQyULC1LGLQ8rcVrRdU31dtEYSJr6ipcIjxRoMTA5Eyp9sDMxIwHg0s1qmKtKvWforGu3cfT9oI2W/27qz3I3/2SbrvshZfZc1/yXGtrbbM7b73TWp/balN9U3OTG7qOx6Jrla6Lxb6iJzX0WInm9X+93tb84Rp/jzOBX+fDb5Vfg9O+1qU5Xm/TtdeLPlsax1KeKPDfrvi74ddvPRdKTXWNXRqGvzr3r+zuJ9x96pOu8ffCfwf1O6lEenhf1cY7Fk8WhHPi1jDUNuuHFAAAACQLAAAVoeGihizYHpMDHsxQcDQGSNNjzVczKQrw+7gpW77/P/tt8KuDfve/Ak1+B2kqhVnvTFFBdg9SxIC7EgYKDKU2/hVkV60CBajUrruSBApkKPCtJhNUPNBSU+W/0KU768O0Eh2+XgV0YgDdgzBpHEp58kNFwan97zzyLu+jUeBMr5+zP1LQJ+4XH9dliY+Ra0cOB/KK5sGlyd2T3uTGYqgpCA9MlUnNWfg+0LT+WtEiCmIpKKUAVniNjs2prl3Q9sI263xlp3Vt6rL1YThw6IB33rz3HXvjEsvThvdsOHzcY7nw9gvtorsuikscqfuXu/1u6cvCsGdmj9/de6LzTXeAezNb4Vwpjhb9e7Hl3xdXmwHLm66J3u6/gv/xGpMSBbpOqfkhXUs1KNA78JmB0jI+TkkD9R8Qm3ArJQlCUUfEStYOfuXYTWC1Pa/N+yJof2m7bfwfG+2nX/PTdtmll9kD9z9gX/3cV23nTTtt/7v324bHb8iuS6lWgbZzXoBdCWXVIBu/edyv8Upe6Pqmmmvr3nlm1DLw34/we5W2vTQO/zTtj8O1Nz2XPl/5c/47pAS3ahXE36T0nJqWCkfDPnzOh70fntNBicj0nv4bqd/B8DvsCZxjUMJbv+eqPdZU2xSfBQAAqGz6328AAJY178RQzffoTkMFw1OJQdH0vALiqTmi1BSR7lBVp4teA+BgsVQ8IKEYRBipY0gFJlIw3xMGCq43VHlNAgW2qluzJoGUKFCgXX0SKEkwnwJlmqcOjT0wHighoCaQfHtjckDBEP8Vj2MPyMREgd5fd94e+sghvXxB1BFk2h+eJEhBH72fHpfVNtD7KOBTCs6FooSBAnINFzTENS5csUfZhvggCW9fShrE4kEpLarxjPld/mpz+lTq+vkua7myxX4+DD+a+JEV7irYrt/YFecuXykR5N8FHe90fody0T1HTxio7fbGVY0etC3sLiy4I9fef+61wu0F/x4pkFfbXWubPrgpzgWy62Dh3oI3HZSaZdP1Rt/3/AV5rx1WmCr4NUAJXA/S69qg5ZQoCK+ZHp32wLwSD0ocpOnhq4/db4BqCqz+vdXW/rJ2W/fUdfbiV7zYr0Nf+MwX7NqvXmuj9456k1o97+6xxssb7cDOA8esVZCC7EqO6T3VDNfId0f8mjJ9aNq3U9fVdX/+yCYM/Noffw/TtbU0jskPL9OhhIcpOVB6XtO6VKffjPT7od8lBe/Db0hhb8FuOeeW09+Em34T9b7xd9J/08Pv4bEoYV/sL9rY5Jh1h+F4yVEAAIBKcey/ngAAWAbUj4Da1S8FwueXGODwoEJTliTwZodW1HpzKX3/2meFewpxbYep2R3dlag2/lOgNdUsSHc0emfIShS0VFv+nLwd+tdDHjA6WpLgaNR+twJQdZvCe6QEQUoOKBhSXuJ7p0SF7txWomMhVOsiBXi8xP3i76n3So9jQEnbpTt0PZhUdkevgnWTeyZt5ZtWxjUvjAJ+ambJg05lPFkSNkE8cRAeevBKd/LGIJaaGVnxusXVZjiWtX+61lqe1WI/U/0z9vEwqFmdPf9nT5y7fK3/y/WHvw+xpERVOiYX33+xXbzt4uxBsPaP11puXc6eHYabw6BaBerPYaGGvjlkhbsLflevvju5NVkHpUA5XYM90D887R3Id/5Cp9WtrrO62jorDhW9ObRSTYJwvSuVcD3xjoZjJ8Z6PPK9kTkdb5dTB8RqbqjjZR22+qmr7QU/8wKrq6uzL3z6C7b31r2eLO79h17b89Y9XlNACV3VOlAthZQoUPNHfk2MgfbSdKTfkZEfjNjYT8b8d8Cvo0PhYhausaphoD5SHgn+nQ/X9vmJgtJn0PVd1wN9FCUMyuZ5Cc/r90G/TeW/Gyo1DTU2dM2Q3bbhttOfKAjGbhib8/5qiu/A3x7IZh6FOrZWwmC6MG2NYdBvJwAAQKXjLyIAwLKlILuC/gqG+B2PKRiqgEYKaihRoDuqy4L8an5o7KYx7xhYQfdjUeeW3jdBeI3f0R/7PPDmh9QvQmzCSOtWoEgBIgWl1B7+Qnk/AQpghE0tJQbKgiEeTA9j335tRyhqEkl9KOjzt7/4xO+lWg++P9L+0fq13vSeaX+FohoOqhmRgvilJjhiwkB3AufPW3xfAgrylAJSogCUEgSS3ivw94kJAwWqJrdN+p3GD1Xnqzo9UHh219m2Lwx9+/us9596beSHRw8uLid+zJUICkXfB9/fOg5lxyJNX7L9Ertk1yV+h3fTqiZrCMPo3tEF1ypI1M68mg3xpNbYjCfVtnyc5ohwJAXm1VyV+hKpW1tnrfWtVhjJarKo3xhvbiicQykpUF70/VWgX/3JHE3rs1pt1VtWWcfPdNjKp660Z73oWdbU2GRf+fxXbPfNu725uAN/fcAO/uPBUofwouUb1jVk1z7VZlCtAtVs0DUsXJc0TtPzKbGmZom0/d6h81BYKHznUsLi4abvvzdBNC8RoKSBJw703S97XCrxM6bfUi/h90K/RxrXtdd5U033Pfu+sIKHj46ZtiX1TXQi+s1SsqkYBr8GAgAAVLgT/wUFAMAS5YmChqpSgsDvfIxBjRRs92B4TBIoYKKgu+6aV1Mpx6O7XBXgTK9LwVa9l79PDNxrnrZDd1LnVuZs4t4Jb3ZFzV0shLbfEx0KwoR/vt1pnD6D3jdtf1O1Fe7P7tie2jNlDRcfv1kgfQ5tX9o3c9avcSjlyQI1q1RqczrM84CYEga6uzYGkdSEkoJpi+UdJisopXUGPs4mS9uigJy/X0waqKmRk0lOzKfj0XhOo70kDN8b/Z4HF/e/a2H9PSxla//vWj9/vGaMvic6f7XPYykdg/IS5Fbn7I7n3GFfC4OCqHvftvg+HQY+P+BNzRT7sruz1Z8HMJ860lb/AfXn1Ft3c7cNTw/bxLYJbx7OkwSpKGkwPuO1CRSIV8L3WFqe3mKrfnuVdfxsh6162ip77suea62trXb1V6/2/ghGrx/1O9IP/sPRE8bdv9Jt43vGsxoNE+F9C+F9w7XPA+36jpQF3I9F76GkmWpW6Xotur6u/v2HN2GQvvvp+q3tL32W9BnidPlnU/HfDNV2U0m/R/pNDb9HBz54wHb/zu7w5CMg/KQpIaOE74l481ThGA6GgWQBAABA9mcdAADLjgJMHsxXckDBi7KxBzT0OBRvfkjBfgX3Y8D/0MdP3Na/Onb14Hx6bUxIqHhTQGXz1NSEAkLp7nu1sb2QALd/hqbwGVLb/eUB/PCcf54wTu+nbVBzLn2f6PO7XdU+tzrUXPO2NVrdUenz+74I2+37Jb1XfA+f1t3m8S8Gvaff2V9mTjApFG8y5Nx6n7cYhTsL2bq1nvK30HTZY+3DlDDQsnr8UJoiWvG/Vljzk5rtipor7F/CMLl30vb8/vJvfkj8nI1JAj8HyqX9HsqcxE0cb/7oZhvoGbADf3XsZj5ORMdcTc3onNE2bP3PrXEOkFn5ayut6XFN1tbZZuNhmNg34R1lH/q3Q564VMJJTVqpLwCdT+U1AOZTUz9qJq3jFR3W/fRue/4rnm8rV620r3/l67bjxh3eRJAnCf7+oNdoOJoVr1/h183UP4KSEyrp+jcn0D6evjRHp6SGap2piZ6ikmbhmqbaZGveeuxr9qmk3xhd31OSoLT9+qfra3ouTKeSPpv/RsTfjvR7mn6j9Ju381d3hgePDDU5tVDemXY4TiNh0DUIAACg0sX/9QcAYPnQHcpqtkKBbf+lK7vrUSU9n+7IT00I1a/Kmu8p3Tl/DA2XNpQSC/76GCxJd1iWng+ltrPWO7X0oItiL7oDvzDrd8Z2/c8uX9+xeABGNQvStodJTxIoiB95kDe8nwf0Q6nN11pxf9ZxrN5LtSQU1DoWNdPg2699otUeXnU2rfdNwmr8c+om2Lisb0sKHimoFANN+twnQ8G3bCKWo/B9qKBVTBioRkL9eYtPTiStz2m1xk2NdlYYDvYdtL5P9nnwcblb9Tur5p67OmRpv+tYlicIRA/n1TTQYzUfdNmhy3yRxRr+9rB3dqykltp8V9Mh6/9qfZyLStf9a93W/tPt1rCmwVrDMDw4bENfGfKm0xar67VdWZLgGd32gle8wDZu3Ghf/dJX7Z5r7/GgvTot7nlvj9eMOhZ1Btz5851ZYF8JWdUqCGV+MF3XQRUlhk9ENSBUG8xrGPSH63VYhz7fmj86/QkD/41RkjBdw/W9Lpv26/m85/2zhe996bqRfp9C0e/BmrVr7P7n3x+eWBq8A+zxGSuEwfcFAABAhVv8X9oAAJzhFABXczwevFAwRHfgp8RBLP587E9AiYLcipz1fb7P2zs+HnXq6okIJQR0F2JaVwy6+liJgphMqOuss7FbY3MYCrQooFTM2vbXa1uffezmiLR+bV8K4JeSBBqlouREet9QpoamvGme8mCuArHHSkx4UF/7JK7aX5emJQWKVIKauposICZxJB5AioEyFd1ZejJNEXmHn+XvX/beaZz2ob9fWFzNSDQ+qjGbuUirfmuVNV3ZZBdVX2SfC4P21ck0qbMU6bwpJbg0nY51GJcnBTxgGKdLz6X5Ep+7vO/y7PEiqSbM1K4pT3Dpu6PvGKB+MVa+caXVrauzjWHYO7HXOwju/ZdeP0fX/dm6uOSJqb+Dlqe02GOe8Rg7++yz7Wtf+Zrdfs3tNnZLliRQbQLVcDmRthe0Zed/TBSkmgX+3YnJy3Rd0nPql2Mhxm8Z9wRy4b6CTR+a9u+CahiombDTyX+nwnffr99l13D/zuszxenSNSA+l64d/tujEpPN9evr7fpXXe/9MiwV3gzR+IxNTUxZda1+DAEAACobfxEBAJYd3Z3sv3DzSkoaKLhRarpHwZL6Khu7c8wGvjAQFjy+2q6sw+RSckBBkhhw9eBJWJ93mKzSWG1DPxjyOxclBVhTQEmB6boNdT7vaPQeib+PT8SizxTG2oZS0CYsr4BTUnq/4mzWL8E86q/giGYX0kO9LgWMwsifCuurrQnrUSBM7x0DRC4Gx1JwSW1wn6i/hKNRkxy+nrRejdN0GU8WlCUMtI1qHmSxWp7VYvm1+fCWMza6f9QOvv9gnLP8lc7heA6l89LPm3Tcy4sc57Fed/nA5faooUf5rMWYOjjlQdfqXLV3MI7K1nRVkwfK85vydnnuctsZhvE7x+3QvxzKOm3X+RauM2vefvy771ue0eJ36Lc8vsWe9Kwn2bZt2+ym795kY7eNeS2CA395YM4183hUo6zjpzu8ySxPFITz1fsqSN+bdL1MSYNwfVoMJRYGvzjotZqKB4ueiNB3Yd07F54UWbR0bY3XbhX/HPoM6fOUPe/XBv2WputG/B1S0bb2/nuv185bSvRbpf2thIGSBRfcdEGcAwAAUJn0Jx4AAMuGgu/VLbEd/thkjwe19YuXAhsKrivgH4tqCgxfPayXH5f6A1CyQM21lAIlimuGyfQ+qe8ALaPaDeN3zbvDUoGXomWB7qlZD1D43apHMz9mqm1XSTStzxKDvboTVe12a1tSoqBUwiKtz5pbi0Htbs+R1p1ekwJH2ub4XGMY9JzXctDyZftAyt+3pnP+B1gYdVTq60jbo3F6r1D8eCpBUNbZsTpzVgeoi7HmD9dY4+WNtrJmpd0+ebs3A1IpyQJ10Fp+7qSAYKlo/+swlB3PND3/3PLHSZjU8bli6gq7avaq+OSJqeks76C2OOPfm8YrTq6mCJa+/Pl5W/+u9dZwXoM9s/6Zdl8YRh8Ytb6P9VnjY8J5oXNO1yWddqEcq0Pg9pe0W9vz2qz18la79FGX2o9++CPru6/P17P/L/Z7XweL4c0PDWbND5U6Ng7Xb78WxVJKHJxEsiAZ/O9Bv44rgZaa5lr3roeWMFBfDS1PC+XpWZkj7kf/vsfrffk4TadSumbEa3H6fS0eKtr212wPM5aW0etGbaon7OsxfcDw0UhWAgCACqf/7QYAYNnwRIHuyA///FdO/9+vhymooX8pUaA7q0NR0w/jt5242QQFbRQo8WCJAiWa1nrj49L7haLnaxprbGrvlF562GwMxMSEQbGvaHWbj6xd4Hf963NIHJXocSgpQZG2SU0KTT44mc0Pb1ESpnX35BGdDtfGbSmnh2WBIQ+ApYBR+NcZBn9eCZN0Z7q2M33uuC2a9kDaQ6XPEsd+/NJ+1vNpXqD3WmyQR0EzNT+lji0n90/6XcYVIx6rdK6mAKeOrU+nY65DqHMiFYnTpaSBxOf8mMR1VofhWbPP0twTUmC0OJAFYlXTZ35iC5VBHe6u/+v11nB5gz234bl2dxgG9g54U1W13eGio/MxnZNpOlj9f+YmDNqe32ZNj2+yxrMarbOr02768U1W2FGw/f9vvzdltFjdv9ptzY9v9oCyJwpUo0DND81LEKTHGhcPKJt5coa+PmQT9054k0QzUzNW35ntl4VSYkP9PWi/qPZF6/NaPXnS+cpOb5JOnZNv/pfNvmz6rqdrfPre++eI+7g0P15/0+9OepxbnbMdr9+h1S053rl0b9GbwPNkZaM+FAAAQOXiryEAwLJyRBNECl6mcSge5FBwW8HuXJXVrarzTlYXQomItL6jBa593bGkebrjPfG78UUBGd11mhIGB4rW+erObF6i9amGgoRFnR7GUlpX2Taoc2O1v+w0W6+Lr1XgRzUjjqDF03IxQJQCQ6UAkZaJQaPhMHifDCnQXJYwKA8e+XRYXne0LpYHobX9Ufn+nLN/0zJx7P1ULNCKX1rhSZp8Xd4GBwe9zfCB/zpxM1TLhe9HHTcdJx37eIxLAcKyY146D7Tc/CJl077OsO7q6upwetSEw1RtL5l9ib1q9lXZAscweu2ofw/0fdDrmx7bFOegkqz947XWfFWzPanlSdYbhp39O63/s/3W+8He7NoUzo90js45L4NVb1nl45ZntngfJrre6Vzae+9eD7wf+JsDc67HC6XAe8fLO/zu89nx2SxhML8JorKi7462c/i7C/tdOZbBr4Tr0p3j3kROcbxo3Ru7bePfb/SOyY+l/UXtvr2qZaZrsu+fRPss7j99T0tBcS2iEr/vad+Wj1MpXTPS9TeMtZ93v2W3jV5//P5+zmTax9OD016TQ30ZAQAAVLKF/181AABnuLpNdd4Xgd9xX1Y8qJFKCnDHhMHkgckTdmosdRvDuuvDz2b45+sM6zniV1SPVfQeNVVea2DOe0saz4Z/MbCk5lfUFNIcYTnfRgVxjkXLKHAjYbnJwcmsb4L0HuX0nAI+5RQM0jbonwL0KSiUAsV6by2joJwCYWF8cPKg12DwoJG2ryxh4PtGz8dS2h+LpfcNLy8lBdJ69Tjud58O/3y5eIyVxFgo9adQ054Fs9UG+aF/PRTnLH/tL22PU0HYl6XjW17Kjnk6L0qP9e8oTRHpmJRKHLR/w6vs+q9er3c7Lq3bz6VwPBW0w5ntonsusrM+eVZ89NBt+LsN1vo/Wu3ijoutKww3jN3gCbxdb9zlfcF4clXnoJoBKoaTLl2jkrBI8xObrfHRjZbbkPPzqNBTsPE7xm3fn+2zqf2LTxSok/au13RZsSdr016JAhV1Iu/boGtlWfFgvErYxlNh8EuDXutNNZ969/XaBZdcYCsuX3FEs0SqJeV9Oeh6GfaLrmnT/dPevJcSJFO7p2xy96QXf7w3lANhf2gz0/c7JhJKj/Vd12fStUDfzbLreroeax9rXepLYilTE0raXzrG6m/o/GvPj3MAAAAqj/6kBABgWfA7yxUvLi8axWCySqn5oZoqTyyoveKF8NfpjnoFqct/PeN6vejtU7A0vMfkjkkt4fPKt0HFg62Rpot9Re/Us0SLKxg/37wYVHlwR3e6qjmIkvnLzgtg+Wv1lIqCQgrEqSg4VDbtgbBUC2KoaLUra0sJEd9G5Se0T/W5FUxKiZSwTbrDdbHUl4O/XvtT76F1psfaj5rWrlEpm/blFkjtotc01FhhpuB3lPZ/pj/OqQA63uVioPNYpXQelAcRtQ6NYtKg/LjrPFCSQEM4erZzfKfd97z7wszj0/dRr1dRUy84M6mpoIvuusin1YfAqUgY6I75zld02qYVm+xxYfjSxJds8OuD1vuhXp+vRK3Ow1LCIFwjPFivc7JM0+OaLNUo0Pd6cuek9by7J85dnLYXtnmTPQokp0SBkgSeKFDCIm5DaaztidvngfhTRAmDsevHvE+VO264w5qamuzSJ1xqG969wfIX5j1RUN2c7R9tiz73dN+0J0cmdkxY4c6Cjd0y5nf+qwmmoauHvIx8N2uOya/38fvtn2P+dz1O+/db1/2wb9P3VH2+7PvTfeHB0jZyzYjvq2J/0fejJ90BAAAqlP7UAwBgyfMAkZrtUbx4ftFIQWaNU6AjjBT8VyBoIUoBa60mW9URyoMoCt5MbJs4ctn4et+e2TAdi5q1KK9doPkeqPEH2ciX1bSWny0L8ISxioJZuXVZsmDO+iW+pjwh4UGu+FovCsYpKKQgcdm4FAgLj3XHam5VFowrJQxSoFibXxZM0vpOqkmH8FZaR/m6S9NhvaV5+oxafSwLTUyoySfVFFGzTVPDU96ZaEUK+ywd23T8vaTpo5wTes4fl0/Hc96PSywpUTAThjsuvSMscGJeKyi8Vk5Jfxc45bZ+dqtt/c+t/h1NGh+bJQxONmmw8f0b/Q7+Nd1r7KowfLT4URv+/rAd/MDBUv8C1a3V2Xmq81EJLF27Yg0Dfy5tTzh9JrdPem2tyb2TXqPgZLQ+p9X7KVA79qnpoVR0rdb7e2KgLFGQpvX8ydRiOJ6hbwx5U12F2wu25849dt+991nP+3o8qO1JNn0/tRsmZr1/GiUr1O/ByPdGbOSHoVwTiqZjGfra0OEEqb5qeq1+U9Jnmfc9Twl2/37q+67rbUuNDX5tcNEdyz+S1v3Z0TuKVr8FSsao1oX2oZpoOue/z4lzAQAAKov+3AMAYMnzQEb5nfhlk5r2O6DjdCq5xpwHgxYkBcH12riqI2heDJzm2nPe9IM/XR7UTo/jL3DaLgVoajrnBbvTppW/n6ZVUiAnBs88gDY+a3Vr60rLl9adPnsxvG3D4Z/+ifsm/Ln0el+HgsTzSwrKhTIzNGO5tblSAL88kO8BJRXVwohFgavF8uMY9+OcRIGmNU+7SfPCpO/LaKEdUzZc1GA1HTX+2pmRGW8bvCLptFDAU8c4HNvy8yCdX+kc86IAYpxXCibGUyud4xqXD9855zseiFsIb0ZKhzMUBXtxZrnghgusfmsMDOs4iY5/KE1XZknIxSYMPFHwsg7rWtllZ4fhMxOfsaHvD9nBfzjowe5kZlgnXfgXr0N+Pio4n0p4XBIuA+pfYP8798cnFmflb6y0lb+50tuxL296SOekrrGlbSgvZUkDddTt19ZTTLXgRn8Syg2jtvNPdlpuZa50Pdfn1zbqvVuf22ptz2vzzo07f25eXzhHUZ4YKF0T9FnKv+N6m7Ki38KGCxrs4N8ftOYnNHtnySvftDLMPHOoWSuVje/bWCpKOqlGxvr/t97W/ulaW/O2Nbby17PtLtxR8EST9qGavaJ2AQAAqFTZX5gAACx1CmAokByDjS5NpzhSGsfnW9tabewnY9lzJ5DueC6t42hiEEUB07qmuqyz4bQNZUEWn46rc1pnKDVNNdZwSUP2XODBmjjPA/5xurx4UCcGclW8ZkFat+ZrHZGWnR9QV9vwKcjl64mlPGhcvozXLIjNfJQ+Twziz0kYhKI7Xk8q6Kv1aT+qlCcKysZpOu1bD1bXhmP67FZfxfGoCSJtW3Ey69Ry7LqFnQNnkrafavMaEqt/d7WtevMq6/7f3db12i4PDqpPAgULj+nwKVE6rqUAoY5/GqdzIQUSw/mQzrN0bpTO71BKCQN/wuzGn7lxwYkCNafiyQKdnnrLkZM4b3DanP+jeW246xwqKzonVMNAFpow2PRPm/xcbV3Zau1h+OH4D71GQc97e45oFmz89vGsBpDeS+dlTBD4uappNbGmxGfkyYVFUsJj0z9usqYnNNnUvqnDSYKYKNC4lBTQ+Bhl8sHY/Nxp4B2xf24gSxQ0VXtCVr8NSmqoJtuK167wvlgU6K5dVev9N6z783UeGF/7jiw4vvr3wjXjLats1W+tyo6fdlUahzLnehCOa7relkq4LufW5+zgRw76NUh34uu723RFkwfiH2k6rzZ/ZLPXNFOpbqkuFdWG8Oe1j9prPWlcu7rWk0NKGk/umix1tH5E8h4AAKBCzI0YAACwVClgrGRBokkFQFQkjSMFNscKiwgSxyDmHPPXqcB5NDE84e1sewBV2xaD3x7g1uOaMH14caeAj4IXkoK05UkCTadgbSopqJOC+6u2rvLX+7pTibTcnH0UKNCTgsIpSOTvq8d6D41VsyDWLtA2KlmQPlNprCB+TBJ4Hwa5Kr/rVcGzxfJ1aDO1z+O49B4xYKVpdUSpO0B9ec0L+1rNdRxP+0+3Zx1h56q97fHC/VkHqGey9he1+92vukv27C+dbWd95izrfGWntT6z1eq21Fnd5jpruLTBWp7SkiURfq7Tm1C54LsX2DlfPcfv3l75xpVZB6iiQxKKn0/hmHqQU+NU0rmg5ECc9nEo6Tzzc0PnZpl0roY5duDqA9b/2YX3A+HfD50/4Rhq3Quu8YPTSsmoc79zbhZI1ncx0aHXsdYxj0FmPzei4yUM1OfBln/bYm0vaLOmVU2WC8O24W02/L1hO/CeAzbwnwNxybkUDPfmqfTeGum81fVLJZyjMxMzfo6ma+5iqG8CfUf0OtWGKk8SKOk7P1FQCqbrubLn1RFy4Z5CXOvpUbchXL9aw7UvXid1bZ4+NG0dL+/w5ofUUa+SuqkWhO8v0fHTS+I1VMeu+SnN2b6M32cfq+h16bdFr9PPkvZpvCbXNNd4nweexAnXUO8AOuyjmrYa2/zRzbbmD9eEBR9eet8t/76llCTwxMC8ouYBvShxELZVRUmDuvV1njxRskBNSCnZpMT6ud8K5z4AAECFWeSf0gAAnJmOCBApeCWKlcQgZnqcpidGF9dUhK9nvrKnFGRJ76fpOe31a9sU0FZQVMHuGHjxIHhcTIEwBcBF7SeXtlVFnyeVsuc8mJOCuuE9X9r40tL6xPeLT2Sj0n6JUrDNn9d6FPRSSYFhBYxSsiAGxV7S+JJsfaH4Z4mfywNKShQo6BueV7Jg9McL60C6nBIAvv60j9J7hHFpWoGymJRIRZ2Znkj9WfVZ3xBhvUoWDF89HOc88tqe3+Y1BNa9c503IbL2T9bahvdssJZnt3jTTwoIjt045ndYT2yfsKm9U96Rqe7CV/NQ6n9DwUK1uz3x4ISN3jaa9ZsRPqs6olXNg4u+f1F2nkoKBmpcngwIj9M55Y/TuRHPMX/9vPPIz0eNFIAMw45f2ZE9sUAK4Pnd0urINpxnJAseeVs/t9U7z/XrjK596ZjHY52uQ6VzIvzTnezJ0RIGjVc02oa/Def0s1osvzofvuZV1tff5+3o97ynxwa/eOwmwcZvG/dzu/z9/ZoUrl8K6vt1SwFynbdB9691+/h4Gi5rsPV/vd6an9zstYzKkwT6XnmiIFyXS9dFvV95KX+uMHvK+yo4GgXC/Xob6H21fUp4Knjv5Qcj3iGyOjX2a0X4LfESrgVqZmdydxYQ175ULQg/dul7Hkv6XOXHPP1WqRZQz/t7rPlJzTb87WGvmaVOlLVedRCs764SmNqvDwclns761FmlBIHXIogJgVLR46ZqT3L4uClLHOg1Srxo7EnkfLUnDPQZPDG+Lmdnf+Hs+E4AAACVQf9b/45sEgCApau2q9YDBR5QVkBeJSYQSo8VwNbd/robPVfldxQOfP7od7HO54HM5vBarV/B8Li+8vfzdddnY92xqM4odcdlCqarlALg6fVhXbrLXduksdpLntyRBb0VqPA2qRUX0qjsvcrXl95X67it/rasKQW9r2bXVR8uYV0KKE/cezhJona5VVNA6/D3iaWUfFHRZD57vdazbdU2mynM+PukbdC2aR2lEpZTLYn+Ty/87vIkf27WJE11bfhcMfHgyYGYJPDHYX5NQ01puxQEGr1+1EZ/ePzkROerOr2pJ71OgXZ1oqrP8Uhb8/Y1fk7qjmDdGZyCj7rDVYErT9YoWJ+SNqmEx3OC/inIV/5cfJ3WPdkz6e2pe5AsHCM/djqG+hfH6ZiXimhWOCdKJR6TUtFjPR/Wcfcv323D31pcEqbr57ssf3HeaptqrdhX9A5YPWGGh53u/N/4dxuz75zOhXSOlE/7v/CfefScricpaN7xsx2lJoXUlr4SYI2XN1p9d9b3QaG34J3vHnzfQdv0wU3+PVbQXtdyfT/n093eCkTrfTwpoMC2vgc618Nb6jxU8FvbqPNR7fwfS/tL2m3FL67IXp9qKKSiTo1Vi0G5Cb2PNiUlzOJj/67F75vGarpIzQSdbjo+/t3VMQjHKH3XPPgffjv0vVHtBrXBr+0Zu2nMxm8e92ntE/02qKmdYm/RRr4/YrXdtYe/x/E7nI6xX8ubQgnXSyW/dc3VtUPJFH3e/k/1e40OT1gqwaJ9Fq45uibXdtZ6QqG874lTSU0Ndbyyo7R9pd8oFU3H36FU0vmcPpufz0H6zHqs5okKtxay61l4TuvQc0qancxvGQAAwJls7dq1ceqwpqYm/1Mp/MULAMDSVn9OveVW5w4HPRQYSHe5lxVvfkB3HzZVW35z3rb9z21xDcfXcHGD1a6s9eCBJxtiwqG8aL0KLChRoLsUFSRTsMrn6/1rwjbFxEEKVvj6YoKhqqHK23gf/VEW4NJduGp72gMd6T3L31fTYb2eKInvq32gZjR6/q7H30/BNQ+mKKDeUWOFuws2+OW5d+8qeK4710v7Ka07FN8ufbbOGg8qaXvqNtZ5Uxh73753zufyuzXje3lgKWzP9tdsj++ycLrD3tehBEjaFo3j9um9/PPoLlHdMRo+o7ZfbZ0Pfun4nRXrLtGmJzZ5IqLwQMHuevRdcc4jZ8XrVni72bo7t/Q5Y/LHp9P5EqRAaIkmFQDTMdC4Ko7T43ljJcd0HOvW1fk54+deDATOObfTPp9f4jFIxzidv1pe+1Tbc1PrTdm2LVD9lnpvUz1/Xt4fK7i5438trmbC8SgRo6ByumtcSZO+j/XFuSinu/79mhHKnHMiHWNdi8J5oHPJz71QSuenisSxAtSJrjlq5kfXDnX+roD7VN+U35ne+6Fe+8C3P2ADYegPQ18YNB4Kw2gYJsIwG4aeG3ts15t2+THUOaPz2GsVqE8VJdHCtF8fwrbp2qPzWu+jhGC5/AV5b65LTc+kJFwp+K/Av4qe1x33urM+jNLd96VkgZIUZckCbZPfvX8aOjaeTx0K67fC93u4Fg599aEH4/Vb48d83nddtbC0n/XboeuF+iVQB8vq60fXWiUMEh0T/20IRf3C6JqsdW57xcJ+YxdDtQn8/EzXrnBelmqa6Rql653OQx2ndOzCWMeqdBzLEj1+HhXCeVSYzWpo7ZnypIx+x/W7r/VObpv0a9P+d51cx9lKnOi3ds4+TiVssxIt+n0mKQEAAB4uV1xxRZw6rLu72//UBwBgyfMgqQI7KbiTmh5SiQGDUpAnBoFqc7Vh5gLFdc1Zb3lJ75HK1KwHVI9KQYwwy4M95ePaquxO8agU2Ijr9M8WHvu4bNrvhFVwKyyvu3LXPXtdmBHpveLYAyh63Txq3kPBrvRZSoGUFEwJjxXIUCBFRc3hnL3hbMutip0px21XsEbBK0+IhPdSkzkPiXZf2j/xfdJjDwjFIIvGChqdKFGgNtIVlFcNDgUYF9r57umkjojVEamaUCoFrLTPY/BT+92L2k4fni6NvaipDN3Rq+ZSND1UNk/L6vl549K5Wn6M03HWOD6vu4P9/Cov6blE60pjnTdVs3b3E+/OnlsE9bfgya66Gv/8Yzefmg6n171rna3/y/VZEi8m0hQgrt9Uv6AmaiqJOnhd+3/XZsc/nQPhWPu0rj3xHEjnSzrmftzTtUml7PmGyw931q5mtVQjoLat1orjRZvYM+Ed9R74qwP2t9/+WzsYhp4wHArDYBiUJCiEYSoO42FourTJzvvGeXb+9863rf++1fvxKPYVvakzXW884Brvctdd82pmrHT9i9QBuvr70N3xpWaH9J0Ky/qd8Xqsa136PqiUT+uzq7ZOfM6nw3dVCdqHI1FQoo+m656C5KdC+m6n4xiP5fzfOyX0FNDu/afeOYkCUdNnEztCURNpYZ72iSy0w+uF2PTPm7xfAm9CKCaLPUkdE1z6zfVEphJc6TciFT1OSdA0Lz0OJSU+dS3SevX7pZoa+r3TMVaNmdb/0erNcymptuKXV8StOpJqIqz+/dW+vZv/dbOd9YmzvE8EXe+VDC8vOie1vPqUUefT533vPE+GqL8QAACAR8Ip+gsTAIBHlge1FMCZDUXBqxTgmAmjGMxKgbD0XEPT4WDWifjr4jqPeI/0nIJHMeCipmTUDrbuFj8aT27oX0wUeBC8tso/Q6IAhXfaGdebAnfpc6Tiyyi4HMvoyKjfPevrVbAslfDYgz9H4U3daN3pc+lzKBCm9wjvn4JoCuaq3L/7fmt6bFMpkO/BurKiGgZqBmOxVIPDEw7aH6l5CP1TgiBNzwvyaL/ND1wdTb3uRu6o9fXoM6jZokeaAlAKYCsg5YkCJWR0HGOiwJtDSYmC4bDvFdDU80oQhXOldFd1KJpO69DxUnvrnjgIxzaN0/H146pzTcc4BT3D2J/TuaZplXj8y6dTINFprBKe013iSjwtVtsL2zx4q3NTTc+M3/TQm3JRZ9ClmicKKKo2kcYdNb7P6zfX2+o/WO0dQVeyrtd0eT8Z+h7NOd4ax1K69qR5sZSOvSZ1XUmP0/kRivoEECXEahprrDiSNbPW9+999mu//mv21pveatvjsDsMB8KgmgWqVaAEQUoYTE+F878Yzu2wDRoXR4ue+Nv0j5vs/B+c72PdCa47wrVtClTrfdQcT/cbuq3hogb/nE1XNmXfFV3P4nfEv1Mpoabvlr5P+i1J4/klff74nVHSIQXGHw7+3oHXCgrX2VPBryP6bDreOn5lx7D8N0PXl+5fPvZ3Rn0iqFkpXQeKfWEHhev1MZPmi6Rmh/Sd9u+1arDpu61xShSoKOCffofC70KpdmH8zUg1Y9LvhsalmntpmbAO1aAb+eGId7qdaox4nwy9Rd9Hqj3R9pw27ytByQsF9zf/y2YvWz62xc859ROj3xtde3Ss/DdYJdC+9vMvnjs670SfIbc+Z81PbbbuX++2ix+4mD4TAADAw+7U/PUGAMAjLfy/toI7pUBHLB4c1TgFQWLgS0GQrq6u8MQC6bXhNWm9HkSJwfVSgF3vo8cKBEzOWNdFXX4n4jHbsdavcCweDFeyQNsWqXPK9Jn0fOkzpKL4lD6PgsMpYRDee+S+EWt6fFMWDFGpyQIVvv6w7NEoWKYAtK8zfQ69ZwyOKTCmZVLSQEkQdbzr61XiQ7UJ4vv5dH2VN+ewWAoa+/amfRMmy6d9Pymwk4qCPS3V3izGidSdVedNVog+x8l0vnwq6dxQ55r6bL6fdfxC8bujwz5W8Tuew7b6vHQOxHP4iGntbj2OwUwvab06RxSQCot58E/LxWNbGofiAdCyx17i+n1++Cd+zqfzJBQd991v3p3NXATdSVu/td7qOupsenzag7sK0p2sje/faJv+KWv73pMDCi6mREEcp6RB3do6U+Jg5ZtWxldXjpZntHib/aXjqu+9zh8d/3Tcw3kw53zSeVF2LqiUrkVhUueVnxfhX7oeaqyEgToSLw5m/aX0frjXXvS2F9m2ODwYhl1h2B+GVLNgLAxKFkxNT9n0ROzDI5SZqfBdKN+eMFYAW9eaFf9rhW39wlY//uqE189PnffhWqzPqtpH5d8pTxIoERcTBp6AU5JO37+yBGwpIRe3oVTCe3sibiCct3cXwod9ePh+F10PwzXwoVCTRrrjPX0+P976TqcEQdlxVLJVzeopoH0iCoLrdbouaHnV8jlZG/9+o23+6ObSd9cTBGVJAm+SSb8FSiZr02LtNk3rt8R/k+YlDdJvx/znPHEQfiP0O9T5c51e+2Xo6iGv7aSaE+qLw2txKTGr80LnTNh36VikWg3i547Or3B+qG8gJRtUm02/6+Vl/PZwpt8xboV7C9l7xFoZer0+Z9NVTXbBTRd4U20AAAAPB/0pRQfHAIAlT0HB0v/sxzvQpXQHv+5SV1HwIt5duPGyjXbfP96XLXgC3jRBS3idgg8KWB+leHBCwYdYpman/H/41emu9wmg5WIgPG2LB7vVwXGYVoBiflM6uRWxk+PA3yP884CIaDqOfV36/GFdCia1XNVig18dzNp01h2o4TOrKZZD/3Iovmgu1YTw/hH0Xlqftk/vF2laASTfd2F9er+LLr/I9t2yzwMi6X3SeylQ1PvB3vjqhctflD98HPWZVMI+8/bww18t+nwKEOkuZb2niu7M3/6LJ+4bQXfE1p9V759PwZu9f7A3znlkqKNXb1u9vto7WVbNAae/znQM9J/E41Hx8bxpfzwbHsfpOc/FQF8qxf3FLNCm4xXPZT8f47lVOsdiKX1vYtG2+TFRgE2vj2XkuyOLPt5qgqPz5Z3WsLbBpienvfmSoW8OnVSNFNn0oU2lcyIVnUvpvPTp+Jm9aDqfjRsf1XjCzrGXk/qN9Yfvwo7fsfJSCrTG86P8fHBxNOe5cjr/0kJhWk2WjV0/5jUKWp/R6nf6D4dBiQGN1eyQkgMTYZgMw9TMlNcg8ORADMx78F/jlMBIwW09F5McSgaoNk7jZY2ePFBNlZnBsB4lyrRMDIr7WKUQx1pfTISkpElaZ0qk+LQ6PI7v53eGD0z7tdOD4w8TXac9oK3kV/guq0bFYr8z7T/dbh0v7/BmcZoubrKL3nCR7frULj8X0vVA0zpHPCgffheUYFLSR7UzvNbGMWrNifq4UZNFSsgpMaffiMEvHL+ZuKPZ+IGNWXJPSb+jNDfkvxPpHI3naen7rfNSp2D6PPFx6XmV+fRcOLye6AivUX8QSnApQaBEgX43ZkdnfR2eYI/nT6lGVxh7La5wTqgj6am9U17bQjUTPFFwX5YQmNgWp8PzGitpoOXU8bR3aq8aB2E9uobpONetrvMEmK5TSmAAAACcCsfq4JhkAQBgWdD/zNd21npQ0IMDKRIQRnOmY6BTQef+qawjQd3NfCK17VkgPQVT/D0UVNOq42MPkGn9sSiwpPbYFSBTQFt3tqtdeX+tghcpUaDAq14Tnpt/h7wHSppqsvXpveYXva/GmlTgRAHRsL6tT9pq+7+z3wNbHvDRvHyVB3WPRYEJfU5tR1q/giKl4Er6fHqPULT/Wp/T6k01eHBW7xOL7pI8meBr/ty8v760b+K+9MBlGHvwREEjvV84HmrmYfC/B23k+8e/G13tQavPglx3zoM7ulO0/1OPXEeS6lDUA2nhs6iDaiULFCDycyEFabW/w6AApsaJJwFEQS0tc6xEgaZTsiCO1W6/glEePNc5mN5L/zRO55Mep+Ou50QPtX3xfPXEQXi9jsWOX9nhga6FUjMea966xr8XOs4T+yZs+BvDdujDR09mnYjfeazgoc6/NNZ5lJIE6RwKxT9PLL798XxT8mbkBydfq2Ep0X5PiZI5JZ0Tofjx1TkQj79Pa6xlNMTHfo5olB7rfEt0LsYFcitznnSVnjt6rO6iOm9mSAkCNTVUnC7a9PR0liRQ0Z3bCuLH4Pzxxj6txIESAUoihGuvzkc1N6VaBVM7pzxAqxoDHvBXgFe1B2LCISUEysdp/b58mtb76T0mYq2C/mkP8j6clGD0a2A4zxVI1j5dSC2pjpd1WMfPdtiK167wGgXtF7Tb1gu2enN8e3bssYEvD5S+Jzpk6bue7uJvvLTRk7l6X12ne//52MlBJb7rt9R7/yCa1v7s/+TCr7fr/2q9tb+0Pft8qdmhlCTQtT8U306dm9pWnZOx+Ommou93OCf9+ThOy6bXedEonbtBWDIc5GxaSaeR741480OeILmr4AkB3f2v80vPlcrObDy1O5xrD074eaHH+tyqXajkihIPXmLyQE0cTT4YlgtF83UcVUtG8/Sc/qbxa1n4/HWddVZ/br21PrfVDn3k5K6TAAAA5UgWAACWPb/7X0GE+D/+HiCI0QCf0vMKIMSAusYKAo3dcOImbBTw8P9pVwA7BtW0ag9EpGBEel8FXLT+sNyaK9bY8N7hLAhfX+WBHgWZ9BoP4CsYE4Pik3smPXhQTnfGKsjmAc3yzzWveFMw4fPoDnyNh0aH/HkFNfQ+ev2Jmt5JtQs8iKghfi6nUZxM2607eNW+sppyUXDE908oOg66A3WxHX4qgKx1+WdN+1DjslK6s1QlHGsF2ne8bkdcw7HpTtrmJzV70EX7Xwkc3en8SNHdwJ6ACp9D54Q3b3EonBfa99rv2tna3ynYL2F8RKJAC2kZicuWahSk16ZlYwJBza5oH/tbpHNZD+PYn9dxD/+8iOZr2XhMUrMeel7BvIU0QaQOO1MwftMHN1ndhjpr6Giw8Z5xf37/X+z3eYvlHZ4qcNpQ4/vPg4k6h/R9COdqadvLPmep6Hl9h/Q9DK/xhMEJEk/LgWo6+bUyHsO0f0rjUPw80Fjz558PaRyl60R4pY+dzrt5alfWetEd2sN3DHvweWZmxmamZ0p39pdqE+gufwXqFdCPQfpSsF7TZUF8H8dlS0VNCo3PeKLA24F/YrN/53WdK69N4AmCmBzwbUjPp+RAfI807euNnYnPv14/HPSboH2YroM6z3XHefnvmM5jPdf6zFbr+JkO63p1l9cIaNjaYF0buqy9q93GRsfswO4D1r+j38bvHreZgewz6RzQMfffkvi90G+QaoPobnp933WYD77vYHy3I2kfq88e1S5QwF+Jmb6P98W5x7f+r9f7722qOeFND+mzKlEQirYpfY9L4/DPS3issZ/D+l6nefOeT8v7MvHcLQmH24Xrp36zB788t0aEJwkU3L+7cLioSaE7Q7kja1ZIz3k/B2G5xdJvthJb6vdBv9n6PfXtDNe2fHvemjc2W+srW+3g3x97/wMAACwEyQIAwLKn4IIHMxXw8khA9rxPZxNeFFzxgEP4p+C4Atsnoru+PZCeai4o6BADa04jldkw0vMxoDo+Ou4BcDVHoPm6q1uBdQ8AaFtj0bYXbit4EG0+T4I06031T28SaFRWPOChRRQgzVV7MKztGW3ZXf/1WbBFnX8qkHE8WlZB7NK6tc7ygIoCKOGz+ecPRU0tbH7uZhvaMeR3XGr/6O59NTmhAPhiND2uqRTk1T4p1SyI+9ODRekO03x19j5fHlxQDYYVr1/hgSv95aOgvAItC+kU+XRouKQha14qBvtUtH91F6p/9rJ97YHMIDybBbFiIOtYNQdKiYK0rKZDKSUZAh2z0vkUz+N0nNNzfuznFT8WOl81DsVfE167/137T5hwW///1ttb3v4Wu+/i+/wO57otdda0osnG+8dt7Kaxk+rvQNTBaEoUeJJAAXB9B3QeaVvLP1+a1ucJj0vP6fNqWudceL3a2F/uCQPVMPF9FT6zH9u4b9L+KO2TNI7nhtM4lrCkPyWl80f/0bmXpHOxTG13ljAYu2PMGs5vKLWT730exHNWxYP3MaDvgfqUJIgJgVIyIT2nJEAoNhkep9oDGg9lCQg1e6W7vHU9TsuWil6vxIDeK06nRIE/DkXv4x0hj4br+P0Pf6IgKV0flYBWk2zhO9D6rFbvdF6J0ZYnt1jjoxv9TnTvm6M9Z7mGnH+e0b5RG9w9aIU9Bd8X/Z/pt75/6/MAtdfO03kQiyeGw3voedUsmDow5clNHeued/fErTlS/ZZ6a3lWi9csUJ8Cxb1Ff58T8USBkgRlTQ+lWhR+bdT3t/y81OPwz0s8T31efKyxn8/xeT9H0+ujdN76ORqfDkuW+t/In59/xK4HSjgoOaHrmX67Zmtn/fe5bUWbNbyw4aSa+gMAAEiOlSzQn1EAACwLCrZ6h4MK8sQ7Q+cEmzStoI8CQ1omjOvX18dXn5jW7cHbtK607nmBLQWovA3jsPzUwSk75wXnZEGN8DoF0BVkGv7W8OGgRfinYIg6OTwa3bHo7dnrPRRU0/vEQFb6rD6Ondjqvb2phKEpDxgpyKDgi7blRBQwKvaFHRc/k3/W+J4+Hfaft9OtNpVju8rbv7Ldzn/N+f7++px6bwWAF8sDl9onYR2+v3RLg/5SCWMP/OqucQWvFDRSQDh8pgN/ecBfezytz261us11vg4dcyUJFtIh8umiIK0HRtP5MjZj9efU+93CHrBK+13nqgJWmi471qU7nDU/Pa/pVMofh+k5rw9FzVyUnp//umMUv7M6jErnRSy6A/hEyTY1EXT+r59v7/3X93qQVomC5pXNNj407nfk+nfhJJz1mbM80eLBRCWRUiIpjBXg9HPmaCWdP0ooaLlUG0HJqNZqq9uUNZG0nOn89+Mq4TjOOd7hO3K8Tn1LRY/Lz8dQfF26XqiD3HS+aDx/OhQFYaXvc33Za3SuaxmtQ69Py+tx+Tx9b/R+2k4lA9J1T/0VqA352Ha8X4PL5ilZOnLNiK168ypPTPr88TB/NMxXUQfuai9+aNrHPh2ub54cCPM01rVR171HMlEg+q3TtiiQrLH2hfaNalqpaTZPQIZzXPTZJw9N2tjuMRu7b8wTyL0f6bX9f7nfDvz1gTm1zfR9LB3neH3yx9r/4TqsRKP2m6YV2D8Wfae0HRrrN24hnd2rE+T0HS41PaTvsjowVnJSH2d+EY31u5GC/vE3w8eplP+WxN8XXQtKvydpOl0fwnUhXR9UA+qRpOOj49X3H302fue4je0bCx+jxlY+ZqWd++1z41IAAACnjv50omYBAGDZ8OaC1PSIKHagAEKa1qA7DBUoiAGCx73gcXbX39+VLXMCCnjojlxvgiXdpVjG1x2KAiu661PBCb3XwN4BbwJi5NoRv1NQwShR28VKBKjJCAXnxm8+9l3//rkUACp/X43iR/XxTBjpblN9vrCcglqXvP4S2/utvX4n+8EPLKzZAgXTPUCidWq/xc8lYSoLEIb30vuk91UHpWrmQ8kQv0s1fLbFUN8HHrBNd4QreJNqFoSioFEpKByW092yA58esNEfnbhWQevzWq316WH9zdUe9Bv68pANf+fkAtSngtpR9yC1AtYKUOsz6zOG46v2rj1AqkB+OI+0v7V/S0FWTZ+o6PRK4/S6WKpmqryzWSWy/PjpXzxfNO2PdazLj73mhXM+HY/UBJFeN37ruB38x2OfV+d84xxrvKDR9n9tv5+Pxb6irXzKShsdHPXA19DXhzwItlhbP7c1u6NayQHtQ507ofg+VWfY4Z9/V2Lxx+lzxnn+GdNyZfvApxuqsvbKr1m+NQz0Hffvmj6vjnn67Gk/aL/EcyHNLxUpG/v8qLSszjnReZcWLjsXRbW1dF1VvzH5s/OHkwSheIBa53A8n9N1p/ScSkpUKLExv8TEgTcbFBMHxf6ityXf/NRmG/rKkL9HKSh+lJLex9czliUepnadOOm6UE/t6rLzm5u9nNXYaA+MLTyJqXb0/fiF/e2/Z/pOhmOm/eHJknCtU+0Nba9qlA1/c9g7vVenvWoeR0nfo/HaBXFdKemmWlzeCfj3Rw/3tdJde8w72+tVs+BpLX6t0aEfvX70uP3lrP3TtVbbWpvVKIjXeX2/U7Kh/DtbGodz1U+r9Fyc1tj3ibZf41TS4/T6MJ2Wdf4w/Ceemz7W+Rae0ucZvfbEvzWni5qe0t8H2i+qqVhsK9rWhq02sXnC8o/Jn9Q1FAAAgGaIAAAVQW0l13TUZIGEKAUL9D/9/lhBAwVZ6qqsZ6THcutyC77TXHduKihZWte8dYsHHER3MSowMWveHIMCVQrUzKeA6/ESBaLAkDeDFLZZq///7J0HgF1Hdf6Pdve9fdubtOpdcrfBYMAUm2IwJRgIJSQ4oSSBJJBAEpJASANCDfmTAEkghJYAoUMgEELovbjjgm25SJZVd1fbe/uf37lz7s572pVWtqo1331HM3fufbdMe6vvmzmT3xeEfYPeywi/YANjA+bWAaIGlxOLAfkB2QZxY68CAaPw9yJktKndi7zU+yCAmE/rwRnZ/Ze77bwjAd+1Ed6BODejjDT0kabuboPn4v47/2Bn+Pah0fEbHeb6h+tBuux/z35bUPhEABc3vIOR2oWM6HaiDzdJjBiGVDeSErIKg7AK8bL1CA5lC3zf93HLYkQg9ZOPE2ghjMk0Ox6Vh5mWOeWy+/W7bWHPSix92VLZ+B8b7X7MMqF+UP+px8XziubTG6Gg59+PfKHOzV/YnIkEGAJBmBngeep10t6BdhC9W+V7Wqgf4vk5tC3eUfPHXBI9QAUDSEcvV3t/RZ5ffMgLzyevC+E8A/sR9OwQC+fH8Lo3D+hTcQ2GkFq7qXZOMICkh7SPRIOcyI9Hvvu+m/ZdzNaxWWZBMLAZCMwiGJvJ1mZpqzFxc+Dr2h+Ha9vsGY97G5rUqF7LxAa9trmTux94dHu7PLi5WR7a0iIXtbbK8mJRltbWSkehYOEj2tos/UI9BwHhxsFDi5r0ZzbyX9+N92Y9EgRHZghAbmN9/9UnI9eOZH3LAgJBDHORp+Vu/VMxM0j/+vPrZfDbg9L3xT5pekKT5dFCAjTrwzRcpP/RbK+28kGcXeg3duXfrDShwATxSCww0T+0Sa+P+b7XSepjdE6eHuIWxvEQWhsP5+XnV4L66n2nZpvVlRMMfhv4PbeF/dv75fLC5bJr8y6pPbNW+j7fF85KSEhISEhISFgckliQkJCQkHDaAMLBiFBIAEDgpADQ//yby4GaJUYENT6sUfq+sLj/aNvCi42Zz2YjEfJbcIMsDiCWIDDcIEqX/dIy2ff+w7vNWQg2epp3c2JEwXPYvUMcYsYeJRC6jC793St/V37y3Z8ccnHjGIwgxW3PdNd0lk/cI9yz7F4T2ch3O1YlRlI9/5nPl3u33ntExEXLU1uM+DWyl/tBXvpIdk0zoQC3FIEgrl1XK3vftNdcJi0Gna/olOKaohE+zHzY84Y94cjxR3F1MRMInHBHHEEs0HemzpiooXXXFsZ0sgp+DyJTLXYPY6OqKW+OY3quEatOcPn354mTD1aPvVwh1/lQryHcvI4Fs7KIxAL+gqQsdr1ul55QjtVvXi2X/d1lsvO6nbYALAQXBC0jyI2o7azJhIIPHblQgOshG3Fcp3kXzyjQPLMFWUNd9Hcw492i/fj9PLQ0iHJ/fzZ9X+pj6ZzSotbFONUAAZyXKXkTlz1h3O7DMQOh7ho8DNBvZBGtY/ad+UAdjKH1kn6VekJ9YeZN2awCNRcF4rTcnOSnPSAWcB4TdJhRANFf4Z4IYh3ivPWZreb/ffD7g9n5+l0TFRAZgjELgedyt0T3FZe0t8tDWlpMHGgrFKRZram6WhpraqRBwwYN6zWsUyPEmjTtYa2tcn5Tk1zbX77IbgyeyxbF3TZuC+wiFJCPpCEmHClsAWWfXcDvqNYR2mzp7JKJfCx2TPttfFSjTO2dstlxlWh5WovUnV1n6xvwG3TPy+8JR8qBuy/7TW3KzGeQWZ9I3UNwj+sln8p6GtLzc4mHOsox0srMz+eUcL6mZt8BoX5amhY59YnvIJKcaFA25sptbdH6752dO+Vl1S+TmzbdZGmVizEnJCQkJCQkJBwKSSxISEhISDhtwOhJ85cMSaiw//QHGFnAPq5UIAdrlmR+npfWHHZ0PzAipTMQKdF1idp+SLL4jIaQFYGsnCnMSMNDG+7zCEUfEWuuGdggOiLYiFwAPwSJwvup3dB1g9SdV7eoUdy4RMLVEmQNoY1yrwD3NjJQN8hrS+M91X6x+xfyp8/7U7n1QbdK76cOv6AlaypATOUjw4NYYPmr5kKBjTatrzIRo+cDPdL7mcNfGyx7xTJpemyTkYIQh4wSH/jqiRkhWjqjlI2Cd+Ld3zN6X+oMYkjdBXVG+OGT3HyuQ3oOZ0SnEZkIBoQ+ajrEzaYCqUoZUUeoFhQTRlyN/EBw8Lpp50G2BSLNSbScdIufN7Qb1thgIWtHx0s6ZN271knzY5rlrq/dZbMITCjQ9jh1IIvzLhCM3f923xbm7HhRRyYSIBxRZ2gLEJrkHc/Ku1AXaeehTto7ebq/r6fxntG+vSvnhffnugg6/f/zwCPhzN0Y4pXWR/sfAe+vKMsbPiEvs4OZWRrHHXGUdOqZ7fCJ9uNQzYj9IHpRrtRxhLLiuqKl2XHqcjBPi9NdILB6H4QDG21PG8FoI9p+YrGA9kJ9ZFFgzhn4xkDZWgX3VxxwnNfUJBe2tMiy2lppramRZsSBIBAgDGAlt6oqqY0tpHEOosE5jY1y3cDx6buYXUAdsP5Y+2V+I1nngf6I/GN/7KYxy09mLcRgdkjTZU3WV1OmtPcDHz/YTc6KP1uRiQQuFoQZBS4UlPVNhKR53QxhHteP1TWP+/dC3I+75fXX43wvQPe0AoUdQqqB1qnaLbUnxcLn/A1CntZurtWHErl96e3yJ8U/kavWXyX7/v6+D0ZISEhISEhIOP2QxIKEhISEhNMKOZEIIaCwkP/4s6sGIWDEpxpEEmR6/5cXRwhCbkBo5IREhJhoMEILBEIDIuzlf/pyuWH3DQcRLIsFI8Ih+OwXXGH3C8jj3FbNyBY9D2IMNz8s9Nv7yYVJdtySMHo0J+zVcJHE+4Kye3m+6gZZbYfUIN5+cvdP5DHPfYyMPHrE1i9YCDaDAb/pwY1MvF4B5qNMEQvMV/PygrlS2vPGxc8MWP7K5bZ4MNdDbOl+X7eNwD0RqFleU/6O1D/yMVoDgHrCqGryg9G5lN/A1wYy0n0gWCDgzfSdjDzqmcqse8ruYWRpMCNVqQ9RmbFvYgEkmd7DjvEJZJuHVnf1uSpFHMrjwMcO2ChmsPYf1sqvvPVX5I4775DRX4wa0WrPilDQO2Vuj1zQuK/+tbd8aUsmEoQZBVZvPD/1eXkHC7GQlx73Nmjv6XG1/B2Ja2jmaZ4n+n38r58okelYwoRBzT+rAyHPDPH7h3zyvAMWj0LLs3mgV5w7Rh2MTvTZA0b0h7rKMxDaminUWz8eiQNl6S6MVcwusJkCLhZQ7zRkhDvkts8iwJc/rr/Ig97PLk58PBLgamhNqSRtxaKJBDaLQM1nEJg4EMKi5mNRw0JsmuZxjnHug5qb5Wd9x36Eu88usPbFb53Wj9YrWmVqj/YxfdlaCSberimaqy4Wq/bfNL7XfFmzFFYVrN8Y2zZmrpBiLP+j5ZlI4EJB6ONNuKLuefucJx6HVr08zeunp+knt5BemUZ9LKvnIAT2Owq0ylBXqZsny8h9/g6gv0eYmamfkV2tu+QxDY+R/U/YLz0fOfIZWwkJCQkJCQmnJ5JYkJCQkJBwWgGiEhLCiERjAjJiIAf8NuRYsNKGkrn4gRw/FOovqjeCiVG5ECF2XcgGJxYqwyk9XqX30HMIr731Wlts9774ageMOIeINVcN3FdR9l7Rfe3ZeD89D3KBWQ2HEgyaLmnKSFjyLFhpa0lGbhix+5XB78OtieO2nhGYxKdFdt62U1Y/e7XUP7leuj948ChyEwrWFXN3MkY+BeIX8txEguZAINVXZYRSXbXc9by7whUOj+V/stx8a+O2htGwLKK6500nzgWRuX0Jbj283jlRDwFvf5VRZuyrIS6x1sXSlyy12SyLdSNlJH1w+zO1f8pIdSNRIbyoMxBnWk52TwhWqrETZQqvM06wuTsoC/mOlg9lx2jh5qc0y/oPrrc2cct3b7F7mlDggoY+h5G04xlRizBnLpaOEPk6BT6rgDASCuxZw/OWhcGsDQazPPZ4ONfeN0r3Msi/q+9N+5hvzZFTGbg0KawpZItCh/pn8Dzh/T20RD1GnnEK6VFoCFE7N0J+Dv1D6CN8JgChiwWQ+hzjmSoFgoNEA/o4P8Y1MI5zTUSCcD0PmdVCP2X7Qajg/RsubrAZVYhyRwvmcojZBIWCNFbPuRbyWQQ+cwARIBcJNI9cHKjReI2G1YRqHpLGmgc/PQ6Cga1doH0B7Qy0/lKr9SdTB7RP0fZgbU+NxY/ppxsvaTTXRIzAZ90bW9xYvzpy9YgMfrN87QXEN1wUWb8exIK4LXs7nC9u1bAiLItH51m65puZptlGGNLsHE4LcQvZtx39sEaMVhWfXXAyrQuAKy37jdD8HukYkceXHi+3rL5FqjurH5DCZkJCQkJCQsLRRxILEhISEhJOO0BoQDCXkQCQBCSA2ewcbHp42kbVL/SfbBbDbLy00WYgNG9olv4f9WfuEvS7wK+fk2EgxCGwjBjmlCkxcqT5cr1G5MJlMahZViPFlUUj0SFdjVxxkiO8U05uKOy+etyIMf1AjDU+otFcRFS6CCLNhAJ8vwfXE1yfvxRs1OhVI0bo5PB76nUJjciD6IsEg8FbBqX1qa3S9tw26Xrf3EKYjETFL7mRvuGe3MtHr5tQAJGE+yGsvlrqzqmTvW/dO69/7IXQ+fudRqTwLIy43/1Xu2Vy1/1boPS+ghG49r4Q3JBVkFlUTepPlZ7gpJjXowDyFZK9tKUkS39nqbmhWqxo4LDR/T1TmWhCXVDY/RWUmYkD7JNkgW7UV56J9uJCAfWN9qLHIBKbntgkl/7upbLz5ztlfPt4JgoMZELBTJ+Gel/zF8/Ibmwkc/1ypIvEbvpMtk5BLhL4rALEupB3cf6VhZVxNX8ve1d/d67BPul+Tfb9O+xqPkAqs8jrAwn5QscY70seKOy9+YQ88XTS8vSwr9/K4iCKAj9m52v1M0Ifgp8QYj8SCnBrhijDcT/Hzzfj/JBmFgkEufG9CqHAQuqg3wuhguvpe7U8pcVELWYzDP/s/q9NcW5T05xQEGYSlM0mCBbPJEAEqBQI3Koi4xh2wXEQDJhdQD9Mu6PuI6pQflOIBdQT6gt9glpNS41Ut2lfrf2CuXzTvgBxljUUyGcWOHbgGi6fURDMrqPvZXWOusb1F4hbqOdSrcrS9ROfY/skh+tWhmXHwnc8tGN2AYW+s9exxbjWO67QxyLfmR1z24rb5KVVL5XrWq+Trn+af+HphISEhISEhIQYSSxISEhISDjtwKg7IxghoZ1cCAQAIT7+jSgIRD5uExjxPvS9Ob/E+LRmFCSEeeeWTlm2Ypn09fVJYXPmEsfJXxBfOyfNMUgpDe08/TDyu+PSDqnqrCq71+EAye6E+sQ9E9mIfJ6deyjK7g/0GYwU8+dQm9g5YaM/eafeT2fEB6NAjcwOI/wxcwfh7nHUEEmGfzxssy/KEO5t4H4QctE9cUmD0LL0t5bK/vfst9MaL260kahG+EL+6jv5e1FeRlA1aRqzCtRwtbDnLXuOiKhZ9YZVdl9IZkhrRIaufz5xBAprYnj+GikFSR0bdSPOS93V1DwfIVEh4BjBv+zly7KFkPVaR+JSyUSDrinLY6ufCiPcNe4kmbWTAGsbannZEGpd4K9HE230/J037pSZ/hmZHgz+3okjEhAPaynYrALWXdD2eKRCx8b/3GjikdUTjPZcUmO0s36sqqvZc/v+fKEb54b3Yj8mDm0/pNt+ZJau4FnwFf5AWvAYctf6MfoSbfP2vtk/Wdz7ziiPPT/snAA7HtVhu0aMUJeNzIfkp5+A/CceCP2mS5tM0DJyln4zWC4OeHoQBVwgsGtwPFzXr5e7I3KxgHvyPdI5f2xWWp/TamIadfv+zi5YV1cnq+YRCmw2AVaVuRyKZxIgEBA3wQAL8VgkwKyu6j18nzUMrj7EwsdHAza7gLavbY7fR1v4vlszkD7DxQL6BK031KFY6OW3wtqu9uWtz2g1N0YYgqHNGuM4MwoQi7U+uXn98vpmcepmSPd2WxaG7+VpcTwK8/RwTe9789CvgwGtLmb8tmkdQuSvdKl0IoGgQ1+Lm0FpEulv6ZdiR1HkAsl/3xMSEhISEhISFkISCxISEhISTktATDAa2wgCGAD7hJBR+JAegShgdGn9+fXm476wtGCj7RvOaJAN526Qto422bd3nxzYfUAmuydl7PYxcwPA9yAxDbPh2h73Uf5qRlJxzyV6htrYzjF52t88Ta59w7XZ+YcBCwE7sQ5BA3Ezfse4kTFGcAQYKQL8vpBkE0SyZEKEhsbHNErrL7faYsu4NnIC1mcUOAlkRv7ULTGRAcHCXDWF69n9iId9I/pYZDe6J3kFmbHiT1aY337y2d6FEeJ+Pw2NPIJEataQEact1ebiYu/f7T3kWguVQCiof1i9CSA8By6jmFXA7IIThUJntmi0zSbQ/HTCKp9dwF9kGpBnVm8A+QepHxmzDCDjIXhxAdRyRYvl05GsgWEuivZPWR5bndT8NxB3soznoK5S/pRNqHcYwkffF/psdggCxvRQEAeYVaDPhssnxA3y3gQDFpYdnsncIh1hGXRc2WGCkc0s0DpjM1+oNzynk34hbs/taTx7HLpF+/6+Hrd96rOnV57LMW6hz0O9tNlGj22U5ic0S9Pjm8xPO+Ji/YPqjWSlfZ4KoC6wDoq1cyzkgcHfO+yXxckXENp5jpBcBq/Lgfi3kD4Rol/7KJtR8NhMKIjPy8UBjKoTpZso4OeEY7l4QL8XG4IBYkG4Xp6u+81Pbs76LL1e6ZxSvogtiwqf39Qk5zc3W8hofoz9c3R/i/5H6rahcrGXtPZiUZpYn6B6bgHjXCgIlosDGuZxPcfEAw3Zr1ZzYQDwr9dBQAxx4sbBYzfTxdYu6KjJZhdo20Nkph2TX9Y30HdEorIbbTWfOcDsMA0RDQa/MZiJUxo3QQHRWN/J21ncN1r9itqzxy30/cqQ4/qJ43maGu62EMKra/Te1RpqXhPafcM5di2tJgZC73+pV1qPjsX6FvcH/L7xvrgMHOwYlAcVHyT7lu2Tfe9Iix0nJCQkJCQkHBpJLEhISEhIOH2h/5GGbMyJAIWHRgIEkDbZNSntj2mXiYEJOe8R5xmZsOueXdJzb08mEtw4JoPfH7SR1YyWhjiB5DbSOyIZdO8gwgGyyggJfR7C7Xdsl2W/t0wO/OfhF3xlNLOR+YGwhZDBbQYLzELE2P0i5Pvce1pvz8KekGnhWfAbj1/wVX+6ylwamW97v7YT+BA/TuJr/vn6AswMYIS4uzcCeqbFPTQibkwj4Z4T2/V+qwty2S9fJl2tXUZwkF+Q0BBGCDo2ItXJJVwrLCvIvrfvOyJyZsOHNkjDIxuy9RCqllj5QKTjX/9EgjUH8jzV5zICC0Krghzzemmkpn7MyEMITtKor8Q1fxHCILAaHtEgnX/QKa3PbJX6h9bbTIziKq0bt43pyQuDvGHGCC4sWNOCsrBq48a9eTyEglAnINsglikjEwlwPRTcD+WzCSh7iFkMwWA4ExHMJckRYNMnN2UzTeoyocAELYQCzUNvQ5ZfPOt8+yEtDyvS83II8TzU4x6acXooF88TjHezOIE+kwka2lZwF4bbrJant5hINvTDxc8eOlGwhY6DWGAClr6vbZ6fwfJ8sGT7JzPgaRFs3+us1l+rw4HYt/1A2iMU2Hlq1q/ocTcTBeLZBkEQiM8xIpfzgoBg+1wbkcBDzK+h96GuEq87q84EMKu7es5F1xZtXQBcCbUXCtKM1dSYAMD6A8wYIGzRdNYmQEBAJBifnZWOsJhxvVpdVVW+PoGLBBhCQCwW2L6eV9TvFPX7Rb1uQeOkW34zA04fGRDqGxgI2f/JMXZHZAKutjvyihkCiI3ksz0bdcX7NdplLBxQn/j9oO2qdb23K3NXFM08sHO8HVa0S0sL+3G6tU/uXRnyCfse9/Ppt6oL1VJTXaN5XxDNZds0l/UVst9PPxfYdchgzOtvqEdHIlwfL9DX8jcCi0v3LeuTdfXrZPJhk4v62yIhISEhISHh9EUSCxISEhISTltAhkO0GxmqMCKA0BgFjUA8BQaGtLHdY/LQFz9UbvjiDTLQPSCT+yeNHB++atjcvhgJHoHR0kam10bX9TC6rhFhk3mC/QcfkqrjJR2HJLMZ0W8jqsPo7pyQ0Tg++XGHBMnuiImO/Bm4dxg96+QHBDGE85W/e6XcMXmHEfox8WNELeQ9JKi7f1GrW18nQ1cNGQFs9+Las3rdcE/A6HjuZQRcuCczMbbftd1GYLP+A8TL6I2jUtpcMgLJRpvq/RAJEAv2vGGPjWBfDNa9d510/mGnkbOMhMU/PmT4xL0TsuO3d4SzThxMLHASDdIrkGRGtkHQUjUDyYV5GVp9gahyktMtlCGGWyvqIPWJfMOvPgtZd76qUzpe1CFLX7ZUlv3OMln2MrXfWyYr/miFrHz1SlnzmjWy/FeWS+kRJVsIuv/L/fZ8/gz2HGwQftGaBeTv2LaxbFbB4HTmgmgsiAROyqpR9iYU6PHR6w+9cDhAHGj/tXbp+I0OaX5q89yMgqju2TM4qcfzVcb143lp+az56GFVFYn6IS2k+/cOiodrmgE7HHa0KOhPqLsIhjabYjgbHW8LfdOfaLny7JQ7rktY7HXkusXP/jjeYB0JRCDLN+qjv3t4ZcsPRZ4HnEId9eOEmi8WJR3QL/hMAa+vEanvroAYrV52rp5XJg648V1Nyy1cx4xzyXeM71MXaTvuhggjza/JfThGH6z1GdGMczi2Z92MPOgXYXYAxH91NkPADfLfwrCPIIA4sGdszNwP+XcqFzLOXQ4Rah7Z2gTsc55+r1RbK/X19dKgViqVpEbTrJ5q3zpD/6qgnyVmWUq6hsdldsGyzFUVAhi/p9Y3aX7Fvxex2W8UfVzo22hTiLYmFIT1Cuz3knoVzNuefY/39u96nA9t08Pwnbwuxvt+HX0WRIJCdUGKS4pSq1udbvVhY9/FAjC7RF9Mo1b/yPNQHwmtnuk7I0T77JOTBeaOSPsi3CVKh0h7fbv01/TL/ndnrv8SEhISEhISEuZDEgsSEhISEk5rQKhCPjLCEDihlZMEk7O5+xfS9t26T17wthfIz//n59LzHz028r5SJIhhMwzqqoxYNXBqON3v4SyPkVIB0z36XKUqWfPna2RJ65KDfKE3XpIJBT6yOydnCBEQ9J1we8J6AozWtFuFe8dukPRsC400Y8Q3ZN1Uli83Xn2jtDyxxdwvTeyasGvYbIKm6izPAlmL+wjInj1/t0cG/nfACEZcGrFAqt+nTDTAIO64J0KFhoxGx40R+49/5uOl96xemdyp19k+IaM3j0r7s9pl6GdD0vWuLun/ark/7vYr221NCVwyQT5v/PhGI8CXv2q5jeRmND2EFsQ5CxnjBmb7b2wP3z5xwB2SlSHlBoGFQWZhgeSKyTIrQzeyE+IK4tPJUCdEA1Falq5GHpuroa4pE4N8sWEzTUf8Qigau3dMRu4ZsbrNecxQGPrxUNkzGFHn9Y1QDfdDCAs+G8Wfw8oZQlZDEwpYp2BoRkaunp8k3/AfG6T9+e3S/oJMILB6Fuob9cOEAvZ9VoGWrZOH9mw8p+ddlI/+3H5OnK/5Pu8Vp4fve9mUXWc+aP5Deg5+a9B8uJOf1DtIO8QRvYrlDe9COypuKkrDwxrMDcvJCp9dYPkQ8og8MAPsVqTxnvOCth+IVqu/1I9A8EPSU08RqKhL1icGoSAXCfiunmPfCd/Lif5KC/W+7B7sUx+9Tob2k19bv2fnazozcqrbte/UQ+xTdy+8tjA3O0DNSH81SP94pgDEP+Endu2ymQax+6GD1igI5rMJ3JhFUFtbK436H7OWlhZpbWuTpqYmm2EApmdmNF+0LREGgcBtWvexq4717IJA7jNriRliLsJYewn9ggmfHlKPQkhd2vO3e+y3w2YWMFNB27Uf87oWx70tW3rYj48R9+P5Ph/O57q0vYLmbyGbSVDSrUG3Jt1adGvWrVE3hAPtWbToNR91IxztGZV979wnu169S7re32W///wuIyjRDyGMDnz1/q1tcSxA3vtMMQSD6Trth+qWWB+VkJCQkJCQkDAfkliQkJCQkHDaA7IUosKIDIURDWAWnmFJRijBwJCs0Zt/crM89LceKn26jVxz+FHBEIXARAMuotcwA+EeFoUYg2wJBBnPNTkwKRe/8mIZqBuQwe8MGiFeOqOUuemp1esFQiYnbRnt7US+3g+id/Dbg5ZWed+DTO8NkQvZ42Tb6K2jRjI8/GUPl56BHiNAIdBwAYMIUVpbkv5v9Ms9L79Hxu8s98U+ee+kPYcRRUAv66KBvSPEHAQy9xydNbECwvrOq+40V0rPefpzZM/5e6R2Y212bX0+XCTxTuYH/klqT242MYAR2vj/X/uutSZuFNdr2rKCkTgA90a43+n9TK/sfcteSzvRsDrnYk9MkDnBRZw6SfYRQHiFuqkxy0czrStOcDohmpOkbk6Khn0n9ew7mu+MfLd9N0QcTbey0TgLbtsMlvCc/kzxrJbSllK2UHIjLJ1+IOa0jhoxrnWF0fQIJJzHQswtv9SSLW76rFZpe26btP9qJhC4KxKrx16X1agDHqduUwdZDDvPLycICfWTp3k85K2dT7XAPD3krcfzdN43mF0HEOWcEPdyYBHnqd4py7/uf+02YcqEsx0T2cwjTTfRTc+1e5E/+h7UW9Y0oD4wK+FkA/lt+exlH/KYzWHpDo3m+ROQi4XUVSf+6WNCP+N1l5kj8XkWxkR++K7VYf8+6dTrkG6hx+PzQv0vq/u0C77PPTjH25Lur/izFXMCarj/DSvH5JG3leZ1I5ST/oT6/sSvHxgw90PMKvDZBmWiAuep2YwC3WdWgc8sQBRgJkFzc7O0t7dLhxpxXBIhEExOav1SM9GARw+CgQsFk2o/6j22rnEQw6m/5GPr01vN5ZiPvLd+32e7UXei0OqQxhmJb2Jza5hVwDm0u9g0P6x+8Z14n4+fE+17/SwL9bq2JkExczmESMAMAsQB7XWkQzdCBAPScUWkJS93zt4pO9+7U7a9YJv0/09/tnA8mU1docrob/TQd4aytYO0nfR9/uRZ5NhhM0Datf6dWyezS7Wc6lpl+MCw9H7q5HOblJCQkJCQkHByIIkFCQkJCQkJCkZW8x9qx5KYCAuuc4wgUEAk7btjnzzkJQ+RkeUjRqQeDpAojDK2RZUZWcn19ZIH3QeSC4LKibKRWdlz4x551t88S/Y078kWT4a4c5IZcoUQq12SEa1OqKqxIDMk6/BPho3kNzIFsoN7RzMMjGUKhBjksJHEPMfErJGeu6/bLQ0Pb5DmRzYb8T5+l17zR8PS+7neQ5IOuL6BtIdEtvuA6J72vpB24Z64suCePPPN199sPu8hmFkvYtmFy0Q2iAkDiAks5uwigRsj4eu2Zq5DIG4n9+mzbh+XsVvHZM8b9yyqrI4XTCyg/ChLCC+INMgtPoH8MqsKIUbAOcDzMcpPKz/yU9/fSNFAiLrlRCnGvosElDWGSBCEAszFAoimketH5ghjPk4AUvc0jm/s8dvHM//8HdlIYbOmEGrdNHcj7nLEjzWoUW+btM5WigTMHlBDlGPf3Q/ZegWlTLywZ/H8CoSi55fFY9LQn133zeJ30X1zSRTO55gtfBoWOmXfrhNDs5DZO/f8/j0242Xou0PW1nCbNHJVuZAIsUrbsQWftZ7SXvm+vT/5oHYyjkyGbLTZBbw/FvLC8o1/9B0s1I8ZQcgnI45B6F9cJMzbPsQ8fat2D/i997qc93+Evs/3Isu/r2HZMb2Wmcc5N7pP3h5oI37cr8FxjfN+HS/uMHdZdh/aCKG2iUffUDpIIDDTd7bZAZjuQ/pf3d9vaxkwqwChwGYjaHjQ+WouFJhYoOcgFjCzoKmxUdra2qS+tVXbRYPU6vGJyUkZHRuTiYkJmZ6eNsGAx0cwsNfQcELT1pRKctMxdEUEqL/kbcevdsj0iN49lLW1I/oHtXxWAeIBdYg0PT78Q/1dCv0B7dy+E9o08dxI8vqn75/Xv5CWx/WYx+1apCHKFTOhoFCVzSZg9gDiQGfYlunWphuzDO7R7Wvf+pp87/LvSf//9Wfr/+jz5b+XDuKhHjMDru6CukW7xzveoG9h3ZrqDq1XjUWZnJ2Urn/uCkcTEhISEhISEsqRxIKEhISEhIQAyGcjjwBEgJoRBA6IJAgnPuOzsueGPVI6pyQtT2kxMmH0psOPCraR18wIKIbrVt6HfQgIyFrIXOIa3vqdW6X1slapf6T+hx9yJhBe5jO+eokRp6S7SGDka12VdH+oOyctp/ZNZeRJKSM9nIjL7x/idgxyDQJ/ZMbcK0CaQZpAdrY8KXNNZO4n1tdKw6MapOGiBhstjm9kZj6YW6CL6o00ZuQoayjwHVtcFyKJewRC0A1Cznzcj2iI3/u+aZnYOWFrL/R9p096r+rNxIN1RXN5QYgw0HJGi2zYskEu2XKJPHPLM+V7N35Pxm4fM4GAkdrbX7hd+r/Ub4LQyQTqDH9x2eh8J7oguCDDYgvHMIfFo/LKzfNT41aGkJxuoc6UpVHPXCCoMJ/xYQKOhsUNxWxkrd7aCGNIPX1ee/6aJUYom5gVCEIj+puqspHDTVofG7ReQoojEiAcBDNhwEWCUH/NvVAQCqivCFbufshChAJECvKBTyAHLU5aIArZ9+P5vudxSEMgiEO36ip9viV6ryX6HGr59fmH/NW8u/3xt8v43ePZs2pbtL+g9fDA/yxM+lMPWUicOo54aO+EYNCSrSsx+M2Tzz0I5WYusyh3z1/P++yfDIQej+sk+RUIfyPd1YzVZl/rJDNLDH6e1+PIrD7rMeuD+W4g+vNrcjxc2+K+z/kuCui9csHM07m2P0+IUw70a5xn/X5oN/STP2gfksfd1Vg+m0DzgpkBMen/V7fdlgkFPqtAj5eJDHrOfEKBGddCMCgWpVRXZ/85qy2VNN814ycnZWR4WIaHhkwwmJyakqkZ7aMjoYBZBYgFo2rMbjiWQARjjR3649qNtZZXtB/yMhcKQp9gfQb7Gu78/Z1lC9jnx6lbUTvM2yqhWt4Oo3N830I/n7qKUKDtEmN9AtwLMZtgqW7LdVup2wrdEA7+XbcvvvKL8tNX/tTEfQYPUBcqfxvz59CPmWY6v4+lM0sy8H8nn9gHaLu4JWQWntDUtCrxNwjiZkJCQkJCQkJCJZJYkJCQkJCQENDy1BZZ+vilMnhtRtYtMSYgQx6HcIJAgpVRgzyHzFx5+Uqb4j/8s/K1BeaDuRdilsHSmjkSAng8WE7mBiKLxWMZkQyRtfGKjTJWM2ZEFq5ObKHJQLZCvvCdno/0HLSALN+H0IF8NRc9TsRxjxAvS4Mo02dwwpjR+ozyhtQ/76XnSdXWKlnSvsRIH96Hkf6ERh7hHmh1wUhkG/m/rCANj2yQxosbzXWDkXXRvXIyEWJO74mPfRuFrfnFfVnHgVkC5PHgdwdl4BsDNpq758s9cs+X75HrvnydfPMr37TZBDteukP6vth3UvuCZ10IG7EaiLRKEtuqXCDGyuD7ml15WGlejh4nX8lj8jyeXUD98jgWSNE87oQq9UC/zywPBAGewYljI+Rqq6wOUK/yWS9uvJ+2EaufLgh4XM3If8h2BIIgpNl39Lv8Rco6GP49Fwo4r4yw9vwi8DTCkH+V53ke2/Nr6IKA7ulXqkRrq21ak/URtIzYwvU0V2xR811/vssWjrZrhDK065PF2r4PB8Q7xENmyZhw0lBteVjaWpKh759cJJ67m/EyL8tXQEBdC7sWV8uJ/1D/rK1Tp9jXkPVGmLWSnz8bzue88F2rt3xXv+PGd8vSqaMeejxKt/NDXaZuW+hp4R75+Rpd+ttLrb/yNO+T7Hz9POHGeiP5c8Ifcj+YuxP6dk+PLWgcL2qciwV8V8NYLKiqMK6DgFVTo3VQv0+WIxQMDw/LwMCADA0NyXgQC2xmAWKBWiwWjExPy7X95Wu8HAtQd6kjS1+w1GYXWFvQukJ5Wp1Rc5HA4wNfGzBCnj6Qtm3HvF1WmuYHIZlQeczS4uPEQ9/jQgFrFLBoMTMKcDmESLBKty26ve2et8lHHv4RmRiesGswQ4ry9rrjdRMz4YAP78cW7suz87tbOZvoZIHNDtL6XDq3ZAJ+bWOtjO0ck77/OjlnQiQkJCQkJCScWCSxICEhISEhQdH67Fap31ov5557rvQ29MrwT4dtxDQ4aNQ9o1sD4QSZAAE/sntELnzRhTK6ZtRICtz0HA6QhYyoNvIEgszJiHAf4kZoOXE7Nmv3YnR37429RsT/9qt/W7bVbssI/cGMWIewZYFhrl27rlaKG4tSd3adLXKI4R+aBUQh9lk82N4TQs2JPTeeAyLNiTJGm4/oPYan7dn3fH2PDN04ZOdAsKx63CqpWlclVe1VRgLZSNP1tSZOsABm3aY6WXHRCnncQx8nNS+qkZmV+kW99dgtYbZBeAYj5JzQDiPbGbkJuY5feEZm24KxWHe2YC/PA0GLcHLg4wf0YqcGIImdbDICykkvPqSzr2YkrAVhH4Q64vXFjTzM08lXt4rz8nQIsfnicRplEwhVXA1ZneWjz8w51HkWpjV3QQ2B8A9knb2XmsUh8cK+vTPXwTWJxyH74rjmAS4+XCxgYU6bbRDlURxaPORXWb6Rj9G5vm8hFjaEAUhFRiDjroQ4aUBro77qjPziCb+wGSv59fzaPC/vrM+3mPYPqMvM4EBQ89kVCAbMcqIPOplgz8csEsom5GP+/kS8XgEN4/7E49afhXq09LeWzp0HIU+6E/OYtn+baUTfQ/82rnH6BJ/9AqGLG61wvn03XN8siltfHczSvY8h7s8Z6j5i2Kq/WWVEd36d8Dz2PcX/Th+Qp+xryQWCQnW1LUhMyIwA0r6+f7/NKPC1ClwoMJFBw8qZCFp9TCTQnCwLga9RMDIyYiLB4OCgxcfHx2USN0T6rAgGCAUuFozp/rAeu+Y4iAUIBQhnLc9oyepDaONeP2hCVm/cDZHGB74+kM0sQDDVdmPNzDJhAeNafDeYZRAB9+Me4bgJjvQzof+pKepv0ZKirUWAqyFcDj1Mtzd+4I3y4ed/2Noaaw5YOVNX6Ou8ThGP+1Nuyf25X3gmDAGT3zhckp2sQCTAFZEJ+nU1MrpjVHo/mdYtSEhISEhISDgYC4kF/OkT/iRKSEhISEh4YKPpsiZzo/PQhz9UrrnqGiPaD/xnRjhDgsckh/1CVmkQyAJIURsdHdypMHKe83CDA3m92EUEbXRtIEXsPlFoce7HMwQy0kZXQ5rWLbEFY1se0yLNbc3SdXeXjcBnJD4Eu5FsuBFSM5IjkCj5e5BWm12TsOs9XRmx4/fmPE4PZIx/z0hDHwHOqHF9Hr5voxY1zyBObDZA/7QJGEb0M0tgUMPg2ghin2Pxwsils0vZdblfQO733MFuICAhdMw1zimM2o1axwIJbiPmyX8n2wLJVrZPnDpJ+cSIs4nsq/xLjrRQ5nncyxVUhsCvQX5TDpCqGjC7w9wJMSq4Seu/hstevszWsWBGiM0eCPXU6gcEHm5sqGuIU9Rl3oP6GL1PWaif3s/3ZoSi+zVnXQO9pufLQd8hDHU3r8Mh7mb7+t6+r1fUW2nd1Q1xAL/liAXMLNCaK2O6jeg2qttVD7vKRv4bqUieOLkY8oa6zYLiRwoW6256YpOJePQjU/unZPtvbg9HTx7UPaguE7gox1Cmlp/zlIXFK+ur2vI/Wm51KBcQPA8r952kj/c9DdIe4l+PWZzjcdzP9f1wHUtD9Ax9ogkRpHM8iLKNj2mUzld0ysxE6D8RKrXfMpEyzHZiIfa3fapzTixAKCgUbBYABD/E/e/99KfSqmmtmkboCx2zfoGJCPo9Zhv4jIPYNZHF9RyuW1ssmjsijJkGrFEwPjFhQgHhxNSUTOr9mEkwrjamxxEJ+jV9n57zgXvuyQrvOGD5nyyXtW9bKxPdE1n5aH6Sz9aPRPXj7l+92xarZ1YNs+Lsd5T6FERGM4/H/UQI8/4jmNezvL8Jv0/VteThnPsh1if4uW7Xbb1OVr91dVbuQQQ3Y90cDDd4lLWmWR2h3lAP9VXMFCYm8X01+pOhH53cLn3422Tl61ba2kN1nXVy4LsH5PbH3R6OJiQkJCQkJCTM4aKLLgqxOSxbtow/udLMgoSEhISE0wNNj2uSjedtlG3btslk96S5r4FAABBENmqyRX8aSVKLR3MbiQDJFAiFqT1TRh40PaxJCusKmQ//LSUbOQwpDhGFKxcjSjTEIB8Z7Y9v96luGJbs2rnBtUCkcYjRtk5oIAbgGmj/lAxfPyy91/Ta9yFUGNW/6tGr5AnPfYLsrtmduQbS69csrzF3IjWdIVyWhSwebIvSrstGunN9RAd7P7WcmIMwiZ8DggViZSATBab2TtnIc9wx4KqF9QaYOTBxx4SNtmaUOOsQjPxsxFw4kb8xeP58lkAwc9dSafrOzChgdsGpDghiE3MgsAPJaqQ2H9LUDJYU4o5QP8rC+eKV58RhpZGlblGalz1x6g9ijxHukHUKQuq7zQSAtIPYqzAWDHaCz8wJ5UAiloWajhBka3EEYcyu6+eQL4SeV1GexaE9G88Z8tKMfU/TjdkDEIotuuGmhBHIuCxBQNAarq89JT981A+l4cKGLN/U7H56f7t+uObkTq2vLOZ9hKBtMAuH0fu2fgELkj6s3ly1nEzguUzQivLXQgX5aPlC/6h1xvosrzchRChwgtVG9hOn78S8H6VvgcwP/ZyRuSGepzHjiHg4Lz4nP7bAPjMUuLfVZX0Mr9/E6bs2f2Jz9ny8g5PE/qzEOV/tSdc3mFBQW9B+vlSSxoYGaWpqslFXz71qsxTGr8nXKZhPEPC1CczlkF6SkOqU1cmAWX32Ge1fp6dtZgELGiMSsMAx5rMKfEYBNqGGaMB6BQNTU8d8zYIYlF/tWbVS2lzKyt/bJ22ctwr7vV/otdlnCIFG7Ps5GpppG8/j5AfHyRTLIP2QFqUTukDgM5gIWdRYf2WtbZ+r25f+/UsytntMmp/YbOVNXaVMvZytfCv6Ootzbvwc4Z48J31SdXu1relzMoP8brqkSWpW6G9+c0EmD0xK9/u7w9GEhISEhISEhDmkmQUJCQkJCac1IDcZ1fuIyx4hP/vBz+TAJw6YG5/5UFxfzIhRJ0Ci0MgDiApGUzOqulRlAgGL/EJajN4+am6CnHx3woy4kaZOqIbr4Y/fCJNAjOYExRIiCtIUTrqWjbTkOlE6hIyJBPo8Tn7YvSHnIObGZ3ISH6LTFiE+BMgH3s+eKUbFvl1f38983CfMC/Ky4RH6h5eW2cjVIxkpXtKyY1Stl38FmW7lGuJleR795VY2GyOKxmQXZvvA0+YD31fLR36HEDN3V81VJqYhSC1/9XJboJdyt7YQrGx2AfUzHjXM+wSiMH7XAx87YK5NbIFkvb7PKsjPj/KkbD+0IQ/tPfVYnI5VVev1wuZCAQuf4qaEUcgzuvXr1qXbpy75lDQ+qjEjp9UgoC2PaU9Oius73x8f4LgVa//VduuTEPG45si1I7LnzXvCGScHcGVmLonikeCVdTIy8nrFX6zgq3m9ifPM+iMNvW+yMOofY4PAJZ1R/35+nh5fJ/rOQcf9/jyLBnbPEHZc2SEtT2/J758LDGF2AeXOiHMTRnum5N1fWCOl2loTClpaW6WluVmKuv+QTxWkqqpOOoffLY3V1fnMAhY8ztcxqKrK1zJARChq306IkOBiAmKEiQiYxh0mIGBaB5lVYCKBhiYSTE/bWgV9U1OyZ2xMPr5rV/jW8QHuyLb+91aZmQplRF563xHy+u4r77YF04ur9Tc1mqWS1ycP3UI/kcdD6L971i9EM9wQDjBcENG2x3W79oxrZd0/r8vqhD6T1QmN8/tnMwhiUQkRXMvcQo55vaHNU2+ARjH6vZ6P9mRpJzFqt9bKqtevshkGdevrZOSOEbn5zJvD0YSEhISEhISEOaSZBQkJCQkJpzX4DzSjIJuam6Tr3q5DLohrLnWCv3xcojjZlJsTI2GUK6Ptx+8Yt9HxpTNL8ojnPkJmlml6s34/uFWxUcTMKmipyVwZQcKp1V9QL3UPrjMiefiHwxnJ4oRXsJwUg5SPXSn4SH9c//TN2IK/E3dPyOhNozJyw4iN9h/9uZruE47dPGYLBkP8QoAdDuQD59ksgEOY5ZWem7Awmh7bZGIOpCojP220vjGsetCJ7iXZfp7u9c3h+14f41AtJvedrPP9sjhGcVWaphtZhoam+x6nrkPQIYItgSTW8+ovrLc6aNflcWPSLxB+NvIXoi8Q/G452Ux61RKbkeJrFZjoABHIcfvoBvnPh5Dvkk8e8vHQz9N9N09nY22CJt0QCpbrhqsS9plVAMn4/ke8X1qf3qovlF3D3g0LsDQF+RC71DpS8H3yLl+/QN+bPoKZPwhJJwt4prwcwrsbiHreBFv5mpUmstB35aPz6a/GM5LWZhJo32VELSJM5SwC+jMEGsKwb+dGIel53PdH5vbtmtwLgjg8gz0P/Slx6rjGEUnP+NczbBR/mZiBcR4f73cJ9TtPu6nZ3AQx0qq1tVXa29ulpaVF/vHqac2botRN/NgIf1urQA0xwNcosHUK3PQR8roZQe+SWy4QIA4QzpbPKGCdAl/Y2Ncr6JmYkFuHjq97HH5rxu4ck4uvvFh6Znqy9hzaPrbtSdusDjGTzYREb/MaWpvEyAuPx/vkD1kU9Y3Wn2g/YzMLtJ9h9hJphDVVNdJ3V58M3zwsLb/UEjJSvxfNDrR+j7qgZW6/rfRv3s9xDOM8+hZ/Fn8OTtH6diq4wuP3hTULmMnG3x/U6X3v3BeOJiQkJCQkJCTMIc0sSEhISEg4rdHytBZzGVRXVyd92/uk631d4cjigM9lCAonEuwXNJiRI5CkjHRkcVb2i0vMlYe5YMA10PIa+54RFYGciAkqXPXg2meyK/Pvb4Tk3ePmvsjvu1j4dReaOZFwfNH2nLZsBDm6UyjXoe8P2chyI9Eg2t0g0gJBm9c1QtIC8tkEBP5XXPzXnMY5x4gu6g1fVbN9RxQ1hO84aVY2QjiQpsxIgeBG9IIYbr682UQyiFqv+/Y+YeSwjSKmXWDaJvJZMbxTEAq6/q0rW6ugrToX1rhGTiry3nyPMORDHLf3i+Jc8yDTY6xRgDDAbIJVYWvVTY9Kn25/duGfScdLOubIbWbi+MwCbZ95m9J2OvB/R8fdC31S4yWNNvKad568d1Lu+f3j53d+MUBktTJBwInLkfzWDzNMPG7Q6mJ1CTLW607o4zwP7/61u7NzjxFarmiZq8dep/25tF6v+LMV0nJZi8xMzmTrFYSyzkUH32fEOTMNeqflHz+8Uhrq600oYLQVtun9QzarILOSrBp6i61T0FIo2CwD1i1gvQJb+DgICT67wFwUaZi7KdLHM0I8hMAeWZ9/Rk2zMZ9d4DMLmFUwpHZgclJu6O+Xn/bd99ku9wdr37NWNv3+JhmaGMrymwfXPP/FI38hhZUFm1XFb6HPBLD+AdP65MR/bHk/gZFGyGwCbSP5zIIw24Xvs17B+N5xE8FzEQBRoKLeEc9FJQSpyDzNRC3v+wh5FwWCPDOpThWwTkPrM1rNNeLUwJTcsOyGcCQhISEhISEhYQ5pZkFCQkJCwmmNhoc1SPOaZhkeGjZ3OUfqd9hG8PdOG1lhBFggFIxUgIgIo/5tpCsj/hmV3zVlhP3YtjEb2Y+rkZFrRmT0Go0TXqvh1ZnP/7Ebxyzk2fDVj2CQ31fjNnp/sab3hpROOPHA3QyEmZGsk1qeWpas8wAxxawMSPIlOdOqIGqMIR/9J5BVGXMYLNQ74nk9jNMXMM41Apc4hBrpTuayT5ULJJuFEG3Ds/kME6vjahB17DMKH5ct9tekfiUn/PRdfVaBWXUIq/R9ggjgBD/twtYqQGjAaF+8OyQ/pKnHLaKfKC3f5yvxuSHuxwtVBanXDXGAGQUIBYgGpE3q9ro/eJ20PiubUWD5GWDX8V2NUl79X+kPCfcfEJfMJrBZFcFYNHzoByfPAqqInVa2sSCgWPY7y6Th4oasLgWC1uqLW5hJgPBy57PutAXgez/TK32fO/aENusRMAIcIcvsTrW7xqWwqmD98ZZ3bdGqns0qyAWN8NzeTqxtRO3jK5v65Ipb22xhYxYgZpHj996o9byqqPUEq5G68e/Z7AFzL1Q1N7PAZxVQn6xOAeIaUL1yQxjQEHHABAJM931mAbMJzA0RxqwCDYentE5OTspXu45M/D6aQOSqubBGVqxfIZM1k1l7V+v+YHfmtqytJk+z9k8bDWZ9nZspJmTN3HGLa5+CKGB9CvHQt3g42aOt2IVxzciy2QRuXp5qVl8pYzKXtPicCP4c/I4PfefkXtS4Eg0XNUjdOXVSWFrQV9NN6zCL0ickJCQkJCQkxEgzCxISEhISTmssfdlS6djaIf1d/TLw9QEZue7oufuAhMqJj8pfVo9raCSFGov2Jjzw0f6CdvNPDwnFSGVmjgx+Z/AgF1DMMPCZBTbSVkMn1Y1go0553QLUqahexaGN7LVIMODfi7HQtdTyEbdhdLXNluH5IOhqq0zAYoYBi3i3X9luZKyRxVq389G/YXZBLCC4OWHIO0Eo4qbEZhe0VNvixvbefq6ek38nJhwJOVYZOsnIuRpWF6rN/RBCwQrd1um2WjcWNoYwfvXHX23PaTMKeF81F0Ugj220sYa8c3fFIqEIQbn/dB/5rGbl5/ka8jYf4Q70sOd/z4d7pO1X2sx9GaOvESTGt2t+BvLaymFkxtZ1OFGo3VJr70g9YIZM23PbsvfVumoEL4je987n3GlJJxvO0P/41O/cKnVtdTI1OyXT49Nzs0hCPnu+5/VB0xDEWAT+Xz65Turr66W5udkWOL70f9rzmQVLltSarR76a1ungHULmGVA3GcWMKtgoZkFmpMWWrUIYaV4EAsFvl5B/9SU7B4bk//ed2LdzJTOKJn7n3PeeY4JcJpzcsPDb7D+r7Bcfx+1vtAubEaAzzwKfV3eR8R9hYbMMDCRACGNduVtzb9fyPoi2oz/tuYzCiKLZxlY+6ZsQ/9mopbv09Y5j7bP96a1KPSePR85+dcpqMSyVyyTpS9ZaoIBwsjev9sre954cq2JkpCQkJCQkHDikWYWJCQkJCSc1oCQlUa4rIysP5qL8TKK32YA9M9jpAdjxgHka8IDG6xP0Pzk5kxEql5iI6ynu6dl8FsHCwUAsovZJLamQSBcMSO/qC7sh/CgUbMEsxqJ0/w781jlqGkj0hgBDjGKyxVmseAGS+sqo7Kpw7jRykn44hIb/c5I3qneKWm6rMmuAbkHeQeM8NP3xpe4k/7su0iAEd/7tr3Z+h2Q7O7CCJIfspRz+GjcQr5HnOtzjND345BoMO7PrAIWPvVZBWzE9W7yup+9zghEvpeT+ZhDk+yamrb/XfstqePFHdL8xGZpvaJVajfWmpuw+nX1smzLMtl64VY54/wzZOu5W+XsB50tm8/ZLCs3rJTW5a1Sai1JoTHMInDCU/OJhdHxoW+ufgIpykhmjkOUmiuz1hppfHSjNDy8wdY4YVbS8YSv3UIfynOYeBNA/t31vLuymQPYp3vDkZMPhT/qkLVXrDWRCDK7jGBGIKBt6Cc36gIhswv0+Bc7e+Rp25ptTYHJyUn55L3tWj+yWQVuw6UnS+P4N3Ly32cUsD+XaxniW9lttA5as9TQZxPEswpcKBjX0NcqQCz43J4TTwLTrw3/ZFh6vtMjpUeX5KKOi+TnH/p5NqsAQcD7AM0Ia+O0YTJlIdPD1uZpJ6Gt+MwCrkXbtr5Kf1fzDPTyisz6SxAdy/tA+j/SgB8H3F9Bf9j7yZO3Ph8KdefW2boFiHvkN7MaD7VOU0JCQkJCQsLpiTSzICEhISHhtAb+e+vOr7NfPRYCZkRzQsLRBPWr7rw689ENwQUgnFj4euCrA/MKBfOB6zjBBnGVk2yBQD8I/CUX/prLZxYATw+WH4MYUzOyNIy+RTDAVct8YNSwk3YQ14U1BRNCED/qH1IvK/50ha21YaQqI3J5XB9BDLkXCD57H/yR8x6IBW/da2SWzSxoDzML/BzOh1RkH5GBPAhhHg/XmS/ke4VSoWxWwVrdcEHUoNubdr7JFvy2d/d8CKJJPrNAjRlIBz5xQDr/oFOq27N1FSD9C8WCTE9Ny8z0jFmej8EM+jheLnn+s08+OVGt8QMfPyCtz9X+6ew6uz4izOiNo9l7aN7l76Zgn+9Rr/a/JxMwEg4PZkc8ddtTZVC3Md0mZieymQWIZMwu0LK3skM0CGXv6Yw4p0wQcd7zmTVSLBTkxbeeJ1VV9RUzCzKXRCsHXiul6up83YL6qirb95kFrF1w0JoFkaBg4pWG1BerLhpitrAx7ofUmFUwMDUl+8bH5av7T656QF4DZh+x1k8+K8D7BLV8VgHmfURs2n5NQAwCml0j+i4i480Pulm2fHFLWVvKQ2+LHNMyLZtdEM8qiMuZkOPathA+aIOnKpj90/lHnVJ/vtZRza/9798vO1+5MxxNSEhISEhISMiQZhYkJCQkJJzWgOCs6ayxxRAhC4736NyEBzaYScDI79r1tUbOQEwx42Ry96QMfG3xQgFg5gsL6TKi30guCC+9Xh4P+2YQmxCckFyB7DJz9xqQYhChToSzpsbITD7LBf/ukKCsdbEQbGYB5J2+FyOFIfchoRi9ymjV2k21UruhVh9OMpIfUs8FjkD4W4hFhD6LPOczCxhtr+fBlkKW2oh+/fi+hZDnxEn2tOyfspBjjEKuxv2Lbo26teuG6yFmGbxz+J0yesOoPa+B59YtH3Ec0vf/834TQ9qe3WbiSG17rfUf06PTMt47LuO7x00kQXw02ztpLoQQGCbumsh95bOgNemT90zKxPYJGbt9TMZuVfvFmOU/5ChEKkKBzTDQODM6ICttRpKWk7nI0bK2PKUsmqqk6ZImaXhogxGbCYfG2VefLe1t7dqEtG3pxuwCaz/etihzzMs/xONR6LSry66ps5kFX+5bpfWsYIa6tWRJtVoWDpeeKg1jX7NL+MwCQwj98uEWFpog4GEkDkzpvWxWgYYsajyKTWcLG/dOTsqXT7D7ofnATBQTAFtqjOz3tm/t3uPeN9Cm5zMEA4QBBIZIUKBdt69ol+svut6EAm/zDouToXE87Bsss9VCxlfOJpkZmDERlPZ5KoOFjRsvbpSa5fo3T7FaRm8Zlf4vHb31VhISEhISEhIeGEgzCxISEhISTmuwGCdkbrG9KONd49L1zyduQciEBw5an9kqxY1FI8cKdQWZnpiWqcEpI3shcXH/cF+Bux98Tz/2isfKD7/7Q+n9r17p/3K/1D+4fm6UeiC9Rm8+dqNgbU0FiLu6KhMF8EN+0R9fJFe97Sob3d78pGZZ/6H1JkDYM4Uh0jmxX9Awmi3gYsGeN+0xAc9nFphfc0hBzovsoO864Riuk4dOQOo1IPVZhBahoEO3lboxu+CLuvV8vycTVAJZnIswQWTBLRDkPwtTM/OhUJ+V6/SIGq7FerWMD0zJwP8N2Pshttxf4M6INS7Ia4QAhIZdr91lx3iG4uqiVDVWZfm1tMZEFhutXawyEQiXTgnzg/byq9f9qgzo1q/biG7jM+MyPTadCWrjWm+DGBCbiW9BcEOwocxxX/fOr6ySV95zkc0sWLKEmQXaPpbUauizCzIRYfXAH9tMAtYuiNct8JkFrF0QzyzQGqzfy0KaEW2c5o1wgGiAGyIEA2YV9E1Oyo7RUbmu/+QkgFmDg37C23UuCMYCwHwzC3SfOm0zCjBmF7BmSvhe7apaueuFd8nqt6/O2i7l5oJPiFtI28YoS2/jYd9nFVj5IrYSH52xds8sn+OJ5sszd3VmKwrWv5IP1DV3s0Tdo688EiBer3jNCqm/sF5qGmuk5zM9cvcL7g5HExISEhISEhIyLDSzgP/OJSQkJCQkPODBf7ghBaYnp6W6oVo6fqMjHElIODKwJgGL0q547Qppe2ybrL5gtTS2NsrU2JRMdk8a0Yv/9vsjFAAWBoU4a21tNYIL8giMXD9iI+NHf652k9oxFAoMSzIS04k7COtbr77VRtIDFgy/9w/vNZcjRuqxGC5uQ1isGIMEhNwH4Vr5X6Cwoh7yevDuTgAGs/SQBntq6WHEt4kmHvLR0K+vT2EbYCQ5JPE1W6+xZ8gNROHuN+y2vMb1UnFV0USHib4JGbtrzPK65997TCCBVEQkOBpCAZi4d8Jmn3Bv3tXWrwjgHpT50A+GpO/zfTbjgBkLvrArsxFW/tXKcHZCDFziXH7d5VLUzeuC1h6rK3l9QWiiDnA4MquzhIx0r8lIbNaQwBXQ7GxmmVqXWeX+ruZ/lDFmAUxNyTCmcYh+szBDwI20yridF77LTIJBDfsnJ6V3YkLuPYmFAkPIN2+zWN5mo/Z7kNHWqzMz4S8qA8Sy/R/YL2v+cU12zMuNgHg4j9CMY6R5f+P7nMP1tUzpw7o/3C27/3r3cRMKcInY+cpOEzzaf71dlv7WUln2smXS9rw2c3U2Pax/o7RWS90FdbZo9NLfXioX7LlANn1yU7jC4WEiiOczr99ABiQkJCQkJCQkLA78OZbcECUkJCQkPOCBaxdGCpubjxKMgcjwz5L7jgSR0jmlzL/26qIU1xVt4VpIRkbH2kKRF9ZLwyMapOnxTTYStP7cell61lJ5+CUPl8mpSdmzc4+M9YwZqTv43UFzY8FI1fuLxksabXbB6vWr5Y7r7pCeD/WEI8cPxQ3FfMQvo4QZ1c4it6PXj8rI1SMyeW8mGOBSB/Kt6dIm2+c7tiBpmBEQ7/PX5z2vuMdEOx89jMiQfTEEjLCG5GM/mKZkIceIhPM8NPN7VVdJTVWNkcS4Iiro9rFXfywj1Wf1C5CS8GgsgKpFde+r77UQ1z4mEuizMQp5cn8m/nT9U5e9MzMLjhWoe+YqTe9NHvX9V184Ug7ynHecHZ21WQgIM5DYlMvgd9IipjHOv+N8uazuMpnQbUi3Ud2IT0/PuSFy4cDgcSwQ2BCuTnrznUuvLsnXB1dofUPQwf0Q/53SOrwEQtZZ6aw+DtX9kvSXfklKo18xYSJcUmY0Tk2KFzG2hYxnZszihYwRHBAXEA361HaPj8uWhga5efDkLWuETn5rrT2GNp+HVVk7tayqMBMaazOjT8hnGuj+2LYxaXpC09wi70BDPcuiFnrZYZrRZWlkPOGUSO/neqXvc33S/8X+oyb4HQqsIdD8hGZpeUaLLTzc/ivt0vKkFnM9RnvGLeLwT4fNRRmL4Ztbs51Z30PfiiBMP7nq9auk+SnN5u5u6IdD4eoHg98y+jKbsdBQkPEd43LgY8d31kRCQkJCQkLCyY+F3BDx120SCxISEhISTgsYOan/4TYXHsUlNnoY/+IJpwcgU1mAuOGiBnNLxT6Gf2dIeUQCFifGJQwuNCBcEJiM+GqrlkJLQRpaG6Surk7GRsfk7tvvlt57erN1Cb45kC1ivO/oEU+4kiitLkmxtih7b9xrPv6PN8yNCOR7qSpzyaN5selJm2TP/+w5yAf2TP+MrY3Q/PhmI1edKMQQCkws0GtVF6qNrEMo8DZpRGLG+WVhMBcB/JjFLTIXz8+p0jj30/tW1ei1q7TMdKvRbZtuVUv1hJyt1XNnl5hogUsyZhoxM8LeV7+P+4+JeyZsTYHjNeIYIcbqW2fB3qP+gvoFyX/ET9Y/YAYCI65tRoeGiDWIVQkiGz+xUf7oYX8ks7ohFOCGiNkliAW2MPXUTBnx7MKR7QczkSAIS4Iupscf9aOifHNwuda5bJ2CTDCIGO+4AhuWyEDt06R29CvmTigWB/K1CdQQCHA15O6GEAmwYY0zq6BXDddDz1250twX/bRvfjHpZAD12No1fYAbbdNH9bOPaBCEA2vD9BPBXZEJBkEkoM+w3+vNpfLyCW0434/Nj2k43TNtbaLrX7qsj+5+f7cR8KytcKzR8tQWm4mGeyF+Wxoe0iDtz2qX4WuGzaUcf3+wpgniAM9pLpLCotr5WjMTGp/UutI/bTOKEKwaL22U9ue1W/ufb9AD+d/0uCb7HSvVl2Rs15j0fOT4i80JCQkJCQkJJzeSWJCQkJCQcNoDlwMQnogF1fXZqEdG847dfGovZphwaDQ/sdmIk9K5JRME8JEPUW0EtWNWP7OzsgSCL5BNBg19BDI+rlnYdmT/iEx0T8jEzgnp/2q/DH578JiMTm15Sou0rGmRsfEx6bupT0auOv7CluVVTRAKVhaMpOq+ttvcIEGkx6B9QcqxmGbbs9oyArs6y2cXC2oK2v6qq6X7k93Z4saIdw1hBLKT/iAqGuJxup0XTihLd0KS++l9EQvY9M7yo60/krbntGXlOi2y47d3yP5/3G/+7Nt/tT0ThJhNoGXNosXj28al631dRioeL1Cfmi9rtryGIMWHOqONDwVGHucLI0O0qjETBpdFpzPIg3e95102s4TZBH1hG9bNxIIprQjexrW9G7Ec4mVG+8eVi9YZFw4e/v2CfHtwmda9TCTwmQWY1+G8XoZ6ysWGSk+TvtqnSXHky+WLF0cCgYkEau6GCPdDuB7qnpiQF69dKw9tacmuqNc/u6lJrjlJXRExU4u6SLZYuwxt04UC+x8oxxALyC9NM5FAzdYuYVYBpu2gbkud3PHMO6T1l1vzGR4GykbbKwT7TJ/m5b2T1mYQ2Ho/3mvuhfb9v33S++leWz8Gt13HQyBoeFiDlM4uSeMjsplhzAKo3Vpr/Tn9Xc9/9phIwG8GNt01bS7ImCnkYoGJBMRxJ+TG+gsa4lIRoRDxAEG558MHiwAIjsyEQ/iur6+XkX0j0v2B7nA0ISEhISEhISFDWuA4ISEhISEhANIQ9yqMWpwenDYf5AkPPLi7Bhvl2lA1R7ZALjFyM+xb6CSUBrk/bQdpeh6jzSGcpg5M2WyCYwnI685Xdcrai9ZKf1+/7P/v/dLz0eM/MpTZN5DR5pbpnJI0PbpJDnzmgAxfNWxuiBYC/rZXv221rHrqKhmZHsnI+7Ax0v/6Z15vo14hFSHHIRZtBDEG4V/MQlvcmLRICIBotDikI8f9GAupRiOSC9UFqdXt1r+41Ub43vN79xi5RlnS5jte0mFiIe/HNagXU3unbKTvQi6AjiUguFuf02p5zvsf+MQBW/vicMBdFv0ZC7iTlxDafV/sO21dElFX/23bv0mzbggFu3S7S7eduiEYjM2OyfT4tLV5sylt4EEMMGGQ/sCN/sEXOR5RG5yRkZ+PyPh7L7EFjjNjgWNMf1OqWODYFzmO3RRlwkImKmTo7HuVVC3ROqtxX+AY6NPkMw0QDf7yjDPyBY5Js9kGiAhTU7Z2wSd3786+eBKBumztCjdCCAB1GoZZAyYiMmOANh4EARMNEbwaNQwiIuezePy+v9+XL+BN2VZi/I5y0fJEAeERt2CsN+Cz0mqW19hMttozamXgawOZyKr9i/3+BHEAWF8WqofNvuBDn+Z9Ymykk3fEtc/jN277b2636ziYQbf6rattBt2ypctk9893yy0PuiUcTUhISEhISEjIsNACx/z1mmYWJCQkJCScVuA/8zayHHKRkbj6n/y0fsEDCywcCWFVu7bWCClb3Bqy/8CUTO2ZMhczY7eOydgtYzJx14SN1BzfPi4Td2t8h8bvHreR/Bw3u03P03Nw/wJheKyBO5zGRzXKqi2rpHt/txGUPO/xBmSXEV+rCrL0GUul75t9Nuqe2RSHAu6YcN/Tf32/NF3eJE31TbJEN9wCsYbAzo/tNGLQSEE1J8hyAyQZiRqOeVq07yO4XTww0g0xIYxWZrvlibfYM5fOKmXHp8TihY6C+frn3tO9mYuPrvd2nZB8BpCLPBfrFvBMkIvU08OBUcnU8ZqWGiNo6dtqN9bKwP8NhDNOLzyu53FysW4IU8wk2K9bl279umlLztYrmJ212QRls4nUDnJFpHGfWWCCAmLCxKxMfLfTRIBMANArWD2cC+fgF4ouGGy4dLkM1T5JBmsvk77i42Vm+Gu5y6GuxlfLu88fl8frf9YAz+nIrxTSrjoJZxfQXyDaOQkeh9bWyTbaKftqJiQEMwEBkUH7B/qR7S+eI8KZGVBpJwNMqMONmL53aVPJ3A4xu6D9Oe0mMDO7YfS6UVuU3hYy198QxCigb2shsLgVrgaIVy5YYaHumbDNud5n6i4zGGLxtqa1xtZ3QAztaOiQ/oH+NCgiISEhISEh4SAkN0QJCQkJCQkBuCuAWGNknrk+QDB4SL35LIcYTji10X5lu9SdU8tU96IAAP/0SURBVCelzpJMT07LdN+0kU6IAfisRhiCGCYNVw6ICBgEzsxQsGEIvRMHRtyzqPLqzatl3737bHFdXM4cTzCKF9GCdlF/Ub1Mj04b2YVwgsuhxYBz971jn+z/7H7p/X6vzKzQfF0n0vXRrkwoYN2COlhDPbnSQAiNRIvS4n0TBnymAZeqyvY5fsfL7pCRa0fMHQftnLTpoWkj0xALAYQjC4v2fuLwo/iPBlgfASKRGQEYLkpw6YS41fiYRstzxK3+r/Qb0bgY4M6E92FGiokw+q7UId79dAH19fKey+WXdUOQwt1Qj277dOvWjXULSDPiHb41NkWZ/3uav4cQt77IsRYH/cPYN9v1AIx3lQkGsUhgUcUcwR9dyOIQ3MQzBWJ2ljLWOlh7idpj5MtP7ZAr13dLVbVWZr3GzIz2R2pcj2/b1UjXkBkIe/6xRVqf3Sptz24zw11P3xdO7HoG5kqrVjOCJgepHQkDIdvyeC4S+MygYHVn1cndL7x7UYLZiQKzrWjLhaUFEwpcWGUmQefTO6XrE10y9O0hc3WIezbaNbD6oh8sJ/0deor1byGOed0D+fkExLUa1V1YV1bmrLGD6z1Ei+UNy6VnpEf2/0MSCxISEhISEhLKsZBYwJ9rCQkJCQkJpx0GvzuYjxRntB6kJf/Jb3tuWzgj4VRE+wvape7cOmlZ3yJT45lP6LE7xuTApw5I3+f7jsnaAscCzH7BxY4RhFo/T4R4wehefF8z0n35xctl5JoRc790XxYFH715VA588oDcdsltcv3W640rzUfLxq5ffL/SAll20D4hH0Z/68fjpBerirmfbr5jbmQ0HxGIpg5oux+bNTJ+9KbR40Kudv5hpyx/9XKpWVFjrkNsYe2ttVK7qVaW/e4yG5lMuSNisj7Gka6XMPzjYevTEL0gEREfThcgFDxn23NsRoG2ehMGDuiGSNCrGwsbT9oKxXCsc2RrGdgPRLZZtE9+GtmNKKXxmZlRbZvjuc3MECJEaP5rfGYmi2fHPT3ej79HOGbhj56xQ5YvXy7LOztlaUeHNDY2SrFYlJrqaqmuqjJ3Rdi7/2REPvjacfn8X2f9gpPPLlBs+PcNFp4o4GanrD1G7dbabJilYedoV+diAn0eccj2e//i3pN67Q1mExRXadm01WRruuBSjba9sVbantwmu963S4a+O5SJ0y70er1yA+QBxRhZLmiB6HzLP/KRvnM8MxZAZubUun9eZ6c7bM0DzXuEMwZFJCQkJCQkJCQsFukvh4SEhISE0xYIBow2N8FA/9OdCwYshJpwyqH919ozX83nrJbxsXGZ7J60kfAHPnbglBEJHDYyt2aJjI6OGukz9MPjS5pBeLG4Mc/BaPe9394rk/snZWLX/R/li49xIxBxwwHh70JB2M8tEIox0ViWHvadWDPBALItxLu/N7egJyLBVO+UCQYcJzQh6ZaxY+6uZ9UbVsmqN62yUf8Qik4qYrgewlUIogEuiHB91f/l/vu83gCjl3kvyFpGZ6/624NHCz3QgFDwrG3PklbdEAQQChAJ9uqG+6EB3Vi7YMYqh8JJWoWP0i4b6a1xMwQCjrtgAJkNsa2YnZ2UmZkRI/md6M/CLO5hJhxkgkC8H6f79751+R3S1NQkra2t0tbWJs3NzbY4bbFQsEXBX/s73fLXr+iVN78quB0Kz5ub1uuTBjxLaIsed6Lb2m8QDPL8DvlMSL8z8L8DtgD5yQpcxJnLr8aqzP1QWJ+AWViM6N//4f32DggFiJP+boYoTyxfgsBjZRjCvD6G79l3w3HLOz4uwtB36t8v00NkaAb6WO7LcRb5tllVCQkJCQkJCQmLRPrLISEhISHhtMbQ94ZMMJjsmsxmGPCf/xUMb0w4ldD2K20mFGx+yGYTCkZ3j5r7ir4vnVh3HPcVEGaQk2NjYzYC/ngDF0HMKmDUOzMMmJ3B4r+IL0cDsUCQ21Q2StbjRixWigYx4ci+CwROvLFPdqnteOkOjWSYHp429zEIg7il8jUKEAyPJda8Y43NFnDhhVka5Ksb6b6GCuRjdbueyyjl5QVZ/ifLw1UWD8pn9MbRbCaK/pUPkckI6AcqEAqesO0JWtyzuVCA6yGEgj26ER/UjWOcY4jJ2LDvFpO0eVogsv1/TTbbJ8wOmJkZVtP8tpkGhJl44JaJBgfvz6WPyoe2fl0++9Crs9vp/auYQVCjdUXt6Zf8QF787FvllS/aNfc8/ozx/kkGEwRpq4HYNoPLpt3SRgn1WJ630fsgpt195d26c/KB35jGRzdmrr74W6E9zCigXa8sSPsz2qX3c73S85Ee+7uCtshMLGvbWJMaCzhrey9bsNjjYeFiW7jdXavFdZGyjvq7PG9JRgiNQD9H/4lIVmjQ/uSPj7w/SUhISEhISDg9Ef7sTUhISEhIOH0x9P2hzCVRT+aSqLq52tyCJJw6gDRcumWpEW3dd3ebUNDz4Z5w9NQDdRAizWYWVJBAxxrF9cVs5PuyGln9S6vNvQ0k++Sexa1TsBgg0iEKlIkDGtpMgRCvFA08nqdBPgayzEbnBgINEpJRtaxD4HCXY+aCqGvK3Jsc60XN175rrZWjkYSEGGRhaxaHMDSRoEH31SzeGM5rqzb3Jiv/cqW5LzoSTOyckOnBaSNlmV3A4qcPRNDmL952sRa/lrduzB5gEWNmFTCjAKHAFzXmnBwhusQY2IBAxho8HllOauf1DaIfwYAQwQBjpkEmHMxZJghgmZjgNiLvXPnf8k9r/1fjMzI5NSVj4+MyPDwsG1v/VTa2/atcuOlT2f1B9CyxlQkHjuhVTyRMKKA9BgGP0NJoy4Q8cwURTt+Du7iTEbi389kE1lYRAeknl2cC4PLnLJfu/9Ta9/5u619Gb5gTVge/NZi9Y92STCio1TAs7m7rNYRFnWMBIRcMXEzwNAQE/VjeufsmDyNMHZiy/pX637yk2Z43ISEhISEhIWExSGJBQkJCQkKCwgSDHRM24hiSElJg6UuXhqMJJzOWvWKZ1K6tlYc85CFyx413GDHsvupPVRghPj0rY+NH5rf+aIDZBFjL01tk74/3mkgA0c66A0cTvCNCiPnfdnEgNvIgis8rGOjHDFIyEgzu/vWDRyZP7ps0AYEZBcca6967LhMEmqvKhQINjRiELAwLuxphGEYqmzXpd1xUQDRYWiMrXrMiXPnwYFFpd61WqMsWW32g4bxt58lDtz3U4ggF47oN64Y4wBoFbLgfgihlZLXWlnyrRNnIfKKRxbMKLB7q28X1ewP5z+wCwiGZnnbRwIWD+WxU3rz8q/L2FV/LFilW+53nbZdff9pN8vRH/UAedfaXyu4PYkFgXnHA4xDGhblFgjd9apPZiQLt1ttjLhjQbrVfwyw//V2C1W+pl4FvHVu3YPcFLGTsM4Bor7RP2iULpROve3CddP1Pl/R8tEeGfjS/yzhzd4bASV0qhvZfqspEglgocAvigJWrCwaYn1sdzAUFjbdc0WL3AqzHQhkw26ZTN/qShISEhISEhITFIIkFCQkJCQkJAYPfHrQR6dMD00ZmIBh0vKgjHE04GdF+ZbvUbqiVc88/V7719W/J5K5J6frXrnD01IWRajOzMjUxlRFpxwlNj23KhYKJeyfMjQZiAesVHG2YSDAWZhcQV6ucaeCigFsuGATC0UYrIxLox8hIjUPe3Vef//cXa9+zVtZ/cH2ZQAD5b9aYEYMQublgAFlYCsQhokGYXeDCAdewBVSX1sjKv1lpCyQvBvRjCDHVNdXmJuWBAmYTXDR5kZHKWvImBLCgsYsFuByCHCVOmgsFHhpCPbH9qG3lRHyI+z6kthPb1Dm9lHRN6O/EdL+R/9nsAgzBYNDC2KanCYflL5Z9W16/XO3FB+QvX9wjr3lxl/zxb+zN7lEpAoTQ0vnfGofjc+J94KEjSt/0mU2ZfTaz44bgaoj8MoMoRzigHevHnlHN34MR+n1f75PeT/XqgZMHrCVCG3ShwMQY2imzgWinmtZ8ZrMM/3RYBr52aKHDZi/y/oD3RzhwAcBFgDiOuRhA31GMxAU1W0ODazCroEaj2o84cENEH0pbQCxA2EhISEhISEhIWAySWJCQkJCQkBBh4OsDOdHGf9QZTYgv4oSTDy2/1GIuVhqWN8i2bdtkYs+E7HvnvnD01IYTatOTMGzHBw2PbJDipqLlKwLB2M1jJr4wSn3sF0d/hgMj3434RyggjjhQaRzHoriRjlNqTkJi8G+Yxo/GIsz3FWWzBZz8h1TUeEzymWBA/BCCgc0uCGKDzTBg3QO1Fa87/CwD8oB1C8ZHxu3+zU9qDkdOXWz65CY598Zzsx1rHuViAbMI2HBHNKEbx3zjXNsY4R6+vyAgcQORG4dGfEOAz87KTYODMjFxr4yN3RLEAHcvhDgwkNvvtF8lDX/1Xan/y2/J3//2gLz1N/vmrg80LCP9QYhXigO5ESxwzNIdUdTjHN/8uc2y+fPBvrA5O3AMQJvVrC8T9Sz/ab/heWOwHkDfl08uF0SlM0vW5mibJvAFAt+EA0zTixuL0nd1n+x5457wrYWBoDAzoJnifRbwskGUCjMIEAXoF8y4t/YPfm+zWDzQfRcMajfOzSLyWVu0iZW6VXekmQUJCQkJCQkJi0MSCxISEhISEiow8L8D2QjA8Vkj7yBPE04+QIwUlhWMgBrZM3LCRpMfE0CozeoHcs1JpWOI+ofWS+mMkrRe0Wo+/cduGctmFOydNHcWxwIz49ksgpnRmbnZBYgCYZZBLhK4UBCHapYvkG4QkuRTIOB2//VuLn/csf7f1meEfzDzT44QAMkYSMBcMNB4PkoYwSDMNrAQ4cDJSIQDX8+AmQqIBu01sur1q8Jd5wejiqf6pmRmckaqC9VSOrsUjpx6YDbBg3sfnPfDTjwjAuCCCLGABYwRCNjYd5GATc/OtvA9LLtQFlTiIMId439MCAUIBtocWHx66csyN3VrqnfJmYXt8tDS3dL+5t3S9qYd0vq326TljbfIx36/wuWVXy9YTvqDynQQ74e42aEQH4/iZdf0UG3zf22WzV+cs6MF3GGVzSzwtkoaea/39vdiFh+CZNc/nzyzwhAKaG9xm7V2620zCIKNFzYe0W8Pi6rPjGm9jPr2vHwh/ZnFQn3D/RBuhvy+PiMp7Od9SjD7rj6ng36VfnRqeiqbWdCWZhYkJCQkJCQkLA5JLEhISEhISJgHk7snbWQu5AZExgPJlccDAS1PbbEFeGtKNTLSNWKLurLuxAMFNhoXUhxC6RhzPIzorTunTlqf2WruhlibAMEAsWBmcEbG7z42Pv5HrhnJZhSMqhFiE7NzrohcPHALMwssbzDI32CQboQQ6gc+cSDc4fhh/b9GQoHPFAhCgROARvxF5B/Eno0gDrMMTDyIhQOu5TMNgssTEwy0P2LG0+o3rw53Pxj0X3ZubbXonSxvT0W0/nKrnP2zszMiFQuv4XVgemZapmanZGpmSqanp2V6KnMhx6LBM7PBNG71BJEg1BO/Th7OcaxzCPd0kp3rumBQf2G9ND6q0damGH9ju/S8sUW2/3WDnbcgwvXKrkscVKaDeD8kle3HRuDfA1G0LH4YcI0tX9qS2X9vCan3Hd5eKwWD3IA+X935ddL/1f6QcOKBUEC7y9sqxHywXCjQ9ol7sPHd43Lvn94bvrk4sNB6Lj6RD5SRWl62LhrEbob4X3uI58/jzxaec8/fzs1u4O8XZhdMj01Lq278XiYkJCQkJCQkLAb82ZGQkJCQkJBQAYhnFkRlBCD/GYdITTh5ULOixsjTmekZG0Xd9d5Tf52CGLj/mR6cNpL3WPqabry00YjP1mdlQgGjexEKzI3NyMxRX9S4EjbCNggDB80uiIWCCqskHY100w8uxI431v3LumwWQRALymYUBIHASL9gOdkHwecjlgljoeBwgkFY/Hj121fLij8/2C1RYXnBrlmqLxlJTl061XDeneeZCJPPBKCsKWYtawh/2v7MlNpkCHXf0l0c4Lxwbmx2DRcOQmgWA8KWwMlbsi+Qu5Cu1EHKETdRlF/Px3rsfCd9D4KnBzuI2K9Mj9Jiy58nNoLK7wEPFWXH4xDEcUdIQzCI7UhhIlVon+R1ZVl4eSCU7XnD4d34HA8gFFjb9bbpRptFBAwzCmjnzMiyhYuPEMM/Hs7aZKhTWA7Ne18jw0TGMNPA+o0gIPgzISTHzxiD/nvqwJSJBaxbkBY4TkhISEhISFgskliQkJCQkJCwAFjglf/MO7GXcPIA90OUydTwlLmMeqAB9z82MhQyfXpW2p7bFo4cHdQ/uF5an91qboeWvmSpzcwYuzUTCuzegWg61pjunTaRwFwSVc4uQDBYSDTwGQYQjhBtQTTY+/d7swsfRxihH2YT+IwC20ck8NHAgfTL0+DtPITwg5isMBMMuGYkGuSCAesZNEeLH//lSr3QHEywKFZJa1urEemnkliA26Hzd5xveZiT+HDKlWQz5V8x08TOd3I6PpdjpHONWCCwKJF5ELp8+35U53DRNb5tXMZ3jFtbceSCQSW4TmQLCQLzpR8kDhwK8x0/1HcqjuX3PwRcNGh7/uL6I3dFhFkb9XynOgajXttI+5MEMfluv/1qTsqbUED7ZhaQpj+85eGy46U7wjePDIPfHszyRV/d6pZaGegfKJLQf3h/YX0IzxP+LnGjj4gxfse4TO2bskXk79St0JxmRyYkJCQkJCQsDuV/VSQkJCQkJCTkmBnKRqj6SL7aaPHAhBOHtue1mSsWSCdIpq73PbBmFQBINsQqG5mrn8Kao0f0NF/ebP7fl71smY1QH/jmgIzfOS5Te6ey2TQsjDk6KxM7jv0ofWYu2IKfU/qa+q5lswuwhcQCJx/hGAnVqpqr7B2OJ9Z/sNz9kIkEtUtyMcBFAtsPRF9ukH2V+5B+EJGxaBCuaQIAZCVuUBrVWPg4EgzidQxs5LNeq6mpSaYnps2d1KkA/Odv/erWnFh2kt8IZg2deIZYRQRxIcDPi/ftvHgfkcCvG0SDMuFgIVA3qXOQuRrv/XSvHPjUARtRPnL9iJ3S8esdFvZ8tMesjIgnHuwgQaASnsa51Jt4v1I4wAhikt+jcVJ8zzgEcdwxX1oFOq7sMFdFrHHQ8eLs3RcCeedll+d/VC6MeKffORnA2h5Ovlv7Iwzt1Nozobdtjd+k2/0Bs+IsX+jHQj0rq4uURWTWn/A88xi/GZUwd4pjM7JNt5aaloNExYSEhISEhISE+ZDEgoSEhISEhAVg/4nnP+5YGFmYcOJR01ljZQG5PH3g5BmRerRhrogGpo2krOmokYZHHOwTfelLl0rnKzvNFc3Kv1lpfuzXvGONrH3XWln3z+tk3fvWhTMzLHv5Mun8g04pnVWS4Z8O2wjpqQPZ+gS2qDekKCP7x2H1jg8muyZzMpZRsD67IDf2OR4b52IQjpDCaoy2H/jGkbsEuT/IScXYIO9cJOAvbSwQfRYPZCOWCwVufDe6pq9jYLML3DURggGzCxqrTTBAJKlur5bqjmpZ9beZYFBcW7Rzq6urLf9O9sW/mU1w9nVnS2lrKSf2c3I5EM2k2z4jsTlG6Gmcw/fY109u4VhuUVrZuQQIB1FIul1T61suYmmdQ8Rj1PbQ94bkwMcOyM5X7ZSdf7gz+06ACQaAn4xg8woF8bGKtNgOEgoCDhICYsyX5jjUscOhIr9wYbb5C5ttwWf6o0pYvsXlBaIywa3T1P7jK/LNB+pgLg54qG0yb7+a13E7RSAc2n3/1smBzLd+jPqNabysbiqsjOkrXDyKZxVo6Pt733LwrCpzJzc6I3t0a9OtsDLNLkhISEhISEg4PPjzJyEhISEhIWE+MNKP/7wr/D/nCScWzU9szn3441ql77/6LP5ABASaLTLMQtsKyCwTB16ViQOr3rjKyFXSIYeLq4u2lgOjzBmtawvhNsFMz6HrX7pk9MbRzOVQ71QuFEwPZSNcndjzex4P4NbFRBHuDTE7OjM3y8DFgXDMzYhH2iZaEXb8HjfH+n9bn5H5kHaRGaGHuSCAcOCkY7RfJiaEmQduORmIIRq4UBBmL5hgwMyC4I6Isq5p17LvqJHVb1ktTZc2SWlZSQYGB2z08smMzt/vlI0f22jkqJGklGUoUyPrA5FqZU6cNCdT/RzEhZA+r8XHIbn57kIWIa5z1MEdL1vY5cyKW0IkwNwShbpQRuqHaNmx+dKi/YMQn+Pw3Si57DpxCOY770gR5VfLU1ps4fnNn98sy16xzIRJLC87zfuYCPdyxaXcyeJKLibfLX9io53y0xPaKH3s+Pb7t/g7i8db+/S6HczaQDDLLxCewfoGns/7CTX6/PmAWzn60yHd6nUrrEpiQUJCQkJCQsLhwZ89CQkJCQkJCfMAMtJcgED06f/XcQOScGLBKGoIVAgVCGZbV+IBCl9cGCKNGRTF9UUprlNbU5TCioIRw5DE5pYG8lgt92lPGNzVbPzoRruOY9frdtlofq7pswmMrHLyfUZMQDieMPdHkThgrpDGNGQtA4QCNyduw7MSGgGsIcTb8YQT+WYhbmSeiwAaxIKAiQSxQODpQTiw0C3s+4ymXDBgTQR3eUTogkHjnGDALAOu++hHP1p2bd9lwtDJiq1f22puxYx0riBIjSQNJGpe1hGRmp/j3wvX8PQyg4StSLPzg5UJCICQe1IXqZeIV1oXGx/TmB2fB3eNjMjaWzXj/RqKno/0zE/8h3gZSe/HK8zOmS/NEUVzzJfmuK/HjgDNlzWbsIuxLgr5mJcl+YOFcqNPPxnWLKANWVuj3fGJ8p24EfNRG4Wgn9x5FPpJsoT+DL0k1PO4Hud1UeN2b/qGIBK4LSQImivF0VmZHJuUApv+biQkJCQkJCQkHA78NyUhISEhISFhHpjf79ISG8EHyXE8R1snzA9GUeflMfrALI/2K9vzGQSMBM2ts2D+6c31DEJAJBIcZOE4okHlaNKOF3bYaN7arbXmjgg3IANfHzC3KsNXDcvoTZlIcTwx9ouxOUEAUljNZhgEwaBMNAhigZsTacM/GQ5XO/bAvZOJBJB1LhoQryAY54vnaYH4i4UDG7XsoZpdk/O4R1g8uUwwqA1lzRoGWHOV1RFGPe/du9fEtNwlzkkCZsJ0/mGnjUA3Ep9ydDI/hEYkU6667zO8LB5IVCeabd+J/ihtQeM8N923e/r1NIhFA6tnXufUmh7XZMLbg7ofJGd+70xzv1OJwakp2XB7tZyzLbQ5LcvuD3RnZe7w8qdORPsGT/c0t4XgxypDRdn14xDMd95iQN4QkE+OKDofGi9pzPIwtFXLW/I9KlMEzBMJ6qTNGiAr1KxdetzLg/ZIWwxtEnd4R0VUJQvo67wdRPniZnVUwX19dgPP4c9092/cbccrwew7jOtP6sYzJyQkJCQkJCQcDvx3JCEhISEhIWEesKisuRmpWmKj8yA0E04sIEatPCZmZWL7A2dWQdvz26TjJR3mvsOEgZVqywtG5FfOHjCDLMY8HsJ8EVxPC+Zo/7X2bM2H4hIbvT+1b8pGP58MGPzW4JwoAFHLqO6xmYxI81kG8foFgXyEWON9R67LFps9HjDyPjaIO7IZUlHNCMawnxOP7KuxX5mWp+v3IP9yIw1y0u8TrV2AaGDm6xioIQ7ZosetNXLzz26W0V8cf+FnIWz65CYjZVf82Qqpf0h9RogiBBBCImMQo5CllRbOycOY5Pf92WCk62dei8jXec8DetwEKl+nQM3qXniWqe4pm73B+hDn3nquND+5OXxRZPfYmAxPTcnYzEyZYND1r11ZeQcrI/JDNE/3NIsSmdu3NP+uw3crw/lwX4/NB88vEMfngeW3lp2bna/lRp2dOnASuCDSd6/M+7L84BBtFhGP9qrh5qbNR899ElnifRqXpI7G+aX71scw0yiIFRaq0UcuBPpOc0Wk5+CKiAXtExISEhISEhIOB/5ieH0WTUhISEhISIjR+OhGG4ENScBis6M/P3mIt9MRjZc2Su2GWiOGIbr7v9pv4akKXHQ0PLLBFi6G3K1pyYQB3MqYOADhXwwGQczoddzRhDTbL5TvV8YtLFTZ6F7IMIQI3G1AgEIidX+wOzzNyYGJuyekdn1tRtQ5WReKeMlsSJgVe6eYPENYGblqREauOfaCwbp/WpeT81ZGYYQ/BF5M/Nvzx3GCKN2PmUFUkhYdszgjh50c9HO5Bt/V79i+bsM/HJb+r/TL4HcHbbQzMwt4JtyOkH4i0fqMVln+x8ttlkPjo7Qe8swhr/KQd+J9CXgv8kPL2UJLrghJJ6rn2H5It/2QlsfnMxCHajZaHpIWgQBRalQNkUr7mPoLInEjiFUymZGxS39rqbl/Gvxmtoh0/9SUlKo1//UZV/bWyOr+guxrm7YFxRse3mDPnT8/8DDOh1C+Fo/M88Pg0XnC/Lz5zvG4Yt7rHQZHMqvAQV/H4uPUZWu7QfyytVZWBvdqGj9Rv7G0E2vD3tYIK4z2Pnr9qIzfNi6j143KXR+/S7o/dP/7T9aasXtilEeoB7lpmvXzPpOIPj78HhSWFuTuF8w/qwDgaq7h4gYpnVmSQltBJqomZM+b9oSjCQkJCQkJCac7Vq1aFWJzaGho4M+RhISEhISEhPmAOw9IAkgiRpMmnFgwYhqChFGqPmLyVATEfdtz26SwNlt3wI3RyrxjLhRADgW3M/Hitj6qfL7j8bE8TfcbHtYgzFaA8ILoZETswP8OhCc6uWDrFfgMAh9Zjs94ZhmoGYFL3GcaqEFaHq9Rs0500jf4mgI2/AayVc0IvzgOiEdEcOV5lhasjCBE8An3y0lWJzC1LeDr/fYn3S5d/9YlQz8aktEbRk1E2/fOfXLgPw+YC5ITieWvXi7FDcVsPQlEH8h2RkuHEdR5GAj4vLyJ+3nxjAJCCP0QGlkd9ivTLHRjfwHLZxkQD7MI6F+8vlk9CwJCXOc8zoLhkOFn/ewsa9fgntFR6ZuclJHpaZtlcN72opVt1z91zZU7iMKy+gDi+EKIz41DUPndQ13rUMcc5OP9AGXqZZ2XpYI+ifZTd36ddP5Bp7lhW/WGg//jeqzAbBeIessDN0CSlgnrATADC5HgmMDzNdzX6jJtwGdjaJi3efoc+ho1+vau93dlXzoEGOhAnzqsW6G2cFzzNiEhISEhIeHUBP8tSUhISEhISKhA6ZySjfKGnOM/7pP7j++CrwkHgxH3EKmQTZB5pxrqLqiTlqe2ZKP726pNjLIFaRkFjr/5aJS6k/yxKGBpLhowsrRSNPBjEMwuFMRhEAqme6dlau/USbs4NKR3mWCAQZ5B2I4GocCPB9KWhTxtYd/jgDLCPsTnhSfz1zbxyMqI4SjNBAXOhwys0XLTayMS+EyKquoQ6rFdf75L7v2ze6V2U63VB1vkuDWbmcJzMcOg77N9svxPl+sFjz9an9lqC1db+TkBCkEcRAKzuHzjeHwe8UrBgFCPGeGvQSXx7+R/bpwTLD8nuC3K04NQkNcrBAO10pbSXLoLVWqxaDW5d9JIWYhYXIqBXWNj8ouhIVvHANHg7B1FK+f9795vZuUOQvnHZvXDsVCaI44rys4DC5x70HlHAvLMEcfngx8nj7Xs4jKlHZtYQBlpAHFfOqMkU71T0vHiDln1plWy+s2rzY4lrA2THbFp/eP5FgKi3P0F72qoyEPPHwwhw54vWqvA+gDNt/4vH/4ZJnZNWD2emJjQLK46aA2bhISEhISEhIRKJLEgISEhISFhHjRf3py5a9H/tDOC/Xi4N0k4NCDTIXEg9cbvPEajPI8R6h9cb642jMzF1RAzCJqqMrLfxQHI/8gs3UWBKM3i/j32ixXHPI4LouCKCOv8o04jNMe2jUnfl/rCk52cMMFgOBC0lUQyJG0gcp3EnR6aNvHlWGHDhzbIxv/cKGvfvbaMsIPIy/+adpIRI4CMDfEFEc7PZx1ger1cHKjJhILqgtaXkAaxePODbjaC2ojEUOZ52Tfo+biy0joFRq4dkaW/udTixwu4PjHC3gl/L7vYvEwxhKA4jbiLAhHBHKeZOEA699FPmTjAMRcFKszOrTjf7o8hEiAAaN1CmCquKeb7ZRYEAywXDTR97I4xWf6H5eLMHcPDctPgoAxMTcmmHTVyxs6C3X//u4JgQNFHdSWPu1XC0yqPxfvzfe8o4L64IHKsefuaubIN5TkzOGN9GddaEkhxXALVnV0ndefWWRlAdkOUr/m7NbLm79XeuSZc8SgCnTHKV9rj8j9bLhs+tkHO+PIZ4UAGRIKjIRQY9L0sT7m3G9Akq+MKa/P0OeRPsNrNtXLns++044cD4jD5OD2O+pC5XEpISEhISEhIOBSSWJCQkJCQkFCBpsc1GaFbU1tjIwvH7zi1iOkHInBRAREKmQKJAul9KgFhgJGguYX1CJzod2I/J/wDwe/pB+0zoj0+j30PIbEx4hWGaxr3rX6yo0wwcJLRyWRmGDC7AKL2KM4sYAQzZOS6f14n6z+4XjZ+fKNs+vQmqe7Q/qC9JnMRFAg7J/CMXFxoNDehH58nnu+DsJ/PHkAkqNH7LqkR2zScPDApN19ws9Q/tD67N/oZz0O9YFaJ1qu8PrEYeJ2eMyMyPZwRhccLwz8ZPqjM5p1REBtkPaGfg0GY8j3CeYQDI/9Jj8UABAANcjGAeLwfp2vo984FgCAIIO759TjHjmmd49jsiO4TUg85P6RP7Z+y+KbPbNKLlwPR4ObBQememJCVd2u56KURDA4SB7AYHI7PiVGxn9clh+8e6ryKY/OCvLoviL5nMzlC2VOmlBt5RZ9n5/G/Uox2pXWYhdiLm4pS2lqyfI77N9YNoY2u+5d1+oX7D/IDY4AAz4MQxwL6iBlVVVWy4T822HlHTSQIMJFwvrylTKijPpsg9DlYYXVBej/Ty1mLgtVN7SPJb5AWOU5ISEhISEg4HJJYkJCQkJCQUIH6i+qlprFGJscmjTRgYcaEEwsbeV9ckpMojCQ/lQDRDLFtQgHvEpP4kGDzEf+R5QJBnB6+nx9zkUANkgliyULSwncfPPDg8ESnBsoEg4hMzkndkUwwoD5AvLVc0WIL6h4Ky35vmSz/o+Wy4rUrzG3M6reuljX/b40RkDUraqTQWZCa5Rou01DLzawtcxdlI5CDGdHHX9IR2ZeTupUgbR7Lz/d9CEEtLxcJCtGGYLDrtbuk8ZGNc2VLqM/g34Po9LaCUTdoL72fWjy5eNQAyQ+BH8hhJ4pzC/szE1qGcXpsnKOWzyY4RGjlALEfCQdO9ptxXK3sOHUJsSnMUKEumQCFEMB3w/n+XdvX57LvaN1DhKF+mkHKqrFIL4v1LuQ6B/dEd42MyOjNo/Zc+/5h31z5O4kf9svSYvhxx0LxGAulHynIB0ccr8Q8x1a/TfOEMqNctdzIN9qSEdhRPfY+i/6StVZY94L258eo+ybANhyl/8rqJRkg4GD0/cgNI7bmx9TElBRaC1J3YV04enRQOruU9SWUi5eNht4n2G8F4nH0zszCoI51vffwaxU4rC5Tr7Xegvg9ExISEhISEhLmw1H6CyshISEhIeGBgY4XdpiLGNx+MFp57LaxcCThRAKSxAgTBSTTKTezgEWLG+eIHyf6yywIAAcJA3G88hw1I5GcTHISmRHwfi81Rqm74Rf8VIKvYWCErruLYSS4E7SIBhonj5mBwvt1vrLTBIHlf7JcVvzZClnxGrXXrpCVf7PSiFwWl7ZwVcHISMjBXCBYlgkEkJO5BddRlq/BTDAgvyOUuWmZB/ORwW4c43q4HqpeUm0CQa1udbqVdLvmwmvyMuc8u7cTrMThANmnfrggpfWF+nAigAjgxLAJAlpmLhpYGIsCUbnm+xDKgVTO43zXBQK/Vti3NBcGEA9CvEwciIh/7oHoZK6HqEORAMU6Bfm1wvXsHnzf9/m+CwVeF4MNfmdQmi5rkqUvO7T7JxMM9JL7/t++nCQ2i8A99/3jvrCnqDjuOEhU8N3K5Pi8Ba41H47IBVHF8fy7Glg7DmXpQhFtyxDqsLWt0HdRf3GrZa61mDmjdRoi/bDPcARggflKsKAxLnxw31OsKUrL01rCkaMDb7fWl1AObvpq+eyzIC57X8OMortfcDdfXzSo14ipVl9143coISEhISEhIeFQSH8tJCQkJCQkBLT8Uku2wGJrSSZHJmVi54QMfX8oHE04kTDyE+IIQASeYjCyi9GzkGHBcuI3kLpmzDBQi8UAFwhic4HADMLJ42Hf7gHpFBbJxVwsOO+W83ikUwqxYADBaCEk2MC0iXrTfdPZSN0ZffXmajEBAEFgfVGKG4u2CDBmAsEaTV+l4Qo9Z3nB3J2YLasxd0MmDrC2BOtKsPB0IO76/7s/+8s5EHqQfEaC8olI6MWSmAeRtlpmJhRUVYs+tYkEjbo16Lbz5p22jkpZPQjlbs9EfaLcifu+z1bhnBMAFwIoE4+buSAQWdnsAj9O6HFEAcSBIAoY2VwRz4+7KOBEf6VB9DOLIMwkMMEgzCbA+A3wa8Tm38/vyz31Wi5WxaLBdP+0Ec2NFzfqlw6N0ZtGZfTGUdn7tr0hRUGRYXoL0PkHnbLvnfsye0eYieBYKB5jofTFIDyDIY4vhMOcw0wey3MvUy0HmyVAn0eddgv9ltXf0N8Bc1t0FIGboxi+JgGLc7O+C/2LtcOLGsIZ9x+lM0tz78braOBikYsEuBAzcYRQ9xsf0yi3PvzW7AJHAs1m6qOJNLpxzYSEhISEhISEQyH9tZCQkJCQkKBoeHiDuR+qb6+XidEJmdw9KWO3joWjCScatggmBLjCSKZTDJBhCAZG3jIyHWIXQjfEy0hgTM8rEwwgljyMzK7hoV/TyTZGrOpferZILlYdTOOn2uwCMPzjYSNijeSFRMZf/HAgZgemZfLeSVtI2kjcUEXy/CU/67UMGqulukHLoU7TmK2iZq57PK/JV74T8s7DBY37VFbHw1VPvWQl9I552TCjgJkEzbq1hu3OZ905VxfUjDwlHsq5rOzD89uzK7Z8bots/epWix9PUF4Q/UayT2mAyBNEAQspQ4h+zoE0dnEgEggs9Djlynm0fwh/Dz0dUj8Q+EbqO9GvaXlcv2NCUxCbjLT2dQeCUOCiwHxm1/cw3Buz68WzCzQ+8K0BqX9Ivax43Qr98uHBLIM9b9mT1Q+1ypkCCAYGTd73d/tk79v3msCw9y17DzrXrhGHAfd1VsG80Cw4CPOkxbMKHOSPtWPKQ/PL2mWrtkvqL23Q63Po58y0vnOteIbD9hdtD7H7DhcH3BwsDD5y3YhM9UzJgakD0lnbKefefK40PaFJmp+orfPJzdLy1BZpeXrm+qz1WWrPPrQLNMDixNb3aJ8Ut1nKw4QCZqEhUEaCQcMjGuTWi++DUBCAmEp+T09NH3WxJSEhISEhIeGBB/5MnO9PvYSEhISEhNMGLGTZ8aIOaVjRIONj4zKxe0KGfzacZhWcRGh7XpuNxuQvF9aR6P637nBEpOM3OuaIFUgWRmM6sQrpBDfCXzyAv3rUdr5qZ7Z/nID7GyfBIC2NuG6onntuZk4wEtzJMjUjhON9FwT0fSxkH5KpMuTD9zDd93jVEr1HyIhZ3X665KcWP9XQcHFDXsZW3uRlW7XNGmi/sl2639ddnq9eFzDEGsKQp3k+EyefPJ/Dvh0Ledv3hb5s7QJcEqkhAOXf8TKhrhH38ghptu+hfuw8op6u51XXVkuhpmAzCVp069CN8DMf/YxM7Z0SI7QRSyYC2e5EuprBSezoL/uJHRPy1p+8VT64/4PmGueu598VjhwfNF7aKDWtNfksBysvyo7ZM5QN5UG6izVh38z3KQsvP/Iz5GuetyHM8zfOWwdR8gfRwfONfGS0dZhdQP9ix4OZABHOzcWN8fAdwiAwlC1yrMcs/0NZNF3aZM97JKR26axS1l8syfqKvDw1vPvXMxc0iNvs+8yW2PhuDt47zob7IhZwi5jwD9E8dFTuB8wnFhDf+9a9NqOHNUT4DZ7cM2nCX1zuVo48cyhTjPP8WkdDLDgU6Gvqzqkzsr50Xsn6GJ4N2HNl0TykzFnkmtkiiGX737M/OxCAUGBtIPT3cZ21xZWbM1HZBAM10urOq5NtT90WrnDfgGDV/oJ2qTujTqZHp2XPm/ZkM1QSEhISEhISTmtcdNFFITaHZcuW8eervD7bTUhISEhIOP1Qs7RGOl7SIaXOkpEa4/vHZfT6URn89mA4I+FkAOTYxD0TNiKVkZFNj8tGd7Y8ucUWpTU/81qWEJO25gSESxjNb6NWCTGOqbX9Spv0fvr4Lfra/KRmI4hsVOe0WOikKPF8P5CiOYHNPqSZE89xCMnkIaQT6Xw0tDT9AOJVVXr9JRrqpjmgh5bIyPYRGb1hNDvpFAIzCHAflBOfvPvsEiN4Gx7aINMHprMFj6P8y03zhtH7lqexSEDeuThDPOSzxUPejv1iLJuJEIg+I7gDYejPot/I9kP+236Ax3OSkSDEbeZHoUqKS4omFrTrtly3pbp96blfytzZzOh3ZvUDgewI0fjatmkICb7m79fI9hXb5RkNz5DbG26X/e8qJy+PFVa/ZbW0PbdNRq4ZsTwuyyuvrx6SDkJgocfngb+rwbNCwzwP/Hh0LCb+85kpwfUQZD8urCxfmZUQDOLXLAgHfg2Bqyac0JDrxKbX4rpxWuOjG6XurDoZ+PriFsqf6p6ydkkfF8OFAsCaLcx+M9uTGetvgKHvDNnvl9k3s7UTHHleg0PkcQ7yzrFQHFTuBywkFABG8Vtb0o1+HKGAfLc6HLVX7+PcmEVk0Ov0/VdfFj9KaHiktr1f0bb3h8tl5V+ttEEEuCekX6nfWC91LXVSaCxIqbEktQ21UtdQJ8WGoiypz563ulRt652w5gVug5a9bJk0P7XZBCDcGpoIEPqPvO/he0E4xu2ZiQZ6Huso4DrtjivuCE9338Gi6KznUlhasDo98tMRGfpeGgyRkJCQkJBwumPVqlUhNoeGhgb7M3GBP+8SEhISEhIe2IBcXvY7y6S4rCiFYkGG9w6bUND3paNLQCTcN7Q9py0jV3DN4CPF41kDTgRXhDkJHMz+2qnKrmkkahiNu+3y+zda80iw+u2rM0FAn3F6cDp7L30nd4lj7wiJpMeNHPPnj8gyJ7DzMCZc41A/OQnLR9NYsJuZBS4UsIHvL/m+haciGh6mf8hq3hnRRn42VuXuxPq/1J+tOUC9Ca6GXJyxeuJ1hvrhIoHve/5X5D3iUr7YMab3tePzlZGXhaezX1FmeRlxmdpqqamtkXrdEApW67ZOtw9e+0Ejjn0Uu41ex3UOpLcT0hDXjGSnXgeSG4z+fFQ6/7DTSMvNZ2yWNt2uuukqueX8W+z40cKqN64y8SZf6wGhTutzoaEgxVJRbv2NWzOf9KF+W+iiC2E8q8DLprKs3OIyosw8T0MY56+F+rH8IF/IM2wqmh2geQmJasfDjAIXByyu+ZvP4kBkmGdmgQsOlM30cObuxe4ZZjKsfedaGfzeoJXH/ncvXqyBKF71Jv0PHMWpFosFi4W9m34XIWTN29aEVIXmy6LAdysJf0KPgzhegXm/G4W4UiquKcrGj2+U0Vu0ng9l9Zvns/IOZehGexnfMZ59X237i+//zAJcRSHM2JpFW2szsp76WypYe8Ql2LBuo9OjMjUylT2fwsWlWFAyERHCv6TX0HoNZib1nbTOTB2YkpGrRqT/a/0244d3s/MjAcHurd8nT1hwHfdjRwMs9t7+wnapP6fe6jMLau9+/e5wNCEhISEhIeF0RZpZkJCQkJDwgAILlzY9tslGhOIaYPyu8XBkcTD3By9bJrWdtVJdUy2jXaM2crjv80koOJHA7zMuHxgJabMFOmqkur06mxEAkcLoy4UMIQHiHWLYR34XIjIytuISWfqSpdLz4Z5w52MLfFvbc0AIteifX5OS7etzEObxgoaBEDUCNJCieejEKPsxKQovpYGRz6QFocDS2HSf2QVsmpP5NnTvkPnlPhXBqGrqh+UH76pgVgGzOPAzzgjkgwhnPdfzNg9DvGxmQchnj3f9c1cm6ARRx8g9vh/ymdDiijgt3rd4iHhIwD2YWVBTXSO1uuF6aJluzCz4z0v/U5qf0JzNKsAgST10A1zHn0E/I1ePyNjNYzJ+27jUnV0nwy3Dsql5k4x1jknpKSXp/uCcG6/7CojsZS9fJvUPrZeWC1pk1QWrZOXWldK5rlOa27UMpqdkfHRcej7dk+U9eRye0/I3EMFx/ljo8UMgzz9HyIuy/NV9I3GZCRBEFSf8Gf1fOrckhc5CRvguclYB5jMLuGbZ7AKuy3GuwTmIDbrPAtsIKGDgfxc3uwCwQDKCKbgvQgHAJY5Z15Qc+MQBGbl+RAb+b8CMBbMPCX2Vg1CZNt85AfPOKqiAzS7Qvq+4oSjF1UXLM6sn6AWEoZ9zY5827rg/MwuW/tZSWfWGVdL5Kq2v2mew0HFTW5M01ulvT02NFuO0jIxofvUPyGj3qIzfM25/I+CiEGGD9mWLU4cFqhGDyGvqFqKRCXuTM/r6+k767PyGIQDx24bbJcqXdzRxwQVP7V9wh4U7orueffRchrE4c/2D6k3Uo67zDoPfSrMnExISEhISTncsNLOAv1yTWJCQkJCQcMqBUcWQyRBNjJSDjMGX/WJQu7HWiGKEAv4TP94zbv/5P55uaRLmgF9ziAxGhUPeYS4QQKQsJAx4GI8cN7Ldw4KGkPCQuh530hjT87r/9f6TpotBy9NasufiGWqX2EhkI7Ij82c3ghqSjOd24joQZfl+nK4fNyNeiToB62l89FzNMb1Mtdz0mzfJvi/uk54PHR+x5FgB9yvmEz/kB6Au4GecEcBYnq+UuZ7nbohyMlLT3OL9OD70k6G5eodYQH0LeU/+5nmc/VNeDh56OklRnIWNebbq6up8YWPcD32066MmhhrZ6gaJOqtfitNAdD3KFFc2ANGEcwqrC7KvfZ88vf7pcmfHndL42EY58NEDds6RYvWbV0vnKzrNNUv7Oe1yxllnyODwoPR190nP7h7p2t4l3du6ZejOIRnbPmZueIZ/MjyXr/oB9rzU4ShPysC7VabNA8tzPddDzMl+I/ljMp9wbNb6Gz/PxJdIIDCy3y0SCvI4IoBeJxchomuTll+PdD0X12l1D66zfcrzSNbC6ftcnwkGR0vEpl5QJzAW8B342oCNdMcN0CGhr5bD43HaYjDP+c2XNdtaGjP9M7ZIMO017/f0fAtp16HPo80xUAChEByJWICoxQCDFX++wtxztVzRIg3nNkhre6ssq1tm7X1kckSG+odkdP+ojN6VCQGsPYDIw5ol5Nfqv10tT3/M02X5w5ZL37o+2fbkbTL4jczt0+TOSRm5YUTGbx+3RYVNMBiasTpH9aT/r66vtndAFOdvGHNPhMu8xmppfFSjiZx3X3nfxKGFUH9hvdXBwrKCtZPha4btmRMSEhISEhJObyQ3RAkJCQkJDyhAoPAfbab3QxiObxuX8TsPP7sAtwyMXi92FO0/7xM9EzJ2y5j0fjYJBScCzU9pnnPropYTspCxMbEfzEZ/E4dQWohA95DjEdFkoROTQP8Cuvncm8POscXa96yde69affbiEiOTcvHDhY9wzIix+d6L943fKyZag3laWajn4orozt+ac2txvGZVHA/QrvEVbu5uGqpk5etWmniIb3f6CHf7VFavyGcXDdx1leex53+I73vnvmxNDL2HuyI6SNiJ66OX00KhfrxMXXwoFoomFKzQbYNub9v6Nln7j2uNZI7dEEE8miscwuAix8jpmVmbATEfGEHd9PgmaXxIo7y04aXyL/v+xUYW3/2CxZOSzCRglgJEZ+PyRlm6dKn09vZK3719Rt7icx6ic2ZgxojTsW1j5m6FUdSIFeaeSMvAhRtvCzZLI6RZ6OXi7dzLK7bKMvP2QbsA/O9Gzcl/mwkQDDdVNmOAdBcIXASIjDTLZ74XxIA83xGicD9EHEKYshlW0/Kw71EuuCbS0NZXuazZ3NCQT/e84p7sGU9CMPJ97bvWZjvkXzw7IEQPCufBvLMK5vteiHd/uFvW/9v6XGCx0Gdq0Fa8vWhftvmizbJ7bLdM7JowN0RDP5hffGHmBAIBo+oRaRCgqXOQ9c3FZpu5g3uh/bqND4xb/aW+8vcAIsH49nETVxALHEtfutQWUa+/oF4ubrvY0n7S+xO5vv16i8conZPNXGEWI89Qd4H2UcvDbLlG7Qi0/lIHcUvH/WiPvPv+fzz664qwLhMCHyIqeb7/ffvl3lffG44mJCQkJCQknK5YyA0Rf3rFf7IlJCQkJCScEuj4jQ7zjw1Jg2uAiXsn7D/6h8KyVyzL/vPeov9L11+/yQOTMnrzaHI9dALR/uvtmVDgLoYgzN2VUEwaOkEI2boYMhZiyUMnET1NPzm0Hty09aawc+yw7l/W5WKAk6MQUTmJjZDA8TBLIn9uf9/oPfJ3IIji+XuRFASCWDDY/ntz/r0fSEKBo+7cOiP0zef3hqKs+ptVMvSjIRvZC8qIaSyqV5a3hxAM9v3dPqnuqDaizwQDrbN2Tjj/oLpJGJdZZeh1U7/HM7FmQaFQkCbdIDEfodu7v/PunDR1cvogsUDTIVQn903KgY8deqbAmv+3Rpqe0CSdD+6Ui3X78m1flpvPWpxYhtjF6OTGNY3S2NSYu2aB/GbhcXygH6r/rd1Sa37Yva676GflQbnQ3imLuGzIW7fK8tLwoPIiT4G2aSOrtdjLhADNJxawzUUCBIEobvvRuXlI/kP+Q14T17w/SCjwsvHvYKOZOxr8xRdWFExMoM2TX7v+Ylf2rCc5Nn9xs2ZI2IlDjy+ABdcqAAt8H4EJcQyRz/LRxRmNe39GX7b+wvXyVN1+otvtk7fbYuagrMw1ib4VYaC2UGsiXKdutK9B3bbrNjQ6JFMDU7ZgOjMLR68blZGfj9ii0IcCix7z90fdhXXy4PYH2xoj3x35rlzbcG04I8P6D6yXnn/vsTrP7IHazbXZmirajhAQTDRoqra6jNBH/WHNpIFvDBz1hcgRC1lwHFdL0yPT0v3+brn3z5JYkJCQkJCQcLojiQUJCQkJCQ8YNF7SKKWzSkbYMZKV/9wfblYBhI0RiXVVRj5M9U2Zz+G+L576QgHuG4xgd+JNQ4s7oRYRbDm5BvHiCATLzlftDAnHD51/0JkRiJHli59CEMZkYEy4OjkYp/u+E7EhzL/jafoxA/pX0I3rbww7xw7r3puJBfZeQRCAFHM/1fbuLhZwjr53/m6V78SzR+aCwHxphDt+f4cmZnggigQxGEFMO8eFFSPp21/Qbv77AWQi+emEtLuliknng/KdNLU9b9mTzSyA4GNmgV6/7PzKehp9t6z+hdDL0p6D9qr1gZkFjbrhgui2sdtk+OrhOaIaYtoJaRcPEAo0ji/68TsOP6sKsnLlX660ke5nbzjbRlTv+eEeue0xt4UzDsbSly011ygIMc2rmmV0aNRmY03uX5xIEIPrWD3XOp+3bfqkyI2Y7WN+3M3Tg+Vlxr6GlqfA/1dDn8Y6BBH5j+slFwcsJD2Oh/M8ns8QQLCJRBsLKYtYwGEWAcfi64S01W9bbc+IaMXvDn7t8Rnf85FTpy1u/q8gGmDAw3lwWKEgDiOw2PGK162Q1qe2ymTvZJaH5DuhmvdniIGI/q1NrfJ43Vjjo1U3LQkZ0G0obOfq1qfbtbrdo9vA7IAtUDw9Om3iGut54IqJNVv6/6c/PMXiwOyCjl/vsFkq5y09Tzbp9pXRr8i19ddaX2/i2Kqi7PqrXZk7vdC/93+539ohiyrz3XxdnjBTiXpLPeG57nzO0VncGDBrA6GwbkOdTHRP2ELbe968JxxNSEhISEhIOF2RxIKEhISEhAcMWp7eInXn1RkBw0jNwe8NmuuA+QBZyIhWZiEYYTMxY4s94lOYxRVPdrA2gwkBxYxQLht1jzAA4Uk8Jtpic0ItxI1kg7CM/wIgVDua5MRisfQ3l0phbSEjU9wgTyHOeV4nX51oZR/CPA79eEyo+3FIxPiYv7ubArJ0MWTr/cG6962bezfEAC07ymxq39RcuVYej9+b9wjPfChxIN/X9zWh4A9OH6HAwQKhkHAQcCzAi9sc8tnyMNT1sjbibYM6Qxjy3PI91K89b8zEAptdgLujxqx+mvl5cTwKLR6Vo4eYlbXWg5q6Gqkp1EiDbm26fevXviWdr+wsH9EeiGmfVQDhfOA/j2zdgeYnNtuCrvhLf/SyR8uP+38sA98ZkDufdXDbX/7Hy20kvi38uqxJhnqHZHxH5u5t5yuPXFi0clmuedigfbHW9zz/9P3zPs0tKhe3XPisOGZ5SvsGWrZGVlPOCAaTsyYamXAQjTonNEEgFgrYd3HBLQgFludeDj6zADGAMglmx+Pv6nFc2Wz6zKaMBB6eMXEbsWCya1J2vebUmF1Qic2fj2YbVCAXCoBH43OJz/Nd/173+7plw8c2WP+f52cQC1wwwGUg62XUnlFrC/Za3QntzBZxX1KlTa9axifHTRzwGR02C2bXhIlcR8P1YPuvttvfF7SlrZ1bbbbOJyY+ITtfs1NWvHqFnbPnrXuyfl3fB5ERN08IHXe/6G6Ls3ZG/cPqbeYJsw1MhKROa32Z6p2SkWtG7vf6BQgXq/52lTRd0iSl1SUZ3T4qN2489gJ5QkJCQkJCwsmPJBYkJCQkJDxg0PHCDiOeIIDwST704yEZvWE0HM0AWci0e/6DbmTskiXmEgLCYOy2sTI/xCcT6h5UZ+QH5IKPOnexoIxMUztIKPDQiTTCeQhKi/MXAIHmS0yubXvKNh7juGH5q5fbyEojVIK5WxIXNux5nYCN3uWg8BAigb1rfB5pQKO8+w1Lb8j2jxFysQALYgDlh/useWcXQIBp+dn7LEIcqEzb+UflZO7pIhTEYGFd6hYju53wNVTkVd5eIOnmI/o1vvuvduejgE0sYHQ858d1tDLu9dHTiMd1U+9r5ax1obpULTXFGqnTDZcpX9v6Ndn48Y1zI9qDQODE9I6XzolARwpbv+CJTdJ0YZOcX3e+XL396oPIw5V/vdJcptRuqJW6pjoZ7h6Wie0Tsv9f9h/WTcuhgPiQtwPaOHlC3tOfkReVfVkoF4/ngkFIz9uzfgz0Y3Rn9GnTmd/6MqHAw3hmQaVAoGZpgaB2wcZnFVg8EgkwysbKKr6OprGeDqPyTeRRwz+9LTDcNWXu87reO/8aE6cKNn9uc4hlyMWCEOQhmC8tIP8NUuv9TK+c8fkzZPzA+Fw5uWCgeTx81bAR/fjfrz2zdq7eBPPfRVvL6O5xq7cIBJDvq16/Ki8L7P60o/X/ul4Gvjkg7c9vl4ZHNcjaFWvl13V7j25dX+uyAQosiGyzDDYUTbDAzdDuv9kdrpAR+bQxn2lgogFCJ6KB1nPenbrCItD3deYf91jzjjXZDKHOOhm4cUBuueCWcDQhISEhISHhdEYSCxISEhISHjBY8doVNqIQkoaRm7gZYdq+AzHBACkHj+RkUrAyolUBYYQP3xON+gfX28hlJ43dytx0uBUCKQJxFqUtgZSEQFsgLEsjHwKcrDmUS5JjAcgbRmkbYQ6JHr/rPKPr47AsTT8xGVtGysZpgby18zkecH3zwQtUHm1s/OhGK9t8dkh4P0a75gSql3sQFKy+VtRfS5tHLAD3/km5H+qOKzvk9ifeHvZOP7DAae3GWln1Zq1nmqeQtSCvHyHfPD+NgPY64qGet+vPd0lhWSGbXYAAGcSC/Hzi0Xfy9KjO5ce9Pmod95kF1IeaUo2UdEMw2HnTzoyYRuTA3U0gqu/903uPyiyYdf+0Thof1yjt57ZLjW77rtknv7joF3Zszd+vsb6odnWtVNVUyXh3NpsAP/uLdTm0ECAuIUTz9h6If0QA689oE96nEYbjbiYWEK/ISyvHQDa7MQONsEwkCGEuEhAP5P5BooET1IgDYWaBl0MsElicdD237Bpadm3PbzO3eXYdPRf/+tO900YcY9SrBwo2fXZTiCk0K8pCMF9aQCwWYCz4u+4t62Sif2KujEL+Dn530M7Z/pLt1rbJYxbRtlk2tCvqhGLLZ7ZIS0eLrF6yWjp0Y60C3BKxDQ8Ny8TIhEyPT2dliCDk5Y3oExnHaJ/2OxX301p/C3UFuetld0nb89pMCKtfVy+v0u1Tum3v2i7bf2u7tDytRcZuHTvkOgQmGrCmAQshs1j7Cm2V9DWNmXsi6hzrr9yXWQZcz9r0RfVSai9J3w/65LZLju/vfEJCQkJCQsLJiSQWJCQkJCQ8IND6y602MtMWxQ2LAxpx5KN6IZQgkSCUnKiLCDsjEwj1k/8KQiD56NNADux7xz5ud1zR9NgmIwiMMHfSWM3I5UAqOpGWCwVq+fs6gRaHTp54Pvg+BBvxCsHgFxdmhOHxwuq3rrbnNDdRLhTUzoX5O1S+0wLvlqdFYVlauE5Vte5wDGgS9eDauvIFKo82TCwIswj8XXkW7u/uiOYrb47PJw5UpkEkn/eh8+TAzgM2ehX/9BCTTgKfzmh+SrOsfvNqqd1aayN1vd5Y3hHEeUk98XYR6ty9r77XXOjkMwu0rPI+x/sgzl2gHVqc60ah1e9Q17HqYrUUqguy8592SvMTmjMCEyJzfEZ2/PYOWfrbS2XXa48OuQwxiWuSxsc0yrq16+Terntl91/vzgjFs0tSbC9anzixf8KEAu5/tMCMBSddc3GA/CDvqPNuoX+zdIy2QH7O075zhP6cWWUHzShgP4xUt30n9dmPR7BXhpgLBqE8cpHABQPEAr9WEAzGbh+TM793po1gt98VRJ9hNdYuYHZB75RM3DUh+/7h+P/WHGuY6yXNihwej9MCymYjBNv71r22+P2a166R8YFohoEao/UBYkEMRs4jgPnaIt5W+W2B6LdFxOsKtkA364KsDhtCQq1u07oN64aY0KNbt269uiEy6JVsXYLNurFIcr9ud+i2R7fdXbvlzpfcaS6+mLFT2liSxzU8ztYf+crkV2y9k92vn5tNcCjQP+H2y9rhmdoONxSlsDJz00edHb1xVLY9+chm/7EuUMdvdkjDuQ3WVvr+p0/ueMYd4WhCQkJCQkLC6YwkFiQkJCQknLJgdDD/4TeSLhCtOYEULB9x6vtOKs1DLjlhNx/JBLEEcbvY/9wfTbQ9py0nk41IgzSGVGOf964k0HgPJyyJVxCU8bvmYZwn+snzIJA0uDu45/fuydLuByAhIToQdWYGZ2S6b9pGdQ9+u9yFyZr/t8beJX9HSHSIckhEf9/5nr0y9OO8TxSf7xzPO7NILLmq+qoQOzYoEwt8dgF1VT8TO8tnFziJTB7YO3HaAoLBva/NZhOse/c6uajxIiOybuu+zWbcFDcW5eazbrbjpzuok0tfutTchkDU5vWFvCRgP+RrZdo9L7/HRsTnaxZQRpRd3O9QT6lrcTwKLU4dDGlez72cEQtYt+D6s6431zX4t2ck8YrXrLBzRm8dlb1v2Zs92FEAM7RafqlFGi9slI6GDtl57U7rA2saa2RqdMoW4GYWw31Zn+BQsNkFnRkBGotmeT7S5mn7buQdQoHnHWHUFixNAemMSJD35S4OeMgIdYSDELfQRYHYgkBgpH+I5yPPfcQ558WCgacF49q4lGPNjPx7nD+ifSGzC7Rs6RNZv2DX6x44swsqsenTC4gGEfJZBbYzZ6STP2tfvVbGhsby8uv/Ur8d3/6b5WJBJVjXiPoN2c7vkP3G+O8qcdqfC9RRG64qVEl1TbUUigUp1halrrrOrndg4ICMD4/L9Mh0Jg6xZoWWJ8IP7uRwjYQ7odZntpqLpOWdy+W3dHsPbol+1CW3PXrxo/lLZ5WkdEZJmp/WbHFbd6lJG4mCdUNuffitFl8McGfGQISm1U0y3DtsC6Lf84r7/xufkJCQkJCQcOojiQUJCQkJCackmMKfE+YxuVQhDmA5cU48JuiIO1nMvoYWJy0GBMVMtnDoiZhZ0H5lu/k0ZhS0vbMLB8GMMHNSzd8rjsdheFeL6yfOAyPYYmLUwV8EMyI3nXFTtn8/gPBRWFOwOCO5EQq4J8TawP9lI0MB7lD8me0dXSxwEieQhXmZ+Tv5fkW55u+4wDEzzTPcq7AYJgthaoq++qzc9Zq7ZO/fHT0ythIbP5a5IfL6zDtaXeXZlgR3RF7WTiKHkddeVpWCgRONkEkQQnUX1snZ7WfLubp9fvjztj7HLx6aZhbEWPqypbLyr1ZKw5oGGRsYy+oJnxBanHwmGurQXS+8y1yf2boF7dnsH2t7wawOx3Gvp94e4zTKW8vU6zl1HIKS8u4odsiOH+2Q7S/abiJbx2912EhjwGKn+/9pYVcm9wXrP7Bemi9rlqYNTTLcMyxTe7K2CvnZ89Ee6f/vY7MIPG6Oqpqyum75QB2P+u9cKNB02/d8C3lp0KgFoaxwBWPEcxB9TQyIBQPI/0A4++h/24fMJ65hLBBUWi4YjIe0IArk5wShgGuyHsFZPz4rEwk4pqEJC8FXPnETC3qnbN2dvW87dv3OyYBNn6oQDQLmm1WA5QKCliVrD2z8840yMjpieWsLE+uxw4kF86F2Y62FCNkND2vI3P7R33pdW8B4DmaEIPT47JChHwxJ35f67HoxcIvU+oxWm+lQWleSl1a9VL6h2+39t8v1rUfm7q7x0kYTPGx9hi211vdQ720dg28Pyj2/f2jSn5kK69+7XhoubpCWhhbpurVLbj47iccJCQkJCQkJGZJYkJCQkJBwSqL919oz0txJ1vmIJSfo4jjHArFkYUQ0GQHooX5ywE/MzMr4beOH/U/4sQAkJvBRt5Uua4zQqHhHC0mrfEffjwlQj1ekm4EZNc2DysVOY3T+YWf2bEW9iH4qr1u2H8W7P9xtPt+NHNVn6/tinwkFvFP+Dnquu+CxcvbZBZXvx32iuN3DQy/X+FwNiJvpMYSC6qpqKeiGewkXDKZ0+/aSb+sXjg02fiKIBUEQ4B2tHvO8+hm/a3yOPKXM4zzgXfRj77Jkiez6q/LRyKz9gDsTBANIsJWrV8pLdXv7zNtl5I4RufnMRBDFYNR3/YPqbS2DC9ZcILdN3WZ1BQGJuuCbloZtN/3qTZlY0BnEgiDieHu08plPrCTuddHTMMrU23W4Fm0Kov6Gzmyx7eLaos2EYAFURjIPfX/ICPyjhWW/u8zqY8sVLZYXtc21tvgp67/secMeWxT2WKLhEQ1z/Rt1nfwkn8gv4m5R3tmx0F5iIBR4/+3iQE7mIw4EAcHSXDRwcn8ypIV4bk70kw7Zj1hAWki3/0ERcM/Qd/p1pw9My+Yvbp67ZnBjZEQzbonCLAPEAmaysR7E6QL6wYMQ8jLP00gsIH9ZK2PLG7bIzo9ks1wqXRAdK9QGcYGFko8ELU9tMZdILLBdu6lWLmq+yNwYfXb8s3Ln8+48IhGOvgoXR8xagPy3NT+03TLz55bzDr1QMbOH2l/QLq3nt2pWzkjP//UcsRujhISEhISEhAcuFhIL9E9veX22m5CQkJCQcPKh4VENtsgflosGgVC1UPedbMqJJ8LakAYJFRGvOTlX1Dh+/yHtIKRCSBq+yXs+dPRIucUCNyk8n7lMiN+LZ44JNTfeoTCXlsedkHRyjXhMYDqpHp1Hmtu+d5bPqrDFGx/eII2Pzp7Pnodr6LUh7Q6K66eM1FOD6DDXCltLNkISgtJIVp6bcuD5ZvXU8C5+jJD38vfI3yfcM07LCcUKYhFxwL9DyHoFiARF3VhMlg2f1aTt+PgOI/qOBdp/pT3LP33fuO75c+JrmxGjvp+/45IQD2A9ghir3rDKzmu6pEm6/7U7E7waxuXa9mvlVUteJXs79krtH9TabI/uD5z4hbxPBkDQjt4wKvv/Yb/s+PEOKW4uSuf6TmHDd7kvNFyvGz7Kt39yu/U/1fXZ2hpWPla5FR6EEe4gj2vg8fx8hdVvjHrpdVNt7zv2migA6h5cZ+sH4H4EEWHv24+iC6I/XyGNFzdK4yMbzQ86C6ri110KIrdfertM9x+bNhCjuln7OW0PXsftfyUKiwei2IjjQMbnIYR8IOWp0xCoRuZXrClgcdzFhDB3HcMIf/ZxH6T7eVog8uez6eFsRLldV+8ViwsyqfEgKthzKzb++8asfc8umRMTwiwEe4cwA8Li+r2B/52bbfVAR9/n+nIzt1ELgbwMRhvY96l9Jjizj9h8PGDu89SOFLjvol5N3jtpf7vsb9gvvY298vSap8ue5+yR0VtGbfbJYkBfxe8CdZTfi+oG/XuINZvUEBEOfPRAOPNgLHvFsswlUtNy6R3olaHvDUn/V47NbKGEhISEhISEUw+rVun/IyvQ0NBg/2vhz7CEhISEhISTDst+Lxv5mgsEQQzIyeRgRg5XxiOymNDiFWkW6ifi8OxXEXLneC/0C/BN7s9pixq6+OGCByS9vyPvEkJ/r3nfjXSi0b6RcR73dMC7z87Kz1f8PCRkYGRi2eyOQPBV3seu6+nRPQjz/WD+/EaaQ5jX6L1HZ8v9SUfijl0zvGf+jp4H7HsYH9cw/46G7CMUsDGrADKYRSghhNmHJB7V7TNLPqMPefTBop+VgpeVp354RsLRn49mxxGJ4vKHeNR32P3GOaFg9d+uzr4LwjX83fFLjfiEOHNuw7nyMN0+Ov1RGds+Jjdtuf9uph6IKJ1TMkFrxZ+skE2P3CSP0G2nbtSTj/7yR21Wgc0uYBFy+hjvh0L9zfsd6mIcp+5RzlFdtfKnfKnjkXB026W32ch+0PGSDqk7v04K7QWZ2D1xVHzbd7xIr3lenS2eyvvwbN0f6TZXJ8xIob2NXD9iz3E8wD3zOh5EXMs3PoSh7VpIHhKGvsTcDk1rpwUJDyFPGISEPD41K9tfeGxGoTN6vHIEPChtKcmav1+TiQlYLGQgPhBnpkEQL8wV0e5JW2D6dAeu2vw3uCxfNbR2BnT3vrggOlFAEMEaL2mUzlWd8iTdPj35abnrN+6S3k/1hrMOD0T2unPrpP032qX+wnqb4YSod+OG+WcCcs66f14nDQ9tkHXFdXL77benGWYJCQkJCQkJZUhuiBISEhISTjksf/XyOYLaybVDiQWQSoGcKyOZAkHnRGqe5qF+csBRzM7e5/9Uv+Md75CnP/3pcvbZZ4eUxWPlX67MCTGIvPi9c8I4et+D3kNDi8ekvadrkL9rfI6nK5z4uvXiW21kpKPjhR1lYoGRNv49v098z+jaZfeN93kHvU4sFlBejJ7M3zcmyv2elWXqZR6eJQ7jc4m7UMDGLAJEglbdWnRr0E3PkhHd3rvkvfqgRx+bPrspmyETytXqspdjIEAxEww4Hrlk2veuudkeq98URAIM8FX/vueBArdEzAiBcK5fXy8X6naHbl3dXeZW40gWyTzdYP7Bl9VIx5Ud0varbeb2hFHNzDoyscD7IA8px0MJBsQpF6/3UR2nftMOGtoa5IdLfhieIGt3uCCpaasxlyP3VyzAhRijjIvrs8VSIWGZRcP6BDxL02VNUuwsyujto3LLgw7t3uRowfK5I3Pr5MKg5Wlox2Vtg7jmJ67pyMeNj9ooU9NTsuPbO+TOZ91p1ztRgAiG0J7cNynn3XyeCRUzUzO5y6Ky2Q2seYCAEGY34P+ehXx3/tHRXUj6VMeGD2/Ifo9jsUCjp5JQ4Gj95dZMMLi0UTrWdMhTdPvs1GflrhffJQc+vvDMgPmw+u2rzd0c7o3oP8ZuGpNbH3VwX+4LG29YvUH26tb7v72y7anJBVFCQkJCQkLCHBYSC/gzPCEhISEh4aSEEWpugaiutJxQhmSKCKeykHOciCItkHT59yDs3MJ37isuu+wyWb58edg7MuSEI+Q4BHcgue3XOpCMTpyTnhORUWjxStLSr+PnBNLSyTeLc4zvqK35uzU8jqHtV9rydLuvhgaCYLE4EJPets+94n2O+3NA/uiz5s/LtWd0H4II4QIQ+Hd5Vp45PH/ZfkUYHzPT+/qmNccuDYjjcgbRABc0K3R75Owjw9GjC3s+/djtPQ+w8NxuuGzy0ceQimVCwVtWZ+Wl5/l72ruG8kMQ8bQVr14hO/9wp/T9d5/0/6RfftzzY5s50bm0U+rPrZfztp1nhHTCwUAsG/7xsK1dcsPSG4zwZVS4uaFhtHhwOxObjWYn7iPbF4iX1XGPz8zKyFA2o8Bh1/TzqBv3A6veuMrWCKjdXGv9Jgu1TmyfsFkE97z8HhMjcHU0Mzlj7oGOF8jn6d7pvK7nRn7x/u7uB9M87/mPHtnxuzts4e6dt+6Uxzc/PvcrfyKB66ihHw7Jhg9uyNoj7ZM+h7YNCNS8zebtn34PsaixyvzLJ8wBgQ5hYMdv77B24PunIvq+0Ce9n+m1RYl7dvbIV3X71ZpflU3/vkmW/ma2VtFiMfTdIRN7cYtFvhQ3FsOROdRdUGftoriiKMt1G905moSChISEhISEhEXjfv7XIyEhISEh4djhICI/GmntRH9O/EdigBHqHlaYj2R34jsP3cKxM759RniKxeOqq66SYrEoH/nIR0LKEQLSnPvrcxoh7KQwpJITyoFkysmmKJ6fH87Nv+fnxtcIpJW/N+sC+JoHLMroYL+MzNdP2T38mhVxJ8bKSDL2o+f2vI6N0dxGqurHDGjo186vEe/rx5+r7P6QdYGwm2/h2hndZnVjgWNczbTpBrHyDN2OCfwZ4+eNnpvnJF+IG3mqxsLQYPVbV5vZOcHivGRdBlubgXIK18HG7xyXnX+wU3o/2yuD3xyUvlv7pHuwW4r1RanfUi9r/t8aOfu6I58Fc7oBn/IIOLmfe8QCt4jMzsltFwYQClww0NDrto+WtjpOqHbgk+UjjPPr6DEr7/uA5X+83FyRMEPB/b3j/xyynZkK7vpmcs+kkfbmF1372eOJsdvHMqHCR90H4SDPM80HiNbeT2cuW1jsduzmMRnfPi5f2PEFufyCy+WMbx55f320wSyJ9kvby9sonzjUNpu329CnYgg41W0cTJgPO35nR4gdG7T/eruJNavfvFrWvmutbPjIBlug+oxvnSGbPrlJVv7FSml+8tzv4n1B33/1Sd9n+2TwG4Ny4J4D8kXdXlr9Utn4gXkWfD4E+v+nX8a3jduMINoG4t7Z15b34Sv+dIUU1xXl7Oqz5Wbdxm5d3PoICQkJCQkJCQmA/54mJCQkJCSclBj4v4FycQBCGdK/QggwAQDhAMGA/TgkPRYIMAia6iUZCR5I1bLjarjrOBL86Ec/kvr6evnBD34gf/zHfxxSjwwxecQIZiOceM5AJueEUyCWLQzPbwSUnx/IKPtOSPdrlJ0f4mYQVkEwsAWFA+x5PF807teIQ4tzD7iukG7nRvewY+z7dYIAQdlY+Xh56nEnT40ohFTlw+hqPRTfq+y9iPMJAoGd67YAEAsmdZvSTb9lgkG7bswwWPfedeGsowPzxR2e0/KEMDwzZs/MuxDXdNYb6P1Cr80kMJGA9wr5XXmNfF/NRQNzuaTm2Pf/9sldz7/LFgYd+umQDG8flsmhSSm2F6V0RknOv/t8OfO7Z4azE+YDYoC5jUEwYPQ7QoGPhI+Eg7LR8G6Q/k5+u1BAHQ/1G4MQj+HiQ17/jwDLfmeZ1R38lhc3FK0vZGbExM4JGb151ASkiXsmwtmZ+xxbRHVsxurTGd85vuT72C1j5o7HXPMgygQzglWtEl3v67IFYofvGZY9uq140ArZ8uUt4eiR47dmf0teMvsSeeHsC+XK2Svl+bPPD0cWj7N+cpZ2S7otqbY89PZsIIz6Qyzfp49VwzVUwvFHx4s7bDZX0xOapPmyZml6VJM0XtAoDesb5KLHXiSPfv6jZctLt8j6t66Xs35wlokH93UWSN+X+qT3870y8LUB6dveJ/+h2/OWPE8ePPDgcMbiwELFzMqhzfLbUFhVCEfE1l0pbipK7cpa2aDb0O4h2XZ5mlWQkJCQkJCQsHjM/S8yISEhISHhJEPzk5rnhIFALOfEtVpOMkdpuYXvYEbKRPF83wmbELcwusZi8b3vfU/a2trk6quvlt/93d8NqUcOu294Trt/eAQnv42A4hMRTfZLHghkezePE/JOId3i0ffyUegar66pluqCmoY1hRoTCxof3Vjmgghy38UVv3Z+D+JcV++VpxP3Z4qOmfk7huvGeY5BoBq5Cj8acaR+bTONuuX5A6Ee4geZBdnm0LvIuG645hnTbUa3om6sYfCa331NOOsoQW9rz+bPHr1HnG55xnG1eCYBx+39PA/jdA0RBrz8aoo1FqeMK7HrtbtsUc3+r/abC5qx3WNGZhc6C0YynXPDObbYbcLBMLFgRGuJmgkEjIB3kSAWDNyCUFA22yCIBLkAEAQDRpYjjsbIr+GCwiKw9KVLbRR03YV1Uru1Vqpbq+3ZEAOYTbD37Xtl918dvJAuo/ZxRcQ7UfeqG2i4xxcmEAxnswuaLm2ymQ6HQv+X+00w+Pm1P5dHdjxSGs9ulE2f3hSO3n88Z/Y58qyZZ8kVk1fI08aeJk8eebI8aehJ8sTBJ8plA5eFszKw2PGKjhW2UHqVbtY2AUEwa7P0Yd4nhrj3hawLs/KvVvKthOOE4tqiuexBMMXdIe65JnsmZbxrXMa6x+Sqb10lP/vez6S3p1fa2tvkEY9+hFz6/EvljN87w2YdND/xyGcbUG8RwAa+MSCDuwflet02N22Wzf+1OZxxePBdXBGx5sjMxIzUtNTImT/IxN5Vb1hlswoeXPVg+a5uaVZBQkJCQkJCwpHi4P9FJiQkJCQknARof0G7/Sc+J5Yhz51Yjkahz2dOTjshY6S0x4PF+07YmBue6F6LwQ1PeIKsqK2VG264QV70oheF1PuG3JVSeDcDQWz8cgeCuDKek1Hxcc8Lj8fvrOk+Ap0FfyG62IpLinL+D87P88JCzO8TyO38upXx8AyebsdCHpvxDFFo5erH1Go31GbkaCBVc6IUHpNr8akUBUAU1ytlEUUcjzGrGyLBoG59ug3ohnjA6OBG3XArctTgz6aW50mU5ukW97zzd/R8JL9CmsXVKDsPEQkK1VqCVQWpqckEg/nQ/YFu81Pf9/k+GfzWoJHIkwcmrRwKqwvmhuPM76VZBpVwcSCfWRCbCwSV8XjfjdkFiAjMNAizDCjDSkzumrTvc17eHyyAzld1yqrXr5L6B9dL6ZySiT/UmaneKSMVcdtz75/ee0ji0Ih6fT6rW9oPHU+UzizZwsuFlQUTKplhMJ8v9hjDPx2W4auHTTD48k1flt/c9JtSd3adbPj3DeGMxYH7Ai2Vsq0yjU+MJ/Q/QR7f93jrJy7/n8ttZhL9qIkF3nYDrHzjPpH90CfS7rwPrGlf5A9PwlHB8j9bLqWtJRPVpvumZeyOMRm5dsTWFjjwqQPS+8leGfz+oAz9fEh2/3y3/PibP5af/uSnUluslac9/mmy7u3rZP2/rg9XWzxwJcTsgtEbR+WWgVvkkbp1PrPTFkFeLFhzZKp7yvqlmpL2/SsKsuE/Nkj9Q+tl2ZplcqZufXv65PbLbg/fSEhISEhISEhYHPhf5OuzaEJCQkJCwsmDZa9YJrVra2VmYMZI9Ny1UDybICKYc/IlJmIqCJo8rum2z6+g7tso+3Cuk68cx03H6M9HeZx5cdVjHiOb6+rkrv/+b/mlf/iHkHrf0frLrdm7IlrwfkvUwrt6ms8IyN8lvFfl+3no70k8f7cQd4PgYkS9bwgGepbs/9L+bD0IdwNFPs93H9L0c1A8HM/TazTq78a1vDzZx3g2PQ+D5PRzjUjjWCjrsvsQQMyRRn45mR6Febqdnm2VQCDgvWt1Iz8gBx/1ykfJ9//7++bP/f4CEiiux2a8C5/wLvaM5FecRn6EdHsP9qN8Is56DDW1c2XIe+id7Pv3vOGe7AHmwfBPhu0ZbAQ3hHTI4+r6aqlqrrLFj1uvaJUD/1nuS/90RXFVca6earswzJLNIR5gMwYiYjnfD2lWj7lGKEeKipHBe960JzvBoefXnlEr1S1aHtpOILVHrp5bBHnZ7y2z2VctV7TYs0EW4sqGeoIbM2YT4N+/+/3dRk4eDri+MuJU74cg0vXPXeHIsQf++id3T9rzM8LehEKtk4fqfwHELqPD+d7NxZvld876Hblu8jrp/rdsrY/F4CV9L7HQRQFmGMWhzXTSMjTTLcaPLvqRXLHtCmnWjWO4NMO12bRuM9P6/XiGlJrXlXy2CO8Z3tVCTev/78OXVcL9BzO3Smdn9X16YNpEtZ2v2Glruwz9YMjq1sh1Iyaosj4AdZHfgqn+KRmaHJK7e++Wc847R2pX10rp2SWZ2D1ha8QsFrjeQhyq3Vgrd6y4Q16k211X3CV73lzRDywAxL36C+qlsKYgNc36I6kf2kHrGa3yAt0+MvoRGb5mWA58NPXfCQkJCQkJCfNj1apVITaHhoYGo0mSWJCQkJCQcFKh8w87pfHiRik2FW3Es4+2hzDLyVZI5PkEgSAAOAmXE3Ke7ufzXU2HLPfznTwnjrU+o1X2/O3cf9xfvmGDvPGMM+R1W7bI72/cKBvr6+X2oSF55A9/GM6471j/b+vnSOTwrkZMQhATukE0QjKHZ85D/fg75e9JWjju723xsA/JzOYkeX3YSrpBmN/657dm7hlcLPC883tGYR7Xz7xxnk2fG7EDEs3WknBhxMuT64RygkRhpGdOrHI8XMOuGRPrxEMYx4GH9ix2KOwHQPBB7JFOXvDeCAfsQ/x998vftTwobS5J7aZaI2Tx+36kKBMLqM9YyKOyZ9ZP/H75ORpaPKRhVl+1DHEhxWwQRjZTdi4WdO3rkn1/vy97gAUAYTX03SHLX9zr2LWpZ/p81Y3VUtVUJe3Pa5eej/SEb5y+oNxr19da/lCOhwREcIDmZvl+aAdWn0ObIp/3vmVvOCMDZGDduXXWFvgOBD4zB5oe1yQtT26R4uqizSCA7KS8IJxZKBg/5pCbwz8clp4P9ch0P0z04VF/Ub2NzOd6zHzY/+794cixB3WNOm/ipPZ9zKiYOjBlftkPB2YYlLaUZEnTErmz8U65/IzLpfuJ3dLz4cXV2Ye8/iHWDyAO5AJB2M9Fghndn4XNL0fLq1rkouqLrN+gv2CmErOTiLtYkJf/POYzS1wsIN/xn89Mi4ZHNEjjIxul8VGNJuwlHD2wlgczWOjPKQdm3ux81c5w9GAgEozfNS4j14zY7xJ1kzbHYvHVddXy5Ic8WfZt3Sejt4we0e8Dro/4ba1eXS19LX2ytbBVRp87Kl3vPbxQhwsi3qN2Xa1Ud1RLobEgY9vH5OWrXy4fmP2ADP1sSG5/fJpVkJCQkJCQkLAwkliQkJCQkHBKoOmyJmn75TapW1UnU2NTtuhlpUhgBons5ClkciDdjOyM4oR5up8f4n4eXA7kHcbilFVLMhKW47vesMueC7xwzRrZUF8vTTU1UtDju8fG5KIf/CAcvX9oe05bmVhghGRBH25GH4939fee593tHSAeo/fjnfJ35Rw+IQ7JzHv6BrkM0YzrnSbdGnSDdN74+xtlx9d3GIGXk9t+/fjexAO57fcpi/PRc3luXONAvhlxHgQREwzCO8U2BSETvmfG/fQ9jWjVaHx9i/MMFtUtEO/EQ2JmAZCBHvpm39MtFgt2/vJOcxdhpI5adXO1lM4tGYlbd1adFNcUjUQ6HEwsQHRxsYByDM+eP2sILR7yIM5bSwtxq5/sa54UqzOhgHJzsUfvJD968I8O6/fdgTuMga8P2PtBWJLfVkbhnW2WwdNb5cAnTu9RqrhpsnpLfaQsQFaVDgbpatT3HBrN6zJlSv2mHLXN73vHwcJO/cPqs4V/R2dsxgfCAYbbFOoTYBbBlLYVRuYzGwrRYej7QzK+bfGjnEH9+Vp3GGndro1M+539/3j8xAJmE1DXlsxqvmgeIZQwwnux4H1ZlH6qXlvtqik5d+O5Mvq0UWm8tFH6vnDwAskxXCzwLRYNEAjcyspRsfsXu+XK9Vdam+NchIIh3WKxQJMzAx7HEAgwjdvMhSAauBuo9l9pl4aLGmx0O/WDWR+s49D0WLXHZdb8+GZblBeXOQlHBtbjYU0P2hKzF7e/aHs4cnjQzkavH7V2SV85VTUldw3eJU+9+Kmy7+x90v2hxc9qwZUQ/Syi3/DyYbmy7kq5uv1q2f23B68rMh8QyeiTWOC4sa5RJqYn5Bctv5D+6/rl1otvDWclJCQkJCQkJMyPJBYkJCQkJJwSWPayZUZa1TfWy8i+Een9fK/UnV9XTipDZPrIXAhVOLtAphI6CTdfPCdiIwLWhQETCnSDLCZk2//x/TaC77EdHfKEpUttfYJSdbVMzszIgclJObOxUb7ZvXhyYCG0Pa9tjkSOjBG2ZWnh/f2d8nCefLD3rIjbzAl9d39Pf1cIL4SC1rAhHCAi3PyNm3Nin+tg+TXJQ+5JENLmjfPR5zQxplhtxJsJIvq+7mqId/Jru9UsrTGy299ZHzV7X9wShXvnzxDAvqURtxNCGGF2CWxdBkg+4OSgn0tI2obCBrn269fmz0vo4pWR/42ad1pf686rM6KVEarzgdH5Nmpav+fXOegdori9h+ddRZqbzQzR8mRWAWWHKxRCxAJw7auutfBIMHLViL0fI9QhL40Y1+dl5DfW8pSW01owgIzH7UdeJ70qzVWpDOyrVQoFVo5ah+371GXvw6b00zUlDQ9vkIZHNUjTJVqSlzaZUIMwYO6FQt2zS43N2owBm0Wwc8LcDXX9S5eV330FxHPDIxukprXGyPrjObNgZjBzN8c7QsBOd08vWuhyMAuB2T9Ds0My3jAuz936XLm15lZz1cSi3gsBsYC27hv9AJvFmVUQmeOaF18jr/7jV0ubbswqQCDo1w2xgAXTp2am5lwNAQ1dCInNrolooK9qLosIJ2dtgVqOM3IcVzP8BiJQsj5DZT+LwM5Cu2aXN9usk+Yna1yNhZcRO48FajfXHnEZnQzAbRV1wtxXNVRb2+n74qEFpfkA0W9CnraVmmU1smN0h1zyiEtk6LKhRc9qAawZwwyH+vPqZU/HHmmu0vo60Luo2ST009QL3qXUVpLJJZMycueI3PKgW8IZCQkJCQkJCQkLYyGxIPsfR0JCQkJCwkmAjt/osMX5VqxZIUO9QzJ576Qc+NgBI0bMAmJy1SyQzParRtyPx/FgTrT6d+x4OK9KN4gf/L7jlodtyxe36BdFHtfRIe2FgtQiLOj+xOys9E1OyjX9R8e/tJGHhUBEQ9AGccBGnTpRpR8zEJ7f38keytP83SriZuE94w3BAPDuiAbtuq3QbbVuT3rHk7JrB1TmJxanLRgP98/dPEGYOllKGM7Rx7E0M41DHLrFhJqBLIkIPIOnecho3TByl+/OzMxkcd2cHMQN0YRuI7r16tYTNhY+xv+4ZktOlpvhV71Rc07NyNyWzGraamTpby+Vpb+51OqyY94FMMOoYrMFkJf5PCBvMWbBuAspF3pc7Lmv6P1cr+x54x4jGYd+NGR+uPHpjdhR3FCUzV/cHM48PTHdM52P9mchXswWMmYBZMJgMxMh3Y3FjUNoxzREJKBuT+6fNMKRUf3UJRtlH8RD6vv0sNbSPq2nuyZkbNuYzQRh1DmzCBAJjsa6EqWzSla/aXu8y/EGrl5YgBnf8IuZrVMJSN+ef++RoR8OyZ6r98gnt31SXnDuC6T9onbZ+vWt4axyQMpriYS9OXjafG3wB4/4gfzF5/5COnRDoENUpR9hNgGbfZf+jDZKnxb3bd6/hbil676LR/47kN8zDtVY14Z1RFp+qUWan9KcXbuyzwVhH7Bg+dp3r5V1/7RO1v2L2nvV3rcuO3g/sfWrW2Xr/82ftycr6MdYI8PWxtA8Za2B+wrWNBi5YUQGvzcoYzvH5KqbrpKHXPwQOePbZ4QzFgeELlszYWKnPE+3lX+zMhxZGGd84ww58wdnmvs4fk+05zDx/eZzbw5nJCQkJCQkJCTcN/CnakJCQkJCwkmBpic2SfPqZhkbH5PJnknp+XgYnReI1Upi2AkYJ2RysoRfN4+Tzm4gbuJz3eyYbhDnLhZAvuLWZd05Gamyoa4udz80rc8xMj0t+yYm5LN7FrcY4eFgJJETRYycZ+S57jtJlFuAv+dB7x7icVqZVWy8M6G5zdANwoH3hghDMHiwbnp48YjP9ThheNax/jAyNlguGPAepHGumpdVLhZAtHp8Wo1Ru6Aif6gjLg7k+4Hws9DFAxcONI33ZsONyLBuLhgQsv/sf3q2VNVrTuEqJVgsHJhQgGuYdg07Qri0Rjr/oFOW/e6y7L6KvHxAeA57rhDG5s8M9GnzuIPjbJQfZCXiAKOcl+rWotv37vxeOPO+o/uD3bLzlTtl8BuDMn77eOYSrK7KCNbNnz99BYOR60dkqk/by7DWn3GtP4gGI2ouHoxnlosEiAgVQoLVZzfEgrCIttXv0dls7YHubO0BxBpGlCMQ4P4EcaDnP3qk7/NHPhp6IeC/nXKlfKmbzKA4FYGAsus1u2TwO4MyeP2gfPz6j8vZa86WhzzxIXL2tWfLGd88QzZ9elM4WxHao+Z62eZpcQh+8OgfyGtvfq0Jqsziob9EbPS1ChAXtfSzvjb0zXm7Jwj9mgkDsVhKX0h/T99PqMjvH/oPg0bjvoHZBMwIwT1R4yWNNiul4eIGOxbfNzdAsh5b//71sv4Dah9cLxs+tEE2fETt3zeEkxaB6JoQ16cKWAPCxIJSlbXbyV33bwF71jFg4fGhHw/J4PZBueeee+RBFz/oiPKk/yv91r75u+cu3Uot2eyw+UA5nXPDOdZmr1h+hfUZtFl+C3zmUUJCQkJCQkLC/UH6iyIhISEh4aTAij9fIXVb6+TCcy6UA7sPZP/5/t6QHbvjijvmCFWHExVukC2BnDHEoccDjMipMPD6b75ePnD3B8z/O0QQ5Cvbb69bJ60NRSOMOXNydlYGJvU/9cNHZ9HJTZ/cNEcSETKrIAgH+COGCLB3j83fK5i9O7/qxHmfkH6QBejVbXPEhBdxBBNGqCMa4MrCEH3fUHHNHHGaxv15/BmdKMv342fXeL5fLVL/oPoyclUYiU3I7IKQF0acUz8q8slEgZAeh2YIDggGYRFShIOp2WyBUlyJ9IWN2QWkHfjkASNSY8HAjBkGTWrNVdkMg9YgHLRpHMP/ewXIj5zwC5Y/33zpxNnlPf24JWSjSX3NCUY5U2bU3W1P3hZOuv/Y+3d7ZegnQzJ2+5iRa7xncWNRNn0mIl1PMwz/eNgIfZ89YCKBiwZquAkyQ0xAPNDzykQE0kkLMwxwY4U4wGwqZg4wwh6BoPvfum3EfGFlwVwE4XLmWIAFdam35gZIn2fw+6e2H/y9b9srg98alOGrh+WnP/qp7DmwR6648Ap5xhOeISsfu9LI1jO/e6a8cPsLwzfKoSUUYnP4/sXfl5df/3JrYwiq2uqtvxzQjX6CmUmIrlnPSmeWtXXrz0LfRphb6Pu8PzThIPwG9H62N2vnBz/GHPy4mvULERoe1mALJdc9WHsG3PiF3zh/pvwZCHzfdkQ2fnSjbPyY2n9utN+mMnGlEn4dtSMdTX+iwIL1NjuspkqmeqcWtZjw4cAi28M/UvvZsOzftl+Gh4Zl5daVsvotq8MZhwezFBAuvqLbFt0ogxjMDEGAQCDqvKBTXl16tdyomwmM/E4oaqpr5Mzvn2nxhISEhISEhIT7Cv4rnpCQkJCQcEKBSwUWcLzgoRfINTdeY364D3y8wq0GRHAgg3PCdIl+KoiP+eJ2DsRMONeIII6BcJxtbGzMSONL/uESI14hyjt1+9bvz8pr/25AXvxPB+QVf3tAbl8xYesVvP3OO8NF7icCSVRpnu5Ectm78wqV767wNAstIZgFIaIgD+JtRjdG0eN3G/IL4os0SLFXXPSK8K37AJ41PE+ZEMCjBLIsf77ofeJzc4IVwQBixM2J9DhvQj3hmOdbHOYigbsjCvuWNj1j7ohcMCAfPC+ete1Z2ZoDrFOAaMBMg6aqbGZBbM3VWbqG3BPy15/NCb3K57R4digLg3lZ23NyXpRuxyx7qkzYYZ0CZsOwEWc0+tEEi+8ygtYEA3x0t9WY25pNnz19BQMWOrVFTqmXGKLBqO6PZmHuoohZBS4eqJWlhRkHpU0lWwsCkrj/y9oG/28gX7h28LuDJiTwPdrD8lcvt/SjhdottdLyzBYpLC9k7U2f/UgWFz5Z0fW+LiOCh34wJLu+v0u++MMvyv/e/L/Wrzz+gsfLr136a3aeloBtjjwe2hr49vnflit/fqX9LsRCAbOPDuhGP0G/Aehnbavoz8hb2yesNPp6F1ERDjgvBo8x94jzw8+Z59zSOdoraHstbS1JcZP2GBuK2T38PgvFgcY3f26zbP7CZtnypS2y5ctbbL2ClX+VucrJf2sUCDAnM1lts2caq0wU4734W+NoAfdXLLSNW6I7fn6HPHzdw6X9ye22yPZigFAw1TMlU1NTVsdYgBmsfc//Z+87ACs7qrOPpNfVnrq2V6+3uOGGDbZpxjYGbDqBYAwhENMJJYQWCOFPAqQAIZQQIIEECIQSY4qxARtjG2Nje22vvd7ed7Wr3p6k9yT95zt3zmjek7ZXac93dTRz587tM/Pe+76ZM/PEjVbtC2op++wsXT/nenoZL58Z/QxtXLtR2h6I5yi3+CyQ0YkGg8FgMBgMRwF8PTUYDAaD4aQCvpdrFtRQfaKe+vf0U/cPuyf7rHaEahG5CsPvYv1tHPxGDgmM0u1CXGMFfy4O8udTz/8Ufetb36K6ujpKvDPhfffT/LiQwyB0tjfm6f1v7aBt+YgYOhYQcUB7loIsUsFAiSPnqz+8dyWLPYI476WRCYRxB5ALEAQwkgALSHH0pt/LSzsv6C2L7SCfQQ4dFfT8/BhFCMC9gUDje5ZtU5jkY6u6uMr34A5FA3kuAYnunwvieE5sSrR7w3bd5p6pCAdOMBgdGRVXIiAC8TwgGmCBiNJ3W1/kR55NRAN1TYTRBRpyGkbF7Pn0Hmr/ejv1/nKKyUWD8/t7cNcqoV4jB1MZtiMvnk0FLxhZIO+IF8S/kPsCZzz22PN3eyi3OvInP9o/Go0wmJdwW08/YGLSfFu+uFyy+VEGak40kJEFCAcm1kUsgPF+da+oc0eejEJbQSYBxsgaaYuOIZre0kTpFWkZHYNrwX2hp/RMgLolwgS2PT/lWvzrHtp15y667c7b6LuPfNflisBvQRaFxn+56pd0/frrRYjDCB7UOYiKaCvRTsJlGcQCtKFFQBsWCAYCtH/4zHFtG0zS0M7jtYbtoV7KxCVNtG+HAJ83sDAtMTdBidkJirXGZL4MuFDzn5t6DW51SnBxxOTagjA/25l3n5qCAYh0mQ8EYgE/g0LnsRMLALi/6r+zX9rIW+65hV59/qtp7v+b67YeGNL+490w0JajDkIkwBwV2edk6UULXkTvLHsn3cvLVzq+Qr339tKaFWv85yEWlE/paGAwGAwGg8FwFDi2vzYMBoPBYDhMwKd75VMq6eWrXk533nen+EafarLOKcly98Ma8CQHoFEXSl6JRIGAtwlpE+yHH9v33nsv9fX10dlnny3uXD7zoc9QRUPk3xj7gBTERKM/zna5vY4B8GmshJETDIQ0cgaXL3Lf4KI49KRCeD+KiduJoPlkl+JlzC0guaKpOQtCiu/jZQ8vIMJAgiHPTS+5KTqGPktAj12K0rTgmpQckzTcc/jeGPJOQKIhHX9Y5+cBErPIjQsIEg7lmrRcOMN6EVGmaTBXjkIr3T6ajyY8Rk/hHC8QDRA/76fnRS6iMJ8ERhkko0loEaJ84Lrh/mTgdwNUUcllJlMu8xYoKaj3pOeTa8d16noYhun443U1vS8cj88sAgF6lCLE+mNnP8YZjg92/81u8Zuf356XdwDBAG5LTldAPAFhWiQYgLjjuIoFGGkQjioIXRWpkIBJVpML9y/IjfZwHe0oSPlH+Wt+Z7PbcnTAZNzVl1cLWYz2Jb8nf0znQjhV0PH1DpkMevvbt1P397up96e94qZof+C3JeFtK26jK9dfKSQsBDkIBRAT0S6ifcQC0UAmQi+Br++BSZq2fzC0ga5NRDsnbT/gAncZEUrjzqRNOEZAfRa3ahBC8ZkH6LWGBrjz6yim8H4RX/675bT8vuWy7VSB3B9GhsXLZSQZJis/1uj5WY+MZhneOUzfe+x7dNlllx3a/AUQjvldtn2pjX52288ikeDZWbpuwXX03rL30n28fKrzU7TzoZ0y6ujJy5+U3fxIO14wd42NLDAYDAaDwXC0cN8CDQaDwWA48YDrIUxqvHTVUrp91+00sm+E2v+j3W0txoYXbIh+TJeIBkpceMJEfycHv5fLdAVBuD3Ioyj8tEBr1qyR+Phnxim5KCnuZeQHOJ8T5B9cF9x117GZ2HjRtxdFRDJIIkcYQSAA2aLpMLnv8N6VSA7vQeMaukcCCNHM+bGMBYuOKoBQAMILrojgVqONl928gAxDz3rk9RNB4riBhQS2mCKMM4a7hieIMg3D6w+h29jwLGour/EuW4qIWTa+tOjegmcTpk2ZHjxL/2ydjeX5uQyPUn40L6IBRhkgxPOByxYRB1QogEjgRhvs+/I+IdkgJKiIIPcQ3DPuxZ9Xr4sDMY2HaWyST9OxH543ngsvEAdAYGJibsQhahxrF0SlQA9tTICLnu6oG/G5cbfl9ETukUgwmDT6BQaRKxhhIAIBRhaoYIAyzQaxAK5i9oeB+wfE7dFoLxpBbiL4uR8t0uemqf7V9dKzHO0bRNDeW3vFfc9MBtw9YR6Ots+0yTq/AVlK47euupWevv7pIsJhUaEAI64wmgAjsBCibQiBehlC2nI2SVZDmxCYb/cRAi7QazkokC20AyHId8C2m016qXMo7ay7JoXuixDza+wPy3+/XOxUQGJBImqf8ZnK9bRwjEcWKIYeH5I627u9l9p726llSQvN/uvZbuvUaHh9g4jM2eujkQTXLryW3lf+PvruL75LH779w7T2S2tFJHji/Cdo08s3ub0cuAyhfErZK3lPBoPBYDAYDIcLfEU1GAwGg+GkoPbaWqpcXEkXZi+k7eu2S09PuHDZH0DkCmGqooGuM4SMATjJhxrH72e3/UA/pkHMgDTf+6W9tGvXLtrVvEtIUXH7UcHb8+NCkA5vOXZkrPYqFcJIe5gixDWqcRp8TMv9oiMkCGPE9f5CILmUAApIZiHKOQT5r0KBigUqGEAcUMEACwgx9K6/8Z9uLD5uKTTNbffX4aD3JSIICDSsHwzuGSCvJ2JLCVktB7hH3J+S8DB9Xi69aBvSXTkScz00QfrCHRGskC/Q6Ogo5cfz8nyyz8h6cUAEA4wy4DiIVpDBQvjBhRTSYSUkoZ4/vI7SNHluGvKfmNvu92Pw0WWBSICQt9KH//vD0cbjCLjHQC93ccHDzwuuiBb82wK39fRE7rEc9f68t6hccnGJyhSnyQgCJxiIQTBgGx2Iyg0ESPEjfwD03tZLhb0FERdQtlr+/MjnLqh/VT0t+OIC8YsOghJupUBu7njfDpfj9ADqjCKM//LaX9IFj18gBKwKcWgn0Q5ingKMvkK7CHGO32TRviH85xKjNC7toDO08SIUIAsfSvLqIRGG8UNAUdvhrLQ9ngqlecLjSHnldg7zZ8z68Cyfrjb48KCUodI2T3EqiAZwvSQCL7fRqI8d/9nhthxb4DkM/n6Qhh4bosf/8Dg9a+GzqP4F9VT1tMnzFyz670UyAgMjCRquaKBXz3s1vav8XbSalw/+5INRe+/afLQT8784P1pxwP2UJ8rFTRaELGl7DAaDwWAwGI4CoCcMBoPBYDjhQI/WyqdW0nOe8hz6/kPfl565mNzzQBASDuRbCTks20KSA1GsTwFP6iAIsiAdCwhhuJ755wf/mb5X+B5lzssIGYy8Qup1FsQn8TEDPonBrShhhBAES2BKLIH4VkJb40oi4Ppgct94Lu554PmMjY9NpGN9bCzy089pILpAgmmIBT3pQTqoYABiDHEQYz039/hnq+fwhsBt03WBxkvuSwwI8x4Adc+p866IxFxPbiFlgzIBE2IdAoCS6xANSoUDt32SIZ3LGkYY4DwQDVRAGCuMUc1zayJ3RM4lEYiaXR/eFYkEjvyD1VxV4+/Tv1e8t9LyqyH+3Lo8k8D0WevzleMhdA+Rr1je3a6P7pL14w3UVRFIBqLRBalV++8VfzoBExPrCBgpn9pmwZCW47SS0QWahnkDDgYZXdDDhYjLCObJOBJgotrW97eKezPMs4HzDz85TF3fO4au1aYBbtxyo4SoOyF+ecMvaflPl3NzHC0AvyVp/+B+CG2hCqhIx4Jj6HGKjhdVz+Kw1LTd51DbH48wGratzora4MOEPx5Qegxdd+bPoyhJD68DE/2GkM8vCAgOJ1M0iLfGo5EFfD0yB8hxBCYmxxwGmL/ge/d+j244/waa8/dz3Fauhz9YQisfWSmdJuZePJfe2vxWegUvP+PlUx2fom2PbCv6jEguntpNmYjX/DmEybfx3cXEAoPBYDAYDEeLI/uVYTAYDAbDUaLm6hpqWNBAG3s2Um5Pjjr/u3NissT9AK6IQsFAfkSDAA5/G+/vd7KmIwziQpq7BaQPCFeQQiDR4JsdJEjLshaZCBKEHnx6gwQ4ZihzRJGG+skMbgVpQS9Nf99hyIb7ELh749QoVALHEQ7w0Sz7OcM6yG8f52cxOjZKhbGCPAOMMIA/bhBjIMgwn8GL73hxdMwSC8kieS+AWxcgLLkfMd3uINd+AIj/d+e6RUlZIUdwj7gvJducMFCUjutCGrapwQsFLFznUMqZOzZIXyV+MZ8B/F0PrRsiivHripWL25/E/ET0/uAdhtPlPbp71HtGqNeg1yTxIE1uP0xDiLTQHLmIXs/qegLl9nNDnzvuLogUmDgWPYxBdgMYXXAwNxunC3pv740EAJQfGOooyhRCLl8iQGFEAdwQcXkWwWCI0/pHafYnDvwMQT5iRAfyQ6xqftehz11QeXElnXHrGTKBfPePu6nnJz00cM8ADW8eFl/ueH8rH1tJK+5fQQv/c6GIYqcL+C1JePubbqfFX18sdQpCAUJsg4Cq7SFGFoCU1dFY+NzQZRJwWLQDQNgeKFya1mk5BOo92tMQJatTAnnYfFscIGyfvQFhHAjWi47j0jVtyuMFJp+RJfeKeLiOcgY7UUAbXZGdmH+o0I3G/vgCLtsgnmD+gh+s+wGtPG8lLf3xUjpr3VlUe00trTp7Fb07+246j5ev8vK13V+jvb/fK6MshzcMR+0/2g73eaCCQTi6QEZKJMqonhe4xFp7yVq3xWAwGAwGg+HIoJSEwWAwGAwnDK0faKX0sjRdvORiWvfoOnE9BF/ZB0PrX7RGBDnIYf6dL3EQrCBYOBACYz8QMkg3I9T8/Cc97YMFP7gbXtMgRFzjSxrpRl7SqTRV1FTIBMzHCgu/sXBCIFBTLkWvFeA0kCypM1IRiV3yDPiSi8kbrCvZzOka9/eMdJDVziAYhMIBrFCIBAPMYQCRAAt61WI992hOjuWP5+LeABeX7Yx8Zz66t9AYfv8Acs3hcRW8T8PzG4QoDcUCIfLdcwCxovcvxvci6W6b3t8kwzN15UmOhbx6bAgGGGUQxDEx7N5/2iuuQzDprwoEWMc7Raj3qMCxQ+InjMs2/tNr9yH+dB3PBId1xweZCbEAIcrtY2cdv4mNpwIIQREL+N7leo6wp/tMBEh9EQNUMHCigTcuu14wwEiD3Jj4fZ/KTUkpZHRB96iUGSE+D4L6P6qnuZ+eS7P/ZjYllyRp3mfnUet7W6npxiaqvaqWKs+vpMTihPS6jrewzYqLsDD747Np6S1LpZ2aieC3IIvi9nffTvM/Nz8itV3lxXYIAioWoA1UoSAah8XvkBc9FpZJmCJJDu9M6jM+BziftD9oC7ha+f1Kw0MF8qsdDJxH22pBuI/GEcJwbXp9bL6dcm22hhhlg8l+/b06FIkGHKz4wwqx4w10AIg1xMTtFp7xaCc+LI4/MH8B5jXZ9bNd9Pijj1PV5VV08RkX09vTb5e5MD47/Fm6dcut1H1XtwiNV1x8RfQcw8+BIEQdBlQwULdKzbzgc9tgMBgMBoPhaGG/6gwGg8FwQoERBVVPr6KFZyykOx69Q3rqH6rfYEwum70gG5HkAVku5Mr+wJuKyFYXIq3I+Bhw14Ol7f/axJd3rC4mJPpnhz5L/e39lN+bpzl/O4fO+MUZ7uBHByGU4eNeyaLwU1nJlTBk88Qj378nHvEs8OfuC/co9+nuKzRSwnyKbTAVDnBc9KKHcAJyDCIByDKEF3/94ug8/BeakkR6bokDHAo55O5BgFC3A4irlaIkTcjVIb5O547IP5PgnnCfYqXPwZWXKU2fZxjXY+sz15Bt4TcX0ta3bhUXPHBFJJNg4x2ypc9LR8IBJgjFaAPMeeHO499BEPfvDHH84fm5NDFeldA9QyU0IRTwkeg7G79zwkYVKPAe5FqcUGBiQTH67+qXeQZQZkRoQtnB+3Xtlp+zACMLcmMyP0rm/Izbe/+AUDDaxwWH/1C+Gv+00W2JUPuC2ojo/8lSOmv9WTT/y/Op5V0t1HJVC81bMo/OyJ5Bs1OzKRWLXEdB/MK7xLXAxREmUca1ojxjxEG8KU7zv1TsJ30mAfXnvl/dJyMrPIntgM8DzOOCNhBuhyAa6IiCSCqIFuTDcXRRhPGiYwf1WOPaHsCy12WjfSd2j4B1Z769VUOAtP0hyDvVvoJw3cV9XiBYLzqGtlFTWM8tPTKSRe9zf1jx4PEVDGqurKGKugqqSFXQ6CB/tm098EjGYwXM8YLvE3BLV3NJDb269tX8WMbps72fpdVPrqbeO3tp82s2U3l1ObXc0CITZ8uz42eqnwP6GaHroWAgbpUwyogX1GWDwWAwGAyGo4X9qjMYDIZTFLM+NOugLimmIyAWpGenKZFI0OCeQXGJcagkJyYAXda8zJO1MBArIN6ErFDwaqkVERzBj24hktnEHRH/IG//n3ZKrUhRrDEWkQpDo+L2I7c66k0PcnrWc2fRhfkL6VN3fIoPfhTgT2ERDBzBLIJBKThJSSaE6eXpiHQMXPAosS3PQO+R/2Tdmb9PjCCAGMD36g3bXFzycij58mNUGCnI5L4YZQDCDCEWCClyjvB8+zHZHt4HxBHEp8oXpgXANlwn0PyS5mh0wRCnBSMMpDyU3K/cF56NI+HE0PlyCtPn6A3Plo+rgoQnfF3Zg51515lRz06d9NiJBjJ/gRMK5B3junCO4Hr8Mw/j7vmH9+HD4BlKHP8Yjbysv3q9xE8k4DZHBZGKdIWJBfsBegv7MgrT8oUy1RcJBuKOiMs0XDvN+8w8t+fUyK3JCamPconyVZ4up4bXN8gk0+JC6OsLafZfzqa5186lC5deSNfVXEdPjz2dqnmBO7EN/Rto+97t1L2pm3JP5MSlVN9v+mSC5u6bu2VUxOBDg+IGBRMqQ8jAOZrfduguj051JBZMTCb9hw1/EHHPtz+uivEb4iobTfqONg9CAeIqFmCBSKAL8mPZH+T4gFZh1GXE2XxbBUP7AASH8vseCJoFYWD+vg6A0jx+PbCp0tR024H26/6/bur+USAaqAEuXPHQClq5eiWtenRVlHCMABdEINgxOrC8vFw+0/d+fq/benyB0Tk1z6mh2Stm003lN9FPeXlg6wNSz9YsXyNtd+0La2XUw1xeVn9r9cRzxGdD+BkQhCoY6MiCLC8mFhgMBoPBYDgWsF91BoPBcAoCQgFQ/axqOuNnZ9Cc/zcxKd50RsNrGyjzlAwtOWMJrVuzTsiozm91uq0HRst7WsRNxvm8eLLWkW5KtgoxgR/S/AeUEhdCyDgL1/HDG9b+zXZKn52WnrSxTCwiy7sL0gOx/55+uuBZF9Cml22inT/cSXN3zKUbV9xIe/bsoXvuuQenOyws+PcFfjSBEK4glJU4CYFrR3pg0qN+JDIlrwmEt7sPmJBO4f0iHUR5uF3zaJxNXBG554r7h2Fi38JoRJqBMMNog7mvnxsdF9eHwJ0jfOZFzx/fOHD9wTcP2V6yT6lhm27nmF/3owtKRxjovaBc4JngnlE+3D15C+7Z50feqYSD4ehcck4884D4RS/sOX83JxIKkk40SLj3CaEA7xijCtw55dh6Pj0P0oNrlLi7Lonr+3PvX8QWt/Cd0zf/45vSI73ulXXSIxk9aKuuOLg7m6MF7h3XgzkcUomUEHGGqdH3677ILctPenydxbuWsusEA4wwgCiZPvfAEx3DjQnKIsoYJmBvfnuzuM9pfWMrLb9wOb228bX0jvg7aAUvm3i5ZegWurPjTtqxbQf13NcjpG3bZ9to14d20fY/3067PrKL2j7dRlvfuJV2vHsHdX6nkzq/3Sn5en/VS4N/GKSRzSNStmca7t9+v7inEfDt+faFFx01gPYObZ+uQyRAiLqnS7RH8YI/sUMB2gK0464dKMKhHuNQwMfS9rTIFFOlAWE6mx5jymMhSdOBIB3W9YMumSDdIyhWXgxlrFqzis56/Cy3dnRAmxyrj1wQjRZOzKiCuf84l868+0ypr0+d/VR6Ni9fGPkC7X1kr9x/clZE9mOkJUYdxLIx+sM3/xA9p/BzUT8DSkPOA8FARxakeZlUdgwGg8FgMBiOAPhGZt8qDAaD4RSDiAXcQmevz0qohNLgw4O08y93ulzTD5g0s/GpjVRRXkEdT3bQnr/bIyT8oQDD7Ruvb6Rnznom/fT+n9Jox2jk+iQTGX4wi/9ufl5C0OITDqY8UNCLUw1pmt7+9Xb5UR+fE6d4TVxIcxEKtkRCwfL3LKcEL/ARDyLolrJb6NOf/jQ97WlPo/nz51NlZSVt27aNfvSjH9HHPvYxnPKAWPi1hVReU04VVVGPbLkH58ZGRQS5RggJ7n7CcHDNYLRfOjK5/yTvpPsp6YLARQUaD9JCgkYhRAVDtrmJfGF6PbxG+364j4a3DPvr1VDOr2mcHyQo3JnAzUJFtbtfvKuATPf7BsdBKKS7xtnKK3hfGF9L2/fahPzx5QDPIe2eF+CCIkyVFn4TQpxtEgkG6LWBE+cgfMYgzvf8/R4h+EGaY2SK+MeG2wt+x3KPeHY62gAjD6ZYV///Eg/zufcLwhYjXuLJOGV4geuJ2//09ug6cMljXDohOsCtTP+o9BY/XoBrjUXfWEQ1T62h+rJ62vybzfTkM550Ww37Q/qsNKWWpyj7oix1fb9L6gLqh5SVbAXN+Ys5lO/P0/CmYXFNhDSpN1WujKMsJDgeL6fKZCWt5OWZvMBN2G28bOVlqG9IPjPQgxrHGXpsSOYawfEG7h9wV1KMyqdWCvkowlhunPL78lL+pI1x5+76bkDyTmO8cfyNdO/GeyNhDyOB3Gggea6urasoiyYP57WiMEQkC0wsE/IBP0PURTWIfy4uZK8KgRxi5AbeFT5v8LkGd3u8e9QGQSR09Rqh2qT2qTQN0PRD2TfI4+O4BsQR4no11Ovf37ruh/SSc5Ueu/5V9bziwI9W2lRtZ3U9wGMrj2xelqa3NlHt82qpclklDXdGnRT2fu74jSzAO1z41YVU/bRqemHshfQ4L2vb18r8BZgcP7MqQ+c/9Xz6/tnfpwVfWUDpVWkZZYl7l/t29y/Pwj0TieNzIQyRj0OMzuz4RuTOceDeqeu3wWAwGAwGQykuvPBCF5tAU1OTfA3BVzaDwWAwnEKAWACyUYbNZyuEpEGLraLBwAMDtOvDu1zu6YGW97ZQ3UvqaMU5K2jN/Wuo75d9tPsTu93WgwMjLM665iza27uX9t63NyKgA6JdSTQhX/HphkB/ZLt1QNJ03aXt++I+cRMA1xSxGsxUS5TvzlN+R178Dc96C78Pt0AsAGH0wPMfoJ6f9kje97///XTllVfS4sWL5cN1/fr1dMEFF8i2/WHhfyyMXCKAhFOxoIQAKArxx6GmDTw44O9b9lUyOcHbAQRqDkXESxA9KELSWg3Xwssjyx+hprfwFwp3XTiuxjVET2ohQ4P7FXIO94tja/6S+9e4P58zLxb8V9vE88NzcCY9oPlvEqZKC78FIe6siOQCsYV1RtE14ngaZ4CYbf+3dnkf4saqvkLcNSkR6Z+jxnFfYbo+D5eu2+S9pt37hViQnBALHrjmAUqdmZog6PR6Oa4jcCBk9Pw4KqvHEiDEIBbUXlpLy3m57977aO3T1rqthgMBIz/Qfokfc7bE3AQlq5O0kJfn8MKpdBcvm3mp4gUuRrDAlVATL/W8QLx8iJe7eenKd1G+L09jvWMi4EEYwMTxQ2uHqOltTTR4/yDt/ZfJ5CgmMsZoL9QjQIlrtK8grxGCQEdcXLHNAKDcLv2/pdEoIBUKXB1FiPYFcQm5zeRWhav6RIhFwTVMFkAEAl4k5PYCru2kLnJcSXS4d5M0JdVRP/tH5b0VugpU6ChQemU6qsu8XQ7N5uu2rpeQ8IedFh47zINr0u2Iu+soEgNKxAGfhrwaal7+C23KY3PYcGMDJ7q2FH8a6ud1AHn+/Pfo8kddyoHR8r4WqrqsipILk5SsSlLvY7208fqNbuvxAVyBweXiU2c9lZ7gRVx+cZ3c+KKN1PjGRqq9ppZ2vH8Hzf/X+ZS5IEPzGubRY19/LLpXVEXcIp6Bxt13Gf38CeOaT905bnvzNgkNBoPBYDAYDgYTCwwGg2GaofoZ1ZRYnKDMOZlINKhzogH/odcwiAX0JOv6n1O/pyd69DXe1EjzL5hP7XvbaWDjAO143w7ptX8oaH5Xs5AJrzzvlfS/G/5XSPrt79wuE3iKYADSHIQ5CNVE9IzkE46tiGxwaT6dsefTeyj7wiwlFiXEDQDSC30Fyu/Miy/v+lfWR8QRepqWQyqIFhB1t5e5Ht0ON9xwA732ta+lnp4eetnLXuZSJwMEgfay1572InTgRz/IYvfjf1LI14a4Wt+DfROCgSPJtcc+oPdYdP+KMH4I8OQ1Hx7PQp9jKpWibf+4TeJ6neE1Sz7+pgGhwIsFeFcBMS75QZCHRIjbX+5V8+D+kY/TQORVxCpoz3/v8e9fDP6bMbogzvuUwD8PhpBWIbAamCfQlNRy6UDRdQbXhnvtv7efcg/lqKKhQtxeyLvFNePZ4X7xHLGPjiAoSffrLq7vVMo2wgSHXMZjyRh13NxB/Xe7kTl6fbhUvV4Qdxhl4Az+51XgOhZQsSB7aZYu5+XH9/2Y1l5iYsGhAiPHMPdA5aWVQhCjvY/PikubEKuOUU2yRkaO9PACn/lwhyN+8jEJuXMXBvdFhX0FGl43LCPPIBCM7BgRAUBGtzTHaHj9MLV/tV3Oic8VlO3U0pScS8oa6hqHQlx38fH4swUjC0D26mTKcEU0E4Be3JkLM1KHZFSBjixAXXN1D+2btjsw+LjnWNESgp+UD3WROXC4Hio5LnEQ66ibWAeRziHEGC8WdEZiQebczASpzkFR++PMt0+HkuaO49ddvCgtzKPXqOd14oBccygK6Lq7F59eur8zv67bcM4g3viGRi6MrjziEWu7WoIwTeOPnPmIhKWY9dFZkSC2NEPVtdXUsbVDet5vf9d2l+PYo/WDrVT34jrKXpilV/Hy77v/nR6ZPXF9lZdUytwkcF8HEWNu61xa829rJuqiu3f/LDSOew0/c1wocVeH4doRMMHAYDAYDAbDocDEAoPBYJimENFgUUIIBC8aZPALkX9fD4wJudD2D20TpOEphppraqjhhgaqXllNs+fOpo0PbqTO/+qkjm9GQ+YPBfM+N48aXtxAz5z7TLr1D7fSlj/ZQrlHcrTkB0uiXuWOgPakOX5EAwgCU0JXjLHzAzup/jX1lDojFfUA5/0K/QXK787L8eEm6czfnBn1No3xsWHo1c4LCKMHlz9IQ08ORQc7DMz/0vyIPIfQUc1H42sXwkpJAPfDX4mCMAyt57c9EyQ57h1kshthIHD36UMgiE9FxOwXOD+uDyQ3rgd/HIIY6/peF412jhZdq8T5+CAzdVSBFwtwfbg/Pp4cU++VQzmuPofgeUhehGq8jncB90+bv7K5+DngeaLXMPY/BJQSaEUkVwnphbhea3h9PuQ/TBKLOO4b6bLNkZGyz/5cDUHg0HUYhAEt0zqywIkFIBj3fnavnM8D1xfei7t2kMrqEx02smvkmLknOvO3Z1Ld0+vohbx88/5v0tqLTSw4VEBswYgmzDcRnx2Xnv+YlwVuipLLkjLSCW62ZD4OzJeBXv+DkQnB3B/NcYAJj3EMuFWpfjZ/XmDyXn7fUpZAhnNZ0nKEsiiCIsqlKydSvjm/TrCMzxQ5H69jroWZgmV3LPOjc7QeSbuLeoc6qfUwMNQvGWGAdbcAGirQDmooC8h1rotS/1z7IWmIo14iPsLPmD/D8S4hGqENRZkoanMQLyXzS9qrI0pzxyvKU3Ku8FqLxAGku/WiNM2L/RHXe3Dm82i6xsP8HDa/tTlqM/Xz2sE/8zDNfYapWDDrI7Oid4v3zJ+FeJ4N5zRQS0sLrV+9XkSvrX+2VfIeLyz61iIZLXRRw0X0GC9dv+kqcs+Ga2r9QCvVPLeGsvOytOXzW6LyxeVP7tt9nuA+w7hfxx/KJvK6MIybYGAwGAwGg+FQYWKBwWAwTHPAbUVyUZIqL6qUH5vinoh/EEvv0t5RGlo/RNtuOrV+HGIYvggFZ0VCweY1myn3eO6wf8Qu/fFSWvL8JTTQP0B7f7+X1l25zm3hbTcvjQQDmCOLQRb4H9ch4eDSdB1EW2pFiuINcfH/XRgoiCuZoTVD1PGfHbTgawskn5K30uMUP+r5Bzt6m470j9BD1Q9JnsMBJjeWEQUYXQDBACQeiD0QARoqAeDiCL25a4B1/6ZbCEUhkx0hKGQYiAd3n0WiQBA9ZOCbAvbDteHcSlAgjQ3HX3fVOqp/Rf2k6wbpKPMVYH4G53ddSbmi4wX3PeW6O6Y3Toun4lSZqqR1/7xO3r3MXwChQJ8FRIlS8KEE7tvPlIRaSGaVkmcuXa/LEzzuGnF8qZf5cer7TV/xvSDc370jDuISx4vxMVIT5VneaeBmKlYVo0dXPCoThheBd9V7KL1eIfYgFmCUAXqQc5sB0e5oAQK29vJaemn5S+k/H/5PeuIpT7gthkNB+pw01T6/NmqHmuJSToY2cfvzjQ4ZmQLIBNvBxNqDD0W9/NG+YkRCrCkmIwD2fGqPjFKASyMpO6gT/DkhZQzg8qmCokyyjLIAwrp/TEYPwP2QihB9d8wckaD22lpqfmdzNEoHAoETC1Qo0Honz8mJob5uom4HbQ7aOiyAhvwUJQTQXnhz5Le2IVIHEQe5zs9exB+IBfzsIRYkZiUm7VNUj53JtmD9kNL0mLruzKeVngv59VpUEMD1OzEgTJtKLND1ovNgXbchPcg3aX8OZ70vmrtJwKE+b0X4uTa8b9i/R7xjuGpLpVNUWVVJS7JL6O4H7qaBPwwc9+9Is/5qFmVfnKX68+plLpHfbfsdPbpgwl0Svrth/qX0ijSl5qRk5NDqz62Oypr7fJB7xeeF+zyZFOc/LZf+swXrrrzCTDAwGAwGg8FwKNifWMBfMejgszAaDAaD4aRjZOuIkNvoZQpyQX4YOwIRfvbhcqLu5XUE1xID95z8Ce7Qsw699rPnZamxqZG2rd0mvfD3/O0eIUYOFY1vapTRFRfNuYie3PGkuAYK/a9nX5L1P5w/sf0T9Ku6X0lciAUQEmqMMA3uOlQoALFQyBWkVy3cefTc3ENzPzOXysaDY4TgdZAfEBg6vtUR9ao/RMz7zDxPACtxJ9fvRI1JoSMHhKQKDffIYWZxhnLrcz7d74tj6vWPOQvjh2KaHyFuEebuvWg7G1xIyMSpnMZXwomcHZNQu/uUew17++M6XT5A4/4eon/ROtKxEkUi8P1VJCooFUvRmZeeSdvudKQIrqkUwXWKgdwadcSX3hfSQJ6yyTp64uv2fLTNpyNfnteDPLpdjgsilkP4pe74aodMdCxkmNsux+Hr8ISaxpHOJqSkEpgchoQQXGU9fuHj1Pj6xmh7iSnhJIbjIE17TfOxRPBCmCmnzHkZ8eONSTePFLgOtDnNsWba0LGB9n1hn9tiOBQU2grSgz/eHJe6AvEQbRJcEsHHOUaAyETH3P7DNVp+DxdGB+RPLEzIPkD/nf2UmJ2Qd43yKW0Cv2uIDFLOUHcQYhRB/5i4L4LLIhxTXFRxu4r271Ddw53qADG74MsLqOqSqqguoO1xdWmSabuDNhPPCeDHVgS3zrU7CssQ84lRwG2jJ+BdWrgNcdR1aSMg/uScaMCm8+UU7QuE8f2hdB9A0/azf+l1yrpEJrZJu6Sha6skv8bZNI9P13gIl+bPif3C87s0H7L139VPfXf2yec/wG9JQgnkNUXreHebbtxEH/zEB2nlrJU0p3kOVTVU0XhsnHp7emn9E+vl837bW44/cd785mZxAbYss4weGXpEhL3Ob0aiLCY0hwtCCAWNzY1Uycuj//joRNnTzzpdj/5FaWHc5QM0vShk4DMH30tqX1BLPT859vPVGAwGg8FgmBmYPXu2i00AI/dNLDAYDIZphpHNIzTwuwFPVkrv6QRRRTrycw1XRejZBkEBxM/JAIbX199QT/UX1NO8+fNo8+ObaWjDEO3+m900su3wiCgQrvAxvahxEW3csZH2/P2eomPABU7dS+uESH1F1SvoBbkX0KVbL6Xy/ymnTRdtEvKhiDTnED6L4eoDPXJjKf5RPRS5gMAEgX2/6KNZH54V5S81HGZsXH6QK9EBdyGd3zr0HtrZF2S9/3mxBFh9/gMBgGgYajr+HKEVrosvbV4fWBOJQ7LNQfMp8SLXr/Ew7UDmyGufH+S4I41C8ghxEF+YTBV5ADxzEOgVmYlRDzLiA9twYTi+xpHM6/7eXJreT1GI/bAtVkaxeIwSsQSleDnnaefQul+7ESfIo8bPUkJcq7sfT9jjWp15MUDzuPpVtA3r2IZ1jqO3t6RDTMAxNS9CXs/vylP9q+plkmx5Tpymx5p0fMRxXyoSwJTg5HvA6Ay4n1l76Vpq+rOmiTxh/inWvXiAY5XmTZbJaAy4OAOZdrhIr0pTwxsaaH7LfNrOS8/aHur4j0N3L2aIgHKC9jreGJe6Iu14Y5Ji82IiJGgv4VIk5iQisaCmQupf/2/6RVBA/sR8/lDgYoV0cV3U53zi7y3I+eBqDSJBzy1OIODPlZmEBV9dQDVX1kwIBCj/ThiQNiE0TgJK258iYB3PUxqTAFjVJGwPCHe/riHaICRDKIA511IQDNZfvV6IZskb/Yvi+zleaD4PMFWawm3zpgjXwxDXCwvjwXr4GYA0vTZJ5z+1/V6z21fjPnT76369v+qlvl/1Ue8ve8Vtl74bfU8IO77bQevOXUcPb36Y1q5fS9uf2E4dT3bI/Ego39vfcfzmKAjR8PoGypyZERF734Z9tPapkVu2uf8wl5rf1kzpM9K0vGq5zEOy9u/XTpS5IJQ4oOkOYbksSnfx8HkAmH8EMMHAYDAYDAbD/rA/sQDfJvhrmMFgMBimK+pfXS9kemp5StxWQDTAj22QT+g5uu9L+6j3tmPjn/xQ0HRTE1U/p5rqVtXROSvOoXvuukd6xu766C7pHXu4mPfZeVT/onpaMn8JPX7v47Tp1Zsm9Xxd9M1F4tLnRXe9iM4++2yaNWuWTLw7PDxMX2/7Oj16yaPyIxrW/9t+ceWE3tCxyhiNjvBz6ixEQsGv+/wkiwINGUI2OZI17J0KsunB9IMu14Ex5+/nTPjvV5c82tuejyPnCOJFYXA+ycdxmT/B2d6b93rXI2IQItKcmf/C+wBComF/8ASPrAQGOPLNXx8Oh/Mwdn90t5RF+D2HCxS9X7wfIatx7eFzdOv+mJoWxCXUe8dz4PwYDRJPx6kqWUU1vFTxEufl1k/eWuSSSkIIagy5JwAkFcCrpcRWUZoSWC7utwWElqSH16zPBKd014uyhmsCMQt3MX6b2wcEsbhQwnwOuGYIKxg1xO8Qzw+iVvePuqNz8aFDm+pd+vtE4K5R0vQeVLRwQgVGK4FQ3vuZvdjrkLH4e4uFkL0sexnd3X+3uM7Z9lZze3GkQI/k2utqKXVmitJz0hRPxKl3Yy91/W9X9P5LgIlSq55WRbEWbse6RkVILQWOJe0Al9GZMknxgTDvn+d5N0PitktdDjm3Q36egtANEdofjL7ROqztjqu/vq4ijj+0QS4+Cahf2mZo3LUXiOuIAhlNoC6I2DZcuyHafz9Yfu/yieO5YxedY6o0V9/9uosXpWmbELaD7npF1ERbASEUaQhdWuk2v4/m47+i4wbbi/KGae5YPsQ2nKckL9qs+f84nx+/ex+8rHvZOnE3hZ78EMsgxh5ux4SjhbgY+sJ8qnlGDS1ILKC1j6yljS/dSAu+tIBSK1NUPauazuZlNS9bP7E1KkPhZ1xY/ly582WQ/+ReNV3jSA/yy/66D4f47qUwl0QGg8FgMBhKYXMWGAwGwwxG9TOrhRTKXJCRyZCFoE1W0Fg+8kENgrL9y+3U87Pj17sMvdfgQ7vygkpaunIpza2dS3fcfQcNbx6mnR/ZecSuLRb99yJquLJBiLP2+9tp/VXr3ZZiIJ8Q8JXltPJfVtIVV1xBmaUZ+tziz8kP5x3v3yE9qCvq+dlUVlDT65torDBGha4CDW8ZFhEBbpyAIgI2jCqxFJJJnHfL67dQ1/e7XK79Y+6n506Q5yCGIRaEBIEeU9fxg7+ECEBcTSferIhVUCKZoB3f2zEhFoB0husfuDliTCkQTJEkBA9IJBf33xJcXLfhOfjrddcn6cky2vn+ndHkrKFYAMJe3eHgPvQ56nGUrAuer6SXPheE/B5QvhOZBKWTaXHngNEFG/ZukEleVSxQwl2eA1+XILinKQm1cB3kFOIgqHQb4mG6I7D89U11vXg+nC11VoqSC5Ii3g38fiC6Rr4uPJsigaO6nJKLkyIS9N7aK24sQCLLcfhPDMfFO9X1qYBrRDDV9SIJpBzIOAgGQ5ErFPQ6P5TRASDGMJFn/UX1ItagJ++alWvcVsORIn1umrLXZ8VFWmZORvyud23pou7/6540x0T1s6pFKMZcB3ChhjkLTmfM/uvZ0YTxTiSQEG02BAOEoUCghvbH2STBAPVNQ9QxxLnOYV3SuA4KsA1AHXOhtBdYd3GpdwWuejpZNSapHojmicCEu/sbPXKoWParZUXn03hRmqv3ft3FpV0Itmsb4duHkMQPRYJwm7Yrmo//wmMVHTfMG54rDEvSfZprr8J8i7+4mFYvW82ZTi5QHzFnQc1lNbQgtoAef/hxvkBuK7ktX1i7kOp5WT28mvof6Ke+X/ZN+qzw5U7TtIxpnP8mxfUzQMsp0tz+KGPyvNyz3PyazZzRYDAYDAaDYQImFhgMBsNpALj/AdkEX+TxufFo8txEuYgG4qO6uyA+1LtvntxL9WjQ+v5WmYC5eUUzXb3oavrphp9S19YuGtk5Iq6HjpQIgY9fuFxpuKSBBnsGaeChAdr44o1uazEWfGWBkO9yzyBeQbpmyumMqzvpnOpqqkvE6Us3DdJIFWfmH9b49MO8CiPbI7dOcHckwCdjGAIuLj/olcxG6H6sg3Q62ETHILLCXva4TiGxQoLAhfpjvzSEQSDQNLghkpEFsXLKVGZo879vjghnNddDXUgxFQtcMCXcNwJPJMnKhBURTO4a/LVxIGQFNtWU04537aDKp1bKPeN9eDIOxBz2C55jUTzchmOHz0Tz8HPDfAVwIZVMJynNC0YV/HLJL6UnZcv7WqL7V6EAbpAcgSj3r/fgTMiUKeJCRimJdqC4I7EEJddd9LxxTAZcxMCFDwgvJTWRD+QOeh5D3IOg0PPzHmr44wZ5f/r+iwSC0nUYoCGAcwYm1w0gwLXzNQj55lyj4BpAPEN0ORDwjJve3ESLFy2mXYVd1HVzl/SiNRw90menKXtdVnojp2anqCZbQ+3b2qn3p72078sTc0KgJ3X6vLSMKIN7odNZLGh+V7OIxSIYc92XttWNKJDRBCoUoP1AiDqF9kjTnBW1N6hfLpS4krFo810cdU3bVq5BUb2KVsS0zdQ6JqN4MKqA6xk+k6UdgEsyBgQ7TKzf/cNuP4n1scTSW5ZOui5pwxDVdk/bM9c2FIkDJWk+DPfRtpCDSW0k/03Ki9AdI4xr2Pmdo5+E/UQB31UwT1PNpTXUUNFAW/+wVd7v5anLaTMvWzu2yrwi8m5LP9dQnko/O4IyJ+UMcf7z6RrXzwB3HJT1omfqnvOmV27iBIPBYDAYDIYJmFhgMBgMpxHQyx8uLWQC39a4kOggVsdGJ0Ya9P6il/rv5R+uR+CrHKh7WV10jrNSlJ6bpivOv4KGeLnn3nso35aXiQm7v98tZPyRAi6BGv6kgepW1lHfrj7q+K8O2vN3+yfE4Kda3bmc/af9dFZ1NdUnEpSpqKAE/6CuYPvbt/TQUGxc/M1XXlwprjmqng4FgYFPxalCByGJlGTSH/rIwwbBYcML9+9KYs7fzomEgppyT2jJD32QVPjhv79erUoaaAgywOVDHGIB3PHUVtXSLF5+9flfRc/ACQY6P4LsrwiiguCbgCeRZGXCfHpoep18XXpt+jww4fb2t22PesTjWpWIC0k5xHXb/oQEXLc+GxB7IAE5hFgAi6filKxI0u7f7KYnn/EknzxC01uaomcA0ciJJkUjDAC9DxAq4f0pweLWlWzx+TReQnppXN/dpOcMcNYwFAJxyPU2Ru9+Nkxs23BDQyR68TX7Z6vPGeQQ4jg+myeL1AAXeiIT1+2ANL0/IZVA+oHMhHsUkJlwj8JtxJ5P7r+uLb9vOWXOylA2k6V9O/aJCLnrY7vcVsPRAq68ap9XS+mnpCk5K0kNLQ20b+c+6r29l9r+sU3yoA2GoABBDhMln45iAebnQbuqJiO2UG8gDjqxwAsFamhXYBrnMGx/pO1BiLpWGrq6F7Z1Ei8F6pZrU1DXvBgHocC5IBKx4Lx0tA31L+/ycZ3EO+34WoeMBsRny4nC4u8sLiLsffsQpOm6j5e0fz7kvzBt0nYO931x5kyI3vTWJhF3ay6poXRZmtp+30ZvuvhNdCsvOzftpJ6f9sjILW3LpUxpWUOo6VoOOe7LWkmZK1pH3JVLjOaT56vvyz3n/XWyMBgMBoPBcHrDxAKDwWA4DSFk03lpEQ0SsxMRkYJezPzjEZP6YmLF0Z5R6r+7n/rv6qeB+/dPSsDVEQjgxLyE9HyFu6NMU4YuWnURJXm5+/G7qX9Hv/j+R+/X3Oqc2/PI0fqXrVT3yjrKzM7QwNYBmaTwQMQJ5jcAEf/FL7fQgnSaBkdH6dHeXhEJ8GE3Oj5ObdUF+sLLer1oggkT43Pi0Y9uQEOGEq0eWMWPepBM+KGuP/CRzoaee5hktBSYMNkLBSC1qnjHUnEgCEEWCAGgaeG5OPSjC3i9Il5BqaoU1afraS4vi3j5/Gc/HxFmMCXMQToDfAhByae/J8tlZcKKSPQp0oquEafA8dnw7OBGZ9vbtkUTUCOPI0Hk/vT+Ecc2PNNwHXldfuSV3sEQCpxYUB7ne2KLJbhMJhN0/5L7i/wzVz+byysmsK6L+Wegwok+i6J7A7Gi6xxHWER4YRvSES8hvHw8IM5A/hUBqy4Jx9LJTb31Ri6xMJpGyohzqRU+W/+MEXfkUPi8NS6mcHEtOxJHfXD3poTfaO+oPL/8jrwcV4SVRBm1/VNETIdY9utlMnqpNltLfUN91P+7flr3LDe5tOGYAe5LUI4xLwHa7+a5zbRvzz7qvauXdv/1bmp4bYO4g0I5wQTFez9/eHNOzATUPr+WKuqcWIA640aXoa5LOxHOUYD2hONeGFDDdqSjroVtkKszRaGrcz6OVY7LuiKs51zPRASAhXV+YEyEHi8SqFAAc6Id8qO9w2TUmA8Ec56caKAMYuSgFwfQtqlIEK5rG8ihxg8k7M9ENL+zWeaQqrmohr9zVFDX77po1iWzqO2xNur6bpe8VykzbFp+UN603Pl1hCiXWsbC/Aj5T9IRdemY7Fzb9NJ3suH5B54Pw2AwGAwGw+kLEwsMBoPhNAbc7aTPScuQ+PjseESqgDSNlctoA53gFCSGkhbS2zk3LkSUEN3ope5IF/iLr2uokx+inW2dVOgpiOgAMgOkxrECXPdkX5qlRG2CcptytOUNWw7q0uh7F1xAz2pooIbaWsrncvRoTw+t7u2lkbExGmLrLxToX17YLZM/z/2nuUKOYvJQ9IAHigSCIBrG5TmU/LjHdjynh7MPR5kcWv68JXLF40YUII8Q3gFJUBRXosodN9ym6yAIND2WjFG6Kk2NqUYRC+bxAt/IH//nj8s7KxplwO8u/NQXAlwiUSBhEPfkeWBFhITbXwgLXKMjLjyJwQCRt/sTu8VFlpJzktfF5T4C4UCebZgH6fy8hLyGSyXXSxhlF9shlDx0zkM09PiQnE8Bt1jx5rgIBujBK0KBE01klAF6HvP+/n6cyToIL40j3ZEuYViUFpJlbtLg0ECsyfHwvOC3HGShjibgujf0RHTtze9ojkhP1Dfne12eJ967e7b+GSOuAgHWEdV1AKGLT/V+BO7aUW9lAl2k494Azg+iEM8wdAUCVybwk1/TUkNDo0M08MiA7L/rr2xUwfECBFNMJI22e9aCWdTR3kG99/fS0LohSi5KSv0YWjNE7V9rd3ucPsBnG9ww+RFbEAvQ5vHnlrQVgUjgTdscTQ9CqSdoc5DHxaWuaThV/UOAdMQVXNVhmBdHPlOHI5O6z5+1yTOSxULBfsQCaSd4W6w5Jtva/61dJrw+UUAb0PIXLRPigAu1zQvbv9N5ZBFEuzmfmCNh9QXV8lnQe28vXfb0y+jH7/xxVLZKy4+WMxcP2+jSdUnTbVrWkM5hckkyehf8GuQziP8kzu9l/XOnnuPJYDAYDAaDAdifWMBfQ+hj0arBYDAYZirQ23/gngHfm17EAMxjUMAvff7NGS+ninSFkCyxmpgQvPHGuIwkQM9skN2xylhEXjLgwqd/bz/1bemj3Noc9dzcI0TVVL3qjwYgglLLUiJO5DvytPefD95z9l2LF9O8TIbiN95IFbt301BvLz3S10fded5/ZIQejQ/Qk139tOg/FglBJEQP/5DH/esPbiVBiuIgfJ15ogQ/yPXHOa+DCMIz6/t1HydEqLq8yvdsl97tIK8cq6Qh9g9FCo2X5vN5OBjnBYQC3h0mf07FUpThBaM8+C3TvbfeS2XjktFfn1wrVkFS4R5wPwU2DV3ck9yaxiZklksL45TnQ3N50HQJsY3TEYKox8TRXf/TJS6xQjIDVipI+HUHT+454k7MkSUoF49d8pi47SlFYm7CP3MQ3nD/IHMC5BwBh3AYL41P54g6IegcYefjStyB7HPbZDvfs19HHj6miG04riMEJdQ0uB3pGaNCZ0HqIEbe5PfkZX4AAP6uZSQIRv+48oJ7FXIouP/wOeg2PI8iUslt94ZnqKSoGtK5PG176zbxdy/iiRNlRFDh7bhuELEqxMBFCVyPVc6tpMJ4gXIbc9R3e59MaG04foAQgHqF+pMbzVHznGYqay6jka4Rqf+oL8Nbh6N8pxkw/wfKro4gUBER5Vd+5XBQZADqCJagPVUUtcNuQ2kITIq79kvgQrR/0rY4QzuCdgIEvGwLt6MdcWFR2+JstJNbdTaM8Kt7RZ3c31Tt3rEGPv8xskU+7/QzxMV3fmAn9f2qTz7v+u6Y+Mw73QCB4DXrX0OLzlpE82bPo2ZeWspaaP78+bL9t9f+lqou4WeIIsMmZUz+XBiuI4srg6XpQJgntSpFsYaYpIX7SB7+W/8cEwoMBoPBYDAcGLNnz3axCVRWVppYYDAYDKcT4Kpi4L4BISyHnxgWonJ80JETjrjwxCh6NTrSAsQnXKTk2/PSIx/+sUEOdPxHh1jusZyMLDjWwKTD4mYjVU75vXnq/ObBJzu8rqWF6uNxSj/6KA319NCe4WGak05TftYsumXDBnrszXGZC0F6oUL8APk6XkbdP+iWcwkRArLHESJCpJcYnpPfzlEh3rEPG8jU4fXDYvBhXCQUpNyPfvkt737cg9BHlPfVH/whfD4NlRQAQRwrE5dEsXiM4nzPWIAfPPgD2vzqzTInQ9F1ByKHpDli3xtvR6jb/HbcL+Igs7Ad25wYINsQB6k1RT4cE2Q0XGJhfgyQeriGItFAn6OmMYTwU5JbSUAQ3I4Yx7tbd826/c65gQm+hfjGs+cQIk68KU7Dm4cj8h5k/gCXby7ncr18biXmPFmnQoGmQ2RA6OqIFx0gBOB4TiDwPYIR8jbUmdzDOREs8CwKHXiAxQAhB7GuIuNGgoAERtmECKAhSE4Xqiggcbddn498u3N5/fPj43mRwOXb/KrNFJ8Vj46jPa0Rx/EgarljQmyc9y/zZMLq1KKUpOV25Kj/jn7a9uZtuHzDcQZGVEF4g8u0wcIgNbQ20HjDuEz6jvKNcj287sgmkp/OEFEQQpcbcVRUxmEowyBQAxMgYPPrAThXtF3jQQjIPtxOhWmArLv2S9paVHO0ga790M9VfPZI24k0tD1BWNTe6Gexa2dh0n5we4K6iJGCx5ukn/v3c6PPjvFxcQPYe2uvTL4OkdAQYdYHZtHipy3mVx8tgMax7OqMRlxouZLyg6IjQZCGJA3D9ClCfM9AXPNH2aNtsHVXmFs4g8FgMBgMB8f+xAJ8pXBfaw0Gg8FwOiJzQUZGDiQXRu4spHcxyBdHMoL0RI9GCAuYuBi9oiEMHM3ExYcKuAmC+41YdYxyT+Zo/TUH7yn3nsWL6TmNjdSYSMgcBQ/29NCZ9fU0/pGP0NjYGO3atYs+UfMJmZgZ5DFIUunp/XAumhwQn4xA+OmoBBB6vUuEDb/LQUyFBCuI2nKieEuctv7ZVkosTHi3MiCIQGhJPuyDvOp+J9y/NC0IfRzvho8F4h2T/CbSCcpkMlRTXkMpXn60+EdCHgIt726JeqzDQJyDiE7xRfJx5D70Pjksuj9npSMBitJC0h+EP6D3geNzoM8EcRDTIDQxwkXuB8/BlTON4/rETZAj+b3LIM0H47QN126gwYcOPDm3uCjB6JimWEQmuneFsO+uvuhY4XPFdrwj/pN7UxFI71PTNASJhnQVYlxY/xoub/lx2vHuHXIdB4OIV+p33bkg0mtV0l9Ct+7TcJ2lcZBHyMOQY7DJvWFf5HG24718bRCF+LKLRnNgO94ljIHrgh/u9LlpaSPilXEaahui/t/206aXbYoyGU4Yqi6rovo/qqf4vDg1zG2grn1d1Pk/ndTx9WPn/m26ofba2sjVG9ebKSd3D9sOmNYLFchgaAd4m28HUF+w3bVlRXUR61rnECDu6pyE2i444dSLi7kxGQkh5L+KBaEw4AQDL1Kq6OjEAi/EOsOoNcwztPMvbWTPyULTm5vE1eCW122hl9z9Epcagd8S/ezPfhaVubD8lJYjrGN76XoQ+n04hFDk22sAzbf7fEJ87aVro3SDwWAwGAyGg8DmLDAYDAbDtAMmLK5+RrUQP/DPveEFhzZR3zX8AXdmVRV15vN051+Wi2uXP17/x7Ry5UpqbGyk8vJy2rt3L33yWZ8UEh/EzMi2Eer8VqeMZghRRKCXhvgBr8RTSCBxOkgh9MRMn5UWAhgEN374e1IAcd0vTAviU6XJ+SDqOLEAPcZjqWiS31QqRfeed++kyaVBaHjBAESaG+kg1wrgXoL78uSxIx9k3ZHHCL1AgEDjms6QawxJD5wHcU4DqYee+7hGENHIq+ReeG1eJNB75TSIOXhH+/51n/R2PxCy12Wp0F3w8xbIMfG8QzEmiHd9v6uIUPTXrvc5Oj4hCGhPXw4bbmiQvEIaBr08d398t4hrhwK8HxEL+NnIiBe8Gy0D7rnJ+n6eqT9/GMd9KUnF94kyr9u6f9JNfb/sm/QuPTiPovntzTLfSXJeUoSp4fZhGc2x/nnm4uJkofo51eLaC5OaVjVWUV9bNMpL5p04DQFRUOoN5vlQUVRD1Hu0IUHdlvbJmdSrYL0oDXVH6+GB6h/iCDgubaUTDX07AQFgaFwEnqL2w23zIwggEgy50UmBYCD5cDw9FkIcgw2Tx/ff03/IwqTh2KH2BbUyT0F6RZrWXrGWXvS7F3EzGjWkGt72ptuKy5K20Vp2tDxNFWK7lj9er76iuvj7iIsK3PoTFz0RrRsMBoPBYDAcAmzOAoPBYDBMO2RfkBV3MiBh4XoBfu8PBRsGB+m+7m7a+7aMrGP/x2Y/Rnek76CKX1VIL/w/+qM/osafN9JvF/02IpA4j/QqZygxDDJGel/DnYSGLq6Ej6ZrXiVxRjtGxbc0rhmuMvjonLEE7gf+lMaYch9HHniiAaHD5k9tpq7vTH5GIHdTZ6Q8ySTXDGPofUxpIKawXQmqg4TeHREILt3mzM9hMDAmJDVEGZAseK94ftLzX43fB0SQiqoKIftxvz0/7hGXN7i/0S538VOg6ulV0gse5CFGxEBwkN7FIAEZIaHvny8HEHXgAzq9ksPlHPK1Zc7NUOVFlVR5SSVVX15N1c+qlh71dS+pEwJdXEG4d6HvA4aRN93/d+jELXqLiwsi1yt60vstJSrdeSSN/ybFUZYDchTPUixWLnN/dH2Py4jLh300DI+F87S+t5Uy52coNT9yPTS8Z5hyD+VMKDjJgDs51BO4JBqLj1GyJkmx+TEZIYVtpxsS8xITwh/Kriu/GvdlGktQ/yVAXdHyPwU0v7iLQ+gySljaTrv2X0JtF50lFvA1Ih3iHJovZ5JfP1O0ndR9dWSBHgeCgosTv2aEuUdyVHN1DWXOy1Dvz3pxFYYTALSLc/52DqWWpmhV1Spa+29rackbl/BH2xi/ylEJb7/x9qjcoQyhDLpyIiH+gnJXlBauu7DmmTVRutuOtNLwiQtNKDAYDAaDwXB4sDkLDAaDwTDtgJ57idkJicPtUfcPD6/nbP9d/dGQfYb+UF+3eB3dlb6L6h6oo/+37P9FE8om+Zc8/4H86f5et4wKUALHmxMEvIiA7UgDecNpfh153Ha4bspen5Ve6+LyiJMnGRDGFSVpuH7f8xXEgyPDxsuiTL2/66Wtb9wq8amAnvypJamIyA96sfp7w33kOS2cXBP34tKVwJLtwXoY+m1Y1/MgHphM+ts/RkNrh2Reh9SZjqDnEJNZw4UTegXjG8rgg4O073P7qO2f20R0OZBIAFReWkmxbDQhN94r5gjA85LexXF+bo5YCQkXLReAJ2o0dD1CYfrMB343INeqz1/KDbY5Ugi25+/2RKLIIaDxjY0iiviJjTGngzvepDAUDVzo4/yncS8U4PohFsQid1UI1123LnI5hnvE/thPAl70Xvk8rR9sFbEk05qhsdExGt4xTIP3D9KG6w5tdI/h+AEjZaourZLRNTJqhstNvCZOsVkx6rmlx+U6fZDsuJR/6ez25VfqgIaunvg6gsDVU4GmRf+ipHAbArcueQBtlzmUbVh3nxPa9vv2bniMkouS0WcEmgTkGeNtaFtLPjdUKAjbYz1O2G6LuW04PtpSuCRC+xlOrm84PsDcRnP/bq4IyrXNtbSPl7YvttGiP1vkxYJfv/LXvn2WoqVlDkVIgiiuaT7EP2TBukPtVbWyTeG3ueCJC56g9n9rj1YMBoPBYDAYDgMmFhgMBoNh2gG9upNL3FwKFWXRxMyHOYkneoCDpJEenSBrYPwj++af3yxzCsRqYxN+rflHOIQDcf8AUUCthNhRckcIGzbp/enisJD0wWS26PkJlzQgfLwIEBpDSIIp0iXkTSoUKCEmRAECvuah9UO0/uqD9/bGRNQQDZILktFkvLhukFC4btyPElGOhJJtIKpcepGQgDy6rveucReKSw0cB3kR14mAEcL6xmjoySHprd53Zx/1/qSXem7uEYMP9s5vdMr2g4kEAIQCiATyPuGOhN8jSPH8jrx3aRQCz01JFzz7MK6hPm/ttSwCxv2DMvJACUhPSGI3tl0f2XXI7ocAue5ALJDzBMfWeBgeNM2JBTqiIJaMySTYjz/vcRkdIfk5q5rshz++Xwg48/9lvkyeWtlQSSMjIzS0eUhEkk2vtDkKTgXAZRV6Nvfd1hf56c9WiFhQlolGYB3MRddMQjp9DsXjrTTWtFnqqZR/tJFcpsM6onEBRyXQNiBYV4RxD9cm814TIdJUBADhj8+GoD30k+bjMwifIS6vN+QPPlvCfRHqiCxNkzYb29hkG9L6x2RkFI5zOopFJxo1z6oRN3dwzTYeG6f+df3U9d0uWnjTQn6l0aiC7d/b7sudmCtnRSFD1yVNIhPb6l5UR8kzuPxEq0VAHtgTT7HRBAaDwWAwGI4cJhYYDAaDYdoBBGrmnAzFG+JRr+pE2WG7WvDkriNr1NLL01TYU4h65oKodT26Qf7gh7+MaHAEjid1AoFAyRwlbjyxXprO8dH2UTkeemrDBQzup8hXPAxwcSUNJA5SQIUCFQtAPiDkbSNbRmREwaEQ6oqhJ4bEvZMIAOjpj17wIJ7Q41UFA2xzRH+Y5tMRd/c45brbD+LAaO8ojfXyedgQF+uJrNBWoJFdI0Lqj+wYodrn14r/dbgQOhTA5RB6eIJAFaGgJnI5JM+HDSNSZG4HjC6YgnVRYgabdLuE+HPHgEn54+cO0hwjIRBX0l3JoL3/svewiNqG1zcUCwUQxXAsd+yDhVNuUzdOOp9FIkbxRJw67+uM8vBfaD6N9608v5JmfWSW1I3KmkrKDeZkrpCBuwdoy+u3cCbDqQBxmXVmSuZz6fm/HhkJVVZZRrFMTMLeX5w+7mhSqTMoFmugQvZJX++lPOMXjqsXYqjnuo448jhwSrSOAO6G3DbfNjAkTxgiH9prJwTo54Mn/Ln9wzvy25044N0Qlewz1f76eePTEEc7jXZVBWrOh7RYS0zc3aVWpqjvVza64HgB4k/TW5ootSJF8do4DXcPU8fXOmjo8SGa9+Z5/FrH6O4X3B2VRVfOtI3161qGXPkqWue/+lfVy2eMpLltRXBJj5/3eBQxGAwGg8FgOEKYWGAwGAyGaQeMIqh6WpUQ+jJJcLxMyOXD7Tk7+NCgjFAQ0gW9OMeicPAPnL4wGbmtcX7t8YMdxPJo32hE1jjCRomZkKCRdTWkBz3xdbuEvA1EeX53XogAzCGgZJGSSHJNOvqBAzGQW66HeJFQwIa0vrv6aNNLNx2WUKAY3jAszzfeGpfr1B7/4zl3LyD/nRWJAaXpuOdwnfcXImuQQ0zUydtlHSHWcXzeBjEAbppk9MiipJAj6C2NEM8BgsbBgH1jjbHI9VDWvUOQhXhujuQX/+54Zmn37ELyxUWVtAGKCBwcJxAe8K1paM0QJZcl/XuAIWvfHX2HTdLi+kUsgPshTMga4xM6QhPHlBDruCZNnyLUuFxrMKIAroeSqSTFYjFa+7K1QjILeDfJ78gp7A+RpvrZ1ZQ+M03V6Wrq7+0XAgxzNGx767ZoP8MpgZpn10TuupL8jhsqpC7Dbz/KONqy/M68TNg+05FKrRShoKIiS6meKyhf9wffhkudRRlHiHXUFVfuJYz+edN6D8g2h6I48nC7LGlon7XtLiX62bQd03ZdP3eQXwVr3Weq/eVzI/js0TyTtuG4OCa3vzXPrZHPRwgHuYeLJ7k3HBugDcWcNZhcHJMNwwXU5tdsFjeDc98yl1/xGO36712RWMXFRNtYKXdIQll0abru8zEab2yUMERYBhUmFBgMBoPBYDgWMLHAYDAYDNMSEArgixnuNtBrGhMH99/d77YeOnKP5ii5ODlBvIyOS09MkOTxxshPvp+7gAEf+Ti3EOQg07W3/H7WhTBHunMTsT/f/hgJkLk4IxP3CiHOl+OJIxBPYxQRXHyv6B2uJLWkOQIME+G2/3s77Xz/zuhijwK4HogvcD+D3vlyrXq9eu3u3sJtRfMTsKlw4MNAIMAzjtXFRIQBOQ7hB88WQoUQaIDjQ/B+s1dnqfN/OqOEKQAXOSgTKhTgvYEklOfkCEIh0DkNPeOFQHQ97gGOeXJGz+vXFbzqn3lwbNwzyouch/dBOLJ1hPZ+dq/b8dCB+TQgFMjExhj5wMdS4t8LAGEa/tx6aT65vimEgnQmTQ9d+xDVvbhO9leT+8VxOADJWHlhJVUur6T6eD119XTJxKn9v+mnHe/dwZkMpxIw2TbKPt4fRuOIgLUkKZN6SxngMnU6+K5PJOZTRUUdWw1bFQ1X3xfVddRZ1E0NtZ4gruWewWvRukNRHBXDIUwHhKBX4h+kPdpuR/RLyO2htG28qvkQKrHvjfPqMVQMCIUAPaaPu3RZx3HduRBicmu4u8OoLcDmLjj2wKiCxtc2imAAcRqfaz0/7aHeW3ulPm77wjba9d1dxWUQxuVPyiBDyhL+NIz+UdObm0Qs92kKRJHmjoX44+eYUGAwGAwGg+HYwMQCg8FgMExLVGQqKLUqJQQzSGGQMCDFBn4/4HIcOoRUg2AA8hvEzCgJUZ5YkCgaXYAf5HANU9hdiMjvgCxXkeBvF/0tven8N9GbL34zveOyd9CX7vjShICA3vPaw15FBN3Ghp6/CLMvyso5RzaNeGJa3Mc4E9IB5F8sIpJhINt3fnAntX/12E9oKK6Ato7Q8KbhaOTB+sggqvh7gACAEQgYOdA/JiMwNJQRE3h8zp0OvmXIvaTLI3LLmR9B4QgvAL00ZR2vpX+U6l9TL3MXAHhncOOUXJQU1x4oA3A3JCIBnpuSM2xCmrs4DPnxjhEXMYizCHCduqIByBiELkGeuTu2kI0cxupjVF7m3gfnL/QXjphQh1ggQgFGFuBe3DOT68D5cA6kIa5pwTaEPh+XExULIBQkkgkRCnbdu0vOIffAf2pyHP6DKxsIBdXLqqmlrIV2d++mwYcHqevbXZR7PHfYc4QYji/gwzzzlIy0V6iT6NkMtzOoo7BYZeSKq+t7XW6PmYtEYoGMKqioqKby8kqq7L+GhmrvlLIudYLLuK8/bt2XfdQdDgBZdwjjQvYHqyH5L6MFHMkvpL0j9FGXZLRWMKpA95H9phIasA3HcGKACgZ6XDGsq5Cg++gxsJ3bZYwMopEoDWKsjS44toB7tuz1Waln+FzIb8vLyD4g1hDjB8/FCu7k0Ba7MujLGcqgK1u+HEb/qOWdLZLmyx6Sw3LoomtWrqF9X9gXrRgMBoPBYDAcA5hYYDAYDIZpCficTy5KipsN9P4HWS4/1pNlNPjgoMt16EBvfhEMQH7nxoSkBZktro5A3IKkx498BkhT5EOPP7j++OBFH6RPXfopet9z30fLly+nTCZDuVyOdu7cSd954DuSF+KA9LqHSKCCwZBL1972HKInKCYbBqmAHqEgftD7HYSDEr9KVMOtRKw5RgP3DdD2d2w/opEVRwOMPoCIANcmeB8QO/K72Hbnxe1FYS/bPrBmfBs9o5KO94RrF4ItMO1dK6MpHHGG5+a3j3M6r0MQqnp6lQgRIGJEHHCjP4SIwbFBrAdCQVE64o6sGV47LPlEtOAkJV8AzqWRCXBc0vGH47tz4LjJuUmiAT5seTkVhgsyX8SRoP6P66W8qVgg7xvXiz933Qh9HORRach/ml+FApRfTGgMoWBVwyq687l3UuZC12PVHV/ivD8mV4YrpLrFdTSXl83dm8U1V/cPu+WeB+4dOOS5IwwnBtnnZ0U4g8iY35en9q9EoiHKNno+Q1RFOYXIh3o4U3FZfT1dWDVAmwoLRSioqMhwmKJc5tdFdUnLutYXH+c6JNsddLuPc1vEOYvinvTXEE0eCH20X/yo4TJPxAH+kzzOfFvn9vXrbn85BgSAklDiEAicWCBCgubhPx/nPLhfuMeRkQU4L8NGFxxbNLyuQUa14fMIn+d9v+nzE0pDRIaAJ587XP7kFzYHWt60PEp5wiaX3voXrZIu5tLDuOZfs3yNhAaDwWAwGAzHEiYWGAwGg2HaYuCegWhCwaZ4NAKgspzis+LywxyE++Fi6MmhaJLf1rgQ9yCkIUaUji4AYb34rYupblUdUSNJz/qFWxbS6tWr6Re/+AV98YtfpI/f/3H6zv3ficQA9LyHSBDGIQ4MTogEoYCAEJMsQ/TACApMVJo+J02JhXwtNRVR7+HBcer4Zgft/vhuEU2Gtw4LUX+qo9BRELJSe1z6HrYguWABkSbiQSAYwCCmYOJixPN78578F0McFpD4Ps1ZmIayA/LUbwNcAHCqRoriErhz6LmzC7M01j1GHbd10K6P7IoyHQEy52Wi+QowuTFcEOE8IJScSKChj4M0Kg3xhzzY14kFFXEuR+mEfMm7/dW3U/aF2ShPkF/Of25GRja0LGihBbw83v04Ddw/QL0/7/X3CxcbRwoIPYlF0WgQuMhJnZGSEEIdQoxeMRweIGhWXVol8xTg/WD0D+ZjkW3NMXnGcPeF9wyhByOFZiJe3NpKC9Jpakkm6YqqvfTMqq1079BKEQsG47+aEHxdPSmqKxrHP94u4KhPQ1xWXQRA01QyQkDaLEfgw2qeVeOFAs1buo+sB/t7UUBFgFAMcOsqBkg+jZcID8iL+Spqr6mNRn0hH/9V1FeIOzHD0QNCXPa6bNRpAUIdfwZvfPFGtzV61tKOo4w5sSose0VlkTH7o7Op6rIqiWtaUdlzcWDNMhMKDAaDwWAwHB+YWGAwGAyGaQ30Xoe7IMxdEK+LSyg+6xtiNHj/4Y8wAEBYZl+QFZJNerDz8cLRBfnteRpsH6T2X7VT2+fb6NH/fZS+dfe36OaHb6a7tt1FW8e3RqMGYKUiAUYZOMNIA/HdPxD575eQz+fXe8ZoaP2QEHw9P+sR9zt9d/ZR7097KT43LqJGyw0tQhKmz04LOXwoEwCfCsDIAxEN6mKRqyH8OVJNDGQaSC+QYRAMQIK5bdhP/LNnYxMTFTvC3xP4Ll4kGCjxjjTkYYNLHdmGXp8hdBXndPDkDacVHZPDsdQYrX/Nenk/RwOMVoFQAJFIRhbgevEHQglxkEvu2iU9SNN8noACOaViQbKCUukUnZM9h373F7+jyosrJb8/NhuuvfFPGqlhSQM9hZffdf9ORq0gXe6VzwH3NkfqggiTJeOd4Z1LHYU1ReviTqyyPJp3YkVK5p7AuQwHB1xqQeSByDQ6OCpEsE72DvEUblJAWuIdY4QIRgTNJDy9vp6eXldHrckkNSQSVBuLUU08TtUcXlO9np5XtYbu6fwQDaZvlfrq640LpfyH9cele0hSsA6gXdA2yo0IEAMh7wj97DXZCWFA8waCgRD6SOe2bapjhAKBHjMUEPy50Ea6dH8ebOPjJucnqfKSysgFHo7Nn0FwX4eJ1w1HD9S96iuqZWJxlB20WV3/O+HqS0Y7urZTxQIpStqOo+y5Mjfnb+ZEOwVFzW+XFfyV0WNLHqO9/3L4c+EYDAaDwWAwHCpMLDAYDAbDtIa4umGDz264IIpVxYQ8Ry98EOi9v+h1OQ8NcMECwlTmK8hWiOCAXoMg3eBuB8Q1CLd9X9xHQ48NUaG7EJH/oRAAIqc0VHPEDsy7koDpMSAsQCzoiVwSwQpdBWr58xYZXQAiVYSBsrJINFgc9/7/0csRkyxi1MF0GGUAwE0RhAOMlhCiix+LCAMaZxOSC88L6Y5Yg/uj5KKkuPiA4DLaNRoRK0rMgJQBIYN1NaS7uJI1IFaFxIGrJwWibrWIrGHwmmzDMWTOCD0WHwMjU46WiK08n7+EQZhS10o4txJLek8I8RemaT6E+AtGFaB8xJNxSqfT9MAPHpCRGf6++A/7IWz6syaqOruKXlv2Wvp+7vvUf28/DfwOvpV4M87Dr6Djax1ynYeD7IuzlLkgE4kEEAa4Xqk4IO6+IMJx3ZV4yqVxiHKeWp4Swk3Jb8NkYI4TTIyOMgwhrfMbE5OAQ1CE6Kn+8iH0oJzOFFxeX0/zuVw3JZNU54SC6nicqjjMVFSIpdmur36YvjO0xxO2vp6gHmh90rToX7Q+FdAuOVJe2yQxJe7Z6l5YJ/nQVkkIQRR5dF/EOZTt4TFgJWKAHjf8vNBRBf6c2j4G14VjQ3zE+9fjyWcMx3tvO7zPRcPUqL2qltLnpqmirkKeN0Zh9d0+IcQkZjmxAJ8T+HXt2lIpd87mfnou1TynJtpBUVL0tCw+uvBRCQ0Gg8FgMBiOJ0wsMBgMBsO0B4hxuLcBWV6WKpNe2bHamJD8NVfVSAiXRQfD6+fNo52vTQqxBldDIFzhAgiEPXzyo/dg/x39tPeze0WgwNwF6NleZPDjHxp8+qvBt78aH0/8/O/IRwZ//2zoUd36/laa++q5lL4iTdVXVkdEAghdR+qCzNr6p1uj3sJ8jeLmAOR1qlzIWBEMhsenFcFaaI9En/yefORfneF75TriSwgvjNZwAgyeF8Sa2ufUSm989J6VnsMOStJMZULacIge2RB9QCKWEjR+nS/DQ7JN7C/HwuVygPc/9PjREbGYRwAkOgQDJTblnCCWQlLTkU6TtmnohAKEcEEUT8Wprq6OVr94tbgZ0vIk+7JhpAGexbsT76av8NL3UB8N3D0QHc+dC5Nnj/XhhRw6Gm5siEQCjChgE6EAbpZUJMA9QihAPOFCFQ64XIt4wM8jtTJyV2SjDYoB9014d3jGqC94PrlHJ1zMoD5VPbNK2jRZ57ZSXRRNd1zK5Xl+JkONiQTVxeNUA6EgEAlgKbZkOZcfDr/Zu1vKGMqyL9dSWaLyLfWKISH+tF4p0A44Mt6PEAABj7bJtU8NL2+Q3uYiEGj75fbz+3CI/LJN2zasI+6OpyKBFwoQ8vF9qHl1G0JOE8NxXRrIbIze0fwQGTDKDaJk/10ndo6bmQZ834CLJ3FBxG0URP7+3/T7EY1SDvjR+7YWAq4rUwjnf35+NC/R/hAUPeDReSYUGAwGg8FgODEwscBgMBgMMwIg40GEwe2C/DBPllG8Kh6NMpifoMxTMtT7s6l7U4LQfGv/bJrfkKGHnjUmJKX8wB8lCnut4zhwBwRCeGTH8XHlAYGh6ztdVCgv0CU3XEL79u2LiCtHMCDc+eGdImBAZBjrHZPe+Zjo1xOvGGVwRlLIaxDw0w0QfmTESBvfVyW/CEe4KTmmozBAeoG8zq3JCWGDXuhIh/sekMxK5gtJAwOxj7KB5xQYes9LPBAaSsFbXcwBx9Fj47jg6npGj9j1FZB9STbqbY/rhwDE1+RJSzY5p8ZduqZpGdFQhAK+Nj9fQTJB7XvavTua8DgoKyAPX5F9Bd3Gy+4ndlPfryZcD+EcIMFyDx2en/PGNzSK6CZW5UQC3BcIW2deMHBxFQ38Nleew9EGcKuTe8x8rgMNr20QETOWjlG+IxICIEYqMFE1hBYZecDvE9uOpoyeKjinpoYWQCiIxynrXA4VjSYo57ICsYDDJIcJDt9YNYe+OrAzqrNad1C+ue76dVcnOMdECLg2SEJnntQHQc9h46sbi1yqheKA3yeMO4FAbSqRQAh+F5dQBQOsY58wHcfBsTmKEJ8lLe9vkePqseWY3EYCNrrg6IAJxTEHi8yTxG0Y5hna8e4dsk06LqBdQxuq5tpnlLMFX1kQxQ8GzvPI3Eeo7Z/aXILBYDAYDAbD8YeJBQaDwWCYMQB53v1/3UIuSu90/FVWUDwbp9ismLhDga97uGHpvzvqVTnvn+fRTT+soXnpNDVQnO67dIQKmHt3ZFzmD0CPd4wAuG78Onpv43tpvG2c7rvlPtn3eAKujnY+vpPe/KE305od0USGSty2f6ld1gEIBXArgmsF0YUe9kKGsaFnIyamnc6AUKOjDkCiCxkGkiw/PiEaDI3JOxrtHJVRFcmFSU/Q+B7sqQnSGSSOpDuD6ymUB+QToi3i0iIoocNpQiTqNo6GRBDeC0aFdH1vwl/14QLuQlQogKH84pxKMkkc18CbJGT4NPlzIecXogrlgEOIBcl0ktb+8VqZEwB5vPGzrH5mNa2cs5IyvPx+5++p/85+IRflOGyIh2XuUND4p43RZNwQCrgOeqHAlc3w+sScQOBFAk7T0Ke79wUBAaIBJgA/HNxwww101VVX0T333ONSpjcwESqeQ7I+SYXhgowo6LmlePJpTJgt8xnwe0A92fn+nW7L9MVCbqsX84+VpkRChAKMKAiFAowiCEUCjCxACPtS5/aoDGmdciHg65KLe2idR7sDsh+kvFqBy/qNjZQ5J4MckVgAIaBEKJhSMMDxlMh3x5I0EPqO3A/TSl0PTQpxDHcOGNql+j+ql3ZS0lw+aTf5+JmzM/5z0HD4qLwwGo2FuVcAjOrp+UlU/2L1seizwbWhUs643V787cXiNswjKGZT4ZE5j7iYwWAwGAwGw4nD/sQC/jpjMBgMBsP0xL4v76O2T7fR4OpBGtowRCPdI1SRrqDUopT0BKy9vpYWf28xvXH+fHr7v1XR3FRKCKd4eTm94uZoMkiQ1BipIG49HstRvCMuRNCS2iXuLMcfIP7+7tK/oxWrVlA8ExeSa+P1G93WYqB3PCY9hJukQmdBiEEQ5C3vaXE5pj/QU3Z4/bC8E4zuwOgKjCxAj36IJnhPHd/ooM7vdNJo7yhVnVtFyWVJGXXhSXiEMIw8SE6Q0HhOo/2jE2TacLHJZNSYpBrbYFxGZGQDP2dNT85LUvWzq93VHj6UOASZKGShI/2KiEZHRopxFOZ7M7uwFHw0ytZlZfSNfMMLTHyaz03R03n5ec/PaeD3A1HZcaQ+3Gjs/dzhTaYpQkF1hQhXmHBcnj9ELDxvjBRwpL8Y3Ayp6TreD/Z1+4vgUMsGF0Z1FTJ5OVyrNL+rWeYXOVRUVVUVk8DTGLh/zNcB104gJeFuqPO/JuYqUKDXswinXC7gJmUmYBa315iboFLFAScIaOjFAX7XCNGuq1jwxPzLojrL9VkEx8B8Ouq7q9s6Sb3EXd3XtgBp9a+tnxAEXJ316wjxV7Ie5lXz9d7l9elBmt8fQKgGaAhwEQc5nb0uK/cloiPIag4l7uqgzBNjOGJAjBdRlzE2OBa1rwyMKigVAZb8cAkt/p/FE+8J2zVPSV7FdBAKWt47c75fGAwGg8FgODiibz4Gg8FgMExTgPTcdtM26vpBFw2tGaKhLdFkxPhhnmhKUGZVhs6urqbmZJIysRiVl5VRYXycZm8oo1d9JUl1D47SyP2D4goHRA3cAYGMBeF4IgER4GfP/hmNjozSljducan7B8SR3Opc5L+f7wkuSjBvw0wEXKoMrYuEA0xULHNX8PvCXA3dP+ymnZ/YKSNN8BySC5KUWpASklWJa+m5jl7rHE9UJWRkgpCCEAxAHpaIAaEJYZiLiEUlFIc2DQn5fqSQXqlc3LSHsCcKg3WEYTxMEyIKYQC+OwmvL7+eWt/XKs9Ce7piFAQmD14QX0A/4wXPEaM4pEcsRktUEO35+z0yN8ThQIQCJfmd+yE/OkCfuXvuRZZyxnEVdmSyZ35fciyMVIBgwIaeu+jRCzK8+e3N7swHBiZ4zuVmhvui6iuqxcVaVV0VDfdGAtpUwFwFeKZSng9zvolTEcu5/cX8BOJqiC0cNQBRYEpDO+jiGG0AYlcEAtRlhDBX51GXpb6rSBCIBhK6+g7XdSJUcZ0LiX4RATASQEP0+Nce/SXnFGFC25RwG/LCSus7wEGpOOi3lUB6sPMvOhUKtF5rHUQdheBmOHxAEIBwieeI9wPXeXs+uScSChgiSvJrOeMXZ9DSW5ZKmhcFwtelaQhdHCLBqS4UYN6bupfVyWfgrA/NcqkGg8FgMBhmOtDVxNwQGQwGg2HaA65K4NIHRBlcmgjhAyKHP+muuiUpJBMwMjZG/YUCtY+MUFvXELWt7qP2RbwBRM/IOFX2V9Lll19Ow8PD9KMf/Uj2OVGAC56+3/bR8OaDT1gMwhwkKwhC6XXM9wxyFT7nZzrgigmjDcLJkjFCJPdwjgbuHaD+3/WLkIB5HqQsDES9QVE+un7SJfuDpEPvdiF0YCDrNM5W1HuftwkRhyKEXfJcTi6ppM5vTu7hfaiAmyCZt4CvQcg9kE6OSJI4oHEXhnHZrK5+YDgGh7/v/L2IGXIsXC+HNc+tkfMtTC2k9b3rJ1ySuO27/3r3YQsFze9sjlwO8T0I0c+huBLiayiPcVyvi9Nk3V3f/gwjG/y6ig04novrSAT45k+fkz6gP/4rr7yS9u7dS6tXr3Yp0xOx5hjVPq+W0q1pKY+59Tnq+HqH2zqB2hdynrPSMvkxyvrez+yVujGdsSiT8e6HME9BpXM/hDkKMLIApuKBFxC4XiQ4T4LzJnm/D7SeSZ9u3xCJZqgzrrxrPZI6D3A95xxFpD1GzUAQLBvnjGgHIOSpOIDPCicEiMsgFQJCg9gQWChGFFluIlRRkkai4/tzQogIBAm9RlwXRlm1vKtl4trCfIhD2IAgwceD2zHD4QFup+ACLN4Ul7ZJJrdfNyHYnXnXmdTwuoZoBWVKMVU8SJsubocg3qI8q+hb/axq6v+tlSODwWAwGGYKzA2RwWAwGGY8QAh3/EcHbX3TVun9N/DAgIw22Dc8TGMg20ZHqSufp51DQ/R4Xx/dfMMIbboS7K8jVUbH6YGuB6ilpYXOOussd9QTi+FNBxcKFPjRPrxhWHo74vpByJ6ugGAAkQWTIEMUwBwO7f/eTrs+vIt2fnAntf1DG3V+u1NGcCDf0BPR/A9CpMH43YMUEVIPPY5B8inpByJvwI0wALEHQo8BkvZIoaQjSD8peyAqR3ndEXxKCPp0jQehlFsVNZz13tMbkVJcrEGStv1jm4wqSGVTtIUXnRRXyHs21JPDFQoAuDeBUCViB0YLxPmkOCfKILqioIdzKAQ44t+PLigxEQNwrDTHdbRBrRtZ0BCTCZsxwiAxJyH30/r+1uhCSnDBBRfQrFmzaOfO6e+zH+5lcP+ts1op156Tsj0VMKoAvZ/x/FFO9zf6YLpgYSYjrocgCPjRAhzG2CoQ8jrCSYZ0NogF6WRSRodJnUU9duR+qRWNJnBhwxsaou1oD5y7Ihi2ibl2AOHowKiMYPCGdoINrs5gaGPE+qJwtI/TYb3Ogrjm83lgOAaOi+uDCBCCVzH/ibQlWveCEPVO3YCB9DUcPhILE9IWoT1DmWj7zMQExGf+9kwXC8CPvkgcgAWv7ZHZj4hNF6DciyjPhnJt5chgMBgMhtMD+CppMBgMBsOMwoIvL6DW97ZSvDlOOz+0k/7uGfuoM5+X0QRbBwfpgZ4eevjmWqp+TjXVXFtDifmJiHxlQ0/N8vJyGhtDwqkPIafgbgNEkpIUhkPC4MODQgD5nsKOwPciAcwRhiAGPSE4NCZzKuhkp4cDTLKM3uKhSOFFAggWug5RwMUhDvh4mFYiFGAd819IT2rnkmTWB2dJD/UEL129XXLdIBNh+76wT9YPFxhVIEIBBANH9os4oGQlzo+4S5M4BAPEdfSAigehgODEBxELMOoCBtdEKhqwyVwGLTGKz4nT7I9N7gkDoaC6upp++ctfupTpicQ8fmPcLjXPa6b29nYRuHp/MXkS87qX18mE23hWKBdoD6Y7qlUocKYiAVzISch5EEeo6RqHkACxIJVOU1k2G9UL1O0DmPb6Rx1v+rOmqM6rYBiIBCIQoP5rW+DaXgkhBITigLMi4l8FgqlMt5fkE5EBxueR80O8QBvgXvPC/1g4UcdQ9zTUOqajc7getX5gaoHNMDXgakjc2bn5Cra9dZuEAEYUHBD8GjzQ/NXGaN/n97mE6YOaa2pkZBpEKYi2cGk15+/nuK0Gg8FgMBhmKqJvPwaDwWAwzBDAJQB6Hgupkh+n1r9speSiJL2nbx3941Ud9Pp58+i/nvIUIXZATKZXpKnm6hqqvLgy6rHN+OQnP0mf//znJX7KY4zkXjxpbDgsYM6LQldhgjzUUQYBiSiEoRKDjigsdBaERIFP80NB5ikZqn5GtbizAAFVdC5nKgb4dQgGKJOc7uMa8p+aCgdwr4KRJr5Xf7yMYq0xmQNgiJf87rzck0xm/C975d6PBEI+6sgChCAkIU4oWRmKBFPFVTBQ4/3F1RB6QbtRBd5KRAMRC+r4nqorKD47Pom4un/O/fS53s+5temL7Euycp9nnnkm9e/ul3kmpkJqeUqEBTx/uOba8b4dbsv0BeYngEggowVUDECct2kcP2BQ3rlUiSEN6zK6IBbjtj1FVFNDQ+/4dFSHXf32wqDWP4Qj45R7NEdNb42EAi8SoP6jvquBsMcoIxUInIlIgLiOCjgA+Y9J2idZuN2ZjkSQc+mcB3rdLo580tMbDwN1L6iDYd2SkTtcv6xX+OEB8wChDUJ7p+LMmb85c0IoQPt7IKBgMmI13OAiL6/P+uip7fe/9YOtNPcf59KCry6gxd9bLGJB7QtqqfbaWnH/ZmXIYDAYDIbTA/gac7CvOgaDwWAwTAukz03T0n9dSgO7B7xLCSF5tGdmfpz+6mdN9MrZs+mhnh666YPtQkDi0xDEC+Y92PVXu9zRpg/QGzaxOCGkMnz1t3+13W0xHA4yF2aKSGxPwKGIgNAGkQ3S2k3Gi57uKHPrr17vjjAZmfMyQnCDZME+Yoly8XsNMgq9/oWAwTnCcwfrnmQPCXdcD8h0viYl7Wvn1NJDVzwkPYjluvkPRDKuAfH+e/qFnAShDJddR4LmdzRPTEDMIe5Hrit8Vo60DAlMnL8oXoZ/UVwN2+V+XR4BvqWyQTzB/BRd3+8SQQR1GfMwJBZFRDnq+e5P7KaW97VQvDZOOz48fUnz1IoUNbymgc6+7GzavHkzddzVMWWdhism5EUbhvYL/tR3fWz6tV+luKSujlqTSWpha4jHqZatJhaL5i7AvAVsmL8AooKfu8CtY66C6spKSjY0YJgJ0bx5lPrbN0/UX7i6AoEOAwnM5RWCspRhlDmY/jLSMgiALEY5dOIdhAYR7kDec9nc8IINUb5jCEws64XB8Pw4L4eLvrlIiOixfCQmiLgBcYHrgogaKnYgjT8DIYpuf/t2Obbh4MDzRycCuCKCK7sz7zxzokyEZSOMB8CcLgK8P8aef9gjbdWuj55adXTOJ+fIZxEMbQk+VyAoo5zJdygIYShHEK843ntbL3V+68jn6zEYDAaDwXDq4MILL3SxCTQ1NcnPMYPBYDAYZgRmfWgWDe6LXMt4Qy9MEDv4Qc/211fupY58nhY8//mUezxHw1uGhWgDcYTe33M/NZey12ejA04TSE90vlchauP7YS4MB8XgA4ORqOR6FWvZkXI0NB71Au6e6P2b35eX3vpwexUCJLaOJADRBJc58LcvxLojw9W9ifRixrvTUQU4H8prsO7jbD6O0QTOhEQcH6e6+jqa9eFZfnJgCEcgfrANZA/mttj+ru1HLBQA6i5IQq4zQrLy/YgQUCoUBNsk7rZrXNY5LgZhBMdzJqMMnEsinA+TMm9/x3aZcyLflpd7QVrXd7uo764+X+4rMhVUGMRkENMX6MmLUQXZuiz17eiT+TVK0fLnLeImBaINCDzMOzEThAJAXQ1FbzQKNQ6EcS76AqQhDhFK0uBGDlYo0NCnvj3xeQBzdQz1u/ltzVE9d6MJUM9FaFbCnduD3MvfR4OveDv1v/wN1PuyV1DnS59N6569jtZduY7WP2/9cREKgK7/7aLuH3RT9w/Z/o/t5m5xM4brxdwjqcZUVJ+0znHg17Vucb2S9gCjC7gtONV7tp9KQN3CcxOh4I6S0QQaAmGcATEZ7ZCKOmh/EUq7h4J6kgFxAO6rlv5kKS2/b7nMjVL97GoZORCfF5fPKQCjYgptBcrvykt5E+PPDhMKDAaDwWCY+Yi+DRgMBoPBMM2RWpmi+kX10Q93NiFUQQKxFYF/rP/6la+kwsteRh+q+RD139VPI1tGokmCeR8QcNXPqnaZpwdw3dJT23DUyD2SE7ciIAqLRANHNEIkQA9dCAforYv88C0PoQqEC1xaobc7RAL41ocLHSGJQtKc4ziW9NrE8d2xxUUKyq2zcL1UMBAbK7aG8oaIbHc9p+XcST4f5wWhPNo5KsTPkaLpLU3RcZ0YgXMJEITm7lVC3C+EgSBN03WbFwpUgNB7cPHdH90thGl8VtTzFT12vXsQPlZhT4G6f9RNjW9oFNdK/b/p55NMT0BggrC06pxV9Pv7fk/D64ZlREiI1r9oFfdDGNmCcoN3CkJzpoDfKv+T/wJtwRF6AwGLRMTZRt0cMwhHC1xxhoeJ+vm5dXURdXTQ0Ae/6IU5tcabGv1nhPTCdyPRhm/8EI287gM09Nr3sr2LxsZ6aXS0hwqFTrZ9fOj9jyQ6Eei9vZeW/GAJV52KqB5pXdP6pXUK5toCrbfmRubQgO8BeGZwB7bs18uixLDAhSHg4hA3Q4HAt8/Y7tq9OX974n3+z/vMPFp681Ja8cAKGTGBeXOqnl4lbhjF3VKKr5vrASYyhigAgTK3Oiefbx3f7KDOb3SKMDtTBEmDwWAwGAwHBr5SGgwGg8Ew7YHecd17un1Pa28hwD+xffWrX6W+vj46//zzpZcyiEb0zEWvcZCx8da4TOI6bYBbHnf3bThqgCjB5MejA1we0NO4RDSQiUs7nWjQOyoTz1ZdUUWZCzIRYefKGeIhQS7m0qsuq4oECRxfezrzsUUg0HUVCcK4Ewxk3ZFQSkrx2YrJQYgFsTLZH+LGtrdNTNB5JFDCUUN/nyB2sYpQ14NQ4u45hOSmX08EAoQahAK+dkxQrvOLqHgg7mTggglzGWDOBJcOwa8szc/2aVXU+KeNuORpBcxlUfn0SkrWJ6mzs5Ny23PU8Y0Ot5WkzMz+xGxKnZUSIQrPFa6Z2j7T5nLMDKDIqBigJkXdpY1xqOuIa7oIBWz5QoHyQ0NEvb1E+/YR7dxJtGOH1BPUY5wAwpKKBKjf3/vELPrPv26mL3y0wYkDat1UKHSxdbC10dDQWj7s7Xy2k4dZH5lFrWe2ilhQXsaVCHUJwINjkzrFdUcnFUco9QSjC1yvccNBwI9NJoRGwWLI56tEomBSyHik9ZGooO7H5F3g8Z9AvQYjCDDHQvZFWekEUf2UasoszIhohM+QQjfXlT15GloffeYN/n6Qdv/Nbtr08k207S3bpP3t/XmvCJZHOseNwWAwGAyG6Qf7xmgwGAyGGYHsc7PRD/fA5Ac+PulKPu22XLyFNmzYQLW1tfS2c94m7mTg7gE96kAC40d05twM1b6w1u1hOB2BSWUHHxoUdwxFggEbhAQRDDoLYujNnn1BljIXRYKBEOL8J+Qd1stcmpZHNkxcKu5OnAihIkGRYBAKCBAInGAA8gmhj4+N047BHVQeL58w+J7mU+K6IWwcLTyJD0M8EAO8Bfen63rf4f3LM3FCgVqRYBArE3cXEGZkP/SW1pEHGiIf4m59tGtU5miI18UlhE//xjc1iogzHYBRKRgt0NzSTDs37yya1LjlPS1U9/I6Sp2Rolg2JiLTyPYRmfviaEaLnIrgEk2j3HarQRAoWuftKhjAZJAN1rF9bIxGCgXKDfFzgVjQ3k60a5fY0DNeI5kxegN17zdfX0q/+MJCuvmf5k7sz/apxq/R6KgKBLC9NDKygwYHH6S+vjv4bCcPmKPi4o9fTAleYrxwLY/aFhXotF5hVAHM1SWtV2gTTkbP9ukEjCpYdvuyqCACLtyfYPDIrEfEALTD3ji/N1737wWiwXEEJihe8sMltHL1SvkOU39ZPc1dMJcyVRnKD+YptyNHuSfZHs7RwH0DMrpyy2u30MYXb6Stf7aV+n7d545kMBgMBoPhdAV+shkMBoPBMK2BSWb1xzl+wOsPdEDJE+nNp7/ROfzhD39IQ0ND9NznPldGFKDnHAhf9E5GL2zsj5680wK4L9zu8eUgTlsMrY1EA7gdEn/mmGsAIVz7dI2K64bhTcMyQqXh2gaqfGql9HqXb1l4J44gh4WigYxSwOSROB7EArVQMFBBYD8jDFQ0QNi+p50qkhVUkaigts+1SQ98pOMcKNdHA5DuQjg6kl7uB8D9abnjUEhLRJW8dGFoev8hiakmIkeiXHq5DjwwENVd5AXRBtN8mNMAvaWDfeWZYqQG191YOhaJBnMTVPPcGpkEPPu0U9e9GFwsJRcnKVGboH379olwCZ/1wOyPz44mc56XEGEE73JowxBtf+d22vvZvZJnJoFLMxX4HaqVigS6XmS6D0YWjI7S0MgIDQxyGerpoeGuLhru7KTB7m5qW3E1PfrY+XTPD5ZL3tLzaPje7HdFJMjnd9Hw8Gbq6vofGhx8GJd30gAS+3mPP48yvEAsgFDg4eqWfM4584IBm4wycIKcjS7YP87efDYtu22yUKChfq/Q9UdmRyKBB9JLDQUXob4XbsfmfXYerxxbLPjqAlp2xzKqe2kdZa/N0opzVtBV9VdRFS+7e3dTz/oeGR3Qd0eftB3rnrNORhBAIMD8NgaDwWAwGAwK+7ZoMBgMhmkPEIHoKRqxSWzuR7oQlfikY1OyUT/57qi/g7Zv3y6z/QvRyIAvaJCU6O0NshYTFcK/73SBErWG44OhJ517ot5RKSNicEnUM0qFfQWZLLvt623iBidzXkYIYBB0QuKh3CEEYYTyWF5GNVfVSK9/mVQZQgBsKsHApYfrwo460QBlHmJZvjtPldWV1HNXD8Vn87ljZbJd5lloPzqxwJPyjuD35KTDVKJAaF4gQIg0xAMy0xsfG64xMKpA1xHK88M+KhroNogXLg5XRRglJK41BvLyTGKpSDSoakrQS0cb6c0LFtBzGk89F0X1r6qXSY0rYhU0tG+Ico/lZG6CeZ+bR6llKYo1xKJ3vCsvE7Pv+vDM9R0Osh6igJL5ecSDdbWQ3Mc2DSEWYHQBBIPBoSHqHxykvv5+GszlKDc8TEP5vOTJYx8c0x0X50HaCIzjw8ObqLPz29Tbe6u7spOLVatX0RxeKnlRsYBLfrTRfd75+sH1DGGRaOCEPhlxZJiEszadVSwGuGhpqHkemVMiFAC6n5r7PtL5X9yeuXfj3UMdA8z99Fxa8v0ltPLhlZS9Pkutz2il1y14Hf1J4k+on5fbem6jnWt2ymTwG1+6UQSCLTdumdbzuhgMBoPBYDj+wE/Wj0VRg8FgMBimJ2a/dzaNjoz63teU5xDkqvvBzj/RJZQf+fjxjlXe/qPHfkTbbttG69rXeTK1oqaCYjUxmUgVvXgR9v3y1B6WX3l+JVXU8/XGyoS4Hrx/0G0xHA+I+6G9hWj0AMqYK3dC8g+Ni6hQ9cyqyM++I+5Q7iR0PUvVhtcPCwmOvJPA2aXsurhfxx/IQEeky7E4xLWsfcla6vlxD6XPTlNyUZIq6irkmjAnR+/PeqNjHSYabmiQ3sgQz2CYF0CISdwPCHxcSxCX0Al1k0Ldjl7O4cgArMcjlypPPuNJSi5MyrklP76tclA2jn9RHMeQ4/C9Yz/kQd2FaCNCiiPpxsY5wpsvWp+hc7YmKVNRQS3JJJ1dU0P18ThtHDz5dQWCJHqNJ7IJGhkckVEF6XP4/S1OUrwpLs9pdHCU8lvzMp/G3s/NvNEEIVr5/ST5PcW5LKTKyynBhniMwwoO1aQIuFDKFxuKBqokN/betVBhdDSay8AJAwhVgEAIYUDEAc6X4239hQJ15fP0i90P4EinBEAIv/yclxM/GSrwknMLlxYa5esW0RBAMJWhPsBQN3i96pIq6r3tyNqDmYizNpwVRVCAEKA8KTQahNtu2ha13QHO3XuuiwXAs2dA4NP2Stu07Auz1HNLT5ThMLHgywuo5V0tVPm0Sqp8SiUtmbuE3ph5I1Xzcgsvv9v7O+pc10m5h3K07hnrqPO/O+Uzy2AwGAwGgyHE7NmzXWwClZWV8v3aYDAYDIZpi8qLKqkwzD+Cx/h3+Rj/MnckoRh+3KvpD3U19LIsK6PbY7cLGacYuHdAfIGLL/nRcREMTnnwJXpyw5EThuMPuG7IrclNjDboHZP5C0D2tn+lXd5F5cWVMmF2rDEmxD0mlkTPXhDkIIxkVAEmOg7nLUAYmB9R4LbLOshBEH/gfyBWuLKq/utl8tahiVELR0UUoScsRAkl9lHWwm+QKHqhARxGBG5JiE16LIRsIPsr4hWUyCToyec8KSMu9FxF59ZRBGoujwgNqXJ5PnCxAT/c8PeP94D7jrWN0vw140IYp+JxyiaTNDuVoguzWXrbwoX0/OaTN5k53CTBDz1EydHCqLi1Sq+MhB6Zm4Dfq0xAyvez4y920L4v73N7zlwMOVJ/mA1x6emvpgQ/x/1IAJemowL86AC2oQLXRw4hBIywIRSxwFmYX87nBIM+3u9UweLvLKabXnIT1fOCUQWY2JhbAr/IZx6qlrOizzk2tDMSD+uLjS4QnLXuLDprvRMK+FGKIeDyFEWcARxufcNW2vbmbdTzkylIfs3rTF0jwia9Cxdf+LWF2POQsehbi2j575bLXATZZ2fp3MXn0tXpq0U0+ofBf6AfbPoBdf6mk3pu7aEnzn+CNr5ko9vTYDAYDAaD4dBh3xQNBoPBMK3R8CcN0Q9z/LgPfqR74gS9+BDHJx6Mf6DLD3YQj04I8MSAAya0FbFgmH/k8/7Vzz51fZ0DIE7l3nDv2sPUcEIh8xo8PCgjVDAHRn53XlxPoJd/7SW1lFySpIpsRSQYIIRVV1DjnzSKKyKZRNlNnhwKBUXiAeJqus7vW4WDUPRCmogFzqUW5lw4Ugi55Qh6qT8KVC0VqRheDNA6JyslIepeSPaDuIyXUywRo+2f2i51zZOaamF+GOoujOPhpMhwAwUMbx6mvjv7ZB4SuPNJP1agXGdeeov3j4xIT/NkLEa1iQTNSqXoKbW19P4lS2TfE426V9TJpMYjO0bknaGcxJpi8sxlboInh8TP+O6/2e32mPl4rK/PCwAQC2Ag8mFK6stoALceigOSroZtCCESlOYJ1uUcnAchhIKBQoHauZycClh+z3J6xyvfQY28QCjApMZc47m6j3K1Lkhc6qGrcyrMhZ93Um+d6xutMzIq6jTHqrWrir43CIK4/17g0jCaACLL/kYDiDgQmD8WxBxt9yASBAIo4gcD5jdYestSWvnYSqq9ppYantpAq2atokVli2j9+Hr6SdtPaNPDm2QE5Pqr18vILExYbDAYDAaDwXCksG+KBoPBYJjWgG92wJMkMACrQRriQpaElnQ9LPGDPgBEArjz0U/Jygsro8ipChAO7lpBIhtOHoY3DItogN7gEA5A9G77yDYpT/A9D7cyEAngMgcG0g69/8WGxyaLBc5kNMFUYkEgGAj5pMBIm9x4NAlz72jxtsOE1BXe35NdQFjMXB0ThKEayqaLe9IfIVt5rFwmZO7f0C/35IUAJwZoPh8Pt7MJ8YZtHB98oFgQwciC/rv6afvDvUJAb83lqG14WESDPicaJGIxaqmuppbKSnrvkiV0VVMTXXrxxXTOOee4oxw/QCjCtYNYTC1PUaw1JiMk8M4wYfbgg4MyN0H7v7e7PU4fgLyHCJDjUExJfTYVDkKbSgSAhdt9fj4eQj2eigSDnA4XRN1s39ixw13JyQN6vN906U0iFGBSYy7lNOwWcT/EC9f8YqEgrGvhZ11Yj9hO95EFq55YFUW4HTsUwQATAvsRYfuD7geDQKDG69JuhkIpzL2XRd9exJkmY/4X59OyXy6TUQTVz6imhlUNNLduLh+mgtb2r6U1G9fI/DR9t/XRE095gjZct0E+fwwGg8FgMBiOFugfZnMWGAwGg2HaovlPm6NefO6Hufay9sAPdfg6xw94GFASx4929OBVjGwZofRZaYo3xyMyj4/Z9+tTd96CqkurIpcl4+NUaCtQbnXObTGcLGB0AVzgYK4AiFJwIzO0fojK0+WUXp6muWfPpcH8oJS/3l/0CtmtIwO8yFUCSQdQdpEFpB/8/DvSCT3U9/5L5M8+dUZK3B/hfBhdgLxHMqll3UvrqLy6PHKfVFUe9eQHOcmXilBIMI1rOq4nyCPXipC/deo8BdK7mQ0jCuoq6+jhpz1MmQsyktfDxfV5hMeHyCDncQaXUCNbp+4Nns+N0rZcjtb09Yn/e/Flz+l4jIhXp1KUiMdpYGiI6hIJmst5my+/nC644AKxBx98UI5zLNH6gVZKLEhQYn5CXFThuUAoyrflpS3a/de7RWg6XbF7eJjm8HuJQeRlQyjzFGCdt4u5OCDNOb9LeaduHe8WHwU6EbLMV8AhRAWEKh6oUADXQxAKdnI5WN17cv35w//9a+e9llp5qeJljJduXvbx0s4LJq+FaIA79mQ3A3F5KlhX089G9zmpn5GpM1PUf+fpN9HtqsedUABoYZLARzx2vHuHzO2A9hXtV3pVWlydTYWWP2+ZeOYI3Hvp+0VfsUDAFraTCOteWUdd3+2S/RZ8ZQG1vKdFXNjhs6KmqYaSiSTl8jnqbO+k/o398hm/+YbN1PZPbdT9w27Zz2AwGAwGg+Fwsb85C0wsMBgMBsO0RtPrmiLyIyREnFigJKPENYIf8moMSef9Sgl2TDgab4nIVvTe7rv9FBYLnl4lPs9x33B/k3vUxIJTCRhhANEAk9PCVcTAHwZoz0/3UH5vXspY9vqs9A6FqCBl1iGMTwJv8gRUPApFLPh8JBbEZ8UjV0eY+BokO5dxiBKHC0yULEIBBIMqPpYSXSC5YLjGYF3irt6VpqkgImGCj5esoHgqTtu+sU389COfgHcpMgTYH8cLiTY1Tu/+waERZtuHhujx/n4RDUAioxko5PPUm8uJ65nb29tpQ3U17dqzh/awtbW10e7dx8YFEFwMNb25ibIvysr7wfsSkYDblwLmutg0Im6T2r98+o0kmAoNiYS8J1cEvFiAYqJpwDingZjFR4CEbHi3RUIBGwQCCAY6yqBoRAFbT6FAe7kM/Pu2bXLck4Xz+8+nl2ZfSi28YMJaLuHUy0ubW7p4GeAFAoKIBVj43lCYNVTDvj49/HxkGx8cp95bT59Jjlc+upKa3toUPZOwAAFuXbZFEZkjJCT4m97YJPW27iV18pnb+/OJZ3f2trPlOYtJQZyw/I68Pw5+eevxfDvm2rXaq2up5X0tlLkwQ5nlGaqpr5H9Bvr4be8YoNwTOco9nKP1V62nzm93ykT7BoPBYDAYDEcDEwsMBoPBMOMQn8M/3K+vmxhZ4H6oY51/fkseDRWyDraJ88p+DhhFMLx+Ygi/uIyZ7UYW5MaF5D1VUXVZlRC6cFUDsWBozcQoCcOph8K+ghBIIH56bu6hru90yXuDcIDyJuXYFduw/EbUNkO3gYAKLN4Y92IBRsckFyYjQroymvwXZQQjHA4HmXMyfmQBxAKcW8ktJfCF9EJaEJ8qTUYlQCiIl0fzFCRjdG7qXLr7ZXdT5SWV0b2ibgIcVXjxwRFrcjzEnQ2tG6KRzYfnY36HEw2qYjEaGBsTkvi/d+6kDg7bOztp7969IhYcC6Eg+5KsCATVz6yWdkbcT/GzgLszzEuAORbwXjAqxIS+CewZHqaWZFJEAgBFAyblTlKiqgKDQIAQ4oAXC9hCoUBHE0AsUPdDEAoG2HoLBXn3T3CZ2DR45PN7HC0uGruIrkxcSc281PIClzMQBvbyspsXjCpk80FkAABg50lEQVSAcKAuiGTh+/IiAaAPRc19NsrnHdbBMeNzktuE7v87PXqlr1y90sUiSAnSQqRw69i284M7i9rWqsurqCxVFrWD9RUyAXnDDQ2UvS6q16klqYnvIM70eaNtD9srb3xcEQ9wDl7HOTJnZKi2rpbGK8ZpoHuAclty8nm+5+/20M737zxkUdRgMBgMBoPhUGBigcFgMBhmHGJ1MfmxLj/SA0NP3RBCNkrEBVgH4egSsA5XLSGRmlqRosSshJC38Cd/Krshqr6iWkgMjLCA6xv0TjZMPwgpn4kIeSnL+4Mr3jqiQMPU3BS1fbYt2siAm5tYbcxvxzEH7j081zbpc93IArggSnGlQb2BCADCNhACpE7hrzRd47gGN6IAQgHmKUikE/Tw1x6myqdWRnnkAHxSGAIcC8cF9HgV7niOcEO869uR+44jwZZcTgjitWzHGvV/XE81V9ZELqEwSqkycp2EiadRTzEvAdocjCQw12FTA6IOJqHGiAIhxBWuXCDFCwUuHooEKhTA9ZAIBRyKUOBEAowo6GODUABXVT/ZG4ltJxoYyXZ5x+V0Xtl5MkdBDS9xXoZ4gUCwhxcIBnBFBKEAowp0ZIGAAy8GOJP6FKyL6eckP6zR/tHTwoXNiodWRM+iBJJWkrzro7vENZMS+L6d4eeFUNqvDFu6XNpWjDSAKCsIn7GLD/5hsOg40g4HAoFa3TV1VFtTS6MVXCY7+ym3KSef41tu3EJ7P7tXJtA3GAwGg8FgONbYn1jAP7EMBoPBYJieAIEpP8pLEJKV8kkHww9098Pc/1jHBMdwi4Ieg3UVVP2satkfwL7i3ohRKj6ccnD3qESEYXoCxDEmQpbJi9lAKo8PcXy4xDAJMozjMiky8sDffV9efF8rcCz4wMf8CRC8QFg33dTkth4GuFgBpWRkqcuTIpSs+7qHcsoh5hx4bey10mPW100IChqqJdjgnkmN00DYyaTebL0/66U77rgjOskxACYThVuo7IvZrstSzXNr3JbDQ+MbGim5OCmjnzCSABjrG5NRBIMPDVL/Pf0ivqifcsP+sW+Yn1mhIC6DMAIA7oJ64DqKQxgmJQbp70O1cJ3jEAUwLwFMj4HJrvfy8TH59Q/2cFk8CYBQ8Kz1z6LZvKR4SfACIaCPF8xRAKEAYQ8vXNNlUUjc1U/hvp2IouJdkQWfE2IqxM1QrLh/Ba34wwppiya1VWEawOHuv9k90e64Z4Q2puM/O2jPJ/dIr35MOp5bk6OR7SNU6C5IOy1wAoyYE2Tw/UGOw8fzE7Hrsw8M7R+upauji/oe6aP+3/bTxhdtpA3P31A02tFgMBgMBoPhRAG/XmxkgcFgMBimJeAqqOqKqgkS0/1IF3Pgn+NThoCQJSBPsCQ4zsfIPRL18JUJjpviQuiBaD2SyWFPFOCGCL0c8RxkZIH1Up62ECK9unyCyEO5ZgvLrQcnCQHvyHa8f+RTl1kj20YoMTcRjViorBBRDL3bD2f+jfQ5aXE/JCMLMJkyevdrvUG8dJ3jCGUd6YhiMmJH+osLokTkgujn//Zzqn52dbSf3Ex0DAHielwICM7kXoPjn9t9Lm3evJlWr14d7XeEgDCQWpmKrtUJEjISIlMuo4wwWfShujqCYJOYlxCRANfoRxKsH/YTGsdqYuJyaHidkYEHQ0c+LxMc6/wFGC2AEQTa1E81kkAMIwnY/ETGo6NiGFGgggGOvT2Xo5vbJkbknEhAKLhk/SWU5iXDCyYzTvICsQDuhjCqAEIB5ilAWumoAhEL8Mf3K9A4VvFwOJQJ/vVhue0QF0d7R0XQGrhnZk2kvfze5dT4pkaJa7sipuslQBrEgLCdUev4WofLRTISCJMbw40cto318lvg7waxpph/tt7cOgTb0mPC0H6FbdvwtmEafnKY1j1rnbils/kIDAaDwWAwnAiYGyKDwWAwzDjUvqCWksuS8qNcBIOAEOGf4JInhJCPCINtEscfbwNJCFIQQ/4z52Yo1hpNQAqyD64JTlXIBMd1/JE+SjJpLnzhG6YnQODBxQVMy2tIPgkQOhOyCb1TQT7x+0+tSklPWAXKtM43IO6EuDxDAEDv1UOBn+AYLnT0PFpfnAnpBcLfWbhd4o58F7EBcQ4XVy2mB1/9oIzm8fkQ4vBOMJB1J4QosabnQv7Ob3bSpkc2HbVQACz71TKqvbZWDMKgiAUYyQDBgJ8ZJhAHsYpJqvcHuGyqvKhS2hCIMxj5AZEA80dAbEnMSci1F7oK4oe858c9bk/DwYARAHAT1JSMXL5AIIAQMNW8BEj3IgGvi0jAcZnIuBCNRujm4+0bGaFNAwP0y46J+nIiAaHg/PXni7shCARYdFRBjhe4HOrgBSMKCrxMJRTogj9OnmgbNL6fEGUTRDbKZ//dp+5n26Fg9idmU/Nbm6n+lfVi0lZJgxJt13bFtzFuFdj7z3tp4HcDnrTXNkbbGbgRKgXmm+m/q1/mSkE9zj4/Gz1T7bSQ56DAb2V0XARDzHlUdNySc+E8sPXXrJfjGwwGg8FgMJwomBsig8FgMMw4YGSBkB9KgIy7H+swBbiBgCAQojH4wS5kJNwBoNczCL15CcknZC2n4wf/2ABOcApD79fdl2F6A2JVoT1ycSEG4gkhXBA5l0Pigig35k1dEqUXpN1RIsDv9fDWYTneaF/UyxUTdze8vsHlOAjCoh/UNbWiOsfbPGGGQLfh2yaKJRvqImyEl9kfnR3VR62DaqibcTbUSbgJ09AR9wghFGDkxPHAnL+dIwTk7I/PjtoBd/5YQ4zq/6je5SqGjiQAUYl7huiDnsh47rHmmIgPeB6Y0BiCw+kyseyxxu+6uqh9ZERGBWB0QKcj/WFIx9wD3ngb0to5xATWyINJkzEPwvqBAfqfXbvobj7eyQA+u8558hyuElF7DQEgz0s/L528YH4CjCiAYHAgoUDggiIE9c2va6hxxp5PnRzXS8cCs/5qFs3+GP/A5fsPffoX9nDbqZ0HOPBtEtonbZMYMhk83AOhzUF7U2L7vrwvyrgfDG8YFtFgzao1Yr59httCdUlUcMcPTAVQNb0Gg8FgMBgMhlMFJhYYDAaDYdoCP/xB5hcRAyAD3LYihCQJPv2cebKSf7TD5RAEA/h1157UIGZPdbFAyAn+A4mKHtCG6Q/4xVaf2GIo5xxCEFBxQASCwWhd5zcY6RyRiXVDoKf8yK4R8ZmPOhCrj1F6RbGosD94cg0BX4PUM5BuXOd8vdM0zYt1hDCtdyX2yH8/MlEHlTRT0QBkHZdlNXUJpDZ4/6AQ8ccSj8zh65kCrR9opVkfnhVdB0YY1FVQ459ELk5CyLWhveB3AkFAfI3z/aA+oo1BHc3vztPQk0OnxaSyxxOre3vpt52d1DY8LCMEMPcAhIG2kRHazWkQBELbNTREO3I52jI4SE8ODND/7t5Nvz5JowmAxjc20qpHVrk1VBMuM7xgMmPMUwCXQ+GIAiyRTBAtyI9F9z0gSuqd1DngILud6kC95Efh2yAJQ2A1MNmucW6nIASgnZG2JRAItP3Z968HFgqmgo4mEEPcrXtBIrCiNNf2Lf/9cnckg8FgMBgMhpML/cpoMBgMBsP0A378g5gc5Sh+lKMnnxIH2Oa2h4RnCD/KQEP+4Q4f5T0/6ZEQaSIW9OMkpy5EzOB7A8lhYsGJxbMbG+na5mZ6QUsLvZDtmqYmurx+6t7nhwvMPYGy5yc5hihU4FcN0WBojMZG2CAWqHEaetvDx34p4DpjtH9UyjOI7cSiBLW8u8VtnQxM8Iv5QKR+ad1BMXNkmKQ7Q31T0k6Mo74OKkBUIigrk/kK9n1x34RIgG+jEAqwDvIMxHyJQCC9+9E7n++96/vHpzf4/gQDoPUvWyeuo7Lc+0RX4LoxckPcDu0YkTZHRoCwYZTByM4RISC7f2RCwbHCo319dE9XlxD/O4eGZDQBRhJARIBogLkI4Lpo0+CgzElw6759MjLhZOKMX5xB8/5xnltDdYnmIcCoArgewsgCCAaDvCANSziygEuUD7EIUNVQ3nS9FKh7zlD/VIDcX/ZTHS3v43bLtTthmHtiwv1eoa0Qfe679kit4xsd4qZN6jLXWZD2RcS9EwwOF8vvWR59DwlEAjGOSxt3IMHAtYOSz2AwGAwGg+EUABgFm7PAYDAYDNMSNVfWUEWWP8pACASkQUgQFAkFU6wr+Kd6FJZHgkG82U1u3D8WuSs4hQGXFvFZfL1wgcL33ntrr9tiONaAEHBeTQ2dn83SxWzwod6QSFB9PE5ZFzZzGvKsqq6mxZkMre0/cp/g6I1eUR/1Tg/Lq8SdOCZEE2+HQViA332Q8SHyO/PiSz/WEqNYNhbNQ1BVXkReY/4AzNWRuSgjLndAfFdkOB8mSOZQyEZcB6oKDCQ/Vp1rIXF54rb5NNdjV3vwYgLhd9a8k+6vvn8ir7t2sVLyDKfFcflc2A4/6/D9f7wm8W77xzZqec/UIgrmBsFk4gP3Dci8C5nzMzLKAcBoArQbEG3knfA1y8iPvjGZo6Dn/2x+guMJuBiSEQRs22G5nMRhGF1wKuCcHedQckHSl3Ut+8A4LxABwpEESNN0DcN0LLKvfqbp556G0eaoPLpJjkFeYyQShEOIzNNRvKq6tCpqExgaAoijHsab4rKOz260cfy0xe0X3H9Ju6JtjAulbXHtDazqkirq+u7hiUoNNzYUP3fE8bz53ejE8NJeunZMzLVrYrgNDtu/3M4Rg8FgMBgMhhMDm+DYYDAYDDMO1VdWU6wmNtHD0PV4Lu35LGna0zkwT7IAms4AyRBrjAlROdo1SgP3DEQbTlHAL331FfwssnzN5UTJRUkhNA3HDlfU19MFtbXU6sSB2liMqtmqKirEKjme4RCWdiEMec6uqaElmQw9foSiAXrJyogRkEohtAwXOB4QTnCXU3N1zSQiEGS9CAZctmN1MRHa4i1xIdQy52V8OoQCbBvZNCI++0VYyDjCC39KdjnCS0gvd25d17y4Fu/qA+Qc2282/kYIdNknMN3uiTscA8fkED30t7x+i1xnfG6c+n7VxzsdH+xPLJDrZFQ9rUqEg8EHBqnygkoa+H1U10Y7R8VkdMH2EZnYGO6SRjYfn7kVDNMDmMh45eqVUgeknroyrXUEpkJAqRhQuoTbAan/+IzDqjP/uaYWfP6JyzKMQupj6x2bdpNsN7+zOWpvGPwE5dkVhYz8nnxkbXka3jgscwv4NkUtbGcQd+8D6xDeMVHy4QgGDTc4saDExJ0hzqHH13celgPXXsKa3tI0Seg1GAwGg8FgOF6wCY4NBoPBMOMg7hTUNQtC5wZAe1zDQJIUjTjYXxoIFsbez+2NiNEY/6Ln445242CnPuACBQSSkLs16AtgOFZ4fnMzzU+nZcQAhII6jCJgq3VWA4vFvEFIyLIhXz3nx35zef8/nT+frm5qckc9PEAQggDkXRLBxQ2XdXFJhJ7CXE7h7gY2uHqQ6p5ZR83vaHZ7R8g9mhPiTN1WQQTIXJyhxPyEEPCY+BgjD0QcSJZT7XW1E+40AiGuyMK65OqdT4u4u0lh2z+1eXJMDGQaxAQVFDTuDNe65XVbop0fIrp46GK68cYbo/XjgEdmPyJ2IHR+u1NEBZCBLX++f3dOhtMbqTNTdMatZ0QrXI7FUFfYxkbHpA6NFrjejrGNs5Us6oIIyyQhoVQUwKr7HJN1DbkKgZDW9kLaD7atb9oa5ZkmAJGu7YuETijx6whBwKMNUVNBYCoL8qk7InQQGHxkUOxw4NtDPGOYW0f7Jr+28ZGsAoGeP9zmtkuawWAwGAwGw0kGvqIYDAaDwTAtIf7cnf9lT4RoODIuk8EqMaIEK/y8C9EaGueX3tmjRNXPrqayFP9g5yS4PEEvYUx4fKoDJDHuBb24bd6CY4Pza2vp+tZWIfvrEgkRCCAGYLSAjiqoVMN6iWk+iAdwT9TEx1haWUkvnTXLneHwMXD/AEnvYEx0jPLtyj/qAgQD9BZGr+HOWzup9gW1YjVX1VDtC2up7qV1NLRuSMo09oXfbriwSi5KRgIZyHlHooG8Qhx1AqSXD8f4IvZjXiTQtCnQ3NRMgw8OeuJMzhOQdkUGoYCx4707JATaftVG9bvqadZRPMNDxaZXbnKxCUC06PrfLhl90fPTHunp3PIXLZEfdYMhwNIfL6UlP1oinyVSH4IQQgHqlAgG/Jk1VuB6y3GxcbZgUaEgXLimCVkudc4tHkE0hLYV+JxA/Z924Pvy7QvukUNZ5z+4SlORv9RCMt7HQwNJrwS+s91/vZs3HAYglE5lrp3zoqgKBO5aNE1N0g0Gg8FgMBhOMvAVydwQGQwGg2FaAr3ok8uSQrZQnhP4x7nEg5EGEleSxOXz64F5EYHj6JmPH+5wZYBe10D67HREcp6iAOmbmJWgRG2CRvOjMkmz4cgBl0MYTQCSHwIBhAF1LZRiS8LKufw5i5eVURwhW8zFEcIqYLwuIRvyL8xkaE3fkbnSkXkMqrmMggjjIu3JQZT/sag3K1yNYP4BiGSFzoLMv4HJeRMLEjS8fpjSK9PidkjmI+BjwWWOHA+TboLAckTb0PohqQ/Y37vPQBiaS/MuiNhkPT4xV4EYH6+QLFB8YXzC9YY7D6yUPMMxtt20TVz6lGLhwoV01lln0R/+8AeXcuyRPCNJ3T/sprqX1EUJfD149ugtLvOZ5MYodUZK0uGaCPfQ/9sjn5/CMDMAt0PLbl0mLr18eXblHWUF4DWutrygvqK+AK4e+9EBjPEyyRXF3SJxN6pAw9K4WEiq4zPOuSDCfAWbX7mZN0wfYEJx365E/3wIV2raZngLiPmwTRHTtqc07mzXR3a5sx466l9VP/m5s8E1oFw32khn4Xlx/X6bize/vZn2fd5cERkMBoPBYDj+MDdEBoPBYJhxyD2eiwj+4ain5NjQmLhpkR7XSON1SQu2e5/NU1j397tFgMCPeLhqkR7YcNlS4N/xsTJqfEOjO/Oph87/7qTRAagjJD0sW95rPZ2PFJiYeHYq5UcSYNSAzkkAoQBzEqTKyynNhhDkP9IRF9O4y6siA46hIw1aksmjGmGAyTrhlsiPMhhhQ/nujybUxUiT3tt6hcTWCT+VDEvMjQQD7At3Q8mFSSn/nqxn0x63QjQ6lxq+tyzIMI0HpvmKev86KJHZ+4feiBTDuQIRoei8bLi29Vetn1IoeOihh6itrY3q6+tdyrEHRmKgHkHs2PqGrTJfwva3bafUihRV1FVIO1Hqoqz5Xc0068PHf8SD4dTFvM/Mo4X/uVDKuxjXBW+uDvl64gRtdUcEk7jL69N5fWyM6zZb0fFcnQpFgjCuwHlUCNfPy/Q5abf11Efjn7rP3fAe0S5xiMnOpT1xRHuRoY3RtgVhYNrOTGlHAm0D8azdu4T568A1uPZ3ymtFMrariGAwGAwGg8FwEoGvJwaDwWAwTEvkd+Yj8iMwEQogGDjhQEUDhD5d4yBaVTwYGKPKSyql9zUICbggyu/LU801NVRzbY24c8m+JEtLf7JU7FQEXNDA/3W8Mm7zFhwF5qZSQujraAKIAjqCACJAwsURThXXdY1jFAL2w3EgHqiLIggGzz3COQwUg38YlPc+nnNlHeW5LxIM8ruiiT7hhgi9bwWOqBp8iPeDG6+xcfG7L2UfZD2+GSq5xYbtnghTEkwJMRCWmoZ8EAickIC0kLBU9P6iNyLsAqFARjMokcfnhECw4YUb3B5T44EHHqDh4WF661vf6lKOHeCuSYQCCIdwSYbnUV5GqbNSlFyQ9JNN99w8efRO09ua6Jw957g1w+mEM35+RkTCo9yHpvUCBDfqhdYPhK5+aT3SPGK8LRQMQpN8CPlvSgM4lH0xqsB97uHzMXN+hs74xRk0+xOTe5KdknD35IUQPEsNuXoqCS9EezBSQNo6GNq00FCfXVvjQ2c7/3InZzh8yHN24k9oRddSeh1I1usO8yA0GAwGg8FgOInAVxKDwWAwGKYtlAApCoN5CTStaDt6YDvypPbaWqp9fi3lHs6JD3eQByBXCu0Fav3LVneWyVh6y6knGBS6CzQ6NErZuqyJBUeIp9fX+9EEOoIAFooApQaXQ6XbZL2szMfVRDBgwzwHOM+8VMqd+ciRW5OL5jJwI2TgZgS93gv7CtR3R58Q3lWXV0UkN0i2MqLhzcOUb8uLaAaBLHNhRo4jpBmIKyW0lLyEQKBkGEg6JcSCuCc1OZTzMEDwKcmHUQwDvx/w9Swk7KRHL5+v/95+2vJaN5nxAfDEE0/Qli1b6F//9V9dyrEDxBMIBWoQNfBM4X4o1hSjisroOS76ziK3x2SYYHD6AKO4ZG4CAOU+NNQPrUOoF66eiHu8cB2hqztiGkdYGlcL6hYgcQeJ47z47HMiuXzm4XORP99GO0ep7sV1dM6uc6jprafunDwNr2uI7q/EcP9w9+TbKSXaNc6mRP2higg73jcxN8rhonREgVrpOfx1TSUQhGYwGAwGg8FwEoGvJwaDwWAwTFug978QIk4cEFcLao7gFAvSsy/MUvb6LA1vHKbdf7Obdn5gJyUWR3MTgFDJ782Lr3YPEBQBNjx/A214wYF7Pp8MyAS3g2NUXV0tvugNh4dllZUyokDcDTlyX8UAPycBQmc6N4Hk4X2SvC8swfGEhsG+eiyEMtLACQYvbt2/KHU4wGiB0T4uAwPR6AK4IoIrra7vdsnIgsqnVVJ5FZcLLs/Vz6j2AgNIK8xfUP3M6uibIXreup62Qjii3oD4AqGp9QlkpZJiLu6FA4SoMyVW21IrJKWOKvAjCpxg0PnNTtr5/kPv2fvDH/7QxY4d4GrMiwVungdcq04EDRdEEDvgxulgMMFg5gMuhyovqpTyjXrgyzvqAOoO6gbSEUe9QX1xodan/QoFyBMcw29zNukc/CcGcLqK5l4kz0VzbISfkxAMm/6siVauXkmLv7vY7XwKAbelgkgQx5wrk4j/MF66rnE2IeuVsIdxfMd7jlwoELh34Q3tIIzPXXQ+Dqe6pjBN8hgMBoPBYDCcROBricFgMBgM0xaYgFSJj0nmSBGMHIAP8ux1Wcq+KOv25N/0IFE4T3xu5KIFcZCZQ48P0eyPT3bRICIB26kKzFsAkjiXy1GsKnbAkRGGyWhIJPy8BCD0ldxXsl8mLHYhJiqWbWwQBlLxOKWTSUqnUpRhwzqEA9lP92ULRxuoYFDHeY8VUHbhmgjzV8CVFsQDjJLZ9+V9Mlk3iM14c1xGG+RW50RgQh1JVidl9IESW/INkU2ITd4uhKaSmSAxlQxz5rcFxGURgclWwwt8uoN8x1wA5bFyLxZAsMM1nkw03dQUCQXqgijtJmhOlFH6vDTF58RFQMAz2fdv+2jzqzfTxpdsdHtPjXPbznUxw0xC89uaacGXFxSVbxjIbK0DUv6D+gES2YsDWl/UkI7tyIftegyshyS0M38eR57LufhP4/LZxyafcc7lHuq/fuYhFDEBIgLERczNc4qh4YapRxWkz017gt2T8DBtu9w2bcMmxYPt2/98u9jRwr+vEvPXo+cPryOIh/eB9bO3nM0bDAaDwWAwGE4O8BXFYDAYDIZpi5GtIxGhqQZyBS4eOK4CwVTY9bFdElY0VAhhCUIUvawxoqD1QxMk+4ZrI4HgVBYJQsAVUUd7BzW3NksvaMOhA3MJgMBXQl8JfhUHQhMBAHmxTyJBlZkM1VRXU21tLdXU1FBlZSWlkknZ7oUG3c+FECEgGsAl0dVHOXdBKUQI6AsEg44C7fviPkou4WtakBDBAC64Bv4wIMJCmpfkvGQ0ogYjC0By8bdEJRtFfHN1TOtXKdGpxKiYI/bEAA63rN8SCQXxSCSAWADb+IqN1PfrPpfx5KDpLU2RSACxIOXEAoyASJTJnBDps9JUkeW2gt8ZnicmVsWoA7hW2vSSTbTuWevckSbDBIOZgZb3tdCcv59Dsz82mxKLEpOJ+oDM1/ogpLEKAI749+uoN5oehjieOwbiftJjdyzd7tNwHQqOqlBQ5IIo5+ox1lGnsS0YkTeyY/JE4icbcp+4NQTuWYuBaA9NyXdnIfEuth8BYfs7j14k8HDvy5teq54vOK9cn16ji0/KBzMYDAaDwWA4SbCvIgaDwWCY9uj/bX/U+xkkJoe119WKm6Ei4Id7ABA+Qp7kxiNClQ1uidAbXwQCZ9MNGBkx0jdCy5Yts3kLDgNnV1eLUKAjAUrFAdhbt5xJb9p8Nv3J5qfQazddQK/acD697MlzKZ3JiEjQ2NhILS0t1NTURNlsljLpNCXicX+8chyHz4W4FwzYIBjUH8PRBYqhJ4Zo8MFBGT2A8l3YU6B9X9hHyWVJEQ0q6ito4L4Bmeg4z0s8E6fKCys9eYUe/y3vbPG9kcUC0UCIS0deFq3DSohUrPfd2UcViYrI4hXUfXs3rb9+PY1sOblEJXqJV1RX+FEFGFEgQoETC9CTObkwSYnqqGd236/6Jlw1paI8sfoYrX/uenry6U+6oxbDBIPpC/jGr3xqpYzQye/O+/IfEvtSB2Bc9v064k4ECOOyXffHejh/AfZzx9e8/hjBORB6Qhp5nEn95HoqIwfcPAUQCuCGTNflcw8jCnQ726mG+lfVy72FIgHimFvFk/4I1Q6yXkTQs21/xzEUCoCS96BWdF4Xl2srNb1mF5d8BoPBYDAYDCcJ+EpiMBgMBsO0BghPkCsiEsDNEH64HwycZ/ZfzxZxACRQ7897ZfLV6SgQhCh0FqTnc24oJwRoy7tb3BbDgQB3QNr7H4Q+viD9zfYG+qudZ9L7d55P795xKcXjrWzNbE0UizW6sIme9+CF9PQ7l9F5P22lFT+ooqaWFmqor6eqqipKJhIU42NXlJeLWBCank8EA85zvJB7JEcD9w5IOR/eMkxtn2wTArHqoiohPyEmDI8MUwMv6XPSVF5THpHnVVFPe5CPmOBXiUgvGmjIBkLTG4gy1EFnIDZBvPff3U+JVIJyW3P05POflPkJRrafPKGg4fUN1PyOZpnfQ0YVOPdDcD3k51NIlFHmvIzM6ZDkBc8BIzSU9AsFA4hzsCcvf1JEg/0JB4bpBRDtEIOkJz7KO4h+N7oGZV2I+6DsSzrHhdRXEUAJfheXfEhTUQDpbj/dFu4n+6Jeqbl83ngz9veT+7uRAxACMIpI80keCAkYaZDjOIewUw58Pz50VvW0CTdpSr6HgsCh2ra3bePIsUX4nkKTD5JSw3UE8dJ78vdlMBgMBoPBcJKArykGg8FgMEx7ZF/sRhIoyRCiJG39Netp/fMmLPdozm2Z/sBktiB/N2zYQDUNNeI6xXBwqKsgkPj/ujtN/9x2JiWTSygWaxFBIBarp4qKOrZsYLWBRWnIN+drCVr2vzUy4iAWj1M5HxtEEI5dwhNFcU6H66PjjcGHB6n/rn4a2TZCez+/l/Z9ZR8t+uIiGt4wTIXBAs3hJbk4ST3/1yMiQUVl1NteiEXXG1nFgVAoKDKQn470FMLTkZQVVRUy2fLj1z9OG1644aSKBAAmMhZyv5qNr03FApD+MmoAQgFboa1AyTOTVFlVScO8YORO5vyMvDgh9RA6UUHcEvHzitXFomPFy2jt09bS2qevpSef8aTNITJNIWUdZDDKP8p3WNZdGfcEsUvTOuDrAULN79KK4rqfpuOYGtfjBCR0kY2z8fWoeyEZLeBGFsSb4hN5wmMhfyAYKE6FSY7rXlEXRfhyYX50ARpLVXKdlRLt0qjux7a9ZRtte+uxFwoErp0Tc89YDOfW6+V46fX6aw7y+LjBYDAYDAbDSYJ9FTEYDAbDjMD6q9ZHdvUUBnEgsJkOEJrd7d10/vnnm1hwiIBQAALnvzvmUCq1QkYRgPiPxSAQ1FB5eTWHkZWXV3FYJWmIR9s0rGGrlf0u+Pkiuur+VREx5M7DK7IuUVkti7ghDi+tcyTZcYaIBr/pF7dAW962JXJV1D9KBV7S2TRlLsh4lzzoaS8ToI5EJmQkQpClTjBQ919F5shSJUGVfB9aO+Su4uQhFArCUQVyjRgpAPdD7nqrrqgSF0SLeRnpHaE9f78nEgY4D16c5Afp51wWiaXKqKLWHR+jM5LR122M7DBMP0gZV/IeZR5lOizrSsLj9QZlXk3SgtCn45hjJdtRb9yohaJ9XD5PSPOqxnENRSMKnHu9WFMsItp1H+RVgcEdU+r1IDaeQuBL9gKBW69+dvUE0Q6CXRrNwJyI4POgnUU+aWSJtr35OIkEDvI8p7DwWvz16DUfII685rrMYDAYDAbDyQK+khgMBoPBYJhBwGS2cEUEP/o2b8GhAVzNT3uXUDw+l2KxBiH9J8SASl6v5DATWNqZrmseNQgKEA+y9NK1l9GrNlwQnQg9fEGElQDnzxxHV0RTAe6JMLFw7vEcjfWN0XZe5vGSuShD88+bT4nGhJSfRd9cJOQjSEzpvQxS0gkFCL14EJpuV/ITxBkI9pMMEQqyTiSAVUZzFAjZ6EyFAox+qLykkhoqG2gHLyD7ZZJjCANOUFCCT0UGCAOYIFlHGeD5ifDC1v7v7bgEwzSDlG8VAEDEu3KtZdyT+86E1HfEvxjvp6T/AUO3L9bDbaVxEQ6U/Ne6BpFARxWwxZpjPo+Q7yX7ifExffxUAl9mkWAAC4h0qW+OfJ9EwqMOB+G2m7aJHXfgWarx8/TvDddyACu6j6lEBYPBYDAYDIaTAPsaYjAYDAbDDEPHNzpkQtvH1jxGydokzfrILLfFMBUWZzJ0/9AZFI+3CLkfigQqBpSVpZ2leD2Kl5cjPmG6LRQQIhEBow3q6XWbn+q5L28QD1x8bAoR4UQgvytPI1tHqGuki67mJXVmiu69+l7a9v5ttO/L+6jn5z3S+9iTmTq6ACSlsyLBwJGoYkqYsoFAP5lQoUBcD6n7oWT5BFmnowQQxsqo+jnVlFqYonN46eztFLJfRxX4UQQQFji/J/6QBqEAx3UhRhfANZFhemLo8SEpy1L2UZaDci91AQKalnWQxK68K3ms6RI/QCg2RV4lnz2xr2S01rVQKMAcBBwW5VWRIDwPRheE4sEpgrqXBi6IXFh7bS23rVyvQKI7kr3UfB0ORhRsfeNW3nhi4J+rM3lvML1GXFLJNep1hvcxad1gMBgMBoPhJMC+hhgMBoPBMAOBXtBbN2+ls88+myrq0M3SoHh6fT09r7mZXjprFr2c7aJsVtwORXMPhCLBZEGgvDxJZWVJH4Y2IRhE8acMf4QuG/07eg59lp4X+xpdl/oR3bJ3L/2M7edst7S1RVzd+LjYyEkSCzBnx+BDg1ToL1CWl3h9nNLnpannlh6ZzHfXR3aJ6yKQkEKGgdAEQRmKAmouTcWDsNf1yRQLGv/ECQXBqAK5HnwTdiMKQpJueOswVV5YSQuTC+lBXjDfghB8KhaoYMChjEYA8eeOI9sCwQD5phpNYpg+kLLtiHwh5VUsc0S9xLVulJiQ9Ig7ErkoDMl8xJHm6ozfr+QYYhzXa5D5CSBYYNQDW2JuwosBei5/HheXEMd0xzulgMtxJvUmqJdKshcR7VOEW99w4oQCIHwv4Xs6bBdEbP4eeV+DwWAwGAyGkwF8LTEYDAaDwTDDALEg35unRYsXif/00x2X1dfTi1tb6Ya5c2llVRUtyWRofjpN89gQvrHhUZoQCZTwVyEgUWJxHy8vjyxcf9rwO+m5o39BC/i4c9hmpVI0m601maTZbHM5bQGf/0y+jm25HO0YGqInBwbo7s5Od7UnHsObh4Vo3MxLMpGkxPyE2zKB4U2cR4mwgKxUKx1dgHVNAwFanjg5XztFKKiLhAIdVSAjAkDIYRRBiXX+VyfVPLuGUvNSdDYv3d3dtPsTu71IgPvQuAgGbBSj4uPoNogGmXLq+2WfuxrDdIQIZSj7KNsQB7iuCEmPMu5CpBcR/UogsxUR84g74r40rwoGci6Y5nfbJQ31zYkUcl16PbmxqN7yLio+qEjgj+PiEmo68p0CyL44WyyqcbTuJXUR0R6Q6Uque1LdGdK2vG4LbXn9Fs5wgsHPVix47vWvqi+63knG6f76ISoEoyLUzus+jyMGg8FgMBgMJxZgDz4WRQ0Gg8FgMMwUoKd41TOqhBjt7u+m5BlJ6r+r3209fXBJXZ2MHJiTSlFDIkHZWIxq43Gq5rCyooKqOMRcAWm2S9Ib6f6Rp1AkFmBUQalQAJEgxulxtpiPl5VVuPVyunLkjVQXnKOKj4vz4Ph6HrHycglTbNiOa4N4sLq31135iUW8NU41z62RUQU5Xnq29lD3D7vd1gij3aORD/50eURmOV6vtAeskF5KmDvSPJaN0cB9AzT4h0GX6/ij/jX1VHVZlZxbJhzGtWf42tH7n69PvgWXkHYA8te+oJYurb6U7uWlf30/jfU6RlXvWR7ABOQZuON6gyDB9w8SceiJkz+xs+HIUWgrUGIWtwHqdoohcUfw+vKDPw3DMqLrSOIyVFpnAJ8f2xHXMEgTch+ChBPkQuEgsTARCQFqKjbkeX8VMRAHqc3rYhAQOB2fEwA+J0Y7RsX10olGakUKN+mfTd0r62Rd09Q0LbTNr9k8qb06kUDbKW1DIBZkzs/465PyEdyDrvt7cO3QVOuYVN1gMBgMBoPheGD27NkuNoHKykr5KmIwGAwGg2EGAqTPhg0baPHSxaelK6Krm5pkBAF69jcmElQXj1OWrRZkvrMaGKfBsF4qDERhJAjoOgSCiooExeMpZ2kJn59/A9W7c8hx2SAYwErjcj7k5Xg9X1sTGwSNtyxcSC9saXF3cOKAOS7QM3kbL/W8wJXJVBh8cDCavwAkpY4ggFsW9HB2blDEJQoIzIDMxD6ps1LuKMcfGE0Qb4pTrD5GFfUVIhaIyBEIBUrwyjq+EbN1faeLqp9VTVWtVTSbl76OPtrx7h0yckBGD6gAwoYRBn6UQcKtw/UQ4pirAHE+ftf3u+SaDNMbUsZR5mGFqCd/WNYlrvVCiXpHxvt1kPYhke+2S+jWfXxsYl+k6egFb66+wZKLkhFJzVlLSeuDjSyQbQyU++SCJM39p7nU8p4T3wbp9evoAtQdT5wH5uuts81/vJk3nFzoe9LnCQvFAS8C6P0czrrBYDAYDAbDCQa+jhgMBoPBYJiByO/L03DPMC1fvvy0c0UEwl1FAi8KsElvf7ZKZxKvqIhGAHD8E43fcqJAxA5HIoEKBRhJEKOKiriIA8lkmjKZSqqqqqJrBl9ddHw9rj+2Wkm6CggQDiBmNPP1QuB45RS9PI4nRntHqdBRoN6xXmriJda8/wl5+3/TH5GVSpyCIIVIANEAhCnHR/tHRSAQ4/SRHSNR79vjDLj+aLqJr7+J31NDBcUaOMQ8BaFQwFEhIlElEMcoAJde9cwqSq1K0bW8/IQX9LDOviwb9SJ3IwXEvVAgGvg0Nz+BCgYwuAMzzAxAKPNiAMyR9uKGSIUCNSWPHdEfksleDNhPWBrHfl6UwPlQz9xExggxGkAIdv4LhQIVBPy6O66sIwzjvAkTnSMPJuNufX8rLfzPhbzhxAAjefz1K1x9VVHAE+nONv3RJrFTAm6Uhjes43r1mjV+EJN7VZFB79tgMBgMBoPhBANfXwwGg8FgMMxAtP9bu/QY37hxI8Vr49T6wVa3ZWYDQgFEAvTaVzIexHyGQ7gCCg3ugNQ9kKZFwkAkEkRdylUwgLshCAVJSqfTVFNTTfX1dXT53hfKOVQI0OOoeddDMOd+KNweCgcQHOCSCKMMXnECBQNMcpzfnaf8QJ7GeUGP/AOh746+iLwMyVPEc+MRkQmRoN+FzpaducztfexR94o6GU0AkUCska0uRuVVrud/IAhICCISZJxLg3V9u4uqL6+m2oZaGuFlcN8gbX/H9gmRIBQMAitPlYuJWOAEAxUPen7WE12gYUagqMyDxOeyriS+pIPMV+FABQI2EMh+3QkAPt2R+JJeEpd8elyIA85EnONzp1amODMujP/GOZ+OGFCRAMS1CgUIsU2PrXEOO7/dKW7qhtYNUaGrQGWpMspen6Xl9y7HbR9/4NoCwaPhdQ0RUe7qptZbJdA3vfwUEQkc/LtSw/MGz19quJdgXe4nEAd8WmAGg8FgMBgMJxr4ymIwGAwGg2GGorCvQOueXEeLli6SXtYzHdc0N4srIJDu2rsfhDzmBvDzBHDobYr1zzR9mY8UMVSYhwCGeHl5BVVUxCiRSFJlZRXV1dXTWesul/OIKMD7qyCgx0vyehKhpoXnQ97ARDTgY0E0gCsjTIb8fL6fE4X89ryQkN28wLd/4582ui1TQ0hLkKSOOEUoE766Hs8YrTA2EAkFWF+3dh3N/fRct/exAfya4zrjs+MUa43JiAgZTVBTERH3KhJoL2UnDggJh9cajC6AGxb4TX8JL7fyMvD7AWp5X0uxSFAqGATigHc95NZHto7INRpmDqTMB2KBlPlAMPBCAdZVMHBEshD3EAJcXNJLTNIdiS8ui3AeHCcQDFQoyJyb4Qx8TBiEgSnMH8vFVTwQC+L1r66nrh92Ue9Pe2V+DYwyAHGdOjNF8780nzOdAOi9wKImd4I0d/V240s20saXbuSNpxbCd6gmggDuA6EzLwwcSBxwedXOz53PEYPBYDAYDIYTB3yFMRgMBoPBMEORb8vTSPcINTc3izuWmYxnNTSIUCC9/CsmevV74r7EEs5K02H4ihSJBBFjo6IBxII4n6OyMkN1dbVeJFDyX47HIY5Remxdn+q8peIBRhrANdH8dBq3dkKQ35MXchITHIP0Plh5GfjdAPXd2VdEoArBCYJ0eJxG+0bFVDCAS5/Kp1a6vY8ctc+vpfo/qqfGNzZSYk6C4rPiFG+JDEJB6STGSvAXCQYaB0HHIXpWVz69kuqydbSLl1xbjna8Z0eURwWCUCSAudEDpaMK5NnVVFD3j07ehKuG4wOMwPHkvQoGHBeBLBAKQrdERfMUBEKBpvv1MIQIgTkKcA6NQ4Bw7r4yF2Qi8t+JAKEoIGkc1+2aR47r8ul2jQNNf9ZEPbf2UMd/dNDIlhGps3DfVXtNrWw/Xpj/r/P5wjjChtEFTW9uKqqnsA3XbaCN1596IoEH3A6VGl9+KAyoEKDxMK1UVMB6kahgMBgMBoPBcAKBryYGg8FgMBhmKNq/0i6+6NetW0fJbJJm/dUst2Vm4dyaGumNL+6G2EC8h2Q8TEl6WLxkXcztg/iXmj/DR1WSZiIs520VnC8eT1DLnWdMEiESZWUUhyHOFsZxfIQiJri4rAchDMfEPUDwwD3dMPfY9sbfH1BOQG5CLABRd6jzXGAOA+ld7YhNMUeiYnSBCgb5vXnpqXwkwHwH2RdlpQd0fE5cRhKItcZlNIFMYAzSXkWB0lDJR3zzBREHAs7FYdXPrJZreyUvvx77NfXf2U+z/99sT1Z6sUBNhQI3ksCPKHCCQdf3bFLjmQop3xACOAQpjLIughnIfAgF4UTEnAfrkg/EvBMMxEDSu/RwuxcJcA49Do47HAkSIrhBBHAEuwoCIgrgGDheSZoKBQjFsE3jMIfWv2gV4azvV33R6ALeBW69lt681OU4tqh7WZ2M5imasyColxuu3UAbnr+BV05tFL1XZyoEiCjgSH9Nk/tDGFiYB3H/HLDdYDAYDAaD4QQCX0EMBoPBYDDMYICk7WjroOZZzQf1RT9dgTkK4MIHvfKVdIeBqFcDIR8Dee8IfE/i834ptiSbEPrOIihTAwIHIdgsokUPPaWI8JfjcYYwjnPJduRz50jF42J6Ls3r92fTa1fXRJj4+EQAk/GCpBziBYTV4YxE6f9tfzSCQHtUg+wEUYq03rEJwaAtTwu+usDtdWBUP6da/KbX/3E9JRYlKLGAbT6bG02AsoxRBErgF5H6ThzwIoGS/rrO34A13vWdLqp8WiU11TTRGl6G9wzTzg/tjLaDuHPHlukr2EQUmEIgKE9E6xhRgB7ohpmJwYeDiY5BDGtZ19EFQ7zO2yUOoh/xEsFARQZvLl2PJcd3JiIBxAg+btVlVdIEiX9/CAEYHQARwAkDakWjBrCuggHSgm1qpei/p5+GNwzLZ0c8HafKSyqp+V3H1iUa5ltoeG0DJeYmZM4R3FfLe1p8vVx/9XqX89THnk/umXie7p0o8V9E+sPQ9nA7P6U44PJomprBYDAYDAbDiQS+lhgMBoPBYJjBKOwtSA9vEBgz0RXR2dXVkVDgSHYh6Msisl6IeBf3xttFKKiooFQiQZlkktKplIQpWDwu27/a8mk+Ooi0yMbHx2h0dIzy+bw/B/LpeRBWuFDSsE3Pw8fEOSozGbEMx3FuiAZxiAZBfoQwnAMjJCAY/PGcObjV4wqMDgCpOcwLyKpDHVmgAMEI1yVKkIoNjcsk26PdbBxCVMi+MOv2IOklXfW0Kqq6ooqqn11NNVfWUO0La2UEQXJJckIkmOcEArgZqnYkfUWZFwBUKPDrIPWDdTGsg/AHWYc8+BbMVnNVDaXPTNMf83JP/h7q+XkPzfvneRPHdfvC9VCRQBCKBC7e98s+GnxoUO7NMHMhvf9RvkPBAOUeboJA7gdCgVqRYACC3pH3Ek4hEsg+ehw2zKlRKgj4uBLVML4eL0a4NM0j+XU0gdtXrASopz0/6aHhzdwadAyLW626F9e5rUeP5NIkNb+9mRILE1RRz5WM0fqhVqlr6569jtY9Z52kTSvos9Tni3ZGSX8VBZxp21OUHuQTwUDX0Q4ZDAaDwWAwnEDgq4rBYDAYDIYZjI7/7BAXMx0dHVSRqZhxrojgqgdCgZLsSrrDQN6rlbsQRL4KBSDwq6qqqLa2Vqy6ulrSVDCI2J9xEQrGxiAWFOipe66dOAeOF5xHBQMxTpcRBckkZTIZqqmpobq6OjHEM+k0JfkaIBYgr+6vpkIH3BJhwubjDe0RXRgr8LPi66mOSLzDAeYxkAmN0RMahGd+XNZVLIBwNbJ9hJb8cIlMTpxaxs96eYrSK9KUXsl2NhvHQSKKi6G6GFVUVkRzBICwVwuI/CJBADbFdp9HyTdH1vXe1itCxdLMUpnUeKRthBKzE9E+jsyTEEKBGzngBQKEKh7w9pGdI9T7i148BsMMR251LiLyXRlXcr7IHdFUokGQ15tLLwrZdF8V0fyIAM0DYQJ1DaN31Pq5rvU71199vN7r0gZ4HWKgEwRVRFCbCoMPDkp9xT2BuFZS/1gA845ggmbUcdTXQmeB+m7voyeveNLlmH7w79M9U207tB3xxs9S46WiANzclVdEru4Qitu7sgq6ZPyS6CQGg8FgMBgMJwD4CmMwGAwGg2GGo9BVoJGBEUplUtEEsDMI6noo7N2/PxNin/PHQeKnUlRTXU0NDQ3U0tIi1lBfL4JBMpmUPF9v+aQIBWpjYwUvDoC+l+NqyCaCBNY5D/LJefhYEAcaGxuppbVVrKmpScQJbIOgEAoOML0PFT8wwuCZfJ3HE0J05sdpdATdYvlLYtWRlZOB308IBiAmhTQdmBAMen/eSw3XNESkPf8pma9ufhBXwh+hjhKQ/NiGUNPUgjTNE+bXuF8vL6O9/7SXaq+tpcziDF3Ny9r+/9/enYdbct71gf/dfevldqtvq1tqLZZBIxMhBS9jxjYOMA5mGZgADoE4IQkMMMAAEyYJ5OGBkIRkGJsMk4cE/wFMBvIkT4ZnQmLwgslCMLEdeYmwLdmW1FKr1ep9u/u+TP3eU3X7dLu1uKVu9b31+ZReVZ1TdarObd1zW/f3rfd9vxDnf+P8pWtkka+ZyPjKlj0Jcl/d0ul3ny5r2qEU9LPwnsX7LBLX6/J9f0VosBkA1Mdf1psgW73/stdkUPDf7+y8Lj9DWejPz1VXQJDBQLNuWoYEZa6QrlaGAssePs12rmc75yzv5yoWHlkon9lm/5fa0+i55JBGu79pdwwcGihBYL6HuY/NxYmfP1EfsTVthi91aHAtoUCGtLlUR5V19wIAcKP4Pw8AaIEsFJUi1sb6tgoLvnLXrhIUlLvxS8GlU6zPr3CzVc91bzdF/OxBkAX7PRMTMXLwYGl76yL+yMhIOSaL/s24Ehsba/GW2e/ZLOg35y1FoFw3rd5XAoO+vk4oUb3PkX37Ig4ciKiuM1xfJ3sc9NfXufJ9NtdpehnkvAzX02aBc7VTHOwdyXdybeY/Od+Zx2C+UyjNdRYoM7TKdvGPLsa+H6j+POo/tCygNYW1sp3F+u7ifj7uDgi6jtnc1/04102I0HWOJkzItuubd8Xoa0fj66rln1XL0tNLseNrdnTeQ3Vc02ugu0dBBgPlcRMiVOsL/++FeOaHn8kvmxZZ+MxC5/PSFPzrInFulyJ8U/TP7//8bNVhQBOgldfkvgwQcl9uZyjQHRRk74EmJMiAID9Hc2udlsFA9hro6kVQAoE6lNts1ePVydVL29Xnb+1iZ7t5LgO8q1k5uVLeQ8oJxF9qr7QcfujWv35r6TmUc46sr6zH4ucW4+m/+nR9xBa22tWqvzLy5821hAJ9z7EAANwo1/5bIACwZZTC0NxarCytvKQi8M2mmZugu9DeFOub7aJabxb1q3UWbwZzvoKxsYjduyPyrv1s4+NlWKLcl0X8LO78+v7/vQQFGxurnZAgz1Gfp/ucl213XWegnq8gdu4s5y9t164YHh2NwWpfKSQ1r+l6ffP1NIFB9qC4npriZbk7tlpKYf0lyjuGS6Ezi6BZ6Mzi5MW1mPmPM2XYobH/dqx8veULrov4zRe+WeCvWhMGlO3qmPLergwI6tdc+bjc2VuftwkjLvyLC7Hr63fF7lt2x3S1zJyZKQX/EgLU8w90BwSbrXpcrltt5whVx//28ecstLL9lbCgLvTn56e7YNzdu6AJAsp2DvdVD/nVtM0AIR9nUPD1Oy8FBN0tewNky3AgexDMVJ+n7D3QFQxctl21EhTkdndAkK9pehnkOWY7vYme+q6nyrqx/MxyuW5OqJzf8y91gvyRPzVS5iHpn+gvn8WV4ysx9cGpeu/WVn5+drUmFMhCf3cY0CyXYoDO0v1cf7U062YBALhR8tcxAGCbu/jbFzvFpaW1UmjNSV23g807/KtWis6Vzr8r+VyuulqjFOTzLs+qRRbhs/X3l1buBs3n87i6ZVCQrSnkX9k21e/hqjY2Oq3bVd5zWV2xndfNr/V6WnpiqVOwzLBg/eUJC9LcQ3OdQmdd/Gx6F0x9YCp2/dldMXz/cPkiO/9NqlZdtxT5s+V7yOJ/XeQv21db18HA5rprf7Pd/Xj828bLfAlvqpaHlh4qcw0cetehS+HA1YKCfF9Vy54FeTd0FlZzAljaa+HRhU6Bv7tQ3PQwyBAge3N1hQTlcdOyx0AGCnVA0IQEOZFx83kpcw10hQSb4UDdnnrHU3HkLx6Jp//a03H0h47GsZ84Fs/+rWfjxM+eiJO/cDJOvetUnPm/zsTZXz0b537jXJz/5+dLUHbhX17oXD97QCx0ei9cTc4vUnowVO8zv/f79uQH6NrtevuuEjj0j/WXr2XmD2fi9C9tj+G7Noekylb9N+0u+l9Z+L/aMlAtVz5unss1AMCNIiwAgJbI4lIWMrIwm3d0bwfVl3JJ3v3aXVDvKszn1nr9OO+SzcmKV1dWYnFxMWJ+PmJ2NmJmJmJuLpaWlmJtNcOBjU4rr1mJ187/QOf15d+dddM2XfaajVirrrNSXWd+YaFz/snJTpuejqXqudyX72WzVFe9ppyjfphyO7+qG/E/bWXIkerNlLBg4LI/3Zdk/lPzmwXOLHqunluN2Y/MxvKJ5djxph0x9KqhS19k07IuWa27i/zNdq6vbM2xm4/zuCZk6Nq3+OhimdT4vpH74mPVku8hJ1m+rEdBd0iQLV/b31M+P0d/4GgpyEIqRfdmKKHusCDbUqcQ/1ytKdTna0tI0N2boDsgqEOCw998OJ78c0+WoOrIXzpSv4NrM/lvJ2PyvVX73cmY+r2pL+pVkLInQukFUX0t+Vl6KfMW5BBEQ9XnPM/R299bejwsPlb9/N0m8r99Exjc/1v3X1bob5bBarly3b1Uf0JdjzpLPpcLAMCNkr+KAQAtkAWpUpXOv/17ylNbXvYouLyoX6+7WinEZxE+t6t1ttW1tVhcWoqZmZlYOncu4vTp0pbPn4/p6emyb3V1tRybr3zPxLsvu06e88rrNseW/dV2BgV5jgwkZqpzLuR1Tp2KOHmyXHN6aioWFhbKMXlseW/165tzdG+Xr+M6yzuI80IZFpQC/csox3hfPVOPlz69VgKDC791oRQPRx4ciYGDA2U+jdLDIIvzV/QmyMfdRf/N8ODKkCC/v/O5PL55bT5fbU9/aLpMarx/3/5YrpbJM5Nx6hdOXQoKugOC7ElQvy4/O0f+8pF44hue0JuAyyx+YfFSUHC11gQG2YsgC+8LVcteBl2hwY4/s2MzICgTFdcBweNf/3g88fYn4vD/cDie/I4n6yveQP3VRyk/k9XnYH2tev+r+dPo2gzdPRR9t/RF/87+8vNy5cRKnPmVM/Xera/7v3l3sT+X7hCgKf4P10tu/0HPH8SHej4Uv9/z+6V9sOeD8YGeD8T7e94f7+t5X/xez+/VVwEAuP7y1ykAoAWa4WWKns5qqyuF9CtbFtbr4nopuFctR+Runmvu9s8i/vTMTJw7fz7OnjpV2rlz50phP/etXFHEL69tztP1XLO9WdSvW7lOhgV1KHG+us6Z06dLy+tkKLHUdZ215rVd52mey+uuVsdcb+Uu5/p7JAuEL7elp5Zi7hNzsXZhrTOe+vnVMgzJ2FeOxdCrh2LgwED07+svhfss0jdF//JeusKBzTAg1/Vz3evLjs/1QE+c+/VzMf4d4zF692jcXy2Hpw7Hxd+5GLf+b7deHhI0QUH2JKg+M0feeSQee+tjsfSkkICryx4BJRTo7mHQ3XJf9hroCgiy5bA8OXdGBgUZDjz2NY/F41/3eAmlshfBK23kK0eiZ6TzGSrzMExf+8+gnFA8hyAaHRotf07LR5brPdtEPbFxBipNIHC1EOBzv/W5OHbiWOlZ8MzZZwQBAMBNJ3/dAgBaoNwVmlXnbD3lqS2vBAFXad3F9uZx+dKzKF+15bW1MtzQ/NxcTE1NxcULF+JC1SYnJ2Nufj6WlpdjpTpmNV9XHZ+vb7Y3z3e1lteot/P4PEeeK3sQZGCQ55+8eLH0KpivrrNYX6c5b/P6cq3u7XzP1fp6a4YhaoYEyuL69TD/8HysXlgtbfn4cpx818kyNFZOfFra/v7o29FXJuNugoPNwv/VwoBcZ1DQXz8e6Ineod7y+rwz+sTfPRF7v3tvjLxmJL6qWj68/OGY/6/zZc6EpldB70B1bNXyHNn74fC3Ho7Pv+7zsfj57TNUCtfH0uGlTs+BpY1OWNAEBvV2EyJ0Bwa7v2V3CQce+zOXAoKbTX5eeoc7vX1y7oUMNK5FDkE0/OXD0TfeFyPVsjq1uu3CtxzOqQzrVLXn6w1QQs7qn+o7o4SRAAA3G2EBALTFanR6F1TtsrH9t7BSkF9fL+umNQX2ZvvKVvatrcXy6mosZGCwsBCzc3MxV7X5xcXSE2Cp2pd38mdrXrNcba9U62xXO/8XPVe/vlxnebmcO4OI2aotVNv5XO5r3n/3eTZfX61z/1K1nq2Ovd6yeN/MbdF/S3/k0EDXSw5LNPvHs2Voopwo9ux7zsbY6zo9DMokqPv6S3ExW/+eant3td0ECMM9m0FA71jVdvRG385qX25ny+dz+JSRnjj5907GxA9PlDDi0Mih+JNqWTq6FEd/8GgJFPqGqtcNVOvhvlh8ajGe+LNPxBfe9AU9CfiSlOGIsgdBTmh8ZWDQFRyc/83zpZdLfp/d7PLzk2FaFrcz4MgJlK9F/hzJnyc5BNFateQQRCf/wcl6b3tkaFJ++67/+n0pwzoBAFwvwgIAaIu+quXf/Bud0GA7WMpCehbks7DetLrgfmVrCvHNcVmELz0Mckii5eVOq7ZLUFA9f2UIkdco16m2S2BQn6MJD7oL/M37KPurltfJYKCcP69XbZfncn+1vvL4PGf2JCjXrNaL1TFnlq5/8Xru43OdIVFm18rd+jvesqPec/3MPTQXU++fiul/Px3P/OgzsXpxNfa8ZU/07e2Lvl1Vy5AgW243LUODJiQYq7frgKC0DBKqdvFfXYzb/v5tMf728bhjzx1xsVrmnp0rQcH9H7s/BkcHy+fhwv93IT7/ls+XAq45CbhWJSioA4PN0KAOCnJC4Yv/+mJ95NZQPkeDnV8X8+fCtcrhjPIzPDo4GnPVksORtVXpBVX9U31XdHr5AQDcZIQFANAS5U7rnBB4rTMcxnbwyMxMKbJvhgZ1gb30AKjXpXhfP97crlopxGfBvqtl4b4U9/PYupVzVOvvPXQoFqv1UnVMc61ynfpczfU2W/Nc3fJ1uW6uu7mv+/h6XY6pWl5noTo2exV8cmqq/qqvn9Wzq7H09FIpcGYta/TB0XrP9Tf7n2dLMfXkz5+Moz93NEbuHYnBOwYvBQN1ONC7s153BwTZ22Ck7m1QtWM/fqwMM7T/x/fH+P3j8RVDXxGnNk7F1PGpOP2PTsfb/vBtMfnhyXj0ax+NT9/56Xj2J58VEvCSbQ5HtLwRcx+bi5k/mikhWE6svdXkXfDlczVQKtuxPnPtf2fk5zh7A41Wy8rySpncvLWq377L38O5NHMIAQDcRIQFANACo68fLWNPl+EP1iKWn94+k0tmQX1+ba1TyK+L7KV431V4v7IQXx5f8Vx3y+dL8JCt6/ks3Od1msfN9a563qZ1Pd+8rtm+7PnmWvU6z53Xyq9t6gYMQZTyLv+FhxfKkCP5f4l5F/++H9xX770xZv7TTCnoP/XOp0qAkCHAvgf3xS0P3BKDBwYvBQcZDOR46kM9Zd20M79yJm7/xdtj/FvH466Ju+JgtTwy+0jMPToXJ//hyZj/5Hx84J4PxJPf+WQsfHahviq8PDIw2A7fV2WS7xyCqPo5kAHztc5XkHIYovxs7qyWtaW1l3SuLS9/+25+A9ezAAC4CTX/qwIAbGOlV0FOFFvJu8YXH98+k7bO5JA+63Uhvy7m5zqL7U0x/8oQofQK6Hquu5X9VzzXnCtbFu/zWtm6n89zlvWVrTlfvS7XveIazTnyvTfnzjZXfW3TVfvAmTP1V3v9LTyyUOYtyLuJ827gXW/bVe+5sab/3XQ8/X1Px+fu/1w8/LUPx2e+9TNlIuQs9ud7233X7hg7OBYDOzvzKjz9V5+O6f84HQf+1oHY+bqd8cDoAzFZLYfPHC53dz/9156Os796tgQQehHA8+vb09cZgih/W1yv/pm99p4FGTrm3z8ZFuQwTcd/6ni9p33KMETVn+l6tWyX4QABgO1FWAAALZBDuZS7RCs5RMZ2Ggbi87OzpbA+W7WmkN8EBmVdF+Kv1ppCfXfBvrs151ioW27PVc9lawr63QHFC10vW9lfHdtsb7auc81XLb+eDArO3oC5CrqVoYieWiq9C3IC4B1v3REHf/ZgvfeVMfuR2TKUy5l/fCaOvPNIPPqaR+PhNzwcD+18KB6+9eEyYewdv3xH7H3H3rj94O1xV7V8dvmzceGpC3Hmn56JJ7/9yU7IALwoQ68aKgX+MmTOykaszV3bbfA5nFH+3ZPnymGISq+llsp5G0qvqIHeyImeM4QBALjZCAsAoAX6xvs6Y09XcuLNlZMrZXu7eGhyshTgs5dBFvIzNChDE2XrLsbX6+5i/ZXrzaJ91/EZCuT53rp3b3l85XVKcNC8vmqbIULTmvM25+s+tuu5PFcJI6rz5zUurKzEvzt3rv4qb4zZj87G/KfmY+XESpnbIicQnvifJ2Lf/3RjhyN6IdkDYvzbx+PV73117P/J/TH+4Hi8YfQNZQLVxy88HjN/PBPP/MgzcfLvnaxfAbxYg3cPdnqjVf9kWPBSehbkEER9g32Ry3aZL+da7PmOPdE/0V96Q52vlpwfBgDgZiMsAIAWyDsae3rryY1fQtHnZjZTF9qvLOR3F/M3191F+qpdWbTPlnf3bxbvq5aTDOe5mx4Medd/Ptfs775Wc77N1jzXtc7WvKacoz5XnjPnKDi/vBxfmJ2tv7obK+cuyKF7Vi+slkk4cxiRg3/nYOz583vqI15ZOQfHoXcfikPvOhTj3zge9+29L6pH8YnFT5TeBOd+7Vw8/rbHt+TEsnAz6B/v3xy6LgPmay3yl797hnuib6gvVqvlpUyUvJVlD4vBewajf29/jFXL0rmlWHpSWAAA3HyEBQCwzY3cP1KGPih3iC5vr/kKuj08NdUptldtamVls7DfFOGbgn53kb609U4osNmq43O9WbyvWp4rC/h5p//O/v7LivrlOnUrr+t67WXnrVvzfB7TrJtrZAAxWV3j3PJyHF1YeMXCgpk/nCkTDc/80UysTa5F33BfDN46GId+6VC5m/+VMvra0bjtF26Lu3/97tLbYeLLJuKNg2+MY9Xy2NnHyjwH2Zvg+E+3d0x0eDmUoYPq3mgbixvx7N94tmx/qbJXW/YsGOoZKr1+1mbbOatv386+GLh1oDN/Q7Vkz61jP3as3gsAcPMQFgDANjf05UPRf0t/mVgx7w5d+OxCvWf7+cTkZCm6N8X96To0yNYU5Td7A3Svu/fXx+Q6i/cZPGQBP+/0P7m4GH90/vxl17lY7WtCg2zNazfPmevmnE2rr5PH5zXyfeY5LlbXOLO0FE/OzZVrvJKmf386pj84XYYlWrmwEqMDo7Hzzp1x9/99d9z30fvqo26cgz93MO76tbti/4/tj4kHJ+LNO94cQ9XysbmPxeQjk3Hq3afi8Lcd1psAXg71b4mlN9pLmGdgYGKg9FAYrpaL1dLWngV7v2dvGYKof0d/9TN/2hBEAMBNS1gAANvYyJ8aKcMf5J2d68vrZViZpcPbu0iRRfZSgK9a9gQoxfwrCvql1cX6K7dLQFC1DAiy5TnO1Hf6f/jChfoqEZ+cmto8Z3OdzWtVrXkP3ee92jXy2Hx99iY4ubQUn5mZiT+ZvjkK3pPvnYzJfzMZc5+Yi+mz02UYkQPjB2LnG3fGA6ceiNt/8fb6yOvnwE8fiPv+y31x60/eGntfuzfeuuutsbtaPrr40Tj+7PG4+DsX4+j3HY3T7z5dvwJ4KfLvjLSxulHmK8h2rfpu6Yue/p4S7GXPgjZOcLw5BNEt/THUPxTL55dj+anlei8AwM2lr2o/39kEALaTgdsGYve37d4cezrv6Jz949lYPrr9ixRZdB/r64venp5Y2dgobbVuub28vh4rVVuuti+b4HitM0RQ3v2fRf0s5J9dXi53+j86M1Of/ZJT1XWeWViI/UND5dx5ji+6Tv38UrXO8+e1muGIsmVwkCFDnit7LWSAcDNZfHSx9ErZqN5/jEQsjy3HwYGDsXvH7th4/Ubs+4F9ZeztpcdfvhBqx5t3xP4f3x+3v+v2GP/W8dj56p3xVcNfFb3V8tnlz8aF0xdi+j9Mx5lfOhOn/uGpMqQH8PIo4+p/9VgMHhiM3tHeMhTZ+X92vt77pdn9jbtj9KtG48DeA6VnwfQnp2Py376yvaZutIM/fbAMoTZ0x1AMDQzF7BOz8eR3PFnvBQB4Zdx222311iVjY2PCAgDYjvZ+997Y8d/tKGMk9w70xvrieiwdWYqp907VR2x/WeQ/trgYuwcGYr0p2K+tbQYEJRzIVj2XxfsSElQtexlkSHC+as9Wr88eBFnMfz553Fh/f9luztt9jTKhcbXO+RGaIYg2Q4LqfWZIkOe4WS18ZqHMd7F6ejViIGJ+53wpIr6j/x1xYfxC9H9Lf5lDoG+srwRS12r828bjwM8ciP3/6/7Y+bU7Y+LOiXjt8Gtjo1oeW3kszp45W+ZROPPLZ+LEz52Ixc9vz/k34JVUwoI3jsXAwYHoG+mLtYtrcf63ri0sGP9z46WH26HxQ3Fm/UzMPjQbU+9vz99DO966owxBNHzvcOzcvTNmLs7E3MfmYvJ32hWYAAA3n+cKC3LWqmvvVwoA3HB7vmtPGVaoZ7gnegd7I/qjDPNQWk5IWQ8y2NPbeS6Hklg5tVImrG1zcfXVo6MlOBjs7Y2+npxisvqjqtdpbaPTEyAL/Hl3fw47dK0e2LUrhurrdI/5mP/TldfJXg0ZHrxSExi/FHv+wp7Y+XU7Y+fX7Izhe4bjdcOvi2+oln9dLYfXD8fyheVYeGShFPQnf/eFC2JZlBz5ypEycfLo60ZjYM9AHBo8FK+tlo9Xy8mlk2X4rPmH5+Pib1+M8795bUVL4MXJYXOyZ0/eDZ8TFC8/sxyHv/lwvfdLc9dv3BW7vmFXvOHQG+JPFv8kzrznTDz7k9c2WfJWk3+OOSn8yAMjMfaqsVhdXo2Zj87E41/3eH0EAMAr5/Wvf329dcnExISwAABuZlmYzbu18y7u3rHe6Bm6FArk0DDN3+Qb69W/cijo+m/18nitemphPZaPL5chYuY+PtfZCS+DiR+diN1v310KijmJ6W2Dt8V3VstktfxutUzOT8bawlpsLHXCqgwQ5j8xH0P3DsXQq4fKMFk5hnfvSPV9PdgTgzsH496ee+NV1fKRark4dzFWzqyU10x9cCrO/z9CArgRssg98UMT5bOdn9Hslfbkt1/bsDn3/Kt7yt31bzz4xvjE9Cfi7D85G8d/5ni9d3u769fvKmHo8KuHY2RkJCY/N1nmWDnxsyfqIwAAXjnCAgDYQu757XvqrehMSNzX6SlQdIUDG2v1BJSr1ePV+nG25U7LIu3U+9oz5AM3Vg4bNHz/cBmTfPi+4Rg8NBjD48PxYLW8qVpyQuTD1fJYtZytloW1hejp6YmR3pHYVy33VEuuV6rlWLU8Wi1zk3OxfGw5Zv/zbPnenfqA71+4kTIsuOWv3FJ6/GSot3Z+LZ74pifqvS9eubP+/zgUO75mR7xx4o3x0LmH4tMTn673bm97vnNP3Po3bi0/F0fHR2P2dGf4paPff7Q+AgDglSUsAIAt5LKw4MhSJwhY2Yj1pfVOEJABQR0INGFB3oW9Pr0eazNr5fmlp16+CWfhhex9594yjNDoA6Ol50D/vv7oHeotE3rurpY7quXualmulmeq5Xi1TFfL8vJyrC12vmcXv7AYM/9hJqY+NFXG9QZuvCzy73nHnhh5cCQGbx8sn83H3/alD51TwoJ/dCh2vGVHvGHvG+LjJz4en7n9M/Xe7SvnWzn4swdj+CuGY/TAaCwvLMf0f5q+5qGcAACuB2EBAGwh3WHB7Edmy3BC6/NVm1mPxccWSyCwcvz5J92FV8Lub9ldwoLBOwaj/9b+Msl2TpiaY5/37ugtPWLy+3dtcq3MRbB6ZrX0gMlx0c/+6tn6LMArKXsW5Nwk+TnO3xazh8/p//N0vffFybDgjn98R+x48454cPeD8akjn4pH7nmk3rs9ZS+rQ+8+FMOvGY7R20arH3frMfvp2fjcn/5cfQQAwM1BWAAAW0wTGORkkMvPLpdt2Ip2f9Pu6NvTV4KD1XOrsXJ2JdZn18tQQ8DNZ9c37orx/3E8hl41VObIyQnyT/79k/XeF2czLHjTjrh7/O44/MTheOTe7RsWDH35UNz5T+8sQw+N3DFS/aLdE7OPzZagpS2TOgMAW8dzhQW99TYAcJN56rueKk1QwFaXExRf+JcX4vQvn47z//x8TP/+tKAAbmJlSLvptVhfXI/8jbF/or/ecw02Imarpcyts01lMHLnP+kEBcO3D1d/ZL0x98RcTH9oWlAAAGwpwgIAAAA2laBgbr0MgZdDh+VEx1+yZk7+jY1YrJbtGhaUoOBXOkHB0MGh6Ovti9mnZmP630/HsZ84Vh8FALA1CAsAAADYlD0KVp5dKYFBFvn7dvfFxA9N1HtfnBy+qFiPWKmW7RgWDN87HHf+6p1lMuPsUdDf3x9zz8yVidqf+ZFn6qMAALYOYQEAAACblg4vxdJTS2VukY2Vjejp7YnBuwfrvS9OT/+lsGBtZS02lrdXWDD21WNx53vujJGvGClzFPT39cf88fnSo+DoDx6tjwIA2FqEBQAAAFwmhyJam1mL9fn1Mu/A4KFrCAuq1+UwROur67GxtH3Cgt3fsjtu/8XbY/g1wzFy+0j09PTE7NHZmP6D6Tj6/YICAGDrEhYAAABwmQwKVs+uXhqKaLyv3vPibA5DtBaxvrIe60vrncdb3C3fe0sc+NsHYuQ1IzFycCQ2qmXuybkykfvT3/d0fRQAwNYkLAAAAOAyS08sxdKRpU7vgqX10lPgwE8dqPe+sP69/WW9sb5RwobsqbDVTfzIREz88EQM/zfDMbJ/JNbX1mPuC3Mx9f6peOaHzVEAAGx9wgIAAAC+yOq51VifWY+NxY1S9B+4baDe88L6D/R3hiFa2ShDGa2eWa33bE0TPzpRehUMfflQjO4bjdXV1Zj73FxMvW8qjv3EsfooAICtTVgAAADAF8kJjjMwKKFBtT1w4MWHBWWOgwwLljdK4JBDGm1V+/+X/XHLX+4EBWO3jMXy8nLMfXYupn5vKp79m8/WRwEAbH3CAgAAAL7I+sJ6LB5eLGHB2tRarC+ul8L5i9E72vlVMyc2Xr2wGif+zonyeKvZ/2P7Y+8798bwvcMxtncslpaXYv6R+RIUHP+Z4/VRAADbg7AAAACAL7J0eClWTqzE6vk6LJhfj8E7B+u9z234vuHN3zQzYMiwYSsqQcFf3BtD9w7F2J6uoOB9U1s2/AAAeD7CAgAAAK4q5yvIIYRWTq7E2oW1MnfB8xn6sqHSenp7YmNjo/ROWDm1Uu/dOvZ9377Y+z17y9BDO/fujMWVxZh/dL5MZiwoAAC2K2EBAAAAV7Xw6EIsH10uvQNWznQCgwM/daDe+8X69/XH8GuGo2egJ2I1Yn16PeY+Nlfv3Roy7Nj7l/aWdc5RsLCyEPOfrXsU/JygAADYvoQFAAAAPKe1mbVYPrYcaxfXSmCQvQyuNPqnR2Psq8di8K7BTlBQyWGLZj8yG+d/83x5vBVkQHDolw7F0KuHYnhiOFbWVzpBwQcEBQDA9pf/F/f8/UgBAABotQwC+nb2Re/O3ujp6YnVydXo6a9+nVyvfqFc3oiewZ7o29sXg7cNlsmN+3b3lfkKtlqB/a5fuyt2vHlHjHzZSAwMDMTMkzMx+W8m49m/+Wx9BADA1vf617++3rpkYmJCzwIAAACe38bKRulhkMMQ5TwEOSdB70hv9I71lpBg4PaB6N/TH9FXHbtaHTu3FtMfmq5fvTXs+/59MfLASAzeMRjDA8Mxf24+Zj86KygAAFpDWAAAAMDzmv/UfAkIShiwshE9Qz2lN0EGBtnjINY6PQzW59bL8EMn/+7JMgTRVpETGe/57j0xdPdQjO0Yi/n5+Zj/r/Px9Pc+XR8BALD9CQsAAAB4QXmX/eqp1c3fIjM02FjfKOFA9jpYvbAaZ99zNs78ypnOAVvI0hNLMfxlwzGyfySWq2XhCwvxxNufqPcCALSDOQsAAAD4koy9YSyiv/qFcqAnZj+8dXoQvJA3b7w5po5MxdR7p+LYXz9WPwsAsL0815wFwgIAAACovepfvCqOvPNI/QgAYPsxwTEAAAC8AEEBANBWwgIAAAAAAGg5YQEAAAAAALScsAAAAAAAAFpOWAAAAAAAAC0nLAAAAAAAgJYTFgAAAAAAQMsJCwAAAAAAoOWEBQAAAAAA0HLCAgAAAAAAaDlhAQAAAAAAtJywAAAAAAAAWk5YAAAAAAAALScsAAAAAACAlhMWAAAAAABAywkLAAAAAACg5YQFAAAAAADQcsICAAAAAABoOWEBAAAAAAC0nLAAAAAAAABaTlgAAAAAAAAtJywAAAAAAICWExYAAAAAAEDLCQsAAAAAAKDlhAUAAAAAANBywgIAAAAAAGg5YQEAAAAAALScsAAAAAAAAFpOWAAAAAAAAC0nLAAAAAAAgJYTFgAAAAAAQMsJCwAAAAAAoOWEBQAAAAAA0HLCAgAAAAAAaDlhAQAAAAAAtJywAAAAAAAAWk5YAAAAAAAALScsAAAAAACAlhMWAAAAAABAywkLAAAAAACg5YQFAAAAAADQcsICAAAAAABoOWEBAAAAAAC0nLAAAAAAAABaTlgAAAAAAAAtJywAAAAAAICWExYAAAAAAEDLCQsAAAAAAKDlhAUAAAAAANBywgIAAAAAAGg5YQEAAAAAALScsAAAAAAAAFpOWAAAAAAAAC0nLAAAAAAAgJYTFgAAAAAAQMsJCwAAAAAAoOWEBQAAAAAA0HLCAgAAAAAAaDlhAQAAAAAAtJywAAAAAAAAWk5YAAAAAAAALScsAAAAAACAlhMWAAAAAABAywkLAAAAAACg5YQFAAAAAADQcsICAAAAAABoOWEBAAAAAAC0nLAAAAAAAABaTlgAAAAAAAAtJywAAAAAAICWExYAAAAAAEDLCQsAAAAAAKDlhAUAAAAAANBywgIAAAAAAGg5YQEAAAAAALScsAAAAAAAAFpOWAAAAAAAAC0nLAAAAAAAgJYTFgAAAAAAQMsJCwAAAAAAoOWEBQAAAAAA0HLCAgAAAAAAaDlhAQAAAAAAtJywAAAAAAAAWk5YAAAAAAAALScsAAAAAACAlhMWAAAAAABAywkLAAAAAACg5YQFAAAAAADQcsICAAAAAABoOWEBAAAAAAC0nLAAAAAAAABaTlgAAAAAAAAtJywAAAAAAICWExYAAAAAAEDLCQsAAAAAAKDlhAUAAAAAANBywgIAAAAAAGg5YQEAAAAAALScsAAAAAAAAFpOWAAAAAAAAC0nLAAAAAAAgJYTFgAAAAAAQMsJCwAAAAAAoOWEBQAAAAAA0HLCAgAAAAAAaDlhAQAAAAAAtJywAAAAAAAAWk5YAAAAAAAALScsAAAAAACAlhMWAAAAAABAywkLAAAAAACg5YQFAAAAAADQcsICAAAAAABoOWEBAAAAAAC0nLAAAAAAAABaTlgAAAAAAAAtJywAAAAAAICWExYAAAAAAEDLCQsAAAAAAKDlhAUAAAAAANBywgIAAAAAAGg5YQEAAAAAALScsAAAAAAAAFpOWAAAAAAAAC0nLAAAAAAAgJYTFgAAAAAAQMsJCwAAAAAAoOWEBQAAAAAA0HLCAgAAAAAAaDlhAQAAAAAAtJywAAAAAAAAWk5YAAAAAAAALScsAAAAAACAlhMWAAAAAABAq0X8/1WhH1/SLeehAAAAAElFTkSuQmCC)"
      ],
      "metadata": {
        "id": "uvIGpfSkF0qo"
      }
    },
    {
      "cell_type": "code",
      "execution_count": null,
      "metadata": {
        "id": "1BjNBjLuDnxL"
      },
      "outputs": [],
      "source": [
        "# type your answers here and take a screenshot of your PyMOL session to submit\n",
        "There are two chains\n"
      ]
    },
    {
      "cell_type": "markdown",
      "metadata": {
        "id": "KLVTudgkDnxM"
      },
      "source": [
        "## Backbone movers\n",
        "Let's try to modify the protein backbone. The simplest way to sample backbone conformations is introducing random perturbations. The SmallMover makes small independent random perturbations of the phi and psi torsion angles of random residues. It uses the rama score to ensure that only favorable backbone torsion angles are being selected. Let's initialize a SmallMover and let it introduce 10 random perturbations. You can use the small mover by initializing `pyrosetta.rosetta.protocols.simple_moves.SmallMover()`\n",
        "\n",
        "Figure out how to set the number of moves to 10 and then apply it to your pose.\n",
        "\n"
      ]
    },
    {
      "cell_type": "code",
      "execution_count": 9,
      "metadata": {
        "id": "3yHA_51vDnxM",
        "colab": {
          "base_uri": "https://localhost:8080/"
        },
        "outputId": "26d7c4bc-26cd-4d32-cd2e-2480ccb01048"
      },
      "outputs": [
        {
          "output_type": "stream",
          "name": "stdout",
          "text": [
            "core.scoring.ramachandran: shapovalov_lib::shap_rama_smooth_level of 4( aka highest_smooth ) got activated.\n",
            "basic.io.database: Database file opened: scoring/score_functions/rama/shapovalov/kappa25/all.ramaProb\n"
          ]
        }
      ],
      "source": [
        "# YOUR CODE HERE\n",
        "SmallMover= pyrosetta.rosetta.protocols.simple_moves.SmallMover()\n",
        "SmallMover.nmoves(10)\n",
        "SmallMover.apply(pose)"
      ]
    },
    {
      "cell_type": "markdown",
      "source": [],
      "metadata": {
        "id": "_8k8UKY0DjPC"
      }
    },
    {
      "cell_type": "code",
      "execution_count": 10,
      "metadata": {
        "id": "qlO7GmjI3WSP",
        "colab": {
          "base_uri": "https://localhost:8080/"
        },
        "outputId": "6b1a9d8a-0409-449e-95a1-98ea34ede8d8"
      },
      "outputs": [
        {
          "output_type": "execute_result",
          "data": {
            "text/plain": [
              "True"
            ]
          },
          "metadata": {},
          "execution_count": 10
        }
      ],
      "source": [
        "# now dump this new pose to a PDB file and once again visualize in PyMOL (take a screenshot to submit)\n",
        "# name it 2wpt_small.pdb\n",
        "\n",
        "# YOUR CODE HERE\n",
        "pose.dump_pdb(\"google_drive/MyDrive/CodeSchool2024/inputs/2wpt_small.pdb\")"
      ]
    },
    {
      "cell_type": "markdown",
      "metadata": {
        "id": "H4zYh5GwDnxN"
      },
      "source": [
        "In PyMol, compare the structures before and after perturbation. Do you find anything weird?\n"
      ]
    },
    {
      "cell_type": "markdown",
      "source": [
        "YOUR ANSWER HERE:\n",
        "\n",
        "Yes, the C-terminus changes much more than the N-terminus. This is called the lever effect in backbone sampling. The change at a residue will propagate to all its downstream residues. Because of the lever-arm effect, backbone perturbations are not local and bad contacts can be easily introduced."
      ],
      "metadata": {
        "id": "ZDzckt6E7h8A"
      }
    },
    {
      "cell_type": "markdown",
      "source": [
        "Look up the lever effect for proteins? What is it??\n",
        "\n",
        "YOUR ANSWER HERE:"
      ],
      "metadata": {
        "id": "TMAp995g7k3w"
      }
    },
    {
      "cell_type": "markdown",
      "source": [
        "The ShearMover deals with the lever effect. Instead of independently sampling backbone torsions, it changes torsions of two consecutive residues together in a way that the downstream lever effect is reduced. Let's import a fresh pose, initialize a ShearMover and let it introduce 100 perturbations."
      ],
      "metadata": {
        "id": "JC0YZnlE7q8h"
      }
    },
    {
      "cell_type": "code",
      "execution_count": 22,
      "metadata": {
        "id": "RndQ8OF1DnxN",
        "colab": {
          "base_uri": "https://localhost:8080/"
        },
        "outputId": "ddc9cdc7-1225-49cf-8910-c400c9fe3687"
      },
      "outputs": [
        {
          "output_type": "stream",
          "name": "stdout",
          "text": [
            "core.import_pose.import_pose: File 'google_drive/MyDrive/CodeSchool2024/inputs/2wpt.pdb' automatically determined to be of type PDB\n",
            "core.conformation.Conformation: [ WARNING ] missing heavyatom:  OXT on residue GLN:CtermProteinFull 82\n",
            "core.conformation.Conformation: [ WARNING ] missing heavyatom:  OXT on residue LYS:CtermProteinFull 198\n"
          ]
        },
        {
          "output_type": "execute_result",
          "data": {
            "text/plain": [
              "True"
            ]
          },
          "metadata": {},
          "execution_count": 22
        }
      ],
      "source": [
        "# YOUR CODE HERE\n",
        "pose2 = pyrosetta.pose_from_file(\"google_drive/MyDrive/CodeSchool2024/inputs/2wpt.pdb\")\n",
        "\n",
        "ShearMover= pyrosetta.rosetta.protocols.simple_moves.ShearMover()\n",
        "ShearMover.nmoves(100)\n",
        "ShearMover.apply(pose2)\n",
        "\n",
        "# now dump this new pose to a PDB file and once again visualize in PyMOL (take a screenshot to submit)\n",
        "# name it 2wpt_shear.pdb\n",
        "\n",
        "# YOUR CODE HERE\n",
        "pose2.dump_pdb(\"google_drive/MyDrive/CodeSchool2024/inputs/2wpt_shear.pdb\")"
      ]
    },
    {
      "cell_type": "markdown",
      "metadata": {
        "id": "xQ844DN9DnxO"
      },
      "source": [
        "Now you should see that the lever-arm effect is reduced, but not completely gone.\n",
        "\n",
        "\"Backrub\" is one method to realize true local sampling. The trade off is that backbone bond angles are changed slightly. Initialize a BackrubMover and apply 100 times."
      ]
    },
    {
      "cell_type": "code",
      "execution_count": 28,
      "metadata": {
        "id": "MokF9sJ-DnxO",
        "colab": {
          "base_uri": "https://localhost:8080/"
        },
        "collapsed": true,
        "outputId": "eb04b998-6b25-4929-d4b0-f3cb3a947b7d"
      },
      "outputs": [
        {
          "output_type": "stream",
          "name": "stdout",
          "text": [
            "core.import_pose.import_pose: File 'google_drive/MyDrive/CodeSchool2024/inputs/2wpt.pdb' automatically determined to be of type PDB\n",
            "core.conformation.Conformation: [ WARNING ] missing heavyatom:  OXT on residue GLN:CtermProteinFull 82\n",
            "core.conformation.Conformation: [ WARNING ] missing heavyatom:  OXT on residue LYS:CtermProteinFull 198\n",
            "core.mm.MMBondAngleLibrary: MM bond angle sets added fully assigned: 604; wildcard: 0 and 1 virtual parameter.\n",
            "basic.io.database: Database file opened: sampling/branch_angle/branch_angle_1.txt\n",
            "basic.io.database: Database file opened: sampling/branch_angle/branch_angle_2.txt\n",
            "protocols.backrub.BackrubMover: Segment lengths: 3-34 atoms\n",
            "protocols.backrub.BackrubMover: Main chain pivot atoms: CA\n",
            "protocols.backrub.BackrubMover: Adding backrub segments for residues 1-200\n",
            "protocols.backrub.BackrubMover: Total Segments Added: 1778\n",
            "basic.io.database: Database file opened: sampling/branch_angle/branch_angle_1.txt\n",
            "basic.io.database: Database file opened: sampling/branch_angle/branch_angle_2.txt\n",
            "protocols.backrub.BackrubMover: Segment lengths: 3-34 atoms\n",
            "protocols.backrub.BackrubMover: Main chain pivot atoms: CA\n",
            "protocols.backrub.BackrubMover: Adding backrub segments for residues 1-200\n",
            "protocols.backrub.BackrubMover: Total Segments Added: 1778\n",
            "basic.io.database: Database file opened: sampling/branch_angle/branch_angle_1.txt\n",
            "basic.io.database: Database file opened: sampling/branch_angle/branch_angle_2.txt\n",
            "protocols.backrub.BackrubMover: Segment lengths: 3-34 atoms\n",
            "protocols.backrub.BackrubMover: Main chain pivot atoms: CA\n",
            "protocols.backrub.BackrubMover: Adding backrub segments for residues 1-200\n",
            "protocols.backrub.BackrubMover: Total Segments Added: 1778\n",
            "basic.io.database: Database file opened: sampling/branch_angle/branch_angle_1.txt\n",
            "basic.io.database: Database file opened: sampling/branch_angle/branch_angle_2.txt\n",
            "protocols.backrub.BackrubMover: Segment lengths: 3-34 atoms\n",
            "protocols.backrub.BackrubMover: Main chain pivot atoms: CA\n",
            "protocols.backrub.BackrubMover: Adding backrub segments for residues 1-200\n",
            "protocols.backrub.BackrubMover: Total Segments Added: 1778\n",
            "basic.io.database: Database file opened: sampling/branch_angle/branch_angle_1.txt\n",
            "basic.io.database: Database file opened: sampling/branch_angle/branch_angle_2.txt\n",
            "protocols.backrub.BackrubMover: Segment lengths: 3-34 atoms\n",
            "protocols.backrub.BackrubMover: Main chain pivot atoms: CA\n",
            "protocols.backrub.BackrubMover: Adding backrub segments for residues 1-200\n",
            "protocols.backrub.BackrubMover: Total Segments Added: 1778\n",
            "basic.io.database: Database file opened: sampling/branch_angle/branch_angle_1.txt\n",
            "basic.io.database: Database file opened: sampling/branch_angle/branch_angle_2.txt\n",
            "protocols.backrub.BackrubMover: Segment lengths: 3-34 atoms\n",
            "protocols.backrub.BackrubMover: Main chain pivot atoms: CA\n",
            "protocols.backrub.BackrubMover: Adding backrub segments for residues 1-200\n",
            "protocols.backrub.BackrubMover: Total Segments Added: 1778\n",
            "basic.io.database: Database file opened: sampling/branch_angle/branch_angle_1.txt\n",
            "basic.io.database: Database file opened: sampling/branch_angle/branch_angle_2.txt\n",
            "protocols.backrub.BackrubMover: Segment lengths: 3-34 atoms\n",
            "protocols.backrub.BackrubMover: Main chain pivot atoms: CA\n",
            "protocols.backrub.BackrubMover: Adding backrub segments for residues 1-200\n",
            "protocols.backrub.BackrubMover: Total Segments Added: 1778\n",
            "basic.io.database: Database file opened: sampling/branch_angle/branch_angle_1.txt\n",
            "basic.io.database: Database file opened: sampling/branch_angle/branch_angle_2.txt\n",
            "protocols.backrub.BackrubMover: Segment lengths: 3-34 atoms\n",
            "protocols.backrub.BackrubMover: Main chain pivot atoms: CA\n",
            "protocols.backrub.BackrubMover: Adding backrub segments for residues 1-200\n",
            "protocols.backrub.BackrubMover: Total Segments Added: 1778\n",
            "basic.io.database: Database file opened: sampling/branch_angle/branch_angle_1.txt\n",
            "basic.io.database: Database file opened: sampling/branch_angle/branch_angle_2.txt\n",
            "protocols.backrub.BackrubMover: Segment lengths: 3-34 atoms\n",
            "protocols.backrub.BackrubMover: Main chain pivot atoms: CA\n",
            "protocols.backrub.BackrubMover: Adding backrub segments for residues 1-200\n",
            "protocols.backrub.BackrubMover: Total Segments Added: 1778\n",
            "basic.io.database: Database file opened: sampling/branch_angle/branch_angle_1.txt\n",
            "basic.io.database: Database file opened: sampling/branch_angle/branch_angle_2.txt\n",
            "protocols.backrub.BackrubMover: Segment lengths: 3-34 atoms\n",
            "protocols.backrub.BackrubMover: Main chain pivot atoms: CA\n",
            "protocols.backrub.BackrubMover: Adding backrub segments for residues 1-200\n",
            "protocols.backrub.BackrubMover: Total Segments Added: 1778\n",
            "basic.io.database: Database file opened: sampling/branch_angle/branch_angle_1.txt\n",
            "basic.io.database: Database file opened: sampling/branch_angle/branch_angle_2.txt\n",
            "protocols.backrub.BackrubMover: Segment lengths: 3-34 atoms\n",
            "protocols.backrub.BackrubMover: Main chain pivot atoms: CA\n",
            "protocols.backrub.BackrubMover: Adding backrub segments for residues 1-200\n",
            "protocols.backrub.BackrubMover: Total Segments Added: 1778\n",
            "basic.io.database: Database file opened: sampling/branch_angle/branch_angle_1.txt\n",
            "basic.io.database: Database file opened: sampling/branch_angle/branch_angle_2.txt\n",
            "protocols.backrub.BackrubMover: Segment lengths: 3-34 atoms\n",
            "protocols.backrub.BackrubMover: Main chain pivot atoms: CA\n",
            "protocols.backrub.BackrubMover: Adding backrub segments for residues 1-200\n",
            "protocols.backrub.BackrubMover: Total Segments Added: 1778\n",
            "basic.io.database: Database file opened: sampling/branch_angle/branch_angle_1.txt\n",
            "basic.io.database: Database file opened: sampling/branch_angle/branch_angle_2.txt\n",
            "protocols.backrub.BackrubMover: Segment lengths: 3-34 atoms\n",
            "protocols.backrub.BackrubMover: Main chain pivot atoms: CA\n",
            "protocols.backrub.BackrubMover: Adding backrub segments for residues 1-200\n",
            "protocols.backrub.BackrubMover: Total Segments Added: 1778\n",
            "basic.io.database: Database file opened: sampling/branch_angle/branch_angle_1.txt\n",
            "basic.io.database: Database file opened: sampling/branch_angle/branch_angle_2.txt\n",
            "protocols.backrub.BackrubMover: Segment lengths: 3-34 atoms\n",
            "protocols.backrub.BackrubMover: Main chain pivot atoms: CA\n",
            "protocols.backrub.BackrubMover: Adding backrub segments for residues 1-200\n",
            "protocols.backrub.BackrubMover: Total Segments Added: 1778\n",
            "basic.io.database: Database file opened: sampling/branch_angle/branch_angle_1.txt\n",
            "basic.io.database: Database file opened: sampling/branch_angle/branch_angle_2.txt\n",
            "protocols.backrub.BackrubMover: Segment lengths: 3-34 atoms\n",
            "protocols.backrub.BackrubMover: Main chain pivot atoms: CA\n",
            "protocols.backrub.BackrubMover: Adding backrub segments for residues 1-200\n",
            "protocols.backrub.BackrubMover: Total Segments Added: 1778\n",
            "basic.io.database: Database file opened: sampling/branch_angle/branch_angle_1.txt\n",
            "basic.io.database: Database file opened: sampling/branch_angle/branch_angle_2.txt\n",
            "protocols.backrub.BackrubMover: Segment lengths: 3-34 atoms\n",
            "protocols.backrub.BackrubMover: Main chain pivot atoms: CA\n",
            "protocols.backrub.BackrubMover: Adding backrub segments for residues 1-200\n",
            "protocols.backrub.BackrubMover: Total Segments Added: 1778\n",
            "basic.io.database: Database file opened: sampling/branch_angle/branch_angle_1.txt\n",
            "basic.io.database: Database file opened: sampling/branch_angle/branch_angle_2.txt\n",
            "protocols.backrub.BackrubMover: Segment lengths: 3-34 atoms\n",
            "protocols.backrub.BackrubMover: Main chain pivot atoms: CA\n",
            "protocols.backrub.BackrubMover: Adding backrub segments for residues 1-200\n",
            "protocols.backrub.BackrubMover: Total Segments Added: 1778\n",
            "basic.io.database: Database file opened: sampling/branch_angle/branch_angle_1.txt\n",
            "basic.io.database: Database file opened: sampling/branch_angle/branch_angle_2.txt\n",
            "protocols.backrub.BackrubMover: Segment lengths: 3-34 atoms\n",
            "protocols.backrub.BackrubMover: Main chain pivot atoms: CA\n",
            "protocols.backrub.BackrubMover: Adding backrub segments for residues 1-200\n",
            "protocols.backrub.BackrubMover: Total Segments Added: 1778\n",
            "basic.io.database: Database file opened: sampling/branch_angle/branch_angle_1.txt\n",
            "basic.io.database: Database file opened: sampling/branch_angle/branch_angle_2.txt\n",
            "protocols.backrub.BackrubMover: Segment lengths: 3-34 atoms\n",
            "protocols.backrub.BackrubMover: Main chain pivot atoms: CA\n",
            "protocols.backrub.BackrubMover: Adding backrub segments for residues 1-200\n",
            "protocols.backrub.BackrubMover: Total Segments Added: 1778\n",
            "basic.io.database: Database file opened: sampling/branch_angle/branch_angle_1.txt\n",
            "basic.io.database: Database file opened: sampling/branch_angle/branch_angle_2.txt\n",
            "protocols.backrub.BackrubMover: Segment lengths: 3-34 atoms\n",
            "protocols.backrub.BackrubMover: Main chain pivot atoms: CA\n",
            "protocols.backrub.BackrubMover: Adding backrub segments for residues 1-200\n",
            "protocols.backrub.BackrubMover: Total Segments Added: 1778\n",
            "basic.io.database: Database file opened: sampling/branch_angle/branch_angle_1.txt\n",
            "basic.io.database: Database file opened: sampling/branch_angle/branch_angle_2.txt\n",
            "protocols.backrub.BackrubMover: Segment lengths: 3-34 atoms\n",
            "protocols.backrub.BackrubMover: Main chain pivot atoms: CA\n",
            "protocols.backrub.BackrubMover: Adding backrub segments for residues 1-200\n",
            "protocols.backrub.BackrubMover: Total Segments Added: 1778\n",
            "basic.io.database: Database file opened: sampling/branch_angle/branch_angle_1.txt\n",
            "basic.io.database: Database file opened: sampling/branch_angle/branch_angle_2.txt\n",
            "protocols.backrub.BackrubMover: Segment lengths: 3-34 atoms\n",
            "protocols.backrub.BackrubMover: Main chain pivot atoms: CA\n",
            "protocols.backrub.BackrubMover: Adding backrub segments for residues 1-200\n",
            "protocols.backrub.BackrubMover: Total Segments Added: 1778\n",
            "basic.io.database: Database file opened: sampling/branch_angle/branch_angle_1.txt\n",
            "basic.io.database: Database file opened: sampling/branch_angle/branch_angle_2.txt\n",
            "protocols.backrub.BackrubMover: Segment lengths: 3-34 atoms\n",
            "protocols.backrub.BackrubMover: Main chain pivot atoms: CA\n",
            "protocols.backrub.BackrubMover: Adding backrub segments for residues 1-200\n",
            "protocols.backrub.BackrubMover: Total Segments Added: 1778\n",
            "basic.io.database: Database file opened: sampling/branch_angle/branch_angle_1.txt\n",
            "basic.io.database: Database file opened: sampling/branch_angle/branch_angle_2.txt\n",
            "protocols.backrub.BackrubMover: Segment lengths: 3-34 atoms\n",
            "protocols.backrub.BackrubMover: Main chain pivot atoms: CA\n",
            "protocols.backrub.BackrubMover: Adding backrub segments for residues 1-200\n",
            "protocols.backrub.BackrubMover: Total Segments Added: 1778\n",
            "basic.io.database: Database file opened: sampling/branch_angle/branch_angle_1.txt\n",
            "basic.io.database: Database file opened: sampling/branch_angle/branch_angle_2.txt\n",
            "protocols.backrub.BackrubMover: Segment lengths: 3-34 atoms\n",
            "protocols.backrub.BackrubMover: Main chain pivot atoms: CA\n",
            "protocols.backrub.BackrubMover: Adding backrub segments for residues 1-200\n",
            "protocols.backrub.BackrubMover: Total Segments Added: 1778\n",
            "basic.io.database: Database file opened: sampling/branch_angle/branch_angle_1.txt\n",
            "basic.io.database: Database file opened: sampling/branch_angle/branch_angle_2.txt\n",
            "protocols.backrub.BackrubMover: Segment lengths: 3-34 atoms\n",
            "protocols.backrub.BackrubMover: Main chain pivot atoms: CA\n",
            "protocols.backrub.BackrubMover: Adding backrub segments for residues 1-200\n",
            "protocols.backrub.BackrubMover: Total Segments Added: 1778\n",
            "basic.io.database: Database file opened: sampling/branch_angle/branch_angle_1.txt\n",
            "basic.io.database: Database file opened: sampling/branch_angle/branch_angle_2.txt\n",
            "protocols.backrub.BackrubMover: Segment lengths: 3-34 atoms\n",
            "protocols.backrub.BackrubMover: Main chain pivot atoms: CA\n",
            "protocols.backrub.BackrubMover: Adding backrub segments for residues 1-200\n",
            "protocols.backrub.BackrubMover: Total Segments Added: 1778\n",
            "basic.io.database: Database file opened: sampling/branch_angle/branch_angle_1.txt\n",
            "basic.io.database: Database file opened: sampling/branch_angle/branch_angle_2.txt\n",
            "protocols.backrub.BackrubMover: Segment lengths: 3-34 atoms\n",
            "protocols.backrub.BackrubMover: Main chain pivot atoms: CA\n",
            "protocols.backrub.BackrubMover: Adding backrub segments for residues 1-200\n",
            "protocols.backrub.BackrubMover: Total Segments Added: 1778\n",
            "basic.io.database: Database file opened: sampling/branch_angle/branch_angle_1.txt\n",
            "basic.io.database: Database file opened: sampling/branch_angle/branch_angle_2.txt\n",
            "protocols.backrub.BackrubMover: Segment lengths: 3-34 atoms\n",
            "protocols.backrub.BackrubMover: Main chain pivot atoms: CA\n",
            "protocols.backrub.BackrubMover: Adding backrub segments for residues 1-200\n",
            "protocols.backrub.BackrubMover: Total Segments Added: 1778\n",
            "basic.io.database: Database file opened: sampling/branch_angle/branch_angle_1.txt\n",
            "basic.io.database: Database file opened: sampling/branch_angle/branch_angle_2.txt\n",
            "protocols.backrub.BackrubMover: Segment lengths: 3-34 atoms\n",
            "protocols.backrub.BackrubMover: Main chain pivot atoms: CA\n",
            "protocols.backrub.BackrubMover: Adding backrub segments for residues 1-200\n",
            "protocols.backrub.BackrubMover: Total Segments Added: 1778\n",
            "basic.io.database: Database file opened: sampling/branch_angle/branch_angle_1.txt\n",
            "basic.io.database: Database file opened: sampling/branch_angle/branch_angle_2.txt\n",
            "protocols.backrub.BackrubMover: Segment lengths: 3-34 atoms\n",
            "protocols.backrub.BackrubMover: Main chain pivot atoms: CA\n",
            "protocols.backrub.BackrubMover: Adding backrub segments for residues 1-200\n",
            "protocols.backrub.BackrubMover: Total Segments Added: 1778\n",
            "basic.io.database: Database file opened: sampling/branch_angle/branch_angle_1.txt\n",
            "basic.io.database: Database file opened: sampling/branch_angle/branch_angle_2.txt\n",
            "protocols.backrub.BackrubMover: Segment lengths: 3-34 atoms\n",
            "protocols.backrub.BackrubMover: Main chain pivot atoms: CA\n",
            "protocols.backrub.BackrubMover: Adding backrub segments for residues 1-200\n",
            "protocols.backrub.BackrubMover: Total Segments Added: 1778\n",
            "basic.io.database: Database file opened: sampling/branch_angle/branch_angle_1.txt\n",
            "basic.io.database: Database file opened: sampling/branch_angle/branch_angle_2.txt\n",
            "protocols.backrub.BackrubMover: Segment lengths: 3-34 atoms\n",
            "protocols.backrub.BackrubMover: Main chain pivot atoms: CA\n",
            "protocols.backrub.BackrubMover: Adding backrub segments for residues 1-200\n",
            "protocols.backrub.BackrubMover: Total Segments Added: 1778\n",
            "basic.io.database: Database file opened: sampling/branch_angle/branch_angle_1.txt\n",
            "basic.io.database: Database file opened: sampling/branch_angle/branch_angle_2.txt\n",
            "protocols.backrub.BackrubMover: Segment lengths: 3-34 atoms\n",
            "protocols.backrub.BackrubMover: Main chain pivot atoms: CA\n",
            "protocols.backrub.BackrubMover: Adding backrub segments for residues 1-200\n",
            "protocols.backrub.BackrubMover: Total Segments Added: 1778\n",
            "basic.io.database: Database file opened: sampling/branch_angle/branch_angle_1.txt\n",
            "basic.io.database: Database file opened: sampling/branch_angle/branch_angle_2.txt\n",
            "protocols.backrub.BackrubMover: Segment lengths: 3-34 atoms\n",
            "protocols.backrub.BackrubMover: Main chain pivot atoms: CA\n",
            "protocols.backrub.BackrubMover: Adding backrub segments for residues 1-200\n",
            "protocols.backrub.BackrubMover: Total Segments Added: 1778\n",
            "basic.io.database: Database file opened: sampling/branch_angle/branch_angle_1.txt\n",
            "basic.io.database: Database file opened: sampling/branch_angle/branch_angle_2.txt\n",
            "protocols.backrub.BackrubMover: Segment lengths: 3-34 atoms\n",
            "protocols.backrub.BackrubMover: Main chain pivot atoms: CA\n",
            "protocols.backrub.BackrubMover: Adding backrub segments for residues 1-200\n",
            "protocols.backrub.BackrubMover: Total Segments Added: 1778\n",
            "basic.io.database: Database file opened: sampling/branch_angle/branch_angle_1.txt\n",
            "basic.io.database: Database file opened: sampling/branch_angle/branch_angle_2.txt\n",
            "protocols.backrub.BackrubMover: Segment lengths: 3-34 atoms\n",
            "protocols.backrub.BackrubMover: Main chain pivot atoms: CA\n",
            "protocols.backrub.BackrubMover: Adding backrub segments for residues 1-200\n",
            "protocols.backrub.BackrubMover: Total Segments Added: 1778\n",
            "basic.io.database: Database file opened: sampling/branch_angle/branch_angle_1.txt\n",
            "basic.io.database: Database file opened: sampling/branch_angle/branch_angle_2.txt\n",
            "protocols.backrub.BackrubMover: Segment lengths: 3-34 atoms\n",
            "protocols.backrub.BackrubMover: Main chain pivot atoms: CA\n",
            "protocols.backrub.BackrubMover: Adding backrub segments for residues 1-200\n",
            "protocols.backrub.BackrubMover: Total Segments Added: 1778\n",
            "basic.io.database: Database file opened: sampling/branch_angle/branch_angle_1.txt\n",
            "basic.io.database: Database file opened: sampling/branch_angle/branch_angle_2.txt\n",
            "protocols.backrub.BackrubMover: Segment lengths: 3-34 atoms\n",
            "protocols.backrub.BackrubMover: Main chain pivot atoms: CA\n",
            "protocols.backrub.BackrubMover: Adding backrub segments for residues 1-200\n",
            "protocols.backrub.BackrubMover: Total Segments Added: 1778\n",
            "basic.io.database: Database file opened: sampling/branch_angle/branch_angle_1.txt\n",
            "basic.io.database: Database file opened: sampling/branch_angle/branch_angle_2.txt\n",
            "protocols.backrub.BackrubMover: Segment lengths: 3-34 atoms\n",
            "protocols.backrub.BackrubMover: Main chain pivot atoms: CA\n",
            "protocols.backrub.BackrubMover: Adding backrub segments for residues 1-200\n",
            "protocols.backrub.BackrubMover: Total Segments Added: 1778\n",
            "basic.io.database: Database file opened: sampling/branch_angle/branch_angle_1.txt\n",
            "basic.io.database: Database file opened: sampling/branch_angle/branch_angle_2.txt\n",
            "protocols.backrub.BackrubMover: Segment lengths: 3-34 atoms\n",
            "protocols.backrub.BackrubMover: Main chain pivot atoms: CA\n",
            "protocols.backrub.BackrubMover: Adding backrub segments for residues 1-200\n",
            "protocols.backrub.BackrubMover: Total Segments Added: 1778\n",
            "basic.io.database: Database file opened: sampling/branch_angle/branch_angle_1.txt\n",
            "basic.io.database: Database file opened: sampling/branch_angle/branch_angle_2.txt\n",
            "protocols.backrub.BackrubMover: Segment lengths: 3-34 atoms\n",
            "protocols.backrub.BackrubMover: Main chain pivot atoms: CA\n",
            "protocols.backrub.BackrubMover: Adding backrub segments for residues 1-200\n",
            "protocols.backrub.BackrubMover: Total Segments Added: 1778\n",
            "basic.io.database: Database file opened: sampling/branch_angle/branch_angle_1.txt\n",
            "basic.io.database: Database file opened: sampling/branch_angle/branch_angle_2.txt\n",
            "protocols.backrub.BackrubMover: Segment lengths: 3-34 atoms\n",
            "protocols.backrub.BackrubMover: Main chain pivot atoms: CA\n",
            "protocols.backrub.BackrubMover: Adding backrub segments for residues 1-200\n",
            "protocols.backrub.BackrubMover: Total Segments Added: 1778\n",
            "basic.io.database: Database file opened: sampling/branch_angle/branch_angle_1.txt\n",
            "basic.io.database: Database file opened: sampling/branch_angle/branch_angle_2.txt\n",
            "protocols.backrub.BackrubMover: Segment lengths: 3-34 atoms\n",
            "protocols.backrub.BackrubMover: Main chain pivot atoms: CA\n",
            "protocols.backrub.BackrubMover: Adding backrub segments for residues 1-200\n",
            "protocols.backrub.BackrubMover: Total Segments Added: 1778\n",
            "basic.io.database: Database file opened: sampling/branch_angle/branch_angle_1.txt\n",
            "basic.io.database: Database file opened: sampling/branch_angle/branch_angle_2.txt\n",
            "protocols.backrub.BackrubMover: Segment lengths: 3-34 atoms\n",
            "protocols.backrub.BackrubMover: Main chain pivot atoms: CA\n",
            "protocols.backrub.BackrubMover: Adding backrub segments for residues 1-200\n",
            "protocols.backrub.BackrubMover: Total Segments Added: 1778\n",
            "basic.io.database: Database file opened: sampling/branch_angle/branch_angle_1.txt\n",
            "basic.io.database: Database file opened: sampling/branch_angle/branch_angle_2.txt\n",
            "protocols.backrub.BackrubMover: Segment lengths: 3-34 atoms\n",
            "protocols.backrub.BackrubMover: Main chain pivot atoms: CA\n",
            "protocols.backrub.BackrubMover: Adding backrub segments for residues 1-200\n",
            "protocols.backrub.BackrubMover: Total Segments Added: 1778\n",
            "basic.io.database: Database file opened: sampling/branch_angle/branch_angle_1.txt\n",
            "basic.io.database: Database file opened: sampling/branch_angle/branch_angle_2.txt\n",
            "protocols.backrub.BackrubMover: Segment lengths: 3-34 atoms\n",
            "protocols.backrub.BackrubMover: Main chain pivot atoms: CA\n",
            "protocols.backrub.BackrubMover: Adding backrub segments for residues 1-200\n",
            "protocols.backrub.BackrubMover: Total Segments Added: 1778\n",
            "basic.io.database: Database file opened: sampling/branch_angle/branch_angle_1.txt\n",
            "basic.io.database: Database file opened: sampling/branch_angle/branch_angle_2.txt\n",
            "protocols.backrub.BackrubMover: Segment lengths: 3-34 atoms\n",
            "protocols.backrub.BackrubMover: Main chain pivot atoms: CA\n",
            "protocols.backrub.BackrubMover: Adding backrub segments for residues 1-200\n",
            "protocols.backrub.BackrubMover: Total Segments Added: 1778\n",
            "basic.io.database: Database file opened: sampling/branch_angle/branch_angle_1.txt\n",
            "basic.io.database: Database file opened: sampling/branch_angle/branch_angle_2.txt\n",
            "protocols.backrub.BackrubMover: Segment lengths: 3-34 atoms\n",
            "protocols.backrub.BackrubMover: Main chain pivot atoms: CA\n",
            "protocols.backrub.BackrubMover: Adding backrub segments for residues 1-200\n",
            "protocols.backrub.BackrubMover: Total Segments Added: 1778\n",
            "basic.io.database: Database file opened: sampling/branch_angle/branch_angle_1.txt\n",
            "basic.io.database: Database file opened: sampling/branch_angle/branch_angle_2.txt\n",
            "protocols.backrub.BackrubMover: Segment lengths: 3-34 atoms\n",
            "protocols.backrub.BackrubMover: Main chain pivot atoms: CA\n",
            "protocols.backrub.BackrubMover: Adding backrub segments for residues 1-200\n",
            "protocols.backrub.BackrubMover: Total Segments Added: 1778\n",
            "basic.io.database: Database file opened: sampling/branch_angle/branch_angle_1.txt\n",
            "basic.io.database: Database file opened: sampling/branch_angle/branch_angle_2.txt\n",
            "protocols.backrub.BackrubMover: Segment lengths: 3-34 atoms\n",
            "protocols.backrub.BackrubMover: Main chain pivot atoms: CA\n",
            "protocols.backrub.BackrubMover: Adding backrub segments for residues 1-200\n",
            "protocols.backrub.BackrubMover: Total Segments Added: 1778\n",
            "basic.io.database: Database file opened: sampling/branch_angle/branch_angle_1.txt\n",
            "basic.io.database: Database file opened: sampling/branch_angle/branch_angle_2.txt\n",
            "protocols.backrub.BackrubMover: Segment lengths: 3-34 atoms\n",
            "protocols.backrub.BackrubMover: Main chain pivot atoms: CA\n",
            "protocols.backrub.BackrubMover: Adding backrub segments for residues 1-200\n",
            "protocols.backrub.BackrubMover: Total Segments Added: 1778\n",
            "basic.io.database: Database file opened: sampling/branch_angle/branch_angle_1.txt\n",
            "basic.io.database: Database file opened: sampling/branch_angle/branch_angle_2.txt\n",
            "protocols.backrub.BackrubMover: Segment lengths: 3-34 atoms\n",
            "protocols.backrub.BackrubMover: Main chain pivot atoms: CA\n",
            "protocols.backrub.BackrubMover: Adding backrub segments for residues 1-200\n",
            "protocols.backrub.BackrubMover: Total Segments Added: 1778\n",
            "basic.io.database: Database file opened: sampling/branch_angle/branch_angle_1.txt\n",
            "basic.io.database: Database file opened: sampling/branch_angle/branch_angle_2.txt\n",
            "protocols.backrub.BackrubMover: Segment lengths: 3-34 atoms\n",
            "protocols.backrub.BackrubMover: Main chain pivot atoms: CA\n",
            "protocols.backrub.BackrubMover: Adding backrub segments for residues 1-200\n",
            "protocols.backrub.BackrubMover: Total Segments Added: 1778\n",
            "basic.io.database: Database file opened: sampling/branch_angle/branch_angle_1.txt\n",
            "basic.io.database: Database file opened: sampling/branch_angle/branch_angle_2.txt\n",
            "protocols.backrub.BackrubMover: Segment lengths: 3-34 atoms\n",
            "protocols.backrub.BackrubMover: Main chain pivot atoms: CA\n",
            "protocols.backrub.BackrubMover: Adding backrub segments for residues 1-200\n",
            "protocols.backrub.BackrubMover: Total Segments Added: 1778\n",
            "basic.io.database: Database file opened: sampling/branch_angle/branch_angle_1.txt\n",
            "basic.io.database: Database file opened: sampling/branch_angle/branch_angle_2.txt\n",
            "protocols.backrub.BackrubMover: Segment lengths: 3-34 atoms\n",
            "protocols.backrub.BackrubMover: Main chain pivot atoms: CA\n",
            "protocols.backrub.BackrubMover: Adding backrub segments for residues 1-200\n",
            "protocols.backrub.BackrubMover: Total Segments Added: 1778\n",
            "basic.io.database: Database file opened: sampling/branch_angle/branch_angle_1.txt\n",
            "basic.io.database: Database file opened: sampling/branch_angle/branch_angle_2.txt\n",
            "protocols.backrub.BackrubMover: Segment lengths: 3-34 atoms\n",
            "protocols.backrub.BackrubMover: Main chain pivot atoms: CA\n",
            "protocols.backrub.BackrubMover: Adding backrub segments for residues 1-200\n",
            "protocols.backrub.BackrubMover: Total Segments Added: 1778\n",
            "basic.io.database: Database file opened: sampling/branch_angle/branch_angle_1.txt\n",
            "basic.io.database: Database file opened: sampling/branch_angle/branch_angle_2.txt\n",
            "protocols.backrub.BackrubMover: Segment lengths: 3-34 atoms\n",
            "protocols.backrub.BackrubMover: Main chain pivot atoms: CA\n",
            "protocols.backrub.BackrubMover: Adding backrub segments for residues 1-200\n",
            "protocols.backrub.BackrubMover: Total Segments Added: 1778\n",
            "basic.io.database: Database file opened: sampling/branch_angle/branch_angle_1.txt\n",
            "basic.io.database: Database file opened: sampling/branch_angle/branch_angle_2.txt\n",
            "protocols.backrub.BackrubMover: Segment lengths: 3-34 atoms\n",
            "protocols.backrub.BackrubMover: Main chain pivot atoms: CA\n",
            "protocols.backrub.BackrubMover: Adding backrub segments for residues 1-200\n",
            "protocols.backrub.BackrubMover: Total Segments Added: 1778\n",
            "basic.io.database: Database file opened: sampling/branch_angle/branch_angle_1.txt\n",
            "basic.io.database: Database file opened: sampling/branch_angle/branch_angle_2.txt\n",
            "protocols.backrub.BackrubMover: Segment lengths: 3-34 atoms\n",
            "protocols.backrub.BackrubMover: Main chain pivot atoms: CA\n",
            "protocols.backrub.BackrubMover: Adding backrub segments for residues 1-200\n",
            "protocols.backrub.BackrubMover: Total Segments Added: 1778\n",
            "basic.io.database: Database file opened: sampling/branch_angle/branch_angle_1.txt\n",
            "basic.io.database: Database file opened: sampling/branch_angle/branch_angle_2.txt\n",
            "protocols.backrub.BackrubMover: Segment lengths: 3-34 atoms\n",
            "protocols.backrub.BackrubMover: Main chain pivot atoms: CA\n",
            "protocols.backrub.BackrubMover: Adding backrub segments for residues 1-200\n",
            "protocols.backrub.BackrubMover: Total Segments Added: 1778\n",
            "basic.io.database: Database file opened: sampling/branch_angle/branch_angle_1.txt\n",
            "basic.io.database: Database file opened: sampling/branch_angle/branch_angle_2.txt\n",
            "protocols.backrub.BackrubMover: Segment lengths: 3-34 atoms\n",
            "protocols.backrub.BackrubMover: Main chain pivot atoms: CA\n",
            "protocols.backrub.BackrubMover: Adding backrub segments for residues 1-200\n",
            "protocols.backrub.BackrubMover: Total Segments Added: 1778\n",
            "basic.io.database: Database file opened: sampling/branch_angle/branch_angle_1.txt\n",
            "basic.io.database: Database file opened: sampling/branch_angle/branch_angle_2.txt\n",
            "protocols.backrub.BackrubMover: Segment lengths: 3-34 atoms\n",
            "protocols.backrub.BackrubMover: Main chain pivot atoms: CA\n",
            "protocols.backrub.BackrubMover: Adding backrub segments for residues 1-200\n",
            "protocols.backrub.BackrubMover: Total Segments Added: 1778\n",
            "basic.io.database: Database file opened: sampling/branch_angle/branch_angle_1.txt\n",
            "basic.io.database: Database file opened: sampling/branch_angle/branch_angle_2.txt\n",
            "protocols.backrub.BackrubMover: Segment lengths: 3-34 atoms\n",
            "protocols.backrub.BackrubMover: Main chain pivot atoms: CA\n",
            "protocols.backrub.BackrubMover: Adding backrub segments for residues 1-200\n",
            "protocols.backrub.BackrubMover: Total Segments Added: 1778\n",
            "basic.io.database: Database file opened: sampling/branch_angle/branch_angle_1.txt\n",
            "basic.io.database: Database file opened: sampling/branch_angle/branch_angle_2.txt\n",
            "protocols.backrub.BackrubMover: Segment lengths: 3-34 atoms\n",
            "protocols.backrub.BackrubMover: Main chain pivot atoms: CA\n",
            "protocols.backrub.BackrubMover: Adding backrub segments for residues 1-200\n",
            "protocols.backrub.BackrubMover: Total Segments Added: 1778\n",
            "basic.io.database: Database file opened: sampling/branch_angle/branch_angle_1.txt\n",
            "basic.io.database: Database file opened: sampling/branch_angle/branch_angle_2.txt\n",
            "protocols.backrub.BackrubMover: Segment lengths: 3-34 atoms\n",
            "protocols.backrub.BackrubMover: Main chain pivot atoms: CA\n",
            "protocols.backrub.BackrubMover: Adding backrub segments for residues 1-200\n",
            "protocols.backrub.BackrubMover: Total Segments Added: 1778\n",
            "basic.io.database: Database file opened: sampling/branch_angle/branch_angle_1.txt\n",
            "basic.io.database: Database file opened: sampling/branch_angle/branch_angle_2.txt\n",
            "protocols.backrub.BackrubMover: Segment lengths: 3-34 atoms\n",
            "protocols.backrub.BackrubMover: Main chain pivot atoms: CA\n",
            "protocols.backrub.BackrubMover: Adding backrub segments for residues 1-200\n",
            "protocols.backrub.BackrubMover: Total Segments Added: 1778\n",
            "basic.io.database: Database file opened: sampling/branch_angle/branch_angle_1.txt\n",
            "basic.io.database: Database file opened: sampling/branch_angle/branch_angle_2.txt\n",
            "protocols.backrub.BackrubMover: Segment lengths: 3-34 atoms\n",
            "protocols.backrub.BackrubMover: Main chain pivot atoms: CA\n",
            "protocols.backrub.BackrubMover: Adding backrub segments for residues 1-200\n",
            "protocols.backrub.BackrubMover: Total Segments Added: 1778\n",
            "basic.io.database: Database file opened: sampling/branch_angle/branch_angle_1.txt\n",
            "basic.io.database: Database file opened: sampling/branch_angle/branch_angle_2.txt\n",
            "protocols.backrub.BackrubMover: Segment lengths: 3-34 atoms\n",
            "protocols.backrub.BackrubMover: Main chain pivot atoms: CA\n",
            "protocols.backrub.BackrubMover: Adding backrub segments for residues 1-200\n",
            "protocols.backrub.BackrubMover: Total Segments Added: 1778\n",
            "basic.io.database: Database file opened: sampling/branch_angle/branch_angle_1.txt\n",
            "basic.io.database: Database file opened: sampling/branch_angle/branch_angle_2.txt\n",
            "protocols.backrub.BackrubMover: Segment lengths: 3-34 atoms\n",
            "protocols.backrub.BackrubMover: Main chain pivot atoms: CA\n",
            "protocols.backrub.BackrubMover: Adding backrub segments for residues 1-200\n",
            "protocols.backrub.BackrubMover: Total Segments Added: 1778\n",
            "basic.io.database: Database file opened: sampling/branch_angle/branch_angle_1.txt\n",
            "basic.io.database: Database file opened: sampling/branch_angle/branch_angle_2.txt\n",
            "protocols.backrub.BackrubMover: Segment lengths: 3-34 atoms\n",
            "protocols.backrub.BackrubMover: Main chain pivot atoms: CA\n",
            "protocols.backrub.BackrubMover: Adding backrub segments for residues 1-200\n",
            "protocols.backrub.BackrubMover: Total Segments Added: 1778\n",
            "basic.io.database: Database file opened: sampling/branch_angle/branch_angle_1.txt\n",
            "basic.io.database: Database file opened: sampling/branch_angle/branch_angle_2.txt\n",
            "protocols.backrub.BackrubMover: Segment lengths: 3-34 atoms\n",
            "protocols.backrub.BackrubMover: Main chain pivot atoms: CA\n",
            "protocols.backrub.BackrubMover: Adding backrub segments for residues 1-200\n",
            "protocols.backrub.BackrubMover: Total Segments Added: 1778\n",
            "basic.io.database: Database file opened: sampling/branch_angle/branch_angle_1.txt\n",
            "basic.io.database: Database file opened: sampling/branch_angle/branch_angle_2.txt\n",
            "protocols.backrub.BackrubMover: Segment lengths: 3-34 atoms\n",
            "protocols.backrub.BackrubMover: Main chain pivot atoms: CA\n",
            "protocols.backrub.BackrubMover: Adding backrub segments for residues 1-200\n",
            "protocols.backrub.BackrubMover: Total Segments Added: 1778\n",
            "basic.io.database: Database file opened: sampling/branch_angle/branch_angle_1.txt\n",
            "basic.io.database: Database file opened: sampling/branch_angle/branch_angle_2.txt\n",
            "protocols.backrub.BackrubMover: Segment lengths: 3-34 atoms\n",
            "protocols.backrub.BackrubMover: Main chain pivot atoms: CA\n",
            "protocols.backrub.BackrubMover: Adding backrub segments for residues 1-200\n",
            "protocols.backrub.BackrubMover: Total Segments Added: 1778\n",
            "basic.io.database: Database file opened: sampling/branch_angle/branch_angle_1.txt\n",
            "basic.io.database: Database file opened: sampling/branch_angle/branch_angle_2.txt\n",
            "protocols.backrub.BackrubMover: Segment lengths: 3-34 atoms\n",
            "protocols.backrub.BackrubMover: Main chain pivot atoms: CA\n",
            "protocols.backrub.BackrubMover: Adding backrub segments for residues 1-200\n",
            "protocols.backrub.BackrubMover: Total Segments Added: 1778\n",
            "basic.io.database: Database file opened: sampling/branch_angle/branch_angle_1.txt\n",
            "basic.io.database: Database file opened: sampling/branch_angle/branch_angle_2.txt\n",
            "protocols.backrub.BackrubMover: Segment lengths: 3-34 atoms\n",
            "protocols.backrub.BackrubMover: Main chain pivot atoms: CA\n",
            "protocols.backrub.BackrubMover: Adding backrub segments for residues 1-200\n",
            "protocols.backrub.BackrubMover: Total Segments Added: 1778\n",
            "basic.io.database: Database file opened: sampling/branch_angle/branch_angle_1.txt\n",
            "basic.io.database: Database file opened: sampling/branch_angle/branch_angle_2.txt\n",
            "protocols.backrub.BackrubMover: Segment lengths: 3-34 atoms\n",
            "protocols.backrub.BackrubMover: Main chain pivot atoms: CA\n",
            "protocols.backrub.BackrubMover: Adding backrub segments for residues 1-200\n",
            "protocols.backrub.BackrubMover: Total Segments Added: 1778\n",
            "basic.io.database: Database file opened: sampling/branch_angle/branch_angle_1.txt\n",
            "basic.io.database: Database file opened: sampling/branch_angle/branch_angle_2.txt\n",
            "protocols.backrub.BackrubMover: Segment lengths: 3-34 atoms\n",
            "protocols.backrub.BackrubMover: Main chain pivot atoms: CA\n",
            "protocols.backrub.BackrubMover: Adding backrub segments for residues 1-200\n",
            "protocols.backrub.BackrubMover: Total Segments Added: 1778\n",
            "basic.io.database: Database file opened: sampling/branch_angle/branch_angle_1.txt\n",
            "basic.io.database: Database file opened: sampling/branch_angle/branch_angle_2.txt\n",
            "protocols.backrub.BackrubMover: Segment lengths: 3-34 atoms\n",
            "protocols.backrub.BackrubMover: Main chain pivot atoms: CA\n",
            "protocols.backrub.BackrubMover: Adding backrub segments for residues 1-200\n",
            "protocols.backrub.BackrubMover: Total Segments Added: 1778\n",
            "basic.io.database: Database file opened: sampling/branch_angle/branch_angle_1.txt\n",
            "basic.io.database: Database file opened: sampling/branch_angle/branch_angle_2.txt\n",
            "protocols.backrub.BackrubMover: Segment lengths: 3-34 atoms\n",
            "protocols.backrub.BackrubMover: Main chain pivot atoms: CA\n",
            "protocols.backrub.BackrubMover: Adding backrub segments for residues 1-200\n",
            "protocols.backrub.BackrubMover: Total Segments Added: 1778\n",
            "basic.io.database: Database file opened: sampling/branch_angle/branch_angle_1.txt\n",
            "basic.io.database: Database file opened: sampling/branch_angle/branch_angle_2.txt\n",
            "protocols.backrub.BackrubMover: Segment lengths: 3-34 atoms\n",
            "protocols.backrub.BackrubMover: Main chain pivot atoms: CA\n",
            "protocols.backrub.BackrubMover: Adding backrub segments for residues 1-200\n",
            "protocols.backrub.BackrubMover: Total Segments Added: 1778\n",
            "basic.io.database: Database file opened: sampling/branch_angle/branch_angle_1.txt\n",
            "basic.io.database: Database file opened: sampling/branch_angle/branch_angle_2.txt\n",
            "protocols.backrub.BackrubMover: Segment lengths: 3-34 atoms\n",
            "protocols.backrub.BackrubMover: Main chain pivot atoms: CA\n",
            "protocols.backrub.BackrubMover: Adding backrub segments for residues 1-200\n",
            "protocols.backrub.BackrubMover: Total Segments Added: 1778\n",
            "basic.io.database: Database file opened: sampling/branch_angle/branch_angle_1.txt\n",
            "basic.io.database: Database file opened: sampling/branch_angle/branch_angle_2.txt\n",
            "protocols.backrub.BackrubMover: Segment lengths: 3-34 atoms\n",
            "protocols.backrub.BackrubMover: Main chain pivot atoms: CA\n",
            "protocols.backrub.BackrubMover: Adding backrub segments for residues 1-200\n",
            "protocols.backrub.BackrubMover: Total Segments Added: 1778\n",
            "basic.io.database: Database file opened: sampling/branch_angle/branch_angle_1.txt\n",
            "basic.io.database: Database file opened: sampling/branch_angle/branch_angle_2.txt\n",
            "protocols.backrub.BackrubMover: Segment lengths: 3-34 atoms\n",
            "protocols.backrub.BackrubMover: Main chain pivot atoms: CA\n",
            "protocols.backrub.BackrubMover: Adding backrub segments for residues 1-200\n",
            "protocols.backrub.BackrubMover: Total Segments Added: 1778\n",
            "basic.io.database: Database file opened: sampling/branch_angle/branch_angle_1.txt\n",
            "basic.io.database: Database file opened: sampling/branch_angle/branch_angle_2.txt\n",
            "protocols.backrub.BackrubMover: Segment lengths: 3-34 atoms\n",
            "protocols.backrub.BackrubMover: Main chain pivot atoms: CA\n",
            "protocols.backrub.BackrubMover: Adding backrub segments for residues 1-200\n",
            "protocols.backrub.BackrubMover: Total Segments Added: 1778\n",
            "basic.io.database: Database file opened: sampling/branch_angle/branch_angle_1.txt\n",
            "basic.io.database: Database file opened: sampling/branch_angle/branch_angle_2.txt\n",
            "protocols.backrub.BackrubMover: Segment lengths: 3-34 atoms\n",
            "protocols.backrub.BackrubMover: Main chain pivot atoms: CA\n",
            "protocols.backrub.BackrubMover: Adding backrub segments for residues 1-200\n",
            "protocols.backrub.BackrubMover: Total Segments Added: 1778\n",
            "basic.io.database: Database file opened: sampling/branch_angle/branch_angle_1.txt\n",
            "basic.io.database: Database file opened: sampling/branch_angle/branch_angle_2.txt\n",
            "protocols.backrub.BackrubMover: Segment lengths: 3-34 atoms\n",
            "protocols.backrub.BackrubMover: Main chain pivot atoms: CA\n",
            "protocols.backrub.BackrubMover: Adding backrub segments for residues 1-200\n",
            "protocols.backrub.BackrubMover: Total Segments Added: 1778\n",
            "basic.io.database: Database file opened: sampling/branch_angle/branch_angle_1.txt\n",
            "basic.io.database: Database file opened: sampling/branch_angle/branch_angle_2.txt\n",
            "protocols.backrub.BackrubMover: Segment lengths: 3-34 atoms\n",
            "protocols.backrub.BackrubMover: Main chain pivot atoms: CA\n",
            "protocols.backrub.BackrubMover: Adding backrub segments for residues 1-200\n",
            "protocols.backrub.BackrubMover: Total Segments Added: 1778\n",
            "basic.io.database: Database file opened: sampling/branch_angle/branch_angle_1.txt\n",
            "basic.io.database: Database file opened: sampling/branch_angle/branch_angle_2.txt\n",
            "protocols.backrub.BackrubMover: Segment lengths: 3-34 atoms\n",
            "protocols.backrub.BackrubMover: Main chain pivot atoms: CA\n",
            "protocols.backrub.BackrubMover: Adding backrub segments for residues 1-200\n",
            "protocols.backrub.BackrubMover: Total Segments Added: 1778\n",
            "basic.io.database: Database file opened: sampling/branch_angle/branch_angle_1.txt\n",
            "basic.io.database: Database file opened: sampling/branch_angle/branch_angle_2.txt\n",
            "protocols.backrub.BackrubMover: Segment lengths: 3-34 atoms\n",
            "protocols.backrub.BackrubMover: Main chain pivot atoms: CA\n",
            "protocols.backrub.BackrubMover: Adding backrub segments for residues 1-200\n",
            "protocols.backrub.BackrubMover: Total Segments Added: 1778\n",
            "basic.io.database: Database file opened: sampling/branch_angle/branch_angle_1.txt\n",
            "basic.io.database: Database file opened: sampling/branch_angle/branch_angle_2.txt\n",
            "protocols.backrub.BackrubMover: Segment lengths: 3-34 atoms\n",
            "protocols.backrub.BackrubMover: Main chain pivot atoms: CA\n",
            "protocols.backrub.BackrubMover: Adding backrub segments for residues 1-200\n",
            "protocols.backrub.BackrubMover: Total Segments Added: 1778\n",
            "basic.io.database: Database file opened: sampling/branch_angle/branch_angle_1.txt\n",
            "basic.io.database: Database file opened: sampling/branch_angle/branch_angle_2.txt\n",
            "protocols.backrub.BackrubMover: Segment lengths: 3-34 atoms\n",
            "protocols.backrub.BackrubMover: Main chain pivot atoms: CA\n",
            "protocols.backrub.BackrubMover: Adding backrub segments for residues 1-200\n",
            "protocols.backrub.BackrubMover: Total Segments Added: 1778\n",
            "basic.io.database: Database file opened: sampling/branch_angle/branch_angle_1.txt\n",
            "basic.io.database: Database file opened: sampling/branch_angle/branch_angle_2.txt\n",
            "protocols.backrub.BackrubMover: Segment lengths: 3-34 atoms\n",
            "protocols.backrub.BackrubMover: Main chain pivot atoms: CA\n",
            "protocols.backrub.BackrubMover: Adding backrub segments for residues 1-200\n",
            "protocols.backrub.BackrubMover: Total Segments Added: 1778\n",
            "basic.io.database: Database file opened: sampling/branch_angle/branch_angle_1.txt\n",
            "basic.io.database: Database file opened: sampling/branch_angle/branch_angle_2.txt\n",
            "protocols.backrub.BackrubMover: Segment lengths: 3-34 atoms\n",
            "protocols.backrub.BackrubMover: Main chain pivot atoms: CA\n",
            "protocols.backrub.BackrubMover: Adding backrub segments for residues 1-200\n",
            "protocols.backrub.BackrubMover: Total Segments Added: 1778\n",
            "basic.io.database: Database file opened: sampling/branch_angle/branch_angle_1.txt\n",
            "basic.io.database: Database file opened: sampling/branch_angle/branch_angle_2.txt\n",
            "protocols.backrub.BackrubMover: Segment lengths: 3-34 atoms\n",
            "protocols.backrub.BackrubMover: Main chain pivot atoms: CA\n",
            "protocols.backrub.BackrubMover: Adding backrub segments for residues 1-200\n",
            "protocols.backrub.BackrubMover: Total Segments Added: 1778\n",
            "basic.io.database: Database file opened: sampling/branch_angle/branch_angle_1.txt\n",
            "basic.io.database: Database file opened: sampling/branch_angle/branch_angle_2.txt\n",
            "protocols.backrub.BackrubMover: Segment lengths: 3-34 atoms\n",
            "protocols.backrub.BackrubMover: Main chain pivot atoms: CA\n",
            "protocols.backrub.BackrubMover: Adding backrub segments for residues 1-200\n",
            "protocols.backrub.BackrubMover: Total Segments Added: 1778\n",
            "basic.io.database: Database file opened: sampling/branch_angle/branch_angle_1.txt\n",
            "basic.io.database: Database file opened: sampling/branch_angle/branch_angle_2.txt\n",
            "protocols.backrub.BackrubMover: Segment lengths: 3-34 atoms\n",
            "protocols.backrub.BackrubMover: Main chain pivot atoms: CA\n",
            "protocols.backrub.BackrubMover: Adding backrub segments for residues 1-200\n",
            "protocols.backrub.BackrubMover: Total Segments Added: 1778\n",
            "basic.io.database: Database file opened: sampling/branch_angle/branch_angle_1.txt\n",
            "basic.io.database: Database file opened: sampling/branch_angle/branch_angle_2.txt\n",
            "protocols.backrub.BackrubMover: Segment lengths: 3-34 atoms\n",
            "protocols.backrub.BackrubMover: Main chain pivot atoms: CA\n",
            "protocols.backrub.BackrubMover: Adding backrub segments for residues 1-200\n",
            "protocols.backrub.BackrubMover: Total Segments Added: 1778\n",
            "basic.io.database: Database file opened: sampling/branch_angle/branch_angle_1.txt\n",
            "basic.io.database: Database file opened: sampling/branch_angle/branch_angle_2.txt\n",
            "protocols.backrub.BackrubMover: Segment lengths: 3-34 atoms\n",
            "protocols.backrub.BackrubMover: Main chain pivot atoms: CA\n",
            "protocols.backrub.BackrubMover: Adding backrub segments for residues 1-200\n",
            "protocols.backrub.BackrubMover: Total Segments Added: 1778\n",
            "basic.io.database: Database file opened: sampling/branch_angle/branch_angle_1.txt\n",
            "basic.io.database: Database file opened: sampling/branch_angle/branch_angle_2.txt\n",
            "protocols.backrub.BackrubMover: Segment lengths: 3-34 atoms\n",
            "protocols.backrub.BackrubMover: Main chain pivot atoms: CA\n",
            "protocols.backrub.BackrubMover: Adding backrub segments for residues 1-200\n",
            "protocols.backrub.BackrubMover: Total Segments Added: 1778\n"
          ]
        },
        {
          "output_type": "execute_result",
          "data": {
            "text/plain": [
              "True"
            ]
          },
          "metadata": {},
          "execution_count": 28
        }
      ],
      "source": [
        "# YOUR CODE HERE\n",
        "\n",
        "pose3 = pyrosetta.pose_from_file(\"google_drive/MyDrive/CodeSchool2024/inputs/2wpt.pdb\")\n",
        "\n",
        "for i in range(100):\n",
        "  BackrubMover= pyrosetta.rosetta.protocols.backrub.BackrubMover()\n",
        "  #BackrubMover.nmoves(100)\n",
        "  BackrubMover.apply(pose3)\n",
        "\n",
        "# now dump this new pose to a PDB file and once again visualize in PyMOL (take a screenshot to submit)\n",
        "# name it 2wpt_backrub.pdb\n",
        "\n",
        "# YOUR CODE HERE\n",
        "\n",
        "pose3.dump_pdb(\"google_drive/MyDrive/CodeSchool2024/inputs/2wpt_backrub.pdb\")"
      ]
    },
    {
      "cell_type": "markdown",
      "metadata": {
        "id": "_biSDjurDnxP"
      },
      "source": [
        "Now you can see that the perturbations are evenly distributed throughout the structure."
      ]
    },
    {
      "cell_type": "markdown",
      "metadata": {
        "id": "Vm5TBXrCDnxP"
      },
      "source": [
        "# Mutate residues\n",
        "Protein designers constantly explore conformation and sequence spaces of proteins. You already learned methods to sample the backbone conformation space, now it's time to consider introducing mutations.\n",
        "\n",
        "A previous study showed that the N34V R38T mutations on chain A lowers binding free energy by -2.60 kcal/mol. Let's introduce these two mutations to our structure. Again, import a fresh pose."
      ]
    },
    {
      "cell_type": "code",
      "execution_count": 29,
      "metadata": {
        "id": "5idCXg2JDnxP",
        "colab": {
          "base_uri": "https://localhost:8080/"
        },
        "outputId": "9afb970e-0213-46db-fbe7-0ac3947bd1d4"
      },
      "outputs": [
        {
          "output_type": "stream",
          "name": "stdout",
          "text": [
            "core.import_pose.import_pose: File 'google_drive/MyDrive/CodeSchool2024/inputs/2wpt.pdb' automatically determined to be of type PDB\n",
            "core.conformation.Conformation: [ WARNING ] missing heavyatom:  OXT on residue GLN:CtermProteinFull 82\n",
            "core.conformation.Conformation: [ WARNING ] missing heavyatom:  OXT on residue LYS:CtermProteinFull 198\n"
          ]
        }
      ],
      "source": [
        "# YOUR CODE HERE\n",
        "\n",
        "pose4 = pyrosetta.pose_from_file(\"google_drive/MyDrive/CodeSchool2024/inputs/2wpt.pdb\")"
      ]
    },
    {
      "cell_type": "markdown",
      "metadata": {
        "id": "FSBOJc_aDnxP"
      },
      "source": [
        "In Rosetta, residues in a pose are numbered from 1 to N which is the total number of residues. This indexing system is different from what you see from a PDB file. For example, the first lysine in our structure has Rosetta index 1 but its pdb index is A4. In order to introduce mutations, we need to first figure out the Rosetta indices of the residues of our interest. As we have done before, we will turn to the PDBInfo object attached to a pose. If you don't remember how to do this, go back to the pose lab."
      ]
    },
    {
      "cell_type": "code",
      "execution_count": 30,
      "metadata": {
        "id": "1kOm9jAFDnxP",
        "colab": {
          "base_uri": "https://localhost:8080/"
        },
        "outputId": "f28aa318-7ab7-449a-ee19-98c5a8d70690"
      },
      "outputs": [
        {
          "output_type": "stream",
          "name": "stdout",
          "text": [
            "1\n"
          ]
        }
      ],
      "source": [
        "# YOUR CODE HERE\n",
        "print(pose4.pdb_info().pdb2pose('A', 4))"
      ]
    },
    {
      "cell_type": "markdown",
      "metadata": {
        "id": "hYWU1nguDnxP"
      },
      "source": [
        "Use the MutateResidue mover to introduce mutations N34V R38T."
      ]
    },
    {
      "cell_type": "code",
      "execution_count": 34,
      "metadata": {
        "id": "Ph2CksRIDnxR",
        "colab": {
          "base_uri": "https://localhost:8080/",
          "height": 219
        },
        "outputId": "38a81280-022e-4d92-fb3b-c6bea7853f47"
      },
      "outputs": [
        {
          "output_type": "error",
          "ename": "AttributeError",
          "evalue": "'pyrosetta.rosetta.protocols.simple_moves.MutateRes' object has no attribute 'nmoves'",
          "traceback": [
            "\u001b[0;31m---------------------------------------------------------------------------\u001b[0m",
            "\u001b[0;31mAttributeError\u001b[0m                            Traceback (most recent call last)",
            "\u001b[0;32m<ipython-input-34-0eb02ede5b50>\u001b[0m in \u001b[0;36m<cell line: 3>\u001b[0;34m()\u001b[0m\n\u001b[1;32m      1\u001b[0m \u001b[0;31m# YOUR CODE HERE\u001b[0m\u001b[0;34m\u001b[0m\u001b[0;34m\u001b[0m\u001b[0m\n\u001b[1;32m      2\u001b[0m \u001b[0mmutateResidueMover\u001b[0m\u001b[0;34m=\u001b[0m \u001b[0mpyrosetta\u001b[0m\u001b[0;34m.\u001b[0m\u001b[0mrosetta\u001b[0m\u001b[0;34m.\u001b[0m\u001b[0mprotocols\u001b[0m\u001b[0;34m.\u001b[0m\u001b[0msimple_moves\u001b[0m\u001b[0;34m.\u001b[0m\u001b[0mMutateResidue\u001b[0m\u001b[0;34m(\u001b[0m\u001b[0;34m)\u001b[0m\u001b[0;34m\u001b[0m\u001b[0;34m\u001b[0m\u001b[0m\n\u001b[0;32m----> 3\u001b[0;31m \u001b[0mmutateResidueMover\u001b[0m\u001b[0;34m.\u001b[0m\u001b[0mnmoves\u001b[0m\u001b[0;34m(\u001b[0m\u001b[0;36m100\u001b[0m\u001b[0;34m)\u001b[0m\u001b[0;34m\u001b[0m\u001b[0;34m\u001b[0m\u001b[0m\n\u001b[0m\u001b[1;32m      4\u001b[0m \u001b[0mmutateResidueMover\u001b[0m\u001b[0;34m.\u001b[0m\u001b[0mapply\u001b[0m\u001b[0;34m(\u001b[0m\u001b[0mpose4\u001b[0m\u001b[0;34m)\u001b[0m\u001b[0;34m\u001b[0m\u001b[0;34m\u001b[0m\u001b[0m\n\u001b[1;32m      5\u001b[0m \u001b[0;34m\u001b[0m\u001b[0m\n",
            "\u001b[0;31mAttributeError\u001b[0m: 'pyrosetta.rosetta.protocols.simple_moves.MutateRes' object has no attribute 'nmoves'"
          ]
        }
      ],
      "source": [
        "# YOUR CODE HERE\n",
        "\n",
        "mutateResidueMover= pyrosetta.rosetta.protocols.simple_moves.MutateResidue()\n",
        "#mutateResidueMover.nmoves(100)\n",
        "mutateResidueMover.apply(pose4)\n",
        "\n",
        "# now dump this new pose to a PDB file and once again visualize in PyMOL (take a screenshot to submit)\n",
        "# name it 2wpt_mutate.pdb\n",
        "\n",
        "# YOUR CODE HERE\n",
        "pose4.dump_pdb(\"google_drive/MyDrive/CodeSchool2024/inputs/2wpt_mutate.pdb\")"
      ]
    },
    {
      "cell_type": "markdown",
      "metadata": {
        "id": "cNgWz6CtDnxR"
      },
      "source": [
        "Now you should be able to see these mutations in PyMol. You have now learned movers that can help you explore the backbone and sequence spaces. You may have realized that the side chain conformations, which are very important, are not sampled. Side chain sampling will be covered in later labs."
      ]
    },
    {
      "cell_type": "markdown",
      "source": [
        "## Exercises\n",
        "1. Use the functions you learned from the previous lecture to score the poses before and after mutation. What is the change of the score value? Does it match the experimentally measured -2.60 kcal/mol? What score terms change significantly? What 10 residues' scores change the most? Do their changes make sense?\n"
      ],
      "metadata": {
        "id": "tLofKN0bB4_1"
      }
    },
    {
      "cell_type": "code",
      "source": [
        "# YOUR CODE HERE\n",
        "raise NotImplementedError()"
      ],
      "metadata": {
        "id": "w-LV5BOijhVF"
      },
      "execution_count": null,
      "outputs": []
    },
    {
      "cell_type": "code",
      "source": [
        "# first, define the full atom score function and compare the scores between all pf the different pdbs you dumped\n",
        "# make sure you are using the full-atom score function\n",
        "\n",
        "# YOUR CODE HERE\n",
        "\n",
        "raise NotImplementedError()\n",
        "\n",
        "# define the different poses and get their scores\n",
        "\n",
        "raise NotImplementedError()"
      ],
      "metadata": {
        "id": "PeOpxKLYB62p"
      },
      "execution_count": null,
      "outputs": []
    },
    {
      "cell_type": "markdown",
      "source": [
        "what is the difference in scores between the original and mutated pose?"
      ],
      "metadata": {
        "id": "vI5zRXhLstK0"
      }
    },
    {
      "cell_type": "code",
      "source": [
        "# store the weights of the score function as weights and print the weights of the score function you have initialized\n",
        "\n",
        "# YOUR CODE HERE\n",
        "raise NotImplementedError()"
      ],
      "metadata": {
        "id": "lk2qEu7EhYQw"
      },
      "execution_count": null,
      "outputs": []
    },
    {
      "cell_type": "markdown",
      "source": [
        "An EMapVector is a PyRosetta class that creates an object (vector) that is used for storing energy data: an initialized EMapVector is a vector for storing energy data, initially all values are 0. Try printing `pyrosetta.rosetta.core.scoring.EMapVector()` to see that all of the values in the vector are 0. We can use EMapVectors to easily see the difference in energy for specific score terms between two poses."
      ],
      "metadata": {
        "id": "kZFS1Vr4i0aT"
      }
    },
    {
      "cell_type": "code",
      "source": [
        "# YOUR CODE HERE\n",
        "\n",
        "raise NotImplementedError()"
      ],
      "metadata": {
        "id": "sD6YiiBbownH"
      },
      "execution_count": null,
      "outputs": []
    },
    {
      "cell_type": "markdown",
      "source": [
        "We can use EMapVectors to more easily compute the energy differences between two different poses."
      ],
      "metadata": {
        "id": "CFcA36L8jV71"
      }
    },
    {
      "cell_type": "markdown",
      "source": [
        "Using `pose.energies().` and scrolling through the list of methods, find a method that returns the total energies of the pose.\n",
        "\n",
        "assign the total energies of the unmutated pose to be `emap_pose` and the total energies of the mutated pose to be `emap_mutation`"
      ],
      "metadata": {
        "id": "PtUs65yGlNE1"
      }
    },
    {
      "cell_type": "code",
      "source": [
        "# YOUR CODE HERE\n",
        "\n",
        "raise NotImplementedError()"
      ],
      "metadata": {
        "id": "2zlnQsotpvBh"
      },
      "execution_count": null,
      "outputs": []
    },
    {
      "cell_type": "markdown",
      "source": [
        "Note that EmapVectors are a class that we must initialize to be vectors with all 0 values before we use them. To assign energies to the EMapVectors, we can use something like `emap.assign(emap_pose)` where `emap` is our empty EMapVector and `emap_pose` are the total energies of the unmutated pose which you got above."
      ],
      "metadata": {
        "id": "iQNgtX7kpF92"
      }
    },
    {
      "cell_type": "markdown",
      "source": [
        "If you have `emap_pose` and `emap_mutation`, you can calculate the difference as follows:\n",
        "```\n",
        "emap1 = pyrosetta.rosetta.core.scoring.EMapVector()\n",
        "emap1.assign(emap_pose)\n",
        "print(emap1)\n",
        "\n",
        "emap2 = pyrosetta.rosetta.core.scoring.EMapVector()\n",
        "emap2.assign(emap_mutation)\n",
        "print(emap2)\n",
        "\n",
        "emap_temp = emap2\n",
        "emap_temp -= emap1\n",
        "\n",
        "print(emap_temp) # what does this return?\n",
        "print(emap_temp.dot(weights)) # why do we do this?\n",
        "```"
      ],
      "metadata": {
        "id": "PSR9nkY4gOcf"
      }
    },
    {
      "cell_type": "code",
      "source": [
        "# YOUR CODE HERE\n",
        "\n",
        "raise NotImplementedError()"
      ],
      "metadata": {
        "id": "vF1GCbJxgLkQ"
      },
      "execution_count": null,
      "outputs": []
    },
    {
      "cell_type": "markdown",
      "metadata": {
        "id": "aHLeLyaXDnxR"
      },
      "source": [
        "\n",
        "1. Redo the mutagenesis and ddG calculation on backbone perturbed structures. How much do the results change? Why?\n",
        "\n",
        "2. Generate a backbone ensemble made of 20 structures with your favorate backbone sampling method. Redo the mutagenesis and ddG calculation on each structure and take the mean/meadian/mimimal score. How much do the results change? Why?\n",
        "\n",
        "3. The above ddG analysis is very crude and inaccurate. What improvements should be introduced to make it better?"
      ]
    },
    {
      "cell_type": "code",
      "execution_count": null,
      "metadata": {
        "deletable": false,
        "id": "tiwqFJxyDnxS",
        "nbgrader": {
          "cell_type": "code",
          "checksum": "37d948a3d7643abe8d7adb0d720d4b55",
          "grade": true,
          "grade_id": "cell-435f4bfb81cbae06",
          "locked": false,
          "points": 0,
          "schema_version": 3,
          "solution": true
        }
      },
      "outputs": [],
      "source": [
        "# the below exercises will be more explorative and should make use of everything they learned today so no answers :o\n",
        "\n",
        "# YOUR CODE HERE\n",
        "raise NotImplementedError()"
      ]
    },
    {
      "cell_type": "code",
      "execution_count": null,
      "metadata": {
        "deletable": false,
        "id": "o8da-3nQDnxS",
        "nbgrader": {
          "cell_type": "code",
          "checksum": "06afa68c1a38f6b554a0432854ae6c8a",
          "grade": true,
          "grade_id": "cell-25c2e1487e8ca68b",
          "locked": false,
          "points": 0,
          "schema_version": 3,
          "solution": true
        }
      },
      "outputs": [],
      "source": [
        "# YOUR CODE HERE\n",
        "raise NotImplementedError()"
      ]
    },
    {
      "cell_type": "code",
      "execution_count": null,
      "metadata": {
        "deletable": false,
        "id": "NUbHzQOYDnxS",
        "nbgrader": {
          "cell_type": "code",
          "checksum": "b599381ee90ecfb936969b6bf9031566",
          "grade": true,
          "grade_id": "cell-d25f5c9053444535",
          "locked": false,
          "points": 0,
          "schema_version": 3,
          "solution": true
        }
      },
      "outputs": [],
      "source": [
        "# YOUR CODE HERE\n",
        "raise NotImplementedError()"
      ]
    },
    {
      "cell_type": "code",
      "execution_count": null,
      "metadata": {
        "deletable": false,
        "id": "_wdmGn3UDnxS",
        "nbgrader": {
          "cell_type": "code",
          "checksum": "0a8a717c531b6329fbfef5eee8c0d6e9",
          "grade": true,
          "grade_id": "cell-717b13f568c710ef",
          "locked": false,
          "points": 0,
          "schema_version": 3,
          "solution": true
        }
      },
      "outputs": [],
      "source": [
        "# YOUR CODE HERE\n",
        "raise NotImplementedError()"
      ]
    },
    {
      "cell_type": "code",
      "execution_count": null,
      "metadata": {
        "deletable": false,
        "id": "Xvy0BWhGDnxT",
        "nbgrader": {
          "cell_type": "code",
          "checksum": "d52a6190800686ae9a19eb4ee8ee6690",
          "grade": true,
          "grade_id": "cell-e9c6349c815ed0ef",
          "locked": false,
          "points": 0,
          "schema_version": 3,
          "solution": true
        }
      },
      "outputs": [],
      "source": [
        "# YOUR CODE HERE\n",
        "raise NotImplementedError()"
      ]
    }
  ],
  "metadata": {
    "colab": {
      "provenance": []
    },
    "kernelspec": {
      "display_name": "Python 3",
      "language": "python",
      "name": "python3"
    },
    "language_info": {
      "codemirror_mode": {
        "name": "ipython",
        "version": 3
      },
      "file_extension": ".py",
      "mimetype": "text/x-python",
      "name": "python",
      "nbconvert_exporter": "python",
      "pygments_lexer": "ipython3",
      "version": "3.7.7"
    }
  },
  "nbformat": 4,
  "nbformat_minor": 0
}